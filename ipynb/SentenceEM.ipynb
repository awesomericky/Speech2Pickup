{
  "nbformat": 4,
  "nbformat_minor": 0,
  "metadata": {
    "accelerator": "GPU",
    "colab": {
      "name": "SentenceEM.ipynb",
      "provenance": [],
      "collapsed_sections": []
    },
    "kernelspec": {
      "display_name": "Python 3",
      "name": "python3"
    }
  },
  "cells": [
    {
      "cell_type": "code",
      "metadata": {
        "colab": {
          "base_uri": "https://localhost:8080/"
        },
        "id": "gjubJvgqoi7O",
        "outputId": "fabb616c-7091-4f75-b8a9-2cdb2c4caf1d"
      },
      "source": [
        "from google.colab import drive\n",
        "drive.mount('/content/drive')"
      ],
      "execution_count": 1,
      "outputs": [
        {
          "output_type": "stream",
          "text": [
            "Mounted at /content/drive\n"
          ],
          "name": "stdout"
        }
      ]
    },
    {
      "cell_type": "code",
      "metadata": {
        "id": "6DtnV8t-aTfD",
        "colab": {
          "base_uri": "https://localhost:8080/"
        },
        "outputId": "18fbb269-3f11-44ef-a662-875b3e0e2ce9"
      },
      "source": [
        "%pip install wandb -q"
      ],
      "execution_count": 2,
      "outputs": [
        {
          "output_type": "stream",
          "text": [
            "\u001b[K     |████████████████████████████████| 1.8MB 11.1MB/s \n",
            "\u001b[K     |████████████████████████████████| 163kB 43.7MB/s \n",
            "\u001b[K     |████████████████████████████████| 102kB 11.5MB/s \n",
            "\u001b[K     |████████████████████████████████| 133kB 40.6MB/s \n",
            "\u001b[K     |████████████████████████████████| 102kB 11.5MB/s \n",
            "\u001b[K     |████████████████████████████████| 71kB 9.1MB/s \n",
            "\u001b[?25h  Building wheel for watchdog (setup.py) ... \u001b[?25l\u001b[?25hdone\n",
            "  Building wheel for subprocess32 (setup.py) ... \u001b[?25l\u001b[?25hdone\n",
            "  Building wheel for pathtools (setup.py) ... \u001b[?25l\u001b[?25hdone\n"
          ],
          "name": "stdout"
        }
      ]
    },
    {
      "cell_type": "code",
      "metadata": {
        "colab": {
          "base_uri": "https://localhost:8080/"
        },
        "id": "gBA26NJTgUsh",
        "outputId": "85913dcd-e324-4c92-cc40-ff813998d2e7"
      },
      "source": [
        "%tensorflow_version 1.x"
      ],
      "execution_count": 3,
      "outputs": [
        {
          "output_type": "stream",
          "text": [
            "TensorFlow 1.x selected.\n"
          ],
          "name": "stdout"
        }
      ]
    },
    {
      "cell_type": "code",
      "metadata": {
        "id": "RrLeuXRKm3vN"
      },
      "source": [
        "# Turning off tensorflow warning message (not recommended)\n",
        "\n",
        "import os\n",
        "os.environ['TF_CPP_MIN_LOG_LEVEL'] = '2' "
      ],
      "execution_count": null,
      "outputs": []
    },
    {
      "cell_type": "code",
      "metadata": {
        "id": "UZ0XNqJJZ-ll"
      },
      "source": [
        "import numpy as np\n",
        "import tensorflow as tf\n",
        "import tensorflow.keras.layers as layers\n",
        "import tensorflow.keras.backend as kb\n",
        "from tensorflow.keras.models import save_model\n",
        "from tensorflow.keras.callbacks import Callback\n",
        "import random\n",
        "import pdb\n",
        "import wandb\n",
        "from os.path import join, isfile\n",
        "from os import listdir"
      ],
      "execution_count": 4,
      "outputs": []
    },
    {
      "cell_type": "code",
      "metadata": {
        "colab": {
          "base_uri": "https://localhost:8080/"
        },
        "id": "kHYVABrggyHf",
        "outputId": "810c0de7-8ff8-4b65-ead8-8aca7c410183"
      },
      "source": [
        "print(tf.__version__)"
      ],
      "execution_count": null,
      "outputs": [
        {
          "output_type": "stream",
          "text": [
            "1.15.2\n"
          ],
          "name": "stdout"
        }
      ]
    },
    {
      "cell_type": "code",
      "metadata": {
        "colab": {
          "base_uri": "https://localhost:8080/"
        },
        "id": "di9QVKhraRmb",
        "outputId": "5d614736-b601-49e8-e63c-4d8f44f0e0a8"
      },
      "source": [
        "wandb.login()"
      ],
      "execution_count": 6,
      "outputs": [
        {
          "output_type": "stream",
          "text": [
            "\u001b[34m\u001b[1mwandb\u001b[0m: Currently logged in as: \u001b[33mawesomericky\u001b[0m (use `wandb login --relogin` to force relogin)\n"
          ],
          "name": "stderr"
        },
        {
          "output_type": "execute_result",
          "data": {
            "text/plain": [
              "True"
            ]
          },
          "metadata": {
            "tags": []
          },
          "execution_count": 6
        }
      ]
    },
    {
      "cell_type": "code",
      "metadata": {
        "colab": {
          "base_uri": "https://localhost:8080/"
        },
        "id": "5EySe9_QPR-K",
        "outputId": "9cdce957-79d3-4416-cd70-8d3779a97b7a"
      },
      "source": [
        "device_name = tf.test.gpu_device_name()\n",
        "print('Found GPU at {}'.format(device_name))"
      ],
      "execution_count": 7,
      "outputs": [
        {
          "output_type": "stream",
          "text": [
            "Found GPU at /device:GPU:0\n"
          ],
          "name": "stdout"
        }
      ]
    },
    {
      "cell_type": "code",
      "metadata": {
        "id": "biS128E0ZXvL"
      },
      "source": [
        "\"\"\"\n",
        "utils.py\n",
        "\"\"\"\n",
        "\n",
        "def read_script_files(script_dir_path):\n",
        "    script_files = [f for f in listdir(script_dir_path) if isfile(join(script_dir_path, f))]\n",
        "    script_files.sort()\n",
        "    return script_files\n",
        "\n",
        "def data_shuffle(relative_data_directory_path):\n",
        "    data_files = read_script_files(relative_data_directory_path)\n",
        "    random.shuffle(data_files)\n",
        "    return data_files"
      ],
      "execution_count": 8,
      "outputs": []
    },
    {
      "cell_type": "code",
      "metadata": {
        "id": "76bPg01FZg_p"
      },
      "source": [
        "\"\"\"\n",
        "processed_data_loader.py\n",
        "\"\"\"\n",
        "\n",
        "def load_single_npz_data(relative_data_directory_path, file_name):\n",
        "    file_path = join(relative_data_directory_path, file_name)\n",
        "    data = np.load(file=file_path)\n",
        "    return data"
      ],
      "execution_count": 9,
      "outputs": []
    },
    {
      "cell_type": "code",
      "metadata": {
        "id": "RDnb_Tk9F2JJ"
      },
      "source": [
        "\"\"\"\n",
        "TCN_and_decoder.py\n",
        "\"\"\"\n",
        "\n",
        "class ResidualBlock(tf.keras.Model):\n",
        "    def __init__(self, dilation_rate, num_filters, kernel_size, padding, \n",
        "                        dropout_rate, seed, training_state):\n",
        "        super(ResidualBlock, self).__init__()\n",
        "        init = tf.keras.initializers.RandomNormal(mean=0.0, stddev=0.1, seed=1)\n",
        "        layers = tf.keras.layers\n",
        "        assert padding in ['causal', 'same']\n",
        "\n",
        "        self.training_state = training_state\n",
        "\n",
        "        # Block1\n",
        "        self.conv1 = layers.Conv1D(filters=num_filters, kernel_size=kernel_size, data_format='channels_last',\n",
        "                                    dilation_rate=dilation_rate, padding=padding, kernel_initializer=init)\n",
        "        self.batch1 = layers.BatchNormalization(axis=1, trainable=True)\n",
        "        self.ac1 = layers.LeakyReLU(alpha=0.2)\n",
        "        self.drop1 = layers.Dropout(rate=dropout_rate)\n",
        "\n",
        "        # Block2\n",
        "        self.conv2 = layers.Conv1D(filters=num_filters, kernel_size=kernel_size, data_format='channels_last',\n",
        "                                    dilation_rate=dilation_rate, padding=padding, kernel_initializer=init)\n",
        "        self.batch2 = layers.BatchNormalization(axis=1, trainable=True)\n",
        "        self.ac2 = layers.LeakyReLU(alpha=0.2)\n",
        "        self.drop2 = layers.Dropout(rate=dropout_rate)\n",
        "\n",
        "        self.downsample = layers.Conv1D(filters=num_filters, kernel_size=1,\n",
        "                                        padding='same', kernel_initializer=init)\n",
        "        self.ac3 = layers.LeakyReLU(alpha=0.2)\n",
        "    \n",
        "    def call(self, x):\n",
        "        # Block1\n",
        "        prev_x = x\n",
        "        x = self.conv1(x)\n",
        "        x = self.batch1(x)\n",
        "        x = self.ac1(x)\n",
        "        x = self.drop1(x) if self.training_state else x\n",
        "\n",
        "        # Block2\n",
        "        x = self.conv2(x)\n",
        "        x = self.batch2(x)\n",
        "        x = self.ac2(x)\n",
        "        x = self.drop2(x) if self.training_state else x\n",
        "\n",
        "        # Match dimention\n",
        "        if prev_x.shape[-1] != x.shape[-1]:\n",
        "            prev_x = self.downsample(prev_x)\n",
        "        assert prev_x.shape[1:] == x.shape[1:]\n",
        "\n",
        "        # skip connection\n",
        "        return self.ac3(prev_x + x)\n",
        "\n",
        "# # Test\n",
        "# x = tf.convert_to_tensor(np.random.random((100, 80, 303)))   # batch, dim, seq_len\n",
        "# model = ResidualBlock(dilation_rate=1, num_filters=80, kernel_size=3, padding='causal', dropout_rate=0.2, seed=1, training_state=True)\n",
        "# y = model(x)\n",
        "# print(y.shape)\n",
        "# model.summary()\n",
        "\n",
        "# # Check model\n",
        "# x = tf.keras.Input(batch_shape=(10, 80, 303))\n",
        "# model = ResidualBlock(dilation_rate=1, num_filters=80, kernel_size=3, padding='causal', dropout_rate=0.2, seed=1, training_state=True)\n",
        "# model.build((10, 80, 303))\n",
        "# model = tf.keras.Model(inputs=x, outputs=model.call(x))\n",
        "# plot_model(model, to_file='residual_block.png')\n",
        "\n",
        "\n",
        "class TemporalBlock(tf.keras.Model):\n",
        "    def __init__(self, num_channels, kernel_size, dropout_rate, seed, training_state):\n",
        "        # num_channels is a list contains hidden channel numbers of Conv1D\n",
        "        # len(num_channels) is number of convolutional layers in one Temporal Block\n",
        "        super(TemporalBlock, self).__init__()\n",
        "        assert isinstance(num_channels, list)\n",
        "\n",
        "        self.num_levels = len(num_channels)\n",
        "        self.resi_blocks = [0]*self.num_levels\n",
        "        for i in range(self.num_levels):\n",
        "            dilation_rate = 2**i\n",
        "            self.resi_blocks[i] = ResidualBlock(dilation_rate, num_channels[i], kernel_size, padding='causal',\n",
        "                            dropout_rate=dropout_rate, seed=seed, training_state=training_state)\n",
        "    \n",
        "    def call(self, x):\n",
        "        for i in range(self.num_levels):\n",
        "            x = self.resi_blocks[i](x)\n",
        "        return x\n",
        "\n",
        "# # Test\n",
        "# x = tf.convert_to_tensor(np.random.random((100, 80, 303)))   # batch, dim, seq_len\n",
        "# model = TemporalBlock(num_channels=[80, 80, 80], kernel_size=3, dropout_rate=0.2, seed=1, training_state=True)\n",
        "# y = model(x)\n",
        "# print(y.shape)\n",
        "# model.summary()\n",
        "\n",
        "# # Check model\n",
        "# x = tf.keras.Input(batch_shape=(10, 80, 303))\n",
        "# model = TemporalBlock(num_channels=[80, 80, 80, 80, 80, 80], kernel_size=3, dropout_rate=0.2, seed=1, training_state=True)\n",
        "# model.build((10, 80, 303))\n",
        "# model = tf.keras.Model(inputs=x, outputs=model.call(x))\n",
        "# plot_model(model, to_file='temporal_block.png')\n",
        "\n",
        "class TempConvnet(tf.keras.Model):\n",
        "    def __init__(self, num_stacks, num_channels, kernel_size, dropout_rate, return_type, seed, training_state):\n",
        "        # num_stacks number of Temporal Blocks in Temporal convolutional network\n",
        "        super(TempConvnet, self).__init__()\n",
        "        assert isinstance(num_stacks, int)\n",
        "        assert isinstance(num_channels, list)\n",
        "        assert return_type in ['whole', 'end']\n",
        "\n",
        "        self.num_stacks = num_stacks\n",
        "        self.temp_blocks = [0]*self.num_stacks\n",
        "        self.return_type = return_type\n",
        "        for i in range(num_stacks):\n",
        "            self.temp_blocks[i] = TemporalBlock(num_channels, kernel_size=kernel_size, dropout_rate=dropout_rate, seed=seed, training_state=training_state)\n",
        "    \n",
        "    def call(self, x):\n",
        "        for i in range(self.num_stacks):\n",
        "            x = self.temp_blocks[i](x)\n",
        "        \n",
        "        if self.return_type == 'whole':\n",
        "            return x\n",
        "        elif self.return_type == 'end':\n",
        "            return x[:, -1, :]\n",
        "\n",
        "# # Test\n",
        "# x = tf.convert_to_tensor(np.random.random((100, 303, 80)))   # batch, dim, seq_len\n",
        "# model = TempConvnet(num_stacks=3, num_channels=[80, 80, 80], kernel_size=3, dropout_rate=0.2, return_type='end', seed=1, training_state=True)\n",
        "# y = model(x)\n",
        "# print(y.shape)\n",
        "# model.summary()\n",
        "\n",
        "# # Check model\n",
        "# x = tf.keras.Input(batch_shape=(10, 80, 303))\n",
        "# model = TempConvnet(num_stacks=3, num_channels=[80, 80, 80, 80, 80, 80], kernel_size=3, dropout_rate=0.2, return_type='end', seed=1, training_state=True)\n",
        "# model.build((10, 80, 303))\n",
        "# model = tf.keras.Model(inputs=x, outputs=model.call(x))\n",
        "# plot_model(model, to_file='temporal_CNN.png')\n",
        "\n",
        "class TempConvnet_Decoder(tf.keras.Model):\n",
        "    def __init__(self, decoder_type, num_levels, num_channels, kernel_size, padding, upsample_size, dropout_rate, output_shape, seed, training_state):\n",
        "        super(TempConvnet_Decoder, self).__init__()\n",
        "        assert isinstance(num_channels, int)\n",
        "        assert isinstance(kernel_size, list)\n",
        "        assert isinstance(upsample_size, dict)\n",
        "        assert padding in ['causal', 'same']\n",
        "        assert decoder_type in ['linguistic', 'acoustic']\n",
        "        assert num_levels == upsample_size[2] + upsample_size[3] + upsample_size[0]\n",
        "\n",
        "        init = tf.keras.initializers.RandomNormal(mean=0.0, stddev=0.1, seed=1)\n",
        "        layers = tf.keras.layers\n",
        "\n",
        "        self.training_state = training_state\n",
        "\n",
        "        self.size2_upsample_num = upsample_size[2]\n",
        "        self.size3_upsample_num = upsample_size[3]\n",
        "        self.reshape_conv_num = 1\n",
        "        self.num_levels = num_levels\n",
        "        self.final_kernel_size = kernel_size[1]\n",
        "        self.output_len = output_shape[-1]  ## ex) (num_batch, num_time_steps, dictionary_length)\n",
        "\n",
        "        self.upsample_blocks = [0]*(num_levels-1)\n",
        "        self.conv_blocks = [0]*(num_levels-1)\n",
        "        self.batchnorm_blocks = [0]*(num_levels-1)\n",
        "        self.ac_blocks = [0]*(num_levels-1)\n",
        "        self.drop_blocks = [0]*(num_levels-1)\n",
        "\n",
        "        for i in range(num_levels-self.size3_upsample_num-self.reshape_conv_num):\n",
        "            self.upsample_blocks[i] = layers.UpSampling1D(size=2)\n",
        "            self.conv_blocks[i] = layers.Conv1D(filters=num_channels, kernel_size=kernel_size[0], data_format='channels_last',\n",
        "                                                    padding=padding, kernel_initializer=init)\n",
        "            self.batchnorm_blocks[i] = layers.BatchNormalization(axis=-1, trainable=True)\n",
        "            self.ac_blocks[i] = layers.ReLU() if decoder_type == 'linguistic' else layers.LeakyReLU(alpha=0.2)\n",
        "            self.drop_blocks[i] = layers.Dropout(rate=dropout_rate)\n",
        "        for i in range(num_levels-self.size3_upsample_num-self.reshape_conv_num, num_levels-self.reshape_conv_num):\n",
        "            self.upsample_blocks[i] = layers.UpSampling1D(size=3)\n",
        "            self.conv_blocks[i] = layers.Conv1D(filters=num_channels, kernel_size=kernel_size[0], data_format='channels_last',\n",
        "                                                    padding=padding, kernel_initializer=init)\n",
        "            self.batchnorm_blocks[i] = layers.BatchNormalization(axis=-1, trainable=True)\n",
        "            self.ac_blocks[i] = layers.Activation('tanh') if decoder_type == 'linguistic' else layers.LeakyReLU(alpha=0.2)\n",
        "            self.drop_blocks[i] = layers.Dropout(rate=dropout_rate)\n",
        "        self.final_conv_block = layers.Conv1D(filters=num_channels, kernel_size=self.final_kernel_size, data_format='channels_last',\n",
        "                                                    padding='valid', kernel_initializer=init)\n",
        "        self.final_ac_block = layers.Softmax(axis=-1) if decoder_type == 'linguistic' else layers.LeakyReLU(alpha=0.2)\n",
        "        self.final_reshape_block = layers.Permute((2, 1))\n",
        "    \n",
        "    def call(self, x):\n",
        "        for i in range(self.num_levels-1):\n",
        "            x = self.upsample_blocks[i](x)\n",
        "            x = self.conv_blocks[i](x)\n",
        "            x = self.batchnorm_blocks[i](x)\n",
        "            x = self.ac_blocks[i](x)\n",
        "            x = self.drop_blocks[i](x) if self.training_state else x\n",
        "        len_padding = (self.output_len - (x.shape[1] - self.final_kernel_size) - 1)//2\n",
        "        x = tf.keras.layers.ZeroPadding1D(padding=(len_padding, len_padding))(x)\n",
        "        x = self.final_conv_block(x)\n",
        "        x = self.final_ac_block(x)\n",
        "        y = self.final_reshape_block(x)\n",
        "        return y\n",
        "\n",
        "# # Test\n",
        "# x = tf.convert_to_tensor(np.random.random((100, 1, 80)))   # batch, seq_len, dim\n",
        "# model = TempConvnet_Decoder(decoder_type='linguistic', num_levels=8, num_channels=42, kernel_size=[2, 2], \n",
        "#                             padding='causal', upsample_size={2: 5, 3: 2, 0:1}, dropout_rate=0.2, output_shape=(100, 42, 303), seed=1, training_state=True)\n",
        "# y = model(x, True)\n",
        "# print(y.shape)\n",
        "# model.summary()\n",
        "\n",
        "# # Check model\n",
        "# # linguistic decoder\n",
        "# x = tf.keras.Input(batch_shape=(10, 1, 80)) # batch_size: 10\n",
        "# model = TempConvnet_Decoder(decoder_type='linguistic', num_levels=8, num_channels=42, kernel_size=[2, 2], \n",
        "#                             padding='causal', upsample_size={2: 5, 3: 2, 0:1}, dropout_rate=0.2, output_shape=(None, 42, 303), seed=1, training_state=True)\n",
        "# model.build((10, 1, 80))\n",
        "# model = tf.keras.Model(inputs=x, outputs=model.call(x))\n",
        "# plot_model(model, to_file='linguistic_decoder.png')\n",
        "\n",
        "# # acoustic decoder\n",
        "# x = tf.keras.Input(batch_shape=(10, 1, 80)) # batch_size: 10\n",
        "# model = TempConvnet_Decoder(decoder_type='acoustic', num_levels=8, num_channels=80, kernel_size=[2, 2], \n",
        "#                             padding='causal', upsample_size={2: 5, 3: 2, 0:1}, dropout_rate=0.2, output_shape=(None, 80, 303), seed=1, training_state=True)\n",
        "# model.build((10, 1, 80))\n",
        "# model = tf.keras.Model(inputs=x, outputs=model.call(x))\n",
        "# plot_model(model, to_file='acoustic_decoder.png')"
      ],
      "execution_count": 10,
      "outputs": []
    },
    {
      "cell_type": "code",
      "metadata": {
        "id": "q_tBigUbFqaT"
      },
      "source": [
        "\"\"\"\n",
        "sentenceEM.py\n",
        "\"\"\"\n",
        "\n",
        "class sentenceEM(tf.keras.Model):\n",
        "    def __init__(self, encoder_args, linguistic_decoder_args, acoustic_decoder_args, input_shapes, seed, training_state):\n",
        "        \"\"\"\n",
        "        1) encoder_args: \n",
        "        num_stacks, num_channels, kernel_size, dropout_rate, return_type, seed\n",
        "        2) linguistic_decoder_args:\n",
        "        decoder_type, num_levels, num_channels, kernel_size, padding, upsample_size, dropout_rate, output_shape, seed, training_state\n",
        "        3) acoustic_decoder_args:\n",
        "        decoder_type, num_levels, num_channels, kernel_size, padding, upsample_size, dropout_rate, output_shape, seed, training_state\n",
        "        \"\"\"\n",
        "        super(sentenceEM, self).__init__()\n",
        "        self.input_shapes = input_shapes\n",
        "        self.input_reshape_block = layers.Permute((2, 1))\n",
        "        self.encoder = TempConvnet(num_stacks=encoder_args['num_stacks'], num_channels=encoder_args['num_channels'],\n",
        "                                        kernel_size=encoder_args['kernel_size'], dropout_rate=encoder_args['dropout_rate'],\n",
        "                                        return_type=encoder_args['return_type'], seed=seed, training_state=training_state)\n",
        "        self.linguistic_decoder = TempConvnet_Decoder(decoder_type=linguistic_decoder_args['decoder_type'], num_levels=linguistic_decoder_args['num_levels'],\n",
        "                                                        num_channels=linguistic_decoder_args['num_channels'], kernel_size=linguistic_decoder_args['kernel_size'],\n",
        "                                                        padding=linguistic_decoder_args['padding'], upsample_size=linguistic_decoder_args['upsample_size'],\n",
        "                                                        dropout_rate=linguistic_decoder_args['dropout_rate'], output_shape=linguistic_decoder_args['output_shape'],\n",
        "                                                        seed=seed, training_state=training_state)\n",
        "        self.acoustic_decoder = TempConvnet_Decoder(decoder_type=acoustic_decoder_args['decoder_type'], num_levels=acoustic_decoder_args['num_levels'],\n",
        "                                                        num_channels=acoustic_decoder_args['num_channels'], kernel_size=acoustic_decoder_args['kernel_size'],\n",
        "                                                        padding=acoustic_decoder_args['padding'], upsample_size=acoustic_decoder_args['upsample_size'],\n",
        "                                                        dropout_rate=acoustic_decoder_args['dropout_rate'], output_shape=acoustic_decoder_args['output_shape'],\n",
        "                                                        seed=seed, training_state=training_state)\n",
        "    \n",
        "    def call(self, x):\n",
        "        embedded_outputs = self.input_reshape_block(x)\n",
        "        embedded_outputs = self.encoder(embedded_outputs)\n",
        "        embedded_outputs = kb.expand_dims(embedded_outputs, axis=1)\n",
        "        linguistic_outputs = self.linguistic_decoder(embedded_outputs)\n",
        "        acoustic_outputs = self.acoustic_decoder(embedded_outputs)\n",
        "        return linguistic_outputs, acoustic_outputs\n",
        "    \n",
        "    def encoder_call(self, x):\n",
        "        embedded_outputs = self.input_reshape_block(x)\n",
        "        embedded_outputs = self.encoder(embedded_outputs)\n",
        "        return embedded_outputs\n",
        "    \n",
        "    def decoder_call(self, x):\n",
        "        embedded_outputs = kb.expand_dims(x, axis=1)\n",
        "        linguistic_outputs = self.linguistic_decoder(embedded_outputs)\n",
        "        acoustic_outputs = self.acoustic_decoder(embedded_outputs)\n",
        "        return linguistic_outputs, acoustic_outputs\n",
        "    \n",
        "    def build_seperate_graph(self):\n",
        "        # Encoder graph\n",
        "        x = tf.keras.Input(batch_shape=self.input_shapes)\n",
        "        embedded_outputs = self.encoder_call(x)\n",
        "        self.embedded_outputs_shape = embedded_outputs.shape\n",
        "        self.encoder_model = tf.keras.Model(inputs=x, outputs=embedded_outputs)\n",
        "\n",
        "        # Decoder graph\n",
        "        embeddings = tf.keras.Input(batch_shape=self.embedded_outputs_shape)\n",
        "        linguistic_outputs, acoustic_outputs = self.decoder_call(embeddings)\n",
        "        self.decoder_model = tf.keras.Model(inputs=embeddings, outputs=[linguistic_outputs, acoustic_outputs])\n",
        "    \n",
        "    def build_total_graph(self):\n",
        "        # x = tf.keras.Input(batch_shape=self.input_shapes)\n",
        "        x = tf.keras.Input(batch_input_shape=self.input_shapes)\n",
        "        y = self.encoder_model(x)\n",
        "        l_y, a_y = self.decoder_model(y)\n",
        "        self.model = tf.keras.Model(inputs=x, outputs=[l_y, a_y])\n",
        "\n",
        "    # def model_visualize(self):\n",
        "    #     self.model.summary()\n",
        "    #     plot_model(self.model, to_file='/home/awesomericky/Lab_intern/Prof_Oh/Code/Speech2Pickup/image/sentenceEM.png')\n",
        "    \n",
        "    def encoder_model_compile(self, lr):\n",
        "        optimizer = tf.keras.optimizers.Adam(learning_rate=lr)\n",
        "        self.encoder_model.compile(optimizer=optimizer)\n",
        "\n",
        "    def model_compile(self, lr, loss_weights):\n",
        "        optimizer = tf.keras.optimizers.Adam(learning_rate=lr)\n",
        "        self.model.compile(optimizer=optimizer, loss=[self.linguistic_loss_function, self.acoustic_loss_function],\n",
        "                           loss_weights=[loss_weights['linguistic'], loss_weights['acoustic']],\n",
        "                           metrics=[tf.keras.metrics.CategoricalAccuracy(), tf.keras.metrics.MeanSquaredError()])\n",
        "\n",
        "    def model_train(self, X_train, Y_linguistic_train, Y_acoustic_train, batch_size):\n",
        "        hist = History()\n",
        "        self.model.fit(x=X_train, y=[Y_linguistic_train, Y_acoustic_train], batch_size=batch_size, epochs=1, verbose=1, callbacks=[hist], validation_split=0.1)\n",
        "        return hist.losses, hist.linguistic_losses, hist.acoustic_losses, hist.val_losses, hist.val_linguistic_accuracy, hist.val_acoustic_accuracy\n",
        "    \n",
        "    def linguistic_loss_function(self, y_actual, y_predicted):\n",
        "        epsil = 1e-5\n",
        "        y_predicted = -kb.log(y_predicted + epsil)\n",
        "        loss = layers.multiply([y_actual, y_predicted])\n",
        "        loss = kb.sum(loss, axis=1)\n",
        "        loss = kb.mean(loss, keepdims=False)\n",
        "        return loss\n",
        "    \n",
        "    def acoustic_loss_function(self, y_actual, y_predicted):\n",
        "        loss = layers.subtract([y_actual, y_predicted])\n",
        "        loss = layers.multiply([loss, loss])\n",
        "        loss = kb.mean(loss, keepdims=False)\n",
        "        return loss\n",
        "\n",
        "class History(Callback):\n",
        "    def on_train_begin(self,logs={}):\n",
        "        self.losses = []\n",
        "        self.linguistic_losses = []\n",
        "        self.acoustic_losses = []\n",
        "        self.val_losses = []\n",
        "        self.val_linguistic_accuracy = []\n",
        "        self.val_acoustic_accuracy = []\n",
        "\n",
        "    def on_batch_end(self, batch, logs={}):\n",
        "        self.losses.append(logs.get('loss'))\n",
        "        self.linguistic_losses.append(logs.get('model_1_loss'))\n",
        "        self.acoustic_losses.append(logs.get('model_1_1_loss'))\n",
        "    \n",
        "    def on_epoch_end(self, epoch, logs={}):\n",
        "        self.val_losses.append(logs.get('val_loss'))\n",
        "        self.val_linguistic_accuracy.append(logs.get('val_model_1_categorical_accuracy'))\n",
        "        self.val_acoustic_accuracy.append(logs.get('val_model_1_1_mean_squared_error'))"
      ],
      "execution_count": 11,
      "outputs": []
    },
    {
      "cell_type": "code",
      "metadata": {
        "id": "GRSZUTxv6OyO",
        "colab": {
          "base_uri": "https://localhost:8080/"
        },
        "outputId": "49164ae5-f3b2-46cd-c569-3bacf0cd8b7f"
      },
      "source": [
        "# Model configure\n",
        "\n",
        "train_model_number = 5\n",
        "batch_size = 64; seed = 1; lr = 0.0005; epochs = 100; loss_weights={'linguistic': 1, 'acoustic': 0.005}\n",
        "n_mels = 40\n",
        "time_steps = 303\n",
        "word_dic_size = 43\n",
        "training_state = True\n",
        "input_shapes = (None, n_mels, time_steps)\n",
        "encoder_args = {'num_stacks': 3, 'num_channels':[n_mels for i in range(6)], 'kernel_size':3, 'dropout_rate': 0.2, 'return_type': 'end'}\n",
        "linguistic_decoder_args = {'decoder_type': 'linguistic', 'num_levels':8, 'num_channels': word_dic_size, 'kernel_size': [2, 2], 'padding': 'causal',\n",
        "                            'upsample_size': {2: 5, 3: 2, 0:1}, 'dropout_rate': 0.2, 'output_shape': (batch_size, word_dic_size, time_steps)}\n",
        "acoustic_decoder_args = {'decoder_type': 'acoustic', 'num_levels':8, 'num_channels': n_mels, 'kernel_size': [2, 2], 'padding': 'causal',\n",
        "                            'upsample_size': {2: 5, 3: 2, 0:1}, 'dropout_rate': 0.2, 'output_shape': (batch_size, n_mels, time_steps)}\n",
        "\n",
        "with tf.device('/device:GPU:0'):\n",
        "  sen_em_model = sentenceEM(encoder_args=encoder_args, linguistic_decoder_args=linguistic_decoder_args, acoustic_decoder_args=acoustic_decoder_args,\n",
        "                            input_shapes=input_shapes, seed=seed, training_state=training_state)\n",
        "  sen_em_model.build_seperate_graph()\n",
        "  sen_em_model.build_total_graph()\n",
        "  sen_em_model.model_compile(lr=lr, loss_weights=loss_weights)\n",
        "# sen_em_model.model_visualize()"
      ],
      "execution_count": 12,
      "outputs": [
        {
          "output_type": "stream",
          "text": [
            "WARNING:tensorflow:From /tensorflow-1.15.2/python3.6/tensorflow_core/python/keras/initializers.py:143: calling RandomNormal.__init__ (from tensorflow.python.ops.init_ops) with dtype is deprecated and will be removed in a future version.\n",
            "Instructions for updating:\n",
            "Call initializer instance with the dtype argument instead of passing it to the constructor\n",
            "WARNING:tensorflow:Entity <bound method TempConvnet.call of <__main__.TempConvnet object at 0x7f6e8b86a6d8>> could not be transformed and will be executed as-is. Please report this to the AutoGraph team. When filing the bug, set the verbosity to 10 (on Linux, `export AUTOGRAPH_VERBOSITY=10`) and attach the full output. Cause: module 'gast' has no attribute 'Num'\n",
            "WARNING: Entity <bound method TempConvnet.call of <__main__.TempConvnet object at 0x7f6e8b86a6d8>> could not be transformed and will be executed as-is. Please report this to the AutoGraph team. When filing the bug, set the verbosity to 10 (on Linux, `export AUTOGRAPH_VERBOSITY=10`) and attach the full output. Cause: module 'gast' has no attribute 'Num'\n",
            "WARNING:tensorflow:Entity <bound method TemporalBlock.call of <__main__.TemporalBlock object at 0x7f6e8b86ac18>> could not be transformed and will be executed as-is. Please report this to the AutoGraph team. When filing the bug, set the verbosity to 10 (on Linux, `export AUTOGRAPH_VERBOSITY=10`) and attach the full output. Cause: module 'gast' has no attribute 'Num'\n",
            "WARNING: Entity <bound method TemporalBlock.call of <__main__.TemporalBlock object at 0x7f6e8b86ac18>> could not be transformed and will be executed as-is. Please report this to the AutoGraph team. When filing the bug, set the verbosity to 10 (on Linux, `export AUTOGRAPH_VERBOSITY=10`) and attach the full output. Cause: module 'gast' has no attribute 'Num'\n",
            "WARNING:tensorflow:Entity <bound method ResidualBlock.call of <__main__.ResidualBlock object at 0x7f6e8b86a1d0>> could not be transformed and will be executed as-is. Please report this to the AutoGraph team. When filing the bug, set the verbosity to 10 (on Linux, `export AUTOGRAPH_VERBOSITY=10`) and attach the full output. Cause: module 'gast' has no attribute 'Num'\n",
            "WARNING: Entity <bound method ResidualBlock.call of <__main__.ResidualBlock object at 0x7f6e8b86a1d0>> could not be transformed and will be executed as-is. Please report this to the AutoGraph team. When filing the bug, set the verbosity to 10 (on Linux, `export AUTOGRAPH_VERBOSITY=10`) and attach the full output. Cause: module 'gast' has no attribute 'Num'\n",
            "WARNING:tensorflow:From /tensorflow-1.15.2/python3.6/tensorflow_core/python/ops/resource_variable_ops.py:1630: calling BaseResourceVariable.__init__ (from tensorflow.python.ops.resource_variable_ops) with constraint is deprecated and will be removed in a future version.\n",
            "Instructions for updating:\n",
            "If using Keras pass *_constraint arguments to layers.\n",
            "WARNING:tensorflow:Entity <bound method ResidualBlock.call of <__main__.ResidualBlock object at 0x7f6e8021dc50>> could not be transformed and will be executed as-is. Please report this to the AutoGraph team. When filing the bug, set the verbosity to 10 (on Linux, `export AUTOGRAPH_VERBOSITY=10`) and attach the full output. Cause: module 'gast' has no attribute 'Num'\n",
            "WARNING: Entity <bound method ResidualBlock.call of <__main__.ResidualBlock object at 0x7f6e8021dc50>> could not be transformed and will be executed as-is. Please report this to the AutoGraph team. When filing the bug, set the verbosity to 10 (on Linux, `export AUTOGRAPH_VERBOSITY=10`) and attach the full output. Cause: module 'gast' has no attribute 'Num'\n",
            "WARNING:tensorflow:Entity <bound method ResidualBlock.call of <__main__.ResidualBlock object at 0x7f6e801a7828>> could not be transformed and will be executed as-is. Please report this to the AutoGraph team. When filing the bug, set the verbosity to 10 (on Linux, `export AUTOGRAPH_VERBOSITY=10`) and attach the full output. Cause: module 'gast' has no attribute 'Num'\n",
            "WARNING: Entity <bound method ResidualBlock.call of <__main__.ResidualBlock object at 0x7f6e801a7828>> could not be transformed and will be executed as-is. Please report this to the AutoGraph team. When filing the bug, set the verbosity to 10 (on Linux, `export AUTOGRAPH_VERBOSITY=10`) and attach the full output. Cause: module 'gast' has no attribute 'Num'\n",
            "WARNING:tensorflow:Entity <bound method ResidualBlock.call of <__main__.ResidualBlock object at 0x7f6e801b6400>> could not be transformed and will be executed as-is. Please report this to the AutoGraph team. When filing the bug, set the verbosity to 10 (on Linux, `export AUTOGRAPH_VERBOSITY=10`) and attach the full output. Cause: module 'gast' has no attribute 'Num'\n",
            "WARNING: Entity <bound method ResidualBlock.call of <__main__.ResidualBlock object at 0x7f6e801b6400>> could not be transformed and will be executed as-is. Please report this to the AutoGraph team. When filing the bug, set the verbosity to 10 (on Linux, `export AUTOGRAPH_VERBOSITY=10`) and attach the full output. Cause: module 'gast' has no attribute 'Num'\n",
            "WARNING:tensorflow:Entity <bound method ResidualBlock.call of <__main__.ResidualBlock object at 0x7f6e801bcf98>> could not be transformed and will be executed as-is. Please report this to the AutoGraph team. When filing the bug, set the verbosity to 10 (on Linux, `export AUTOGRAPH_VERBOSITY=10`) and attach the full output. Cause: module 'gast' has no attribute 'Num'\n",
            "WARNING: Entity <bound method ResidualBlock.call of <__main__.ResidualBlock object at 0x7f6e801bcf98>> could not be transformed and will be executed as-is. Please report this to the AutoGraph team. When filing the bug, set the verbosity to 10 (on Linux, `export AUTOGRAPH_VERBOSITY=10`) and attach the full output. Cause: module 'gast' has no attribute 'Num'\n",
            "WARNING:tensorflow:Entity <bound method ResidualBlock.call of <__main__.ResidualBlock object at 0x7f6e801ccd68>> could not be transformed and will be executed as-is. Please report this to the AutoGraph team. When filing the bug, set the verbosity to 10 (on Linux, `export AUTOGRAPH_VERBOSITY=10`) and attach the full output. Cause: module 'gast' has no attribute 'Num'\n",
            "WARNING: Entity <bound method ResidualBlock.call of <__main__.ResidualBlock object at 0x7f6e801ccd68>> could not be transformed and will be executed as-is. Please report this to the AutoGraph team. When filing the bug, set the verbosity to 10 (on Linux, `export AUTOGRAPH_VERBOSITY=10`) and attach the full output. Cause: module 'gast' has no attribute 'Num'\n",
            "WARNING:tensorflow:Entity <bound method TemporalBlock.call of <__main__.TemporalBlock object at 0x7f6e801dab38>> could not be transformed and will be executed as-is. Please report this to the AutoGraph team. When filing the bug, set the verbosity to 10 (on Linux, `export AUTOGRAPH_VERBOSITY=10`) and attach the full output. Cause: module 'gast' has no attribute 'Num'\n",
            "WARNING: Entity <bound method TemporalBlock.call of <__main__.TemporalBlock object at 0x7f6e801dab38>> could not be transformed and will be executed as-is. Please report this to the AutoGraph team. When filing the bug, set the verbosity to 10 (on Linux, `export AUTOGRAPH_VERBOSITY=10`) and attach the full output. Cause: module 'gast' has no attribute 'Num'\n",
            "WARNING:tensorflow:Entity <bound method ResidualBlock.call of <__main__.ResidualBlock object at 0x7f6e801dad68>> could not be transformed and will be executed as-is. Please report this to the AutoGraph team. When filing the bug, set the verbosity to 10 (on Linux, `export AUTOGRAPH_VERBOSITY=10`) and attach the full output. Cause: module 'gast' has no attribute 'Num'\n",
            "WARNING: Entity <bound method ResidualBlock.call of <__main__.ResidualBlock object at 0x7f6e801dad68>> could not be transformed and will be executed as-is. Please report this to the AutoGraph team. When filing the bug, set the verbosity to 10 (on Linux, `export AUTOGRAPH_VERBOSITY=10`) and attach the full output. Cause: module 'gast' has no attribute 'Num'\n",
            "WARNING:tensorflow:Entity <bound method ResidualBlock.call of <__main__.ResidualBlock object at 0x7f6e80169b00>> could not be transformed and will be executed as-is. Please report this to the AutoGraph team. When filing the bug, set the verbosity to 10 (on Linux, `export AUTOGRAPH_VERBOSITY=10`) and attach the full output. Cause: module 'gast' has no attribute 'Num'\n",
            "WARNING: Entity <bound method ResidualBlock.call of <__main__.ResidualBlock object at 0x7f6e80169b00>> could not be transformed and will be executed as-is. Please report this to the AutoGraph team. When filing the bug, set the verbosity to 10 (on Linux, `export AUTOGRAPH_VERBOSITY=10`) and attach the full output. Cause: module 'gast' has no attribute 'Num'\n",
            "WARNING:tensorflow:Entity <bound method ResidualBlock.call of <__main__.ResidualBlock object at 0x7f6e801768d0>> could not be transformed and will be executed as-is. Please report this to the AutoGraph team. When filing the bug, set the verbosity to 10 (on Linux, `export AUTOGRAPH_VERBOSITY=10`) and attach the full output. Cause: module 'gast' has no attribute 'Num'\n",
            "WARNING: Entity <bound method ResidualBlock.call of <__main__.ResidualBlock object at 0x7f6e801768d0>> could not be transformed and will be executed as-is. Please report this to the AutoGraph team. When filing the bug, set the verbosity to 10 (on Linux, `export AUTOGRAPH_VERBOSITY=10`) and attach the full output. Cause: module 'gast' has no attribute 'Num'\n",
            "WARNING:tensorflow:Entity <bound method ResidualBlock.call of <__main__.ResidualBlock object at 0x7f6e801876a0>> could not be transformed and will be executed as-is. Please report this to the AutoGraph team. When filing the bug, set the verbosity to 10 (on Linux, `export AUTOGRAPH_VERBOSITY=10`) and attach the full output. Cause: module 'gast' has no attribute 'Num'\n",
            "WARNING: Entity <bound method ResidualBlock.call of <__main__.ResidualBlock object at 0x7f6e801876a0>> could not be transformed and will be executed as-is. Please report this to the AutoGraph team. When filing the bug, set the verbosity to 10 (on Linux, `export AUTOGRAPH_VERBOSITY=10`) and attach the full output. Cause: module 'gast' has no attribute 'Num'\n",
            "WARNING:tensorflow:Entity <bound method ResidualBlock.call of <__main__.ResidualBlock object at 0x7f6e80196470>> could not be transformed and will be executed as-is. Please report this to the AutoGraph team. When filing the bug, set the verbosity to 10 (on Linux, `export AUTOGRAPH_VERBOSITY=10`) and attach the full output. Cause: module 'gast' has no attribute 'Num'\n",
            "WARNING: Entity <bound method ResidualBlock.call of <__main__.ResidualBlock object at 0x7f6e80196470>> could not be transformed and will be executed as-is. Please report this to the AutoGraph team. When filing the bug, set the verbosity to 10 (on Linux, `export AUTOGRAPH_VERBOSITY=10`) and attach the full output. Cause: module 'gast' has no attribute 'Num'\n",
            "WARNING:tensorflow:Entity <bound method ResidualBlock.call of <__main__.ResidualBlock object at 0x7f6e801a2240>> could not be transformed and will be executed as-is. Please report this to the AutoGraph team. When filing the bug, set the verbosity to 10 (on Linux, `export AUTOGRAPH_VERBOSITY=10`) and attach the full output. Cause: module 'gast' has no attribute 'Num'\n",
            "WARNING: Entity <bound method ResidualBlock.call of <__main__.ResidualBlock object at 0x7f6e801a2240>> could not be transformed and will be executed as-is. Please report this to the AutoGraph team. When filing the bug, set the verbosity to 10 (on Linux, `export AUTOGRAPH_VERBOSITY=10`) and attach the full output. Cause: module 'gast' has no attribute 'Num'\n",
            "WARNING:tensorflow:Entity <bound method TemporalBlock.call of <__main__.TemporalBlock object at 0x7f6e8012bfd0>> could not be transformed and will be executed as-is. Please report this to the AutoGraph team. When filing the bug, set the verbosity to 10 (on Linux, `export AUTOGRAPH_VERBOSITY=10`) and attach the full output. Cause: module 'gast' has no attribute 'Num'\n",
            "WARNING: Entity <bound method TemporalBlock.call of <__main__.TemporalBlock object at 0x7f6e8012bfd0>> could not be transformed and will be executed as-is. Please report this to the AutoGraph team. When filing the bug, set the verbosity to 10 (on Linux, `export AUTOGRAPH_VERBOSITY=10`) and attach the full output. Cause: module 'gast' has no attribute 'Num'\n",
            "WARNING:tensorflow:Entity <bound method ResidualBlock.call of <__main__.ResidualBlock object at 0x7f6e80131240>> could not be transformed and will be executed as-is. Please report this to the AutoGraph team. When filing the bug, set the verbosity to 10 (on Linux, `export AUTOGRAPH_VERBOSITY=10`) and attach the full output. Cause: module 'gast' has no attribute 'Num'\n",
            "WARNING: Entity <bound method ResidualBlock.call of <__main__.ResidualBlock object at 0x7f6e80131240>> could not be transformed and will be executed as-is. Please report this to the AutoGraph team. When filing the bug, set the verbosity to 10 (on Linux, `export AUTOGRAPH_VERBOSITY=10`) and attach the full output. Cause: module 'gast' has no attribute 'Num'\n",
            "WARNING:tensorflow:Entity <bound method ResidualBlock.call of <__main__.ResidualBlock object at 0x7f6e8013af98>> could not be transformed and will be executed as-is. Please report this to the AutoGraph team. When filing the bug, set the verbosity to 10 (on Linux, `export AUTOGRAPH_VERBOSITY=10`) and attach the full output. Cause: module 'gast' has no attribute 'Num'\n",
            "WARNING: Entity <bound method ResidualBlock.call of <__main__.ResidualBlock object at 0x7f6e8013af98>> could not be transformed and will be executed as-is. Please report this to the AutoGraph team. When filing the bug, set the verbosity to 10 (on Linux, `export AUTOGRAPH_VERBOSITY=10`) and attach the full output. Cause: module 'gast' has no attribute 'Num'\n",
            "WARNING:tensorflow:Entity <bound method ResidualBlock.call of <__main__.ResidualBlock object at 0x7f6e80148d68>> could not be transformed and will be executed as-is. Please report this to the AutoGraph team. When filing the bug, set the verbosity to 10 (on Linux, `export AUTOGRAPH_VERBOSITY=10`) and attach the full output. Cause: module 'gast' has no attribute 'Num'\n",
            "WARNING: Entity <bound method ResidualBlock.call of <__main__.ResidualBlock object at 0x7f6e80148d68>> could not be transformed and will be executed as-is. Please report this to the AutoGraph team. When filing the bug, set the verbosity to 10 (on Linux, `export AUTOGRAPH_VERBOSITY=10`) and attach the full output. Cause: module 'gast' has no attribute 'Num'\n",
            "WARNING:tensorflow:Entity <bound method ResidualBlock.call of <__main__.ResidualBlock object at 0x7f6e80154b38>> could not be transformed and will be executed as-is. Please report this to the AutoGraph team. When filing the bug, set the verbosity to 10 (on Linux, `export AUTOGRAPH_VERBOSITY=10`) and attach the full output. Cause: module 'gast' has no attribute 'Num'\n",
            "WARNING: Entity <bound method ResidualBlock.call of <__main__.ResidualBlock object at 0x7f6e80154b38>> could not be transformed and will be executed as-is. Please report this to the AutoGraph team. When filing the bug, set the verbosity to 10 (on Linux, `export AUTOGRAPH_VERBOSITY=10`) and attach the full output. Cause: module 'gast' has no attribute 'Num'\n",
            "WARNING:tensorflow:Entity <bound method ResidualBlock.call of <__main__.ResidualBlock object at 0x7f6e80162908>> could not be transformed and will be executed as-is. Please report this to the AutoGraph team. When filing the bug, set the verbosity to 10 (on Linux, `export AUTOGRAPH_VERBOSITY=10`) and attach the full output. Cause: module 'gast' has no attribute 'Num'\n",
            "WARNING: Entity <bound method ResidualBlock.call of <__main__.ResidualBlock object at 0x7f6e80162908>> could not be transformed and will be executed as-is. Please report this to the AutoGraph team. When filing the bug, set the verbosity to 10 (on Linux, `export AUTOGRAPH_VERBOSITY=10`) and attach the full output. Cause: module 'gast' has no attribute 'Num'\n",
            "WARNING:tensorflow:Entity <bound method ResidualBlock.call of <__main__.ResidualBlock object at 0x7f6e800f16d8>> could not be transformed and will be executed as-is. Please report this to the AutoGraph team. When filing the bug, set the verbosity to 10 (on Linux, `export AUTOGRAPH_VERBOSITY=10`) and attach the full output. Cause: module 'gast' has no attribute 'Num'\n",
            "WARNING: Entity <bound method ResidualBlock.call of <__main__.ResidualBlock object at 0x7f6e800f16d8>> could not be transformed and will be executed as-is. Please report this to the AutoGraph team. When filing the bug, set the verbosity to 10 (on Linux, `export AUTOGRAPH_VERBOSITY=10`) and attach the full output. Cause: module 'gast' has no attribute 'Num'\n",
            "WARNING:tensorflow:Entity <bound method TempConvnet_Decoder.call of <__main__.TempConvnet_Decoder object at 0x7f6e801014a8>> could not be transformed and will be executed as-is. Please report this to the AutoGraph team. When filing the bug, set the verbosity to 10 (on Linux, `export AUTOGRAPH_VERBOSITY=10`) and attach the full output. Cause: module 'gast' has no attribute 'Num'\n",
            "WARNING: Entity <bound method TempConvnet_Decoder.call of <__main__.TempConvnet_Decoder object at 0x7f6e801014a8>> could not be transformed and will be executed as-is. Please report this to the AutoGraph team. When filing the bug, set the verbosity to 10 (on Linux, `export AUTOGRAPH_VERBOSITY=10`) and attach the full output. Cause: module 'gast' has no attribute 'Num'\n",
            "WARNING:tensorflow:Entity <bound method TempConvnet_Decoder.call of <__main__.TempConvnet_Decoder object at 0x7f6e800ac208>> could not be transformed and will be executed as-is. Please report this to the AutoGraph team. When filing the bug, set the verbosity to 10 (on Linux, `export AUTOGRAPH_VERBOSITY=10`) and attach the full output. Cause: module 'gast' has no attribute 'Num'\n",
            "WARNING: Entity <bound method TempConvnet_Decoder.call of <__main__.TempConvnet_Decoder object at 0x7f6e800ac208>> could not be transformed and will be executed as-is. Please report this to the AutoGraph team. When filing the bug, set the verbosity to 10 (on Linux, `export AUTOGRAPH_VERBOSITY=10`) and attach the full output. Cause: module 'gast' has no attribute 'Num'\n",
            "WARNING:tensorflow:Entity <bound method TempConvnet.call of <__main__.TempConvnet object at 0x7f6e8b86a6d8>> could not be transformed and will be executed as-is. Please report this to the AutoGraph team. When filing the bug, set the verbosity to 10 (on Linux, `export AUTOGRAPH_VERBOSITY=10`) and attach the full output. Cause: module 'gast' has no attribute 'Num'\n",
            "WARNING: Entity <bound method TempConvnet.call of <__main__.TempConvnet object at 0x7f6e8b86a6d8>> could not be transformed and will be executed as-is. Please report this to the AutoGraph team. When filing the bug, set the verbosity to 10 (on Linux, `export AUTOGRAPH_VERBOSITY=10`) and attach the full output. Cause: module 'gast' has no attribute 'Num'\n",
            "WARNING:tensorflow:Entity <bound method TemporalBlock.call of <__main__.TemporalBlock object at 0x7f6e8b86ac18>> could not be transformed and will be executed as-is. Please report this to the AutoGraph team. When filing the bug, set the verbosity to 10 (on Linux, `export AUTOGRAPH_VERBOSITY=10`) and attach the full output. Cause: module 'gast' has no attribute 'Num'\n",
            "WARNING: Entity <bound method TemporalBlock.call of <__main__.TemporalBlock object at 0x7f6e8b86ac18>> could not be transformed and will be executed as-is. Please report this to the AutoGraph team. When filing the bug, set the verbosity to 10 (on Linux, `export AUTOGRAPH_VERBOSITY=10`) and attach the full output. Cause: module 'gast' has no attribute 'Num'\n",
            "WARNING:tensorflow:Entity <bound method ResidualBlock.call of <__main__.ResidualBlock object at 0x7f6e8b86a1d0>> could not be transformed and will be executed as-is. Please report this to the AutoGraph team. When filing the bug, set the verbosity to 10 (on Linux, `export AUTOGRAPH_VERBOSITY=10`) and attach the full output. Cause: module 'gast' has no attribute 'Num'\n",
            "WARNING: Entity <bound method ResidualBlock.call of <__main__.ResidualBlock object at 0x7f6e8b86a1d0>> could not be transformed and will be executed as-is. Please report this to the AutoGraph team. When filing the bug, set the verbosity to 10 (on Linux, `export AUTOGRAPH_VERBOSITY=10`) and attach the full output. Cause: module 'gast' has no attribute 'Num'\n",
            "WARNING:tensorflow:Entity <bound method ResidualBlock.call of <__main__.ResidualBlock object at 0x7f6e8021dc50>> could not be transformed and will be executed as-is. Please report this to the AutoGraph team. When filing the bug, set the verbosity to 10 (on Linux, `export AUTOGRAPH_VERBOSITY=10`) and attach the full output. Cause: module 'gast' has no attribute 'Num'\n",
            "WARNING: Entity <bound method ResidualBlock.call of <__main__.ResidualBlock object at 0x7f6e8021dc50>> could not be transformed and will be executed as-is. Please report this to the AutoGraph team. When filing the bug, set the verbosity to 10 (on Linux, `export AUTOGRAPH_VERBOSITY=10`) and attach the full output. Cause: module 'gast' has no attribute 'Num'\n",
            "WARNING:tensorflow:Entity <bound method ResidualBlock.call of <__main__.ResidualBlock object at 0x7f6e801a7828>> could not be transformed and will be executed as-is. Please report this to the AutoGraph team. When filing the bug, set the verbosity to 10 (on Linux, `export AUTOGRAPH_VERBOSITY=10`) and attach the full output. Cause: module 'gast' has no attribute 'Num'\n",
            "WARNING: Entity <bound method ResidualBlock.call of <__main__.ResidualBlock object at 0x7f6e801a7828>> could not be transformed and will be executed as-is. Please report this to the AutoGraph team. When filing the bug, set the verbosity to 10 (on Linux, `export AUTOGRAPH_VERBOSITY=10`) and attach the full output. Cause: module 'gast' has no attribute 'Num'\n",
            "WARNING:tensorflow:Entity <bound method ResidualBlock.call of <__main__.ResidualBlock object at 0x7f6e801b6400>> could not be transformed and will be executed as-is. Please report this to the AutoGraph team. When filing the bug, set the verbosity to 10 (on Linux, `export AUTOGRAPH_VERBOSITY=10`) and attach the full output. Cause: module 'gast' has no attribute 'Num'\n",
            "WARNING: Entity <bound method ResidualBlock.call of <__main__.ResidualBlock object at 0x7f6e801b6400>> could not be transformed and will be executed as-is. Please report this to the AutoGraph team. When filing the bug, set the verbosity to 10 (on Linux, `export AUTOGRAPH_VERBOSITY=10`) and attach the full output. Cause: module 'gast' has no attribute 'Num'\n",
            "WARNING:tensorflow:Entity <bound method ResidualBlock.call of <__main__.ResidualBlock object at 0x7f6e801bcf98>> could not be transformed and will be executed as-is. Please report this to the AutoGraph team. When filing the bug, set the verbosity to 10 (on Linux, `export AUTOGRAPH_VERBOSITY=10`) and attach the full output. Cause: module 'gast' has no attribute 'Num'\n",
            "WARNING: Entity <bound method ResidualBlock.call of <__main__.ResidualBlock object at 0x7f6e801bcf98>> could not be transformed and will be executed as-is. Please report this to the AutoGraph team. When filing the bug, set the verbosity to 10 (on Linux, `export AUTOGRAPH_VERBOSITY=10`) and attach the full output. Cause: module 'gast' has no attribute 'Num'\n",
            "WARNING:tensorflow:Entity <bound method ResidualBlock.call of <__main__.ResidualBlock object at 0x7f6e801ccd68>> could not be transformed and will be executed as-is. Please report this to the AutoGraph team. When filing the bug, set the verbosity to 10 (on Linux, `export AUTOGRAPH_VERBOSITY=10`) and attach the full output. Cause: module 'gast' has no attribute 'Num'\n",
            "WARNING: Entity <bound method ResidualBlock.call of <__main__.ResidualBlock object at 0x7f6e801ccd68>> could not be transformed and will be executed as-is. Please report this to the AutoGraph team. When filing the bug, set the verbosity to 10 (on Linux, `export AUTOGRAPH_VERBOSITY=10`) and attach the full output. Cause: module 'gast' has no attribute 'Num'\n",
            "WARNING:tensorflow:Entity <bound method TemporalBlock.call of <__main__.TemporalBlock object at 0x7f6e801dab38>> could not be transformed and will be executed as-is. Please report this to the AutoGraph team. When filing the bug, set the verbosity to 10 (on Linux, `export AUTOGRAPH_VERBOSITY=10`) and attach the full output. Cause: module 'gast' has no attribute 'Num'\n",
            "WARNING: Entity <bound method TemporalBlock.call of <__main__.TemporalBlock object at 0x7f6e801dab38>> could not be transformed and will be executed as-is. Please report this to the AutoGraph team. When filing the bug, set the verbosity to 10 (on Linux, `export AUTOGRAPH_VERBOSITY=10`) and attach the full output. Cause: module 'gast' has no attribute 'Num'\n",
            "WARNING:tensorflow:Entity <bound method ResidualBlock.call of <__main__.ResidualBlock object at 0x7f6e801dad68>> could not be transformed and will be executed as-is. Please report this to the AutoGraph team. When filing the bug, set the verbosity to 10 (on Linux, `export AUTOGRAPH_VERBOSITY=10`) and attach the full output. Cause: module 'gast' has no attribute 'Num'\n",
            "WARNING: Entity <bound method ResidualBlock.call of <__main__.ResidualBlock object at 0x7f6e801dad68>> could not be transformed and will be executed as-is. Please report this to the AutoGraph team. When filing the bug, set the verbosity to 10 (on Linux, `export AUTOGRAPH_VERBOSITY=10`) and attach the full output. Cause: module 'gast' has no attribute 'Num'\n",
            "WARNING:tensorflow:Entity <bound method ResidualBlock.call of <__main__.ResidualBlock object at 0x7f6e80169b00>> could not be transformed and will be executed as-is. Please report this to the AutoGraph team. When filing the bug, set the verbosity to 10 (on Linux, `export AUTOGRAPH_VERBOSITY=10`) and attach the full output. Cause: module 'gast' has no attribute 'Num'\n",
            "WARNING: Entity <bound method ResidualBlock.call of <__main__.ResidualBlock object at 0x7f6e80169b00>> could not be transformed and will be executed as-is. Please report this to the AutoGraph team. When filing the bug, set the verbosity to 10 (on Linux, `export AUTOGRAPH_VERBOSITY=10`) and attach the full output. Cause: module 'gast' has no attribute 'Num'\n",
            "WARNING:tensorflow:Entity <bound method ResidualBlock.call of <__main__.ResidualBlock object at 0x7f6e801768d0>> could not be transformed and will be executed as-is. Please report this to the AutoGraph team. When filing the bug, set the verbosity to 10 (on Linux, `export AUTOGRAPH_VERBOSITY=10`) and attach the full output. Cause: module 'gast' has no attribute 'Num'\n",
            "WARNING: Entity <bound method ResidualBlock.call of <__main__.ResidualBlock object at 0x7f6e801768d0>> could not be transformed and will be executed as-is. Please report this to the AutoGraph team. When filing the bug, set the verbosity to 10 (on Linux, `export AUTOGRAPH_VERBOSITY=10`) and attach the full output. Cause: module 'gast' has no attribute 'Num'\n",
            "WARNING:tensorflow:Entity <bound method ResidualBlock.call of <__main__.ResidualBlock object at 0x7f6e801876a0>> could not be transformed and will be executed as-is. Please report this to the AutoGraph team. When filing the bug, set the verbosity to 10 (on Linux, `export AUTOGRAPH_VERBOSITY=10`) and attach the full output. Cause: module 'gast' has no attribute 'Num'\n",
            "WARNING: Entity <bound method ResidualBlock.call of <__main__.ResidualBlock object at 0x7f6e801876a0>> could not be transformed and will be executed as-is. Please report this to the AutoGraph team. When filing the bug, set the verbosity to 10 (on Linux, `export AUTOGRAPH_VERBOSITY=10`) and attach the full output. Cause: module 'gast' has no attribute 'Num'\n",
            "WARNING:tensorflow:Entity <bound method ResidualBlock.call of <__main__.ResidualBlock object at 0x7f6e80196470>> could not be transformed and will be executed as-is. Please report this to the AutoGraph team. When filing the bug, set the verbosity to 10 (on Linux, `export AUTOGRAPH_VERBOSITY=10`) and attach the full output. Cause: module 'gast' has no attribute 'Num'\n",
            "WARNING: Entity <bound method ResidualBlock.call of <__main__.ResidualBlock object at 0x7f6e80196470>> could not be transformed and will be executed as-is. Please report this to the AutoGraph team. When filing the bug, set the verbosity to 10 (on Linux, `export AUTOGRAPH_VERBOSITY=10`) and attach the full output. Cause: module 'gast' has no attribute 'Num'\n",
            "WARNING:tensorflow:Entity <bound method ResidualBlock.call of <__main__.ResidualBlock object at 0x7f6e801a2240>> could not be transformed and will be executed as-is. Please report this to the AutoGraph team. When filing the bug, set the verbosity to 10 (on Linux, `export AUTOGRAPH_VERBOSITY=10`) and attach the full output. Cause: module 'gast' has no attribute 'Num'\n",
            "WARNING: Entity <bound method ResidualBlock.call of <__main__.ResidualBlock object at 0x7f6e801a2240>> could not be transformed and will be executed as-is. Please report this to the AutoGraph team. When filing the bug, set the verbosity to 10 (on Linux, `export AUTOGRAPH_VERBOSITY=10`) and attach the full output. Cause: module 'gast' has no attribute 'Num'\n",
            "WARNING:tensorflow:Entity <bound method TemporalBlock.call of <__main__.TemporalBlock object at 0x7f6e8012bfd0>> could not be transformed and will be executed as-is. Please report this to the AutoGraph team. When filing the bug, set the verbosity to 10 (on Linux, `export AUTOGRAPH_VERBOSITY=10`) and attach the full output. Cause: module 'gast' has no attribute 'Num'\n",
            "WARNING: Entity <bound method TemporalBlock.call of <__main__.TemporalBlock object at 0x7f6e8012bfd0>> could not be transformed and will be executed as-is. Please report this to the AutoGraph team. When filing the bug, set the verbosity to 10 (on Linux, `export AUTOGRAPH_VERBOSITY=10`) and attach the full output. Cause: module 'gast' has no attribute 'Num'\n",
            "WARNING:tensorflow:Entity <bound method ResidualBlock.call of <__main__.ResidualBlock object at 0x7f6e80131240>> could not be transformed and will be executed as-is. Please report this to the AutoGraph team. When filing the bug, set the verbosity to 10 (on Linux, `export AUTOGRAPH_VERBOSITY=10`) and attach the full output. Cause: module 'gast' has no attribute 'Num'\n",
            "WARNING: Entity <bound method ResidualBlock.call of <__main__.ResidualBlock object at 0x7f6e80131240>> could not be transformed and will be executed as-is. Please report this to the AutoGraph team. When filing the bug, set the verbosity to 10 (on Linux, `export AUTOGRAPH_VERBOSITY=10`) and attach the full output. Cause: module 'gast' has no attribute 'Num'\n",
            "WARNING:tensorflow:Entity <bound method ResidualBlock.call of <__main__.ResidualBlock object at 0x7f6e8013af98>> could not be transformed and will be executed as-is. Please report this to the AutoGraph team. When filing the bug, set the verbosity to 10 (on Linux, `export AUTOGRAPH_VERBOSITY=10`) and attach the full output. Cause: module 'gast' has no attribute 'Num'\n",
            "WARNING: Entity <bound method ResidualBlock.call of <__main__.ResidualBlock object at 0x7f6e8013af98>> could not be transformed and will be executed as-is. Please report this to the AutoGraph team. When filing the bug, set the verbosity to 10 (on Linux, `export AUTOGRAPH_VERBOSITY=10`) and attach the full output. Cause: module 'gast' has no attribute 'Num'\n",
            "WARNING:tensorflow:Entity <bound method ResidualBlock.call of <__main__.ResidualBlock object at 0x7f6e80148d68>> could not be transformed and will be executed as-is. Please report this to the AutoGraph team. When filing the bug, set the verbosity to 10 (on Linux, `export AUTOGRAPH_VERBOSITY=10`) and attach the full output. Cause: module 'gast' has no attribute 'Num'\n",
            "WARNING: Entity <bound method ResidualBlock.call of <__main__.ResidualBlock object at 0x7f6e80148d68>> could not be transformed and will be executed as-is. Please report this to the AutoGraph team. When filing the bug, set the verbosity to 10 (on Linux, `export AUTOGRAPH_VERBOSITY=10`) and attach the full output. Cause: module 'gast' has no attribute 'Num'\n",
            "WARNING:tensorflow:Entity <bound method ResidualBlock.call of <__main__.ResidualBlock object at 0x7f6e80154b38>> could not be transformed and will be executed as-is. Please report this to the AutoGraph team. When filing the bug, set the verbosity to 10 (on Linux, `export AUTOGRAPH_VERBOSITY=10`) and attach the full output. Cause: module 'gast' has no attribute 'Num'\n",
            "WARNING: Entity <bound method ResidualBlock.call of <__main__.ResidualBlock object at 0x7f6e80154b38>> could not be transformed and will be executed as-is. Please report this to the AutoGraph team. When filing the bug, set the verbosity to 10 (on Linux, `export AUTOGRAPH_VERBOSITY=10`) and attach the full output. Cause: module 'gast' has no attribute 'Num'\n",
            "WARNING:tensorflow:Entity <bound method ResidualBlock.call of <__main__.ResidualBlock object at 0x7f6e80162908>> could not be transformed and will be executed as-is. Please report this to the AutoGraph team. When filing the bug, set the verbosity to 10 (on Linux, `export AUTOGRAPH_VERBOSITY=10`) and attach the full output. Cause: module 'gast' has no attribute 'Num'\n",
            "WARNING: Entity <bound method ResidualBlock.call of <__main__.ResidualBlock object at 0x7f6e80162908>> could not be transformed and will be executed as-is. Please report this to the AutoGraph team. When filing the bug, set the verbosity to 10 (on Linux, `export AUTOGRAPH_VERBOSITY=10`) and attach the full output. Cause: module 'gast' has no attribute 'Num'\n",
            "WARNING:tensorflow:Entity <bound method ResidualBlock.call of <__main__.ResidualBlock object at 0x7f6e800f16d8>> could not be transformed and will be executed as-is. Please report this to the AutoGraph team. When filing the bug, set the verbosity to 10 (on Linux, `export AUTOGRAPH_VERBOSITY=10`) and attach the full output. Cause: module 'gast' has no attribute 'Num'\n",
            "WARNING: Entity <bound method ResidualBlock.call of <__main__.ResidualBlock object at 0x7f6e800f16d8>> could not be transformed and will be executed as-is. Please report this to the AutoGraph team. When filing the bug, set the verbosity to 10 (on Linux, `export AUTOGRAPH_VERBOSITY=10`) and attach the full output. Cause: module 'gast' has no attribute 'Num'\n",
            "WARNING:tensorflow:Entity <bound method TempConvnet_Decoder.call of <__main__.TempConvnet_Decoder object at 0x7f6e800ac208>> could not be transformed and will be executed as-is. Please report this to the AutoGraph team. When filing the bug, set the verbosity to 10 (on Linux, `export AUTOGRAPH_VERBOSITY=10`) and attach the full output. Cause: module 'gast' has no attribute 'Num'\n",
            "WARNING: Entity <bound method TempConvnet_Decoder.call of <__main__.TempConvnet_Decoder object at 0x7f6e800ac208>> could not be transformed and will be executed as-is. Please report this to the AutoGraph team. When filing the bug, set the verbosity to 10 (on Linux, `export AUTOGRAPH_VERBOSITY=10`) and attach the full output. Cause: module 'gast' has no attribute 'Num'\n",
            "WARNING:tensorflow:Entity <bound method TempConvnet_Decoder.call of <__main__.TempConvnet_Decoder object at 0x7f6e801014a8>> could not be transformed and will be executed as-is. Please report this to the AutoGraph team. When filing the bug, set the verbosity to 10 (on Linux, `export AUTOGRAPH_VERBOSITY=10`) and attach the full output. Cause: module 'gast' has no attribute 'Num'\n",
            "WARNING: Entity <bound method TempConvnet_Decoder.call of <__main__.TempConvnet_Decoder object at 0x7f6e801014a8>> could not be transformed and will be executed as-is. Please report this to the AutoGraph team. When filing the bug, set the verbosity to 10 (on Linux, `export AUTOGRAPH_VERBOSITY=10`) and attach the full output. Cause: module 'gast' has no attribute 'Num'\n"
          ],
          "name": "stdout"
        }
      ]
    },
    {
      "cell_type": "code",
      "metadata": {
        "id": "dCclbPxulwYR"
      },
      "source": [
        "# Read data files\n",
        "\n",
        "relative_data_directory_path = '/content/drive/MyDrive/Speech2Pickup/data_v2.2_single_channel'\n",
        "\n",
        "data_files = listdir(relative_data_directory_path)\n",
        "indexs = []\n",
        "for a_i in data_files:\n",
        "  index = a_i.split('.')[0].split('_')[-1]\n",
        "  indexs.append(int(index))\n",
        "indexs.sort()\n",
        "print(len(indexs))"
      ],
      "execution_count": null,
      "outputs": []
    },
    {
      "cell_type": "code",
      "metadata": {
        "colab": {
          "base_uri": "https://localhost:8080/",
          "height": 646
        },
        "id": "N4vdOG-56Fk1",
        "outputId": "6605a0bc-01df-46cd-9056-98a7e3dc26b2"
      },
      "source": [
        "# Train\n",
        "\n",
        "wandb_config = {'batch_size':batch_size,\n",
        "                'learning_rate': lr,\n",
        "                'loss_weight (linguistic, acoustic)': (loss_weights['linguistic'], loss_weights['acoustic']),\n",
        "                'channel_type': 'single',\n",
        "                'n_mels': n_mels,\n",
        "                'seed': seed,\n",
        "                'date': '2020-11-28',\n",
        "                'train_model_number': train_model_number}\n",
        "wandb.init(project='Speech2Pickup', name='sentenceEM', config=wandb_config)\n",
        "model_save_freq = 1\n",
        "total_model_file_path = '/content/drive/MyDrive/Speech2Pickup/sentenceEM_model/' + str(train_model_number) + '/total_model/sentenceEM_total_model'\n",
        "encoder_model_file_path = '/content/drive/MyDrive/Speech2Pickup/sentenceEM_model/' + str(train_model_number) + '/encoder_model/sentenceEM_encoder_model'\n",
        "model_configuration_file = '/content/drive/MyDrive/Speech2Pickup/sentenceEM_model/' + str(train_model_number) + '/model_config.txt'\n",
        "\n",
        "# Write model configuration in .txt file\n",
        "with open(model_configuration_file, 'w') as f:\n",
        "  f.write(str(wandb_config))\n",
        "\n",
        "for i in range(epochs):\n",
        "    try:\n",
        "        print('='*20)\n",
        "        print('Epoch: {}'.format(i+1))\n",
        "\n",
        "        # Prepare training\n",
        "        one_shot_load_num = 50\n",
        "        start = 0\n",
        "        end = start + batch_size*one_shot_load_num\n",
        "        epoch_loss = []\n",
        "        extra_train_state = False\n",
        "        # if i == 0:\n",
        "        #     data_files = data_shuffle(relative_data_directory_path)\n",
        "        # else:\n",
        "        #     random.shuffle(data_files)\n",
        "        random.shuffle(data_files)\n",
        "          \n",
        "        if len(data_files) % (batch_size*one_shot_load_num) != 0:\n",
        "            extra_train_state = True\n",
        "            print('extra train needed')\n",
        "        \n",
        "        # Train\n",
        "        while end <= len(data_files):\n",
        "            print('Processing {}/{}'.format(end//(batch_size*one_shot_load_num), len(data_files)//(batch_size*one_shot_load_num))) if extra_train_state == False \\\n",
        "            else print('Processing {}/{}'.format(end//(batch_size*one_shot_load_num), (len(data_files)//(batch_size*one_shot_load_num))+1))\n",
        "            batch_data_files = data_files[start:end]\n",
        "            acoustic_train_batch = []\n",
        "            linguistic_train_batch = []\n",
        "            for ii in range(batch_size*one_shot_load_num):\n",
        "                if (ii+1) % batch_size == 0:\n",
        "                  print('Loading data {}/{}'.format(ii+1, batch_size*one_shot_load_num))\n",
        "                data = load_single_npz_data(relative_data_directory_path=relative_data_directory_path, file_name=batch_data_files[ii])\n",
        "                acoustic_train_batch.append(data['arr_0'])\n",
        "                linguistic_train_batch.append(data['arr_1'])\n",
        "            acoustic_train_batch = np.array(acoustic_train_batch)\n",
        "            linguistic_train_batch = np.array(linguistic_train_batch)\n",
        "            with tf.device('/device:GPU:0'):\n",
        "              temp_loss, temp_linguistic_loss, temp_acoustic_loss, temp_val_loss, temp_val_linguistic_accuracy, temp_val_acoustic_accuracy = sen_em_model.model_train(X_train=acoustic_train_batch, Y_linguistic_train=linguistic_train_batch,\n",
        "                                                                                                                                                                      Y_acoustic_train=acoustic_train_batch, batch_size=batch_size)\n",
        "              \n",
        "              for iii in range(len(temp_loss)):\n",
        "                wandb.log({'temp_loss': temp_loss[iii]})\n",
        "                wandb.log({'temp_linguistic_loss': temp_linguistic_loss[iii]})\n",
        "                wandb.log({'temp_acoustic_loss': temp_acoustic_loss[iii]})\n",
        "              for iii in range(len(temp_val_loss)):\n",
        "                wandb.log({'temp_val_loss': temp_val_loss[iii]})\n",
        "                wandb.log({'temp_val_linguistic_accuracy': temp_val_linguistic_accuracy[iii]})\n",
        "                wandb.log({'temp_val_acoustic_accuracy': temp_val_acoustic_accuracy[iii]})\n",
        "              epoch_loss.extend(temp_loss)\n",
        "            start = end\n",
        "            end = start + batch_size*one_shot_load_num\n",
        "            \n",
        "        if extra_train_state:\n",
        "            print('Processing {}/{}'.format((len(data_files)//(batch_size*one_shot_load_num))+1, (len(data_files)//(batch_size*one_shot_load_num))+1))\n",
        "            batch_data_files = data_files[start:]\n",
        "            acoustic_train_batch = []\n",
        "            linguistic_train_batch = []\n",
        "            for ii in range(len(batch_data_files)):\n",
        "                if (ii+1) % batch_size == 0:\n",
        "                  print('Loading data {}/{}'.format(ii+1, batch_size*one_shot_load_num))\n",
        "                data = load_single_npz_data(relative_data_directory_path=relative_data_directory_path, file_name=batch_data_files[ii])\n",
        "                acoustic_train_batch.append(data['arr_0'])\n",
        "                linguistic_train_batch.append(data['arr_1'])\n",
        "            acoustic_train_batch = np.array(acoustic_train_batch)\n",
        "            linguistic_train_batch = np.array(linguistic_train_batch)\n",
        "            with tf.device('/device:GPU:0'):\n",
        "              temp_loss, temp_linguistic_loss, temp_acoustic_loss, temp_val_loss, temp_val_linguistic_accuracy, temp_val_acoustic_accuracy = sen_em_model.model_train(X_train=acoustic_train_batch, Y_linguistic_train=linguistic_train_batch,\n",
        "                                                                                                                                                                      Y_acoustic_train=acoustic_train_batch, batch_size=batch_size)\n",
        "              for iii in range(len(temp_loss)):\n",
        "                wandb.log({'temp_loss': temp_loss[iii]})\n",
        "                wandb.log({'temp_linguistic_loss': temp_linguistic_loss[iii]})\n",
        "                wandb.log({'temp_acoustic_loss': temp_acoustic_loss[iii]})\n",
        "              for iii in range(len(temp_val_loss)):\n",
        "                wandb.log({'temp_val_loss': temp_val_loss[iii]})\n",
        "                wandb.log({'temp_val_linguistic_accuracy': temp_val_linguistic_accuracy[iii]})\n",
        "                wandb.log({'temp_val_acoustic_accuracy': temp_val_acoustic_accuracy[iii]})\n",
        "              epoch_loss.extend(temp_loss)\n",
        "\n",
        "        epoch_loss = np.mean(np.array(epoch_loss))\n",
        "        wandb.log({'epoch_loss': epoch_loss})\n",
        "\n",
        "        # Model save\n",
        "        if (i+1) % model_save_freq == 0:\n",
        "          print('Finished training {} epochs'.format(i+1))\n",
        "          sen_em_model.model.save_weights(filepath=total_model_file_path, overwrite=True)\n",
        "          sen_em_model.encoder_model.save_weights(filepath=encoder_model_file_path, overwrite=True)\n",
        "          print('Model saving complete!')\n",
        "    except KeyboardInterrupt:\n",
        "        pass"
      ],
      "execution_count": null,
      "outputs": [
        {
          "output_type": "stream",
          "text": [
            "====================\n",
            "Epoch: 2\n",
            "extra train needed\n",
            "Processing 1/13\n",
            "Loading data 64/3200\n",
            "Loading data 128/3200\n",
            "Loading data 192/3200\n",
            "Loading data 256/3200\n",
            "====================\n",
            "Epoch: 3\n",
            "extra train needed\n",
            "Processing 1/13\n",
            "====================\n",
            "Epoch: 4\n",
            "extra train needed\n",
            "Processing 1/13\n"
          ],
          "name": "stdout"
        },
        {
          "output_type": "error",
          "ename": "Exception",
          "evalue": "ignored",
          "traceback": [
            "\u001b[0;31m---------------------------------------------------------------------------\u001b[0m",
            "\u001b[0;31mException\u001b[0m                                 Traceback (most recent call last)",
            "\u001b[0;32m<ipython-input-19-4a866d80eb16>\u001b[0m in \u001b[0;36m<module>\u001b[0;34m()\u001b[0m\n\u001b[1;32m     49\u001b[0m             \u001b[0;32mfor\u001b[0m \u001b[0mii\u001b[0m \u001b[0;32min\u001b[0m \u001b[0mrange\u001b[0m\u001b[0;34m(\u001b[0m\u001b[0mbatch_size\u001b[0m\u001b[0;34m*\u001b[0m\u001b[0mone_shot_load_num\u001b[0m\u001b[0;34m)\u001b[0m\u001b[0;34m:\u001b[0m\u001b[0;34m\u001b[0m\u001b[0;34m\u001b[0m\u001b[0m\n\u001b[1;32m     50\u001b[0m                 \u001b[0;32mif\u001b[0m \u001b[0;34m(\u001b[0m\u001b[0mii\u001b[0m\u001b[0;34m+\u001b[0m\u001b[0;36m1\u001b[0m\u001b[0;34m)\u001b[0m \u001b[0;34m%\u001b[0m \u001b[0mbatch_size\u001b[0m \u001b[0;34m==\u001b[0m \u001b[0;36m0\u001b[0m\u001b[0;34m:\u001b[0m\u001b[0;34m\u001b[0m\u001b[0;34m\u001b[0m\u001b[0m\n\u001b[0;32m---> 51\u001b[0;31m                   \u001b[0mprint\u001b[0m\u001b[0;34m(\u001b[0m\u001b[0;34m'Loading data {}/{}'\u001b[0m\u001b[0;34m.\u001b[0m\u001b[0mformat\u001b[0m\u001b[0;34m(\u001b[0m\u001b[0mii\u001b[0m\u001b[0;34m+\u001b[0m\u001b[0;36m1\u001b[0m\u001b[0;34m,\u001b[0m \u001b[0mbatch_size\u001b[0m\u001b[0;34m*\u001b[0m\u001b[0mone_shot_load_num\u001b[0m\u001b[0;34m)\u001b[0m\u001b[0;34m)\u001b[0m\u001b[0;34m\u001b[0m\u001b[0;34m\u001b[0m\u001b[0m\n\u001b[0m\u001b[1;32m     52\u001b[0m                 \u001b[0mdata\u001b[0m \u001b[0;34m=\u001b[0m \u001b[0mload_single_npz_data\u001b[0m\u001b[0;34m(\u001b[0m\u001b[0mrelative_data_directory_path\u001b[0m\u001b[0;34m=\u001b[0m\u001b[0mrelative_data_directory_path\u001b[0m\u001b[0;34m,\u001b[0m \u001b[0mfile_name\u001b[0m\u001b[0;34m=\u001b[0m\u001b[0mbatch_data_files\u001b[0m\u001b[0;34m[\u001b[0m\u001b[0mii\u001b[0m\u001b[0;34m]\u001b[0m\u001b[0;34m)\u001b[0m\u001b[0;34m\u001b[0m\u001b[0;34m\u001b[0m\u001b[0m\n\u001b[1;32m     53\u001b[0m                 \u001b[0macoustic_train_batch\u001b[0m\u001b[0;34m.\u001b[0m\u001b[0mappend\u001b[0m\u001b[0;34m(\u001b[0m\u001b[0mdata\u001b[0m\u001b[0;34m[\u001b[0m\u001b[0;34m'arr_0'\u001b[0m\u001b[0;34m]\u001b[0m\u001b[0;34m)\u001b[0m\u001b[0;34m\u001b[0m\u001b[0;34m\u001b[0m\u001b[0m\n",
            "\u001b[0;32m/usr/local/lib/python3.6/dist-packages/wandb/sdk/lib/redirect.py\u001b[0m in \u001b[0;36mnew_write\u001b[0;34m(data)\u001b[0m\n\u001b[1;32m     89\u001b[0m \u001b[0;34m\u001b[0m\u001b[0m\n\u001b[1;32m     90\u001b[0m             \u001b[0;32mdef\u001b[0m \u001b[0mnew_write\u001b[0m\u001b[0;34m(\u001b[0m\u001b[0mdata\u001b[0m\u001b[0;34m)\u001b[0m\u001b[0;34m:\u001b[0m\u001b[0;34m\u001b[0m\u001b[0;34m\u001b[0m\u001b[0m\n\u001b[0;32m---> 91\u001b[0;31m                 \u001b[0mcb\u001b[0m\u001b[0;34m(\u001b[0m\u001b[0mname\u001b[0m\u001b[0;34m,\u001b[0m \u001b[0mdata\u001b[0m\u001b[0;34m)\u001b[0m\u001b[0;34m\u001b[0m\u001b[0;34m\u001b[0m\u001b[0m\n\u001b[0m\u001b[1;32m     92\u001b[0m                 \u001b[0mold_write\u001b[0m\u001b[0;34m(\u001b[0m\u001b[0mdata\u001b[0m\u001b[0;34m)\u001b[0m\u001b[0;34m\u001b[0m\u001b[0;34m\u001b[0m\u001b[0m\n\u001b[1;32m     93\u001b[0m                 \u001b[0;32mtry\u001b[0m\u001b[0;34m:\u001b[0m\u001b[0;34m\u001b[0m\u001b[0;34m\u001b[0m\u001b[0m\n",
            "\u001b[0;32m/usr/local/lib/python3.6/dist-packages/wandb/sdk/wandb_run.py\u001b[0m in \u001b[0;36m_console_callback\u001b[0;34m(self, name, data)\u001b[0m\n\u001b[1;32m    598\u001b[0m     \u001b[0;32mdef\u001b[0m \u001b[0m_console_callback\u001b[0m\u001b[0;34m(\u001b[0m\u001b[0mself\u001b[0m\u001b[0;34m,\u001b[0m \u001b[0mname\u001b[0m\u001b[0;34m,\u001b[0m \u001b[0mdata\u001b[0m\u001b[0;34m)\u001b[0m\u001b[0;34m:\u001b[0m\u001b[0;34m\u001b[0m\u001b[0;34m\u001b[0m\u001b[0m\n\u001b[1;32m    599\u001b[0m         \u001b[0;31m# logger.info(\"console callback: %s, %s\", name, data)\u001b[0m\u001b[0;34m\u001b[0m\u001b[0;34m\u001b[0m\u001b[0;34m\u001b[0m\u001b[0m\n\u001b[0;32m--> 600\u001b[0;31m         \u001b[0mself\u001b[0m\u001b[0;34m.\u001b[0m\u001b[0m_backend\u001b[0m\u001b[0;34m.\u001b[0m\u001b[0minterface\u001b[0m\u001b[0;34m.\u001b[0m\u001b[0mpublish_output\u001b[0m\u001b[0;34m(\u001b[0m\u001b[0mname\u001b[0m\u001b[0;34m,\u001b[0m \u001b[0mdata\u001b[0m\u001b[0;34m)\u001b[0m\u001b[0;34m\u001b[0m\u001b[0;34m\u001b[0m\u001b[0m\n\u001b[0m\u001b[1;32m    601\u001b[0m \u001b[0;34m\u001b[0m\u001b[0m\n\u001b[1;32m    602\u001b[0m     \u001b[0;32mdef\u001b[0m \u001b[0m_tensorboard_callback\u001b[0m\u001b[0;34m(\u001b[0m\u001b[0mself\u001b[0m\u001b[0;34m,\u001b[0m \u001b[0mlogdir\u001b[0m\u001b[0;34m,\u001b[0m \u001b[0msave\u001b[0m\u001b[0;34m=\u001b[0m\u001b[0;32mNone\u001b[0m\u001b[0;34m,\u001b[0m \u001b[0mroot_logdir\u001b[0m\u001b[0;34m=\u001b[0m\u001b[0;32mNone\u001b[0m\u001b[0;34m)\u001b[0m\u001b[0;34m:\u001b[0m\u001b[0;34m\u001b[0m\u001b[0;34m\u001b[0m\u001b[0m\n",
            "\u001b[0;32m/usr/local/lib/python3.6/dist-packages/wandb/sdk/interface/interface.py\u001b[0m in \u001b[0;36mpublish_output\u001b[0;34m(self, name, data)\u001b[0m\n\u001b[1;32m    144\u001b[0m         \u001b[0mo\u001b[0m \u001b[0;34m=\u001b[0m \u001b[0mwandb_internal_pb2\u001b[0m\u001b[0;34m.\u001b[0m\u001b[0mOutputRecord\u001b[0m\u001b[0;34m(\u001b[0m\u001b[0moutput_type\u001b[0m\u001b[0;34m=\u001b[0m\u001b[0motype\u001b[0m\u001b[0;34m,\u001b[0m \u001b[0mline\u001b[0m\u001b[0;34m=\u001b[0m\u001b[0mdata\u001b[0m\u001b[0;34m)\u001b[0m\u001b[0;34m\u001b[0m\u001b[0;34m\u001b[0m\u001b[0m\n\u001b[1;32m    145\u001b[0m         \u001b[0mo\u001b[0m\u001b[0;34m.\u001b[0m\u001b[0mtimestamp\u001b[0m\u001b[0;34m.\u001b[0m\u001b[0mGetCurrentTime\u001b[0m\u001b[0;34m(\u001b[0m\u001b[0;34m)\u001b[0m\u001b[0;34m\u001b[0m\u001b[0;34m\u001b[0m\u001b[0m\n\u001b[0;32m--> 146\u001b[0;31m         \u001b[0mself\u001b[0m\u001b[0;34m.\u001b[0m\u001b[0m_publish_output\u001b[0m\u001b[0;34m(\u001b[0m\u001b[0mo\u001b[0m\u001b[0;34m)\u001b[0m\u001b[0;34m\u001b[0m\u001b[0;34m\u001b[0m\u001b[0m\n\u001b[0m\u001b[1;32m    147\u001b[0m \u001b[0;34m\u001b[0m\u001b[0m\n\u001b[1;32m    148\u001b[0m     \u001b[0;32mdef\u001b[0m \u001b[0m_publish_output\u001b[0m\u001b[0;34m(\u001b[0m\u001b[0mself\u001b[0m\u001b[0;34m,\u001b[0m \u001b[0moutdata\u001b[0m\u001b[0;34m)\u001b[0m\u001b[0;34m:\u001b[0m\u001b[0;34m\u001b[0m\u001b[0;34m\u001b[0m\u001b[0m\n",
            "\u001b[0;32m/usr/local/lib/python3.6/dist-packages/wandb/sdk/interface/interface.py\u001b[0m in \u001b[0;36m_publish_output\u001b[0;34m(self, outdata)\u001b[0m\n\u001b[1;32m    149\u001b[0m         \u001b[0mrec\u001b[0m \u001b[0;34m=\u001b[0m \u001b[0mwandb_internal_pb2\u001b[0m\u001b[0;34m.\u001b[0m\u001b[0mRecord\u001b[0m\u001b[0;34m(\u001b[0m\u001b[0;34m)\u001b[0m\u001b[0;34m\u001b[0m\u001b[0;34m\u001b[0m\u001b[0m\n\u001b[1;32m    150\u001b[0m         \u001b[0mrec\u001b[0m\u001b[0;34m.\u001b[0m\u001b[0moutput\u001b[0m\u001b[0;34m.\u001b[0m\u001b[0mCopyFrom\u001b[0m\u001b[0;34m(\u001b[0m\u001b[0moutdata\u001b[0m\u001b[0;34m)\u001b[0m\u001b[0;34m\u001b[0m\u001b[0;34m\u001b[0m\u001b[0m\n\u001b[0;32m--> 151\u001b[0;31m         \u001b[0mself\u001b[0m\u001b[0;34m.\u001b[0m\u001b[0m_publish\u001b[0m\u001b[0;34m(\u001b[0m\u001b[0mrec\u001b[0m\u001b[0;34m)\u001b[0m\u001b[0;34m\u001b[0m\u001b[0;34m\u001b[0m\u001b[0m\n\u001b[0m\u001b[1;32m    152\u001b[0m \u001b[0;34m\u001b[0m\u001b[0m\n\u001b[1;32m    153\u001b[0m     \u001b[0;32mdef\u001b[0m \u001b[0mpublish_tbdata\u001b[0m\u001b[0;34m(\u001b[0m\u001b[0mself\u001b[0m\u001b[0;34m,\u001b[0m \u001b[0mlog_dir\u001b[0m\u001b[0;34m,\u001b[0m \u001b[0msave\u001b[0m\u001b[0;34m,\u001b[0m \u001b[0mroot_logdir\u001b[0m\u001b[0;34m)\u001b[0m\u001b[0;34m:\u001b[0m\u001b[0;34m\u001b[0m\u001b[0;34m\u001b[0m\u001b[0m\n",
            "\u001b[0;32m/usr/local/lib/python3.6/dist-packages/wandb/sdk/interface/interface.py\u001b[0m in \u001b[0;36m_publish\u001b[0;34m(self, record, local)\u001b[0m\n\u001b[1;32m    431\u001b[0m     \u001b[0;32mdef\u001b[0m \u001b[0m_publish\u001b[0m\u001b[0;34m(\u001b[0m\u001b[0mself\u001b[0m\u001b[0;34m,\u001b[0m \u001b[0mrecord\u001b[0m\u001b[0;34m,\u001b[0m \u001b[0mlocal\u001b[0m\u001b[0;34m=\u001b[0m\u001b[0;32mNone\u001b[0m\u001b[0;34m)\u001b[0m\u001b[0;34m:\u001b[0m\u001b[0;34m\u001b[0m\u001b[0;34m\u001b[0m\u001b[0m\n\u001b[1;32m    432\u001b[0m         \u001b[0;32mif\u001b[0m \u001b[0mself\u001b[0m\u001b[0;34m.\u001b[0m\u001b[0m_process\u001b[0m \u001b[0;32mand\u001b[0m \u001b[0;32mnot\u001b[0m \u001b[0mself\u001b[0m\u001b[0;34m.\u001b[0m\u001b[0m_process\u001b[0m\u001b[0;34m.\u001b[0m\u001b[0mis_alive\u001b[0m\u001b[0;34m(\u001b[0m\u001b[0;34m)\u001b[0m\u001b[0;34m:\u001b[0m\u001b[0;34m\u001b[0m\u001b[0;34m\u001b[0m\u001b[0m\n\u001b[0;32m--> 433\u001b[0;31m             \u001b[0;32mraise\u001b[0m \u001b[0mException\u001b[0m\u001b[0;34m(\u001b[0m\u001b[0;34m\"The wandb backend process has shutdown\"\u001b[0m\u001b[0;34m)\u001b[0m\u001b[0;34m\u001b[0m\u001b[0;34m\u001b[0m\u001b[0m\n\u001b[0m\u001b[1;32m    434\u001b[0m         \u001b[0;32mif\u001b[0m \u001b[0mlocal\u001b[0m\u001b[0;34m:\u001b[0m\u001b[0;34m\u001b[0m\u001b[0;34m\u001b[0m\u001b[0m\n\u001b[1;32m    435\u001b[0m             \u001b[0mrecord\u001b[0m\u001b[0;34m.\u001b[0m\u001b[0mcontrol\u001b[0m\u001b[0;34m.\u001b[0m\u001b[0mlocal\u001b[0m \u001b[0;34m=\u001b[0m \u001b[0mlocal\u001b[0m\u001b[0;34m\u001b[0m\u001b[0;34m\u001b[0m\u001b[0m\n",
            "\u001b[0;31mException\u001b[0m: The wandb backend process has shutdown"
          ]
        }
      ]
    },
    {
      "cell_type": "code",
      "metadata": {
        "id": "ibBz0FwpzLPw"
      },
      "source": [
        "# Erase model from memory\n",
        "\n",
        "tf.keras.backend.clear_session()\n",
        "del sen_em_model"
      ],
      "execution_count": null,
      "outputs": []
    },
    {
      "cell_type": "code",
      "metadata": {
        "id": "YHrguM7QsINY",
        "colab": {
          "base_uri": "https://localhost:8080/"
        },
        "outputId": "77976abb-7946-4c66-d164-15e831a2ff02"
      },
      "source": [
        "# Load model (model compiling should be done first)\n",
        "sen_em_model.model.load_weights('/content/drive/MyDrive/Speech2Pickup/sentenceEM_model/total_model/sentenceEM_total_model')"
      ],
      "execution_count": null,
      "outputs": [
        {
          "output_type": "execute_result",
          "data": {
            "text/plain": [
              "<tensorflow.python.training.tracking.util.CheckpointLoadStatus at 0x7f57831343c8>"
            ]
          },
          "metadata": {
            "tags": []
          },
          "execution_count": 18
        }
      ]
    },
    {
      "cell_type": "code",
      "metadata": {
        "id": "o4vZBkDHrPfm"
      },
      "source": [
        "\"\"\"\n",
        "utils.py\n",
        "\"\"\"\n",
        "\n",
        "def read_script_files(script_dir_path):\n",
        "    script_files = [f for f in listdir(script_dir_path) if isfile(join(script_dir_path, f))]\n",
        "    script_files.sort()\n",
        "    return script_files\n",
        "\n",
        "def read_script_file_data(script_dir_path, script_file):\n",
        "    curr_file = open(join(script_dir_path, script_file), 'r')\n",
        "    curr_file_lines = curr_file.readlines()\n",
        "    for i in range(len(curr_file_lines)):\n",
        "        words = curr_file_lines[i].split()[2: ]\n",
        "        curr_file_lines[i] = ' '.join(words)\n",
        "    return curr_file_lines"
      ],
      "execution_count": null,
      "outputs": []
    },
    {
      "cell_type": "code",
      "metadata": {
        "id": "rrgYrsZzrIcn"
      },
      "source": [
        "\"\"\"\n",
        "process_data.py\n",
        "\"\"\"\n",
        "\n",
        "def make_word_dictionary(relative_script_directory_path):\n",
        "    # Check whole word candidates\n",
        "    script_files = read_script_files(relative_script_directory_path)\n",
        "    total_words = set()\n",
        "    num = 0\n",
        "    for script_file in script_files:\n",
        "        num += 1\n",
        "        print('Processing {}/{}'.format(num, len(script_files)))\n",
        "        curr_file_lines = read_script_file_data(relative_script_directory_path, script_file)\n",
        "        for curr_file_line in curr_file_lines:\n",
        "            total_words.update(set(curr_file_line.split()))\n",
        "    total_words = list(total_words)\n",
        "    total_words.append(\"\")  # blank\n",
        "    total_words.append(\"OOV\")  # Out of vocabulary\n",
        "    total_words.sort()\n",
        "\n",
        "    # One-hot encoding\n",
        "    word_dictionary = dict()\n",
        "    word_dictionary_size = len(total_words)\n",
        "    for i in range(word_dictionary_size):\n",
        "        one_hot = np.zeros(word_dictionary_size)\n",
        "        one_hot[i] = 1\n",
        "        word_dictionary[total_words[i]] = one_hot\n",
        "    # print(word_dictionary)\n",
        "    return word_dictionary, word_dictionary_size"
      ],
      "execution_count": null,
      "outputs": []
    },
    {
      "cell_type": "code",
      "metadata": {
        "id": "Y6eppcGFq-hc"
      },
      "source": [
        "# Set word dictionary to check output of model later\n",
        "\n",
        "relative_script_directory_path = './drive/MyDrive/Speech2Pickup/train_script'\n",
        "word_dic, word_dic_size = make_word_dictionary(relative_script_directory_path)"
      ],
      "execution_count": null,
      "outputs": []
    },
    {
      "cell_type": "code",
      "metadata": {
        "id": "iK6MIHiProjl"
      },
      "source": [
        "# Show corresponding sentence\n",
        "sentence = []\n",
        "new_sentence = []\n",
        "mul_result = np.matmul(data_list['arr_1'].T, word_label_list)\n",
        "word_indexs = np.argwhere(mul_result==1)\n",
        "word_indexs = word_indexs[:, 1]\n",
        "for word_index in word_indexs:\n",
        "    sentence.append(word_list[word_index])\n",
        "for word in sentence:\n",
        "    if word not in new_sentence:\n",
        "        new_sentence.append(word)\n",
        "new_sentence = ' '.join(new_sentence)\n",
        "print(new_sentence)"
      ],
      "execution_count": null,
      "outputs": []
    },
    {
      "cell_type": "code",
      "metadata": {
        "colab": {
          "base_uri": "https://localhost:8080/",
          "height": 1000
        },
        "id": "J_0fxHfmL-2D",
        "outputId": "fe9cbb2e-de0b-4479-d7d0-76613be69d85"
      },
      "source": [
        "# Check output of loaded model\n",
        "\n",
        "import matplotlib.pyplot as plt\n",
        "import librosa.display\n",
        "\n",
        "relative_data_directory_path = '/content/drive/MyDrive/Speech2Pickup/data_v2.2_single_channel'\n",
        "file_name = 'senEM_preprocessed_40009.npz'\n",
        "data = load_single_npz_data(relative_data_directory_path=relative_data_directory_path, file_name=file_name)\n",
        "acoustic_train_batch = [data['arr_0']]\n",
        "linguistic_train_batch = [data['arr_1']]\n",
        "acoustic_train_batch = np.array(acoustic_train_batch, dtype=np.float32)\n",
        "linguistic_train_batch = np.array(linguistic_train_batch, dtype=np.float32)\n",
        "l_out, a_out = sen_em_model.call(acoustic_train_batch)\n",
        "\n",
        "l_out = np.squeeze(kb.eval(l_out))\n",
        "a_out = np.squeeze(kb.eval(a_out))\n",
        "l_true = np.squeeze(linguistic_train_batch)\n",
        "a_true = np.squeeze(acoustic_train_batch)\n",
        "\n",
        "l_out = np.argmax(l_out, axis=0)\n",
        "l_true = np.argmax(l_true, axis=0)\n",
        "\n",
        "true_sentence = []\n",
        "predicted_sentence = []\n",
        "word_dic_keys = list(word_dic.keys())\n",
        "n = 0\n",
        "for i in l_true:\n",
        "  if n==0:\n",
        "    true_sentence.append(word_dic_keys[i])\n",
        "  elif true_sentence[-1] != word_dic_keys[i]:\n",
        "    true_sentence.append(word_dic_keys[i])\n",
        "  n += 1\n",
        "n = 0\n",
        "for i in l_out:\n",
        "  if n==0:\n",
        "    predicted_sentence.append(word_dic_keys[i])\n",
        "  elif predicted_sentence[-1] != word_dic_keys[i]:\n",
        "    predicted_sentence.append(word_dic_keys[i])\n",
        "  n += 1\n",
        "true_sentence = ' '.join(true_sentence)\n",
        "predicted_sentence = ' '.join(predicted_sentence)\n",
        "print('True: {}'.format(true_sentence))\n",
        "print('Predict: {}'.format(predicted_sentence))\n",
        "\n",
        "fig, ax = plt.subplots(1)\n",
        "ax.plot(l_out, label='prediction')\n",
        "ax.plot(l_true, label='ground truth')\n",
        "ax.set_title('Linguistic feature')\n",
        "ax.set_xlabel('Time step')\n",
        "ax.set_ylabel('Freq')\n",
        "plt.legend()\n",
        "plt.show()\n",
        "\n",
        "fig, ax = plt.subplots(nrows=2, ncols=1, sharex=True, figsize=(25,15))\n",
        "img = librosa.display.specshow(data=a_true, sr=8000, hop_length=256,  x_axis='time',\n",
        "                            y_axis='mel', cmap='viridis', fmax=4000, ax=ax[0])\n",
        "ax[0].set(title='Mel specrogram - ground truth')\n",
        "ax[0].label_outer()\n",
        "\n",
        "img = librosa.display.specshow(data=a_out, sr=8000, hop_length=256,  x_axis='time',\n",
        "                            y_axis='mel', cmap='viridis', fmax=4000, ax=ax[1])\n",
        "ax[1].set(title='Mel specrogram - prediction')\n",
        "ax[1].label_outer()"
      ],
      "execution_count": null,
      "outputs": [
        {
          "output_type": "stream",
          "text": [
            "True: pick up the upper purple block \n",
            "Predict: pick up the lower left green red green block  pick\n"
          ],
          "name": "stdout"
        },
        {
          "output_type": "display_data",
          "data": {
            "image/png": "[encoded data removed]",
            "text/plain": [
              "<Figure size 432x288 with 1 Axes>"
            ]
          },
          "metadata": {
            "tags": [],
            "needs_background": "light"
          }
        },
        {
          "output_type": "display_data",
          "data": {
            "image/png": "[encoded data removed]",
            "text/plain": [
              "<Figure size 1800x1080 with 2 Axes>"
            ]
          },
          "metadata": {
            "tags": [],
            "needs_background": "light"
          }
        }
      ]
    },
    {
      "cell_type": "code",
      "metadata": {
        "colab": {
          "base_uri": "https://localhost:8080/"
        },
        "id": "cK9CsvjWk2ZU",
        "outputId": "dcc5944e-31c7-4dfd-c2b9-0a3edf543a6c"
      },
      "source": [
        "img"
      ],
      "execution_count": null,
      "outputs": [
        {
          "output_type": "execute_result",
          "data": {
            "text/plain": [
              "<matplotlib.axes._subplots.AxesSubplot at 0x7f6a5b7e2e10>"
            ]
          },
          "metadata": {
            "tags": []
          },
          "execution_count": 42
        }
      ]
    },
    {
      "cell_type": "code",
      "metadata": {
        "colab": {
          "base_uri": "https://localhost:8080/"
        },
        "id": "d8hGflXHkJl4",
        "outputId": "1053e65d-0b21-4d8b-863f-c68970543d04"
      },
      "source": [
        "# Test and save for jointly training 'Speech2Pickup' (Debugging)\n",
        "\n",
        "sen_em_model.model.save_weights(filepath='/content/drive/MyDrive/Speech2Pickup/sentenceEM_model/total_model/sentenceEM_total_model', overwrite=True)\n",
        "sen_em_model.encoder_model.save_weights(filepath='/content/drive/MyDrive/Speech2Pickup/sentenceEM_model/encoder_model/sentenceEM_encoder_model', overwrite=True)\n",
        "print('Model saving complete!')"
      ],
      "execution_count": null,
      "outputs": [
        {
          "output_type": "stream",
          "text": [
            "Model saving complete!\n"
          ],
          "name": "stdout"
        }
      ]
    },
    {
      "cell_type": "code",
      "metadata": {
        "id": "JihOgux0mKCk"
      },
      "source": [
        "# Compare sorting time\n",
        "\n",
        "import time\n",
        "ts = time.time()\n",
        "random.shuffle(data_files)\n",
        "te = time.time()\n",
        "print('String sort: {}'.format(te-ts))\n",
        "print(data_files)\n",
        "# ts = time.time()\n",
        "# random.shuffle(indexs)\n",
        "# te = time.time()\n",
        "# print('Int sort: {}'.format(te-ts))"
      ],
      "execution_count": null,
      "outputs": []
    },
    {
      "cell_type": "code",
      "metadata": {
        "id": "bPa0THO1Umyn"
      },
      "source": [
        "# Test (Debugging)\n",
        "\n",
        "data = load_single_npz_data(relative_data_directory_path='/content/drive/MyDrive/Speech2Pickup/data_v2.2', file_name='senEM_preprocessed_100.npz')\n",
        "data1 = data['arr_0']\n",
        "data1 = np.float32(data1)\n",
        "data1 = kb.expand_dims(data1, axis=0)\n",
        "with tf.device('/device:GPU:0'):\n",
        "  l_y, a_y = sen_em_model(data1)\n",
        "print(kb.eval(a_y)[0,:,180])\n",
        "print('='*20)\n",
        "print(kb.eval(l_y)[0,:,180])\n",
        "print(len(kb.eval(l_y)[0,:,180]))\n",
        "print('='*20)\n",
        "print(np.sum(kb.eval(l_y)[0,:,180]))\n",
        "print(np.sum(kb.eval(l_y)[0,:,300]))"
      ],
      "execution_count": null,
      "outputs": []
    },
    {
      "cell_type": "code",
      "metadata": {
        "id": "9JciAh_P4Is6"
      },
      "source": [
        "# Test (Debugging)\n",
        "\n",
        "x = tf.convert_to_tensor(np.random.random((batch_size, 80, 303)), dtype=np.float32)   # batch, dim, seq_len\n",
        "l_y, a_y = sen_em_model(x)\n",
        "print('='*20)\n",
        "print(kb.eval(l_y)[0,:,0])\n",
        "print(len(kb.eval(l_y)[0,:,0]))\n",
        "print('='*20)\n",
        "print(np.sum(kb.eval(l_y)[0,:,0]))\n",
        "print(np.sum(kb.eval(l_y)[0,:,100]))"
      ],
      "execution_count": null,
      "outputs": []
    },
    {
      "cell_type": "code",
      "metadata": {
        "id": "013hJm5c0SWq"
      },
      "source": [
        ""
      ],
      "execution_count": null,
      "outputs": []
    }
  ]
}