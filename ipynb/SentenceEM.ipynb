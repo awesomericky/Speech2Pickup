{
  "nbformat": 4,
  "nbformat_minor": 0,
  "metadata": {
    "colab": {
      "name": "SentenceEM.ipynb",
      "provenance": [],
      "collapsed_sections": [],
      "machine_shape": "hm"
    },
    "kernelspec": {
      "display_name": "Python 3",
      "name": "python3"
    },
    "accelerator": "GPU",
    "widgets": {
      "application/vnd.jupyter.widget-state+json": {
        "ae6a66576ca2494c9485dfc203d8d88b": {
          "model_module": "@jupyter-widgets/controls",
          "model_name": "VBoxModel",
          "state": {
            "_view_name": "VBoxView",
            "_dom_classes": [],
            "_model_name": "VBoxModel",
            "_view_module": "@jupyter-widgets/controls",
            "_model_module_version": "1.5.0",
            "_view_count": null,
            "_view_module_version": "1.5.0",
            "box_style": "",
            "layout": "IPY_MODEL_8461b0f09e1c4c19a237486c8a4379aa",
            "_model_module": "@jupyter-widgets/controls",
            "children": [
              "IPY_MODEL_20b498c2344845448470a9a2bbbc0008",
              "IPY_MODEL_b7156d3799f74c8f94b4e806648c6e21"
            ]
          }
        },
        "8461b0f09e1c4c19a237486c8a4379aa": {
          "model_module": "@jupyter-widgets/base",
          "model_name": "LayoutModel",
          "state": {
            "_view_name": "LayoutView",
            "grid_template_rows": null,
            "right": null,
            "justify_content": null,
            "_view_module": "@jupyter-widgets/base",
            "overflow": null,
            "_model_module_version": "1.2.0",
            "_view_count": null,
            "flex_flow": null,
            "width": null,
            "min_width": null,
            "border": null,
            "align_items": null,
            "bottom": null,
            "_model_module": "@jupyter-widgets/base",
            "top": null,
            "grid_column": null,
            "overflow_y": null,
            "overflow_x": null,
            "grid_auto_flow": null,
            "grid_area": null,
            "grid_template_columns": null,
            "flex": null,
            "_model_name": "LayoutModel",
            "justify_items": null,
            "grid_row": null,
            "max_height": null,
            "align_content": null,
            "visibility": null,
            "align_self": null,
            "height": null,
            "min_height": null,
            "padding": null,
            "grid_auto_rows": null,
            "grid_gap": null,
            "max_width": null,
            "order": null,
            "_view_module_version": "1.2.0",
            "grid_template_areas": null,
            "object_position": null,
            "object_fit": null,
            "grid_auto_columns": null,
            "margin": null,
            "display": null,
            "left": null
          }
        },
        "20b498c2344845448470a9a2bbbc0008": {
          "model_module": "@jupyter-widgets/controls",
          "model_name": "LabelModel",
          "state": {
            "_view_name": "LabelView",
            "style": "IPY_MODEL_92bd2a5032d24f6cb69f1322dee347ce",
            "_dom_classes": [],
            "description": "",
            "_model_name": "LabelModel",
            "placeholder": "​",
            "_view_module": "@jupyter-widgets/controls",
            "_model_module_version": "1.5.0",
            "value": " 1.07MB of 1.07MB uploaded (0.00MB deduped)\r",
            "_view_count": null,
            "_view_module_version": "1.5.0",
            "description_tooltip": null,
            "_model_module": "@jupyter-widgets/controls",
            "layout": "IPY_MODEL_318f44729ca847a294f6807a42422855"
          }
        },
        "b7156d3799f74c8f94b4e806648c6e21": {
          "model_module": "@jupyter-widgets/controls",
          "model_name": "FloatProgressModel",
          "state": {
            "_view_name": "ProgressView",
            "style": "IPY_MODEL_1ca60aaa08da4d23aa384c234a1051e0",
            "_dom_classes": [],
            "description": "",
            "_model_name": "FloatProgressModel",
            "bar_style": "",
            "max": 1,
            "_view_module": "@jupyter-widgets/controls",
            "_model_module_version": "1.5.0",
            "value": 1,
            "_view_count": null,
            "_view_module_version": "1.5.0",
            "orientation": "horizontal",
            "min": 0,
            "description_tooltip": null,
            "_model_module": "@jupyter-widgets/controls",
            "layout": "IPY_MODEL_8bdf1025d3424c859de32610ed401e54"
          }
        },
        "92bd2a5032d24f6cb69f1322dee347ce": {
          "model_module": "@jupyter-widgets/controls",
          "model_name": "DescriptionStyleModel",
          "state": {
            "_view_name": "StyleView",
            "_model_name": "DescriptionStyleModel",
            "description_width": "",
            "_view_module": "@jupyter-widgets/base",
            "_model_module_version": "1.5.0",
            "_view_count": null,
            "_view_module_version": "1.2.0",
            "_model_module": "@jupyter-widgets/controls"
          }
        },
        "318f44729ca847a294f6807a42422855": {
          "model_module": "@jupyter-widgets/base",
          "model_name": "LayoutModel",
          "state": {
            "_view_name": "LayoutView",
            "grid_template_rows": null,
            "right": null,
            "justify_content": null,
            "_view_module": "@jupyter-widgets/base",
            "overflow": null,
            "_model_module_version": "1.2.0",
            "_view_count": null,
            "flex_flow": null,
            "width": null,
            "min_width": null,
            "border": null,
            "align_items": null,
            "bottom": null,
            "_model_module": "@jupyter-widgets/base",
            "top": null,
            "grid_column": null,
            "overflow_y": null,
            "overflow_x": null,
            "grid_auto_flow": null,
            "grid_area": null,
            "grid_template_columns": null,
            "flex": null,
            "_model_name": "LayoutModel",
            "justify_items": null,
            "grid_row": null,
            "max_height": null,
            "align_content": null,
            "visibility": null,
            "align_self": null,
            "height": null,
            "min_height": null,
            "padding": null,
            "grid_auto_rows": null,
            "grid_gap": null,
            "max_width": null,
            "order": null,
            "_view_module_version": "1.2.0",
            "grid_template_areas": null,
            "object_position": null,
            "object_fit": null,
            "grid_auto_columns": null,
            "margin": null,
            "display": null,
            "left": null
          }
        },
        "1ca60aaa08da4d23aa384c234a1051e0": {
          "model_module": "@jupyter-widgets/controls",
          "model_name": "ProgressStyleModel",
          "state": {
            "_view_name": "StyleView",
            "_model_name": "ProgressStyleModel",
            "description_width": "",
            "_view_module": "@jupyter-widgets/base",
            "_model_module_version": "1.5.0",
            "_view_count": null,
            "_view_module_version": "1.2.0",
            "bar_color": null,
            "_model_module": "@jupyter-widgets/controls"
          }
        },
        "8bdf1025d3424c859de32610ed401e54": {
          "model_module": "@jupyter-widgets/base",
          "model_name": "LayoutModel",
          "state": {
            "_view_name": "LayoutView",
            "grid_template_rows": null,
            "right": null,
            "justify_content": null,
            "_view_module": "@jupyter-widgets/base",
            "overflow": null,
            "_model_module_version": "1.2.0",
            "_view_count": null,
            "flex_flow": null,
            "width": null,
            "min_width": null,
            "border": null,
            "align_items": null,
            "bottom": null,
            "_model_module": "@jupyter-widgets/base",
            "top": null,
            "grid_column": null,
            "overflow_y": null,
            "overflow_x": null,
            "grid_auto_flow": null,
            "grid_area": null,
            "grid_template_columns": null,
            "flex": null,
            "_model_name": "LayoutModel",
            "justify_items": null,
            "grid_row": null,
            "max_height": null,
            "align_content": null,
            "visibility": null,
            "align_self": null,
            "height": null,
            "min_height": null,
            "padding": null,
            "grid_auto_rows": null,
            "grid_gap": null,
            "max_width": null,
            "order": null,
            "_view_module_version": "1.2.0",
            "grid_template_areas": null,
            "object_position": null,
            "object_fit": null,
            "grid_auto_columns": null,
            "margin": null,
            "display": null,
            "left": null
          }
        }
      }
    }
  },
  "cells": [
    {
      "cell_type": "code",
      "metadata": {
        "colab": {
          "base_uri": "https://localhost:8080/"
        },
        "id": "gjubJvgqoi7O",
        "outputId": "562e0ba5-bf04-41c2-b29e-b9220c152775"
      },
      "source": [
        "from google.colab import drive\n",
        "drive.mount('/content/drive')"
      ],
      "execution_count": 1,
      "outputs": [
        {
          "output_type": "stream",
          "text": [
            "Mounted at /content/drive\n"
          ],
          "name": "stdout"
        }
      ]
    },
    {
      "cell_type": "code",
      "metadata": {
        "id": "6DtnV8t-aTfD",
        "colab": {
          "base_uri": "https://localhost:8080/"
        },
        "outputId": "ab18d6e9-80c5-497b-8318-2508146846f3"
      },
      "source": [
        "%pip install wandb -q"
      ],
      "execution_count": 2,
      "outputs": [
        {
          "output_type": "stream",
          "text": [
            "\u001b[K     |████████████████████████████████| 1.8MB 14.2MB/s \n",
            "\u001b[K     |████████████████████████████████| 102kB 12.5MB/s \n",
            "\u001b[K     |████████████████████████████████| 133kB 61.2MB/s \n",
            "\u001b[K     |████████████████████████████████| 102kB 11.9MB/s \n",
            "\u001b[K     |████████████████████████████████| 163kB 58.3MB/s \n",
            "\u001b[K     |████████████████████████████████| 71kB 10.2MB/s \n",
            "\u001b[?25h  Building wheel for watchdog (setup.py) ... \u001b[?25l\u001b[?25hdone\n",
            "  Building wheel for subprocess32 (setup.py) ... \u001b[?25l\u001b[?25hdone\n",
            "  Building wheel for pathtools (setup.py) ... \u001b[?25l\u001b[?25hdone\n"
          ],
          "name": "stdout"
        }
      ]
    },
    {
      "cell_type": "code",
      "metadata": {
        "colab": {
          "base_uri": "https://localhost:8080/"
        },
        "id": "gBA26NJTgUsh",
        "outputId": "f6fd0a51-0743-47d8-96d8-970f8c891bc4"
      },
      "source": [
        "%tensorflow_version 1.x"
      ],
      "execution_count": 3,
      "outputs": [
        {
          "output_type": "stream",
          "text": [
            "TensorFlow 1.x selected.\n"
          ],
          "name": "stdout"
        }
      ]
    },
    {
      "cell_type": "code",
      "metadata": {
        "id": "RrLeuXRKm3vN"
      },
      "source": [
        "# Turning off tensorflow warning message (not recommended)\n",
        "\n",
        "import os\n",
        "os.environ['TF_CPP_MIN_LOG_LEVEL'] = '2' "
      ],
      "execution_count": null,
      "outputs": []
    },
    {
      "cell_type": "code",
      "metadata": {
        "id": "UZ0XNqJJZ-ll"
      },
      "source": [
        "import numpy as np\n",
        "import tensorflow as tf\n",
        "import tensorflow.keras.layers as layers\n",
        "import tensorflow.keras.backend as kb\n",
        "from tensorflow.keras.models import save_model\n",
        "from tensorflow.keras.callbacks import Callback\n",
        "import random\n",
        "import pdb\n",
        "import wandb\n",
        "from os.path import join, isfile\n",
        "from os import listdir"
      ],
      "execution_count": 4,
      "outputs": []
    },
    {
      "cell_type": "code",
      "metadata": {
        "colab": {
          "base_uri": "https://localhost:8080/"
        },
        "id": "kHYVABrggyHf",
        "outputId": "1f789e93-4cfd-4600-dad8-25442fc710ad"
      },
      "source": [
        "print(tf.__version__)"
      ],
      "execution_count": 5,
      "outputs": [
        {
          "output_type": "stream",
          "text": [
            "1.15.2\n"
          ],
          "name": "stdout"
        }
      ]
    },
    {
      "cell_type": "code",
      "metadata": {
        "colab": {
          "base_uri": "https://localhost:8080/"
        },
        "id": "di9QVKhraRmb",
        "outputId": "91744a73-9c97-4e3c-c9ad-cdae9f2ef593"
      },
      "source": [
        "wandb.login()"
      ],
      "execution_count": 7,
      "outputs": [
        {
          "output_type": "stream",
          "text": [
            "\u001b[34m\u001b[1mwandb\u001b[0m: Currently logged in as: \u001b[33mawesomericky\u001b[0m (use `wandb login --relogin` to force relogin)\n"
          ],
          "name": "stderr"
        },
        {
          "output_type": "execute_result",
          "data": {
            "text/plain": [
              "True"
            ]
          },
          "metadata": {
            "tags": []
          },
          "execution_count": 7
        }
      ]
    },
    {
      "cell_type": "code",
      "metadata": {
        "colab": {
          "base_uri": "https://localhost:8080/"
        },
        "id": "5EySe9_QPR-K",
        "outputId": "f265b316-46f9-44ed-8f18-3a7ec8632240"
      },
      "source": [
        "device_name = tf.test.gpu_device_name()\n",
        "print('Found GPU at {}'.format(device_name))"
      ],
      "execution_count": 8,
      "outputs": [
        {
          "output_type": "stream",
          "text": [
            "Found GPU at /device:GPU:0\n"
          ],
          "name": "stdout"
        }
      ]
    },
    {
      "cell_type": "code",
      "metadata": {
        "id": "biS128E0ZXvL"
      },
      "source": [
        "\"\"\"\n",
        "utils.py\n",
        "\"\"\"\n",
        "\n",
        "def read_script_files(script_dir_path):\n",
        "    script_files = [f for f in listdir(script_dir_path) if isfile(join(script_dir_path, f))]\n",
        "    script_files.sort()\n",
        "    return script_files\n",
        "\n",
        "def data_shuffle(relative_data_directory_path):\n",
        "    data_files = read_script_files(relative_data_directory_path)\n",
        "    random.shuffle(data_files)\n",
        "    return data_files"
      ],
      "execution_count": 9,
      "outputs": []
    },
    {
      "cell_type": "code",
      "metadata": {
        "id": "76bPg01FZg_p"
      },
      "source": [
        "\"\"\"\n",
        "processed_data_loader.py\n",
        "\"\"\"\n",
        "\n",
        "def load_single_npz_data(relative_data_directory_path, file_name):\n",
        "    file_path = join(relative_data_directory_path, file_name)\n",
        "    data = np.load(file=file_path)\n",
        "    return data"
      ],
      "execution_count": 10,
      "outputs": []
    },
    {
      "cell_type": "code",
      "metadata": {
        "id": "RDnb_Tk9F2JJ"
      },
      "source": [
        "\"\"\"\n",
        "TCN_and_decoder.py\n",
        "\"\"\"\n",
        "\n",
        "class ResidualBlock(tf.keras.Model):\n",
        "    def __init__(self, dilation_rate, num_filters, kernel_size, padding, \n",
        "                        dropout_rate, seed, training_state):\n",
        "        super(ResidualBlock, self).__init__()\n",
        "        init = tf.keras.initializers.RandomNormal(mean=0.0, stddev=10, seed=seed)\n",
        "        layers = tf.keras.layers\n",
        "        assert padding in ['causal', 'same']\n",
        "\n",
        "        self.training_state = training_state\n",
        "\n",
        "        # Block1\n",
        "        self.conv1 = layers.Conv1D(filters=num_filters, kernel_size=kernel_size, data_format='channels_last',\n",
        "                                    dilation_rate=dilation_rate, padding=padding, kernel_initializer=init)\n",
        "        self.batch1 = layers.BatchNormalization(axis=1, trainable=True)\n",
        "        self.ac1 = layers.LeakyReLU(alpha=0.2)\n",
        "        self.drop1 = layers.Dropout(rate=dropout_rate)\n",
        "\n",
        "        # Block2\n",
        "        self.conv2 = layers.Conv1D(filters=num_filters, kernel_size=kernel_size, data_format='channels_last',\n",
        "                                    dilation_rate=dilation_rate, padding=padding, kernel_initializer=init)\n",
        "        self.batch2 = layers.BatchNormalization(axis=1, trainable=True)\n",
        "        self.ac2 = layers.LeakyReLU(alpha=0.2)\n",
        "        self.drop2 = layers.Dropout(rate=dropout_rate)\n",
        "\n",
        "        self.downsample = layers.Conv1D(filters=num_filters, kernel_size=1,\n",
        "                                        padding='same', kernel_initializer=init)\n",
        "        self.ac3 = layers.LeakyReLU(alpha=0.2)\n",
        "    \n",
        "    def call(self, x):\n",
        "        # Block1\n",
        "        prev_x = x\n",
        "        x = self.conv1(x)\n",
        "        x = self.batch1(x)\n",
        "        x = self.ac1(x)\n",
        "        x = self.drop1(x) if self.training_state else x\n",
        "\n",
        "        # Block2\n",
        "        x = self.conv2(x)\n",
        "        x = self.batch2(x)\n",
        "        x = self.ac2(x)\n",
        "        x = self.drop2(x) if self.training_state else x\n",
        "\n",
        "        # Match dimention\n",
        "        if prev_x.shape[-1] != x.shape[-1]:\n",
        "            prev_x = self.downsample(prev_x)\n",
        "        assert prev_x.shape[1:] == x.shape[1:]\n",
        "\n",
        "        # skip connection\n",
        "        return self.ac3(prev_x + x)\n",
        "\n",
        "class TemporalBlock(tf.keras.Model):\n",
        "    def __init__(self, num_channels, kernel_size, dropout_rate, seed, training_state):\n",
        "        # num_channels is a list contains hidden channel numbers of Conv1D\n",
        "        # len(num_channels) is number of convolutional layers in one Temporal Block\n",
        "        super(TemporalBlock, self).__init__()\n",
        "        assert isinstance(num_channels, list)\n",
        "\n",
        "        self.num_levels = len(num_channels)\n",
        "        self.resi_blocks = [0]*self.num_levels\n",
        "        for i in range(self.num_levels):\n",
        "            dilation_rate = 2**i\n",
        "            self.resi_blocks[i] = ResidualBlock(dilation_rate, num_channels[i], kernel_size, padding='causal',\n",
        "                            dropout_rate=dropout_rate, seed=seed, training_state=training_state)\n",
        "    \n",
        "    def call(self, x):\n",
        "        for i in range(self.num_levels):\n",
        "            x = self.resi_blocks[i](x)\n",
        "        return x\n",
        "\n",
        "class TempConvnet(tf.keras.Model):\n",
        "    def __init__(self, num_stacks, num_channels, kernel_size, dropout_rate, return_type, seed, training_state):\n",
        "        # num_stacks number of Temporal Blocks in Temporal convolutional network\n",
        "        super(TempConvnet, self).__init__()\n",
        "        assert isinstance(num_stacks, int)\n",
        "        assert isinstance(num_channels, list)\n",
        "        assert return_type in ['whole', 'end']\n",
        "\n",
        "        self.num_stacks = num_stacks\n",
        "        self.temp_blocks = [0]*self.num_stacks\n",
        "        self.return_type = return_type\n",
        "        for i in range(num_stacks):\n",
        "            self.temp_blocks[i] = TemporalBlock(num_channels, kernel_size=kernel_size, dropout_rate=dropout_rate, seed=seed, training_state=training_state)\n",
        "    \n",
        "    def call(self, x):\n",
        "        for i in range(self.num_stacks):\n",
        "            x = self.temp_blocks[i](x)\n",
        "        \n",
        "        if self.return_type == 'whole':\n",
        "            return x\n",
        "        elif self.return_type == 'end':\n",
        "            return x[:, -1, :]\n",
        "\n",
        "class TempConvnet_Decoder(tf.keras.Model):\n",
        "    def __init__(self, decoder_type, num_levels, num_channels, kernel_size, padding, upsample_size, dropout_rate, output_shape, seed, training_state):\n",
        "        super(TempConvnet_Decoder, self).__init__()\n",
        "        assert isinstance(num_channels, int)\n",
        "        assert isinstance(kernel_size, list)\n",
        "        assert isinstance(upsample_size, dict)\n",
        "        assert padding in ['causal', 'same']\n",
        "        assert decoder_type in ['linguistic', 'acoustic']\n",
        "        assert num_levels == upsample_size[2] + upsample_size[3] + upsample_size[0]\n",
        "\n",
        "        init = tf.keras.initializers.RandomNormal(mean=0.0, stddev=10, seed=seed)\n",
        "        layers = tf.keras.layers\n",
        "\n",
        "        self.training_state = training_state\n",
        "\n",
        "        self.size2_upsample_num = upsample_size[2]\n",
        "        self.size3_upsample_num = upsample_size[3]\n",
        "        self.reshape_conv_num = 1\n",
        "        self.num_levels = num_levels\n",
        "        self.final_kernel_size = kernel_size[1]\n",
        "        self.output_len = output_shape[-1]  ## ex) (num_batch, num_time_steps, dictionary_length)\n",
        "\n",
        "        self.upsample_blocks = [0]*(num_levels-1)\n",
        "        self.conv_blocks = [0]*(num_levels-1)\n",
        "        self.batchnorm_blocks = [0]*(num_levels-1)\n",
        "        self.ac_blocks = [0]*(num_levels-1)\n",
        "        self.drop_blocks = [0]*(num_levels-1)\n",
        "\n",
        "        for i in range(num_levels-self.size3_upsample_num-self.reshape_conv_num):\n",
        "            self.upsample_blocks[i] = layers.UpSampling1D(size=2)\n",
        "            self.conv_blocks[i] = layers.Conv1D(filters=num_channels, kernel_size=kernel_size[0], data_format='channels_last',\n",
        "                                                    padding=padding, kernel_initializer=init)\n",
        "            self.batchnorm_blocks[i] = layers.BatchNormalization(axis=-1, trainable=True)\n",
        "            self.ac_blocks[i] = layers.ReLU() if decoder_type == 'linguistic' else layers.LeakyReLU(alpha=0.2)\n",
        "            self.drop_blocks[i] = layers.Dropout(rate=dropout_rate)\n",
        "        for i in range(num_levels-self.size3_upsample_num-self.reshape_conv_num, num_levels-self.reshape_conv_num):\n",
        "            self.upsample_blocks[i] = layers.UpSampling1D(size=3)\n",
        "            self.conv_blocks[i] = layers.Conv1D(filters=num_channels, kernel_size=kernel_size[0], data_format='channels_last',\n",
        "                                                    padding=padding, kernel_initializer=init)\n",
        "            self.batchnorm_blocks[i] = layers.BatchNormalization(axis=-1, trainable=True)\n",
        "            self.ac_blocks[i] = layers.Activation('tanh') if decoder_type == 'linguistic' else layers.LeakyReLU(alpha=0.2)\n",
        "            self.drop_blocks[i] = layers.Dropout(rate=dropout_rate)\n",
        "        self.final_conv_block = layers.Conv1D(filters=num_channels, kernel_size=self.final_kernel_size, data_format='channels_last',\n",
        "                                                    padding='valid', kernel_initializer=init)\n",
        "        self.final_ac_block = layers.Softmax(axis=-1) if decoder_type == 'linguistic' else layers.LeakyReLU(alpha=0.2)\n",
        "        self.final_reshape_block = layers.Permute((2, 1))\n",
        "    \n",
        "    def call(self, x):\n",
        "        for i in range(self.num_levels-1):\n",
        "            x = self.upsample_blocks[i](x)\n",
        "            x = self.conv_blocks[i](x)\n",
        "            x = self.batchnorm_blocks[i](x)\n",
        "            x = self.ac_blocks[i](x)\n",
        "            x = self.drop_blocks[i](x) if self.training_state else x\n",
        "        len_padding = (self.output_len - (x.shape[1] - self.final_kernel_size) - 1)//2\n",
        "        x = tf.keras.layers.ZeroPadding1D(padding=(len_padding, len_padding))(x)\n",
        "        x = self.final_conv_block(x)\n",
        "        x = self.final_ac_block(x)\n",
        "        y = self.final_reshape_block(x)\n",
        "        return y"
      ],
      "execution_count": 47,
      "outputs": []
    },
    {
      "cell_type": "code",
      "metadata": {
        "id": "q_tBigUbFqaT"
      },
      "source": [
        "\"\"\"\n",
        "sentenceEM.py\n",
        "\"\"\"\n",
        "\n",
        "class sentenceEM(tf.keras.Model):\n",
        "    def __init__(self, encoder_args, linguistic_decoder_args, acoustic_decoder_args, input_shapes, seed, training_state):\n",
        "        \"\"\"\n",
        "        1) encoder_args: \n",
        "        num_stacks, num_channels, kernel_size, dropout_rate, return_type, seed\n",
        "        2) linguistic_decoder_args:\n",
        "        decoder_type, num_levels, num_channels, kernel_size, padding, upsample_size, dropout_rate, output_shape, seed, training_state\n",
        "        3) acoustic_decoder_args:\n",
        "        decoder_type, num_levels, num_channels, kernel_size, padding, upsample_size, dropout_rate, output_shape, seed, training_state\n",
        "        \"\"\"\n",
        "        super(sentenceEM, self).__init__()\n",
        "        self.input_shapes = input_shapes\n",
        "        self.input_reshape_block = layers.Permute((2, 1))\n",
        "        self.encoder = TempConvnet(num_stacks=encoder_args['num_stacks'], num_channels=encoder_args['num_channels'],\n",
        "                                        kernel_size=encoder_args['kernel_size'], dropout_rate=encoder_args['dropout_rate'],\n",
        "                                        return_type=encoder_args['return_type'], seed=seed, training_state=training_state)\n",
        "        self.linguistic_decoder = TempConvnet_Decoder(decoder_type=linguistic_decoder_args['decoder_type'], num_levels=linguistic_decoder_args['num_levels'],\n",
        "                                                        num_channels=linguistic_decoder_args['num_channels'], kernel_size=linguistic_decoder_args['kernel_size'],\n",
        "                                                        padding=linguistic_decoder_args['padding'], upsample_size=linguistic_decoder_args['upsample_size'],\n",
        "                                                        dropout_rate=linguistic_decoder_args['dropout_rate'], output_shape=linguistic_decoder_args['output_shape'],\n",
        "                                                        seed=seed, training_state=training_state)\n",
        "        self.acoustic_decoder = TempConvnet_Decoder(decoder_type=acoustic_decoder_args['decoder_type'], num_levels=acoustic_decoder_args['num_levels'],\n",
        "                                                        num_channels=acoustic_decoder_args['num_channels'], kernel_size=acoustic_decoder_args['kernel_size'],\n",
        "                                                        padding=acoustic_decoder_args['padding'], upsample_size=acoustic_decoder_args['upsample_size'],\n",
        "                                                        dropout_rate=acoustic_decoder_args['dropout_rate'], output_shape=acoustic_decoder_args['output_shape'],\n",
        "                                                        seed=seed, training_state=training_state)\n",
        "    \n",
        "    def call(self, x):\n",
        "        embedded_outputs = self.input_reshape_block(x)\n",
        "        embedded_outputs = self.encoder(embedded_outputs)\n",
        "        embedded_outputs = kb.expand_dims(embedded_outputs, axis=1)\n",
        "        linguistic_outputs = self.linguistic_decoder(embedded_outputs)\n",
        "        acoustic_outputs = self.acoustic_decoder(embedded_outputs)\n",
        "        return linguistic_outputs, acoustic_outputs\n",
        "    \n",
        "    def encoder_call(self, x):\n",
        "        embedded_outputs = self.input_reshape_block(x)\n",
        "        embedded_outputs = self.encoder(embedded_outputs)\n",
        "        return embedded_outputs\n",
        "    \n",
        "    def decoder_call(self, x):\n",
        "        embedded_outputs = kb.expand_dims(x, axis=1)\n",
        "        linguistic_outputs = self.linguistic_decoder(embedded_outputs)\n",
        "        acoustic_outputs = self.acoustic_decoder(embedded_outputs)\n",
        "        return linguistic_outputs, acoustic_outputs\n",
        "    \n",
        "    def build_seperate_graph(self):\n",
        "        # Encoder graph\n",
        "        x = tf.keras.Input(batch_shape=self.input_shapes)\n",
        "        embedded_outputs = self.encoder_call(x)\n",
        "        self.embedded_outputs_shape = embedded_outputs.shape\n",
        "        self.encoder_model = tf.keras.Model(inputs=x, outputs=embedded_outputs)\n",
        "\n",
        "        # Decoder graph\n",
        "        embeddings = tf.keras.Input(batch_shape=self.embedded_outputs_shape)\n",
        "        linguistic_outputs, acoustic_outputs = self.decoder_call(embeddings)\n",
        "        self.decoder_model = tf.keras.Model(inputs=embeddings, outputs=[linguistic_outputs, acoustic_outputs])\n",
        "    \n",
        "    def build_total_graph(self):\n",
        "        x = tf.keras.Input(batch_input_shape=self.input_shapes)\n",
        "        y = self.encoder_model(x)\n",
        "        l_y, a_y = self.decoder_model(y)\n",
        "        self.model = tf.keras.Model(inputs=x, outputs=[l_y, a_y])\n",
        "\n",
        "    # def model_visualize(self):\n",
        "    #     self.model.summary()\n",
        "    #     plot_model(self.model, to_file='/home/awesomericky/Lab_intern/Prof_Oh/Code/Speech2Pickup/image/sentenceEM.png')\n",
        "    \n",
        "    def encoder_model_compile(self, lr):\n",
        "        optimizer = tf.keras.optimizers.Adam(learning_rate=lr)\n",
        "        self.encoder_model.compile(optimizer=optimizer)\n",
        "\n",
        "    def model_compile(self, lr, loss_weights):\n",
        "        optimizer = tf.keras.optimizers.Adam(learning_rate=lr)\n",
        "        self.model.compile(optimizer=optimizer, loss=[self.linguistic_loss_function, self.acoustic_loss_function],\n",
        "                           loss_weights=[loss_weights['linguistic'], loss_weights['acoustic']],\n",
        "                           metrics=[tf.keras.metrics.CategoricalAccuracy(), tf.keras.metrics.MeanSquaredError()])\n",
        "\n",
        "    def model_train(self, X_train, Y_linguistic_train, Y_acoustic_train, batch_size, epochs, total_model_file_path, encoder_model_file_path):\n",
        "        custom_callback = CustomCallback(total_model_file_path, encoder_model_file_path, self.model, self.encoder_model)\n",
        "        self.model.fit(x=X_train, y=[Y_linguistic_train, Y_acoustic_train], batch_size=batch_size, epochs=epochs, verbose=1, callbacks=[custom_callback])\n",
        "    \n",
        "    def linguistic_loss_function(self, y_actual, y_predicted):\n",
        "        epsil = 1e-5\n",
        "        y_predicted = -kb.log(y_predicted + epsil)\n",
        "        loss = layers.multiply([y_actual, y_predicted])\n",
        "        loss = kb.sum(loss, axis=1)\n",
        "        loss = kb.mean(loss, keepdims=False)\n",
        "        return loss\n",
        "    \n",
        "    def acoustic_loss_function(self, y_actual, y_predicted):\n",
        "        loss = layers.subtract([y_actual, y_predicted])\n",
        "        loss = layers.multiply([loss, loss])\n",
        "        loss = kb.mean(loss, keepdims=False)\n",
        "        return loss\n",
        "\n",
        "class CustomCallback(Callback):\n",
        "    def __init__(self, total_model_file_path, encoder_model_file_path, total_model, encoder_model):\n",
        "        self.total_model_file_path = total_model_file_path\n",
        "        self.encoder_model_file_path = encoder_model_file_path\n",
        "        self.total_model = total_model\n",
        "        self.encoder_model = encoder_model\n",
        "        self.monitor = 'model_1_categorical_accuracy'\n",
        "        self.monitor_op = np.greater\n",
        "        self.best = 0\n",
        "        self.temp_loss = []\n",
        "        self.temp_linguistic_loss = []\n",
        "        self.temp_acoustic_loss = []\n",
        "        self.temp_linguistic_accuracy = []\n",
        "    \n",
        "    def on_batch_end(self, batch, logs=None):\n",
        "        self.temp_loss.append(logs.get('loss'))\n",
        "        self.temp_linguistic_loss.append(logs.get('model_1_loss'))\n",
        "        self.temp_acoustic_loss.append(logs.get('model_1_1_loss'))\n",
        "        self.temp_linguistic_accuracy.append(logs.get('model_1_categorical_accuracy'))\n",
        "\n",
        "    def on_epoch_end(self, epoch, logs=None):\n",
        "        self.temp_loss.append(logs.get('loss'))\n",
        "        self.temp_linguistic_loss.append(logs.get('model_1_loss'))\n",
        "        self.temp_acoustic_loss.append(logs.get('model_1_1_loss'))\n",
        "        self.temp_linguistic_accuracy.append(logs.get('model_1_categorical_accuracy'))\n",
        "        # temp_val_loss = logs.get('val_loss')\n",
        "        # temp_val_linguistic_accuracy = logs.get('val_model_1_categorical_accuracy')\n",
        "        # temp_val_acoustic_loss = logs.get('val_model_1_1_mean_squared_error')\n",
        "\n",
        "        # Logging data\n",
        "        for iii in range(len(self.temp_loss)):\n",
        "            wandb.log({'temp_loss': self.temp_loss[iii]})\n",
        "            wandb.log({'temp_linguistic_loss': self.temp_linguistic_loss[iii]})\n",
        "            wandb.log({'temp_acoustic_loss': self.temp_acoustic_loss[iii]})\n",
        "            wandb.log({'temp_linguistic_accuracy': self.temp_linguistic_accuracy[iii]})\n",
        "        # wandb.log({'temp_val_loss': temp_val_loss})\n",
        "        # wandb.log({'temp_val_linguistic_accuracy': temp_val_linguistic_accuracy})\n",
        "        # wandb.log({'temp_val_acoustic_loss': temp_val_acoustic_loss})\n",
        "        self.temp_loss = []\n",
        "        self.temp_linguistic_loss = []\n",
        "        self.temp_acoustic_loss = []\n",
        "        self.temp_linguistic_accuracy = []\n",
        "        \n",
        "        # Save model\n",
        "        current = logs.get(self.monitor)\n",
        "        if self.monitor_op(current, self.best):\n",
        "            self.best = current\n",
        "            self.total_model.save_weights(filepath=self.total_model_file_path, overwrite=True)\n",
        "            self.encoder_model.save_weights(filepath=self.encoder_model_file_path, overwrite=True)"
      ],
      "execution_count": 48,
      "outputs": []
    },
    {
      "cell_type": "code",
      "metadata": {
        "id": "GRSZUTxv6OyO",
        "colab": {
          "base_uri": "https://localhost:8080/"
        },
        "outputId": "6987f245-4b76-4e98-8fd4-52ed2882ea02"
      },
      "source": [
        "# Configure model\n",
        "\n",
        "train_model_number = 10\n",
        "batch_size = 1024; seed = 1; lr = 0.001; epochs = 50; loss_weights={'linguistic': 100, 'acoustic': 0.005}\n",
        "n_mels = 40\n",
        "time_steps = 303\n",
        "word_dic_size = 43\n",
        "training_state = True\n",
        "input_shapes = (None, n_mels, time_steps)\n",
        "encoder_args = {'num_stacks': 3, 'num_channels':[n_mels for i in range(6)], 'kernel_size':3, 'dropout_rate': 0.2, 'return_type': 'end'}\n",
        "# encoder_args = {'num_stacks': 3, 'num_channels':[40, 80, 40, 80, 40, 80], 'kernel_size':3, 'dropout_rate': 0.2, 'return_type': 'end'}\n",
        "linguistic_decoder_args = {'decoder_type': 'linguistic', 'num_levels':8, 'num_channels': word_dic_size, 'kernel_size': [2, 2], 'padding': 'causal',\n",
        "                            'upsample_size': {2: 5, 3: 2, 0:1}, 'dropout_rate': 0.2, 'output_shape': (batch_size, word_dic_size, time_steps)}\n",
        "acoustic_decoder_args = {'decoder_type': 'acoustic', 'num_levels':8, 'num_channels': n_mels, 'kernel_size': [2, 2], 'padding': 'causal',\n",
        "                            'upsample_size': {2: 5, 3: 2, 0:1}, 'dropout_rate': 0.2, 'output_shape': (batch_size, n_mels, time_steps)}\n",
        "\n",
        "with tf.device('/device:GPU:0'):\n",
        "    sen_em_model = sentenceEM(encoder_args=encoder_args, linguistic_decoder_args=linguistic_decoder_args, acoustic_decoder_args=acoustic_decoder_args,\n",
        "                                input_shapes=input_shapes, seed=seed, training_state=training_state)\n",
        "    sen_em_model.build_seperate_graph()\n",
        "    sen_em_model.build_total_graph()\n",
        "    sen_em_model.model_compile(lr=lr, loss_weights=loss_weights)\n",
        "# sen_em_model.model_visualize()"
      ],
      "execution_count": 52,
      "outputs": [
        {
          "output_type": "stream",
          "text": [
            "WARNING:tensorflow:Entity <bound method TempConvnet.call of <__main__.TempConvnet object at 0x7ff6837208d0>> could not be transformed and will be executed as-is. Please report this to the AutoGraph team. When filing the bug, set the verbosity to 10 (on Linux, `export AUTOGRAPH_VERBOSITY=10`) and attach the full output. Cause: module 'gast' has no attribute 'Num'\n",
            "WARNING: Entity <bound method TempConvnet.call of <__main__.TempConvnet object at 0x7ff6837208d0>> could not be transformed and will be executed as-is. Please report this to the AutoGraph team. When filing the bug, set the verbosity to 10 (on Linux, `export AUTOGRAPH_VERBOSITY=10`) and attach the full output. Cause: module 'gast' has no attribute 'Num'\n",
            "WARNING:tensorflow:Entity <bound method TemporalBlock.call of <__main__.TemporalBlock object at 0x7ff683720dd8>> could not be transformed and will be executed as-is. Please report this to the AutoGraph team. When filing the bug, set the verbosity to 10 (on Linux, `export AUTOGRAPH_VERBOSITY=10`) and attach the full output. Cause: module 'gast' has no attribute 'Num'\n",
            "WARNING: Entity <bound method TemporalBlock.call of <__main__.TemporalBlock object at 0x7ff683720dd8>> could not be transformed and will be executed as-is. Please report this to the AutoGraph team. When filing the bug, set the verbosity to 10 (on Linux, `export AUTOGRAPH_VERBOSITY=10`) and attach the full output. Cause: module 'gast' has no attribute 'Num'\n",
            "WARNING:tensorflow:Entity <bound method ResidualBlock.call of <__main__.ResidualBlock object at 0x7ff37b707cc0>> could not be transformed and will be executed as-is. Please report this to the AutoGraph team. When filing the bug, set the verbosity to 10 (on Linux, `export AUTOGRAPH_VERBOSITY=10`) and attach the full output. Cause: module 'gast' has no attribute 'Num'\n",
            "WARNING: Entity <bound method ResidualBlock.call of <__main__.ResidualBlock object at 0x7ff37b707cc0>> could not be transformed and will be executed as-is. Please report this to the AutoGraph team. When filing the bug, set the verbosity to 10 (on Linux, `export AUTOGRAPH_VERBOSITY=10`) and attach the full output. Cause: module 'gast' has no attribute 'Num'\n",
            "WARNING:tensorflow:Entity <bound method ResidualBlock.call of <__main__.ResidualBlock object at 0x7ff682906400>> could not be transformed and will be executed as-is. Please report this to the AutoGraph team. When filing the bug, set the verbosity to 10 (on Linux, `export AUTOGRAPH_VERBOSITY=10`) and attach the full output. Cause: module 'gast' has no attribute 'Num'\n",
            "WARNING: Entity <bound method ResidualBlock.call of <__main__.ResidualBlock object at 0x7ff682906400>> could not be transformed and will be executed as-is. Please report this to the AutoGraph team. When filing the bug, set the verbosity to 10 (on Linux, `export AUTOGRAPH_VERBOSITY=10`) and attach the full output. Cause: module 'gast' has no attribute 'Num'\n",
            "WARNING:tensorflow:Entity <bound method ResidualBlock.call of <__main__.ResidualBlock object at 0x7ff3bd852dd8>> could not be transformed and will be executed as-is. Please report this to the AutoGraph team. When filing the bug, set the verbosity to 10 (on Linux, `export AUTOGRAPH_VERBOSITY=10`) and attach the full output. Cause: module 'gast' has no attribute 'Num'\n",
            "WARNING: Entity <bound method ResidualBlock.call of <__main__.ResidualBlock object at 0x7ff3bd852dd8>> could not be transformed and will be executed as-is. Please report this to the AutoGraph team. When filing the bug, set the verbosity to 10 (on Linux, `export AUTOGRAPH_VERBOSITY=10`) and attach the full output. Cause: module 'gast' has no attribute 'Num'\n",
            "WARNING:tensorflow:Entity <bound method ResidualBlock.call of <__main__.ResidualBlock object at 0x7ff5694adac8>> could not be transformed and will be executed as-is. Please report this to the AutoGraph team. When filing the bug, set the verbosity to 10 (on Linux, `export AUTOGRAPH_VERBOSITY=10`) and attach the full output. Cause: module 'gast' has no attribute 'Num'\n",
            "WARNING: Entity <bound method ResidualBlock.call of <__main__.ResidualBlock object at 0x7ff5694adac8>> could not be transformed and will be executed as-is. Please report this to the AutoGraph team. When filing the bug, set the verbosity to 10 (on Linux, `export AUTOGRAPH_VERBOSITY=10`) and attach the full output. Cause: module 'gast' has no attribute 'Num'\n",
            "WARNING:tensorflow:Entity <bound method ResidualBlock.call of <__main__.ResidualBlock object at 0x7ff8f16b2470>> could not be transformed and will be executed as-is. Please report this to the AutoGraph team. When filing the bug, set the verbosity to 10 (on Linux, `export AUTOGRAPH_VERBOSITY=10`) and attach the full output. Cause: module 'gast' has no attribute 'Num'\n",
            "WARNING: Entity <bound method ResidualBlock.call of <__main__.ResidualBlock object at 0x7ff8f16b2470>> could not be transformed and will be executed as-is. Please report this to the AutoGraph team. When filing the bug, set the verbosity to 10 (on Linux, `export AUTOGRAPH_VERBOSITY=10`) and attach the full output. Cause: module 'gast' has no attribute 'Num'\n",
            "WARNING:tensorflow:Entity <bound method ResidualBlock.call of <__main__.ResidualBlock object at 0x7ff568ee0780>> could not be transformed and will be executed as-is. Please report this to the AutoGraph team. When filing the bug, set the verbosity to 10 (on Linux, `export AUTOGRAPH_VERBOSITY=10`) and attach the full output. Cause: module 'gast' has no attribute 'Num'\n",
            "WARNING: Entity <bound method ResidualBlock.call of <__main__.ResidualBlock object at 0x7ff568ee0780>> could not be transformed and will be executed as-is. Please report this to the AutoGraph team. When filing the bug, set the verbosity to 10 (on Linux, `export AUTOGRAPH_VERBOSITY=10`) and attach the full output. Cause: module 'gast' has no attribute 'Num'\n",
            "WARNING:tensorflow:Entity <bound method TemporalBlock.call of <__main__.TemporalBlock object at 0x7ff37b045780>> could not be transformed and will be executed as-is. Please report this to the AutoGraph team. When filing the bug, set the verbosity to 10 (on Linux, `export AUTOGRAPH_VERBOSITY=10`) and attach the full output. Cause: module 'gast' has no attribute 'Num'\n",
            "WARNING: Entity <bound method TemporalBlock.call of <__main__.TemporalBlock object at 0x7ff37b045780>> could not be transformed and will be executed as-is. Please report this to the AutoGraph team. When filing the bug, set the verbosity to 10 (on Linux, `export AUTOGRAPH_VERBOSITY=10`) and attach the full output. Cause: module 'gast' has no attribute 'Num'\n",
            "WARNING:tensorflow:Entity <bound method ResidualBlock.call of <__main__.ResidualBlock object at 0x7ff37b045470>> could not be transformed and will be executed as-is. Please report this to the AutoGraph team. When filing the bug, set the verbosity to 10 (on Linux, `export AUTOGRAPH_VERBOSITY=10`) and attach the full output. Cause: module 'gast' has no attribute 'Num'\n",
            "WARNING: Entity <bound method ResidualBlock.call of <__main__.ResidualBlock object at 0x7ff37b045470>> could not be transformed and will be executed as-is. Please report this to the AutoGraph team. When filing the bug, set the verbosity to 10 (on Linux, `export AUTOGRAPH_VERBOSITY=10`) and attach the full output. Cause: module 'gast' has no attribute 'Num'\n",
            "WARNING:tensorflow:Entity <bound method ResidualBlock.call of <__main__.ResidualBlock object at 0x7ff8f1748550>> could not be transformed and will be executed as-is. Please report this to the AutoGraph team. When filing the bug, set the verbosity to 10 (on Linux, `export AUTOGRAPH_VERBOSITY=10`) and attach the full output. Cause: module 'gast' has no attribute 'Num'\n",
            "WARNING: Entity <bound method ResidualBlock.call of <__main__.ResidualBlock object at 0x7ff8f1748550>> could not be transformed and will be executed as-is. Please report this to the AutoGraph team. When filing the bug, set the verbosity to 10 (on Linux, `export AUTOGRAPH_VERBOSITY=10`) and attach the full output. Cause: module 'gast' has no attribute 'Num'\n",
            "WARNING:tensorflow:Entity <bound method ResidualBlock.call of <__main__.ResidualBlock object at 0x7ff8f173e588>> could not be transformed and will be executed as-is. Please report this to the AutoGraph team. When filing the bug, set the verbosity to 10 (on Linux, `export AUTOGRAPH_VERBOSITY=10`) and attach the full output. Cause: module 'gast' has no attribute 'Num'\n",
            "WARNING: Entity <bound method ResidualBlock.call of <__main__.ResidualBlock object at 0x7ff8f173e588>> could not be transformed and will be executed as-is. Please report this to the AutoGraph team. When filing the bug, set the verbosity to 10 (on Linux, `export AUTOGRAPH_VERBOSITY=10`) and attach the full output. Cause: module 'gast' has no attribute 'Num'\n",
            "WARNING:tensorflow:Entity <bound method ResidualBlock.call of <__main__.ResidualBlock object at 0x7ff568ecebe0>> could not be transformed and will be executed as-is. Please report this to the AutoGraph team. When filing the bug, set the verbosity to 10 (on Linux, `export AUTOGRAPH_VERBOSITY=10`) and attach the full output. Cause: module 'gast' has no attribute 'Num'\n",
            "WARNING: Entity <bound method ResidualBlock.call of <__main__.ResidualBlock object at 0x7ff568ecebe0>> could not be transformed and will be executed as-is. Please report this to the AutoGraph team. When filing the bug, set the verbosity to 10 (on Linux, `export AUTOGRAPH_VERBOSITY=10`) and attach the full output. Cause: module 'gast' has no attribute 'Num'\n",
            "WARNING:tensorflow:Entity <bound method ResidualBlock.call of <__main__.ResidualBlock object at 0x7ff56a9eb8d0>> could not be transformed and will be executed as-is. Please report this to the AutoGraph team. When filing the bug, set the verbosity to 10 (on Linux, `export AUTOGRAPH_VERBOSITY=10`) and attach the full output. Cause: module 'gast' has no attribute 'Num'\n",
            "WARNING: Entity <bound method ResidualBlock.call of <__main__.ResidualBlock object at 0x7ff56a9eb8d0>> could not be transformed and will be executed as-is. Please report this to the AutoGraph team. When filing the bug, set the verbosity to 10 (on Linux, `export AUTOGRAPH_VERBOSITY=10`) and attach the full output. Cause: module 'gast' has no attribute 'Num'\n",
            "WARNING:tensorflow:Entity <bound method ResidualBlock.call of <__main__.ResidualBlock object at 0x7ff8f1817550>> could not be transformed and will be executed as-is. Please report this to the AutoGraph team. When filing the bug, set the verbosity to 10 (on Linux, `export AUTOGRAPH_VERBOSITY=10`) and attach the full output. Cause: module 'gast' has no attribute 'Num'\n",
            "WARNING: Entity <bound method ResidualBlock.call of <__main__.ResidualBlock object at 0x7ff8f1817550>> could not be transformed and will be executed as-is. Please report this to the AutoGraph team. When filing the bug, set the verbosity to 10 (on Linux, `export AUTOGRAPH_VERBOSITY=10`) and attach the full output. Cause: module 'gast' has no attribute 'Num'\n",
            "WARNING:tensorflow:Entity <bound method TemporalBlock.call of <__main__.TemporalBlock object at 0x7ff37b0593c8>> could not be transformed and will be executed as-is. Please report this to the AutoGraph team. When filing the bug, set the verbosity to 10 (on Linux, `export AUTOGRAPH_VERBOSITY=10`) and attach the full output. Cause: module 'gast' has no attribute 'Num'\n",
            "WARNING: Entity <bound method TemporalBlock.call of <__main__.TemporalBlock object at 0x7ff37b0593c8>> could not be transformed and will be executed as-is. Please report this to the AutoGraph team. When filing the bug, set the verbosity to 10 (on Linux, `export AUTOGRAPH_VERBOSITY=10`) and attach the full output. Cause: module 'gast' has no attribute 'Num'\n",
            "WARNING:tensorflow:Entity <bound method ResidualBlock.call of <__main__.ResidualBlock object at 0x7ff37b059e80>> could not be transformed and will be executed as-is. Please report this to the AutoGraph team. When filing the bug, set the verbosity to 10 (on Linux, `export AUTOGRAPH_VERBOSITY=10`) and attach the full output. Cause: module 'gast' has no attribute 'Num'\n",
            "WARNING: Entity <bound method ResidualBlock.call of <__main__.ResidualBlock object at 0x7ff37b059e80>> could not be transformed and will be executed as-is. Please report this to the AutoGraph team. When filing the bug, set the verbosity to 10 (on Linux, `export AUTOGRAPH_VERBOSITY=10`) and attach the full output. Cause: module 'gast' has no attribute 'Num'\n",
            "WARNING:tensorflow:Entity <bound method ResidualBlock.call of <__main__.ResidualBlock object at 0x7ff56b8b0400>> could not be transformed and will be executed as-is. Please report this to the AutoGraph team. When filing the bug, set the verbosity to 10 (on Linux, `export AUTOGRAPH_VERBOSITY=10`) and attach the full output. Cause: module 'gast' has no attribute 'Num'\n",
            "WARNING: Entity <bound method ResidualBlock.call of <__main__.ResidualBlock object at 0x7ff56b8b0400>> could not be transformed and will be executed as-is. Please report this to the AutoGraph team. When filing the bug, set the verbosity to 10 (on Linux, `export AUTOGRAPH_VERBOSITY=10`) and attach the full output. Cause: module 'gast' has no attribute 'Num'\n",
            "WARNING:tensorflow:Entity <bound method ResidualBlock.call of <__main__.ResidualBlock object at 0x7ff8f13db710>> could not be transformed and will be executed as-is. Please report this to the AutoGraph team. When filing the bug, set the verbosity to 10 (on Linux, `export AUTOGRAPH_VERBOSITY=10`) and attach the full output. Cause: module 'gast' has no attribute 'Num'\n",
            "WARNING: Entity <bound method ResidualBlock.call of <__main__.ResidualBlock object at 0x7ff8f13db710>> could not be transformed and will be executed as-is. Please report this to the AutoGraph team. When filing the bug, set the verbosity to 10 (on Linux, `export AUTOGRAPH_VERBOSITY=10`) and attach the full output. Cause: module 'gast' has no attribute 'Num'\n",
            "WARNING:tensorflow:Entity <bound method ResidualBlock.call of <__main__.ResidualBlock object at 0x7ff8f13ee2e8>> could not be transformed and will be executed as-is. Please report this to the AutoGraph team. When filing the bug, set the verbosity to 10 (on Linux, `export AUTOGRAPH_VERBOSITY=10`) and attach the full output. Cause: module 'gast' has no attribute 'Num'\n",
            "WARNING: Entity <bound method ResidualBlock.call of <__main__.ResidualBlock object at 0x7ff8f13ee2e8>> could not be transformed and will be executed as-is. Please report this to the AutoGraph team. When filing the bug, set the verbosity to 10 (on Linux, `export AUTOGRAPH_VERBOSITY=10`) and attach the full output. Cause: module 'gast' has no attribute 'Num'\n",
            "WARNING:tensorflow:Entity <bound method ResidualBlock.call of <__main__.ResidualBlock object at 0x7ff8f13f4e80>> could not be transformed and will be executed as-is. Please report this to the AutoGraph team. When filing the bug, set the verbosity to 10 (on Linux, `export AUTOGRAPH_VERBOSITY=10`) and attach the full output. Cause: module 'gast' has no attribute 'Num'\n",
            "WARNING: Entity <bound method ResidualBlock.call of <__main__.ResidualBlock object at 0x7ff8f13f4e80>> could not be transformed and will be executed as-is. Please report this to the AutoGraph team. When filing the bug, set the verbosity to 10 (on Linux, `export AUTOGRAPH_VERBOSITY=10`) and attach the full output. Cause: module 'gast' has no attribute 'Num'\n",
            "WARNING:tensorflow:Entity <bound method ResidualBlock.call of <__main__.ResidualBlock object at 0x7ff8f1402a58>> could not be transformed and will be executed as-is. Please report this to the AutoGraph team. When filing the bug, set the verbosity to 10 (on Linux, `export AUTOGRAPH_VERBOSITY=10`) and attach the full output. Cause: module 'gast' has no attribute 'Num'\n",
            "WARNING: Entity <bound method ResidualBlock.call of <__main__.ResidualBlock object at 0x7ff8f1402a58>> could not be transformed and will be executed as-is. Please report this to the AutoGraph team. When filing the bug, set the verbosity to 10 (on Linux, `export AUTOGRAPH_VERBOSITY=10`) and attach the full output. Cause: module 'gast' has no attribute 'Num'\n",
            "WARNING:tensorflow:Entity <bound method TempConvnet_Decoder.call of <__main__.TempConvnet_Decoder object at 0x7ff8e2fc6668>> could not be transformed and will be executed as-is. Please report this to the AutoGraph team. When filing the bug, set the verbosity to 10 (on Linux, `export AUTOGRAPH_VERBOSITY=10`) and attach the full output. Cause: module 'gast' has no attribute 'Num'\n",
            "WARNING: Entity <bound method TempConvnet_Decoder.call of <__main__.TempConvnet_Decoder object at 0x7ff8e2fc6668>> could not be transformed and will be executed as-is. Please report this to the AutoGraph team. When filing the bug, set the verbosity to 10 (on Linux, `export AUTOGRAPH_VERBOSITY=10`) and attach the full output. Cause: module 'gast' has no attribute 'Num'\n",
            "WARNING:tensorflow:Entity <bound method TempConvnet_Decoder.call of <__main__.TempConvnet_Decoder object at 0x7ff8e2fece10>> could not be transformed and will be executed as-is. Please report this to the AutoGraph team. When filing the bug, set the verbosity to 10 (on Linux, `export AUTOGRAPH_VERBOSITY=10`) and attach the full output. Cause: module 'gast' has no attribute 'Num'\n",
            "WARNING: Entity <bound method TempConvnet_Decoder.call of <__main__.TempConvnet_Decoder object at 0x7ff8e2fece10>> could not be transformed and will be executed as-is. Please report this to the AutoGraph team. When filing the bug, set the verbosity to 10 (on Linux, `export AUTOGRAPH_VERBOSITY=10`) and attach the full output. Cause: module 'gast' has no attribute 'Num'\n",
            "WARNING:tensorflow:Entity <bound method TempConvnet.call of <__main__.TempConvnet object at 0x7ff6837208d0>> could not be transformed and will be executed as-is. Please report this to the AutoGraph team. When filing the bug, set the verbosity to 10 (on Linux, `export AUTOGRAPH_VERBOSITY=10`) and attach the full output. Cause: module 'gast' has no attribute 'Num'\n",
            "WARNING: Entity <bound method TempConvnet.call of <__main__.TempConvnet object at 0x7ff6837208d0>> could not be transformed and will be executed as-is. Please report this to the AutoGraph team. When filing the bug, set the verbosity to 10 (on Linux, `export AUTOGRAPH_VERBOSITY=10`) and attach the full output. Cause: module 'gast' has no attribute 'Num'\n",
            "WARNING:tensorflow:Entity <bound method TemporalBlock.call of <__main__.TemporalBlock object at 0x7ff683720dd8>> could not be transformed and will be executed as-is. Please report this to the AutoGraph team. When filing the bug, set the verbosity to 10 (on Linux, `export AUTOGRAPH_VERBOSITY=10`) and attach the full output. Cause: module 'gast' has no attribute 'Num'\n",
            "WARNING: Entity <bound method TemporalBlock.call of <__main__.TemporalBlock object at 0x7ff683720dd8>> could not be transformed and will be executed as-is. Please report this to the AutoGraph team. When filing the bug, set the verbosity to 10 (on Linux, `export AUTOGRAPH_VERBOSITY=10`) and attach the full output. Cause: module 'gast' has no attribute 'Num'\n",
            "WARNING:tensorflow:Entity <bound method ResidualBlock.call of <__main__.ResidualBlock object at 0x7ff37b707cc0>> could not be transformed and will be executed as-is. Please report this to the AutoGraph team. When filing the bug, set the verbosity to 10 (on Linux, `export AUTOGRAPH_VERBOSITY=10`) and attach the full output. Cause: module 'gast' has no attribute 'Num'\n",
            "WARNING: Entity <bound method ResidualBlock.call of <__main__.ResidualBlock object at 0x7ff37b707cc0>> could not be transformed and will be executed as-is. Please report this to the AutoGraph team. When filing the bug, set the verbosity to 10 (on Linux, `export AUTOGRAPH_VERBOSITY=10`) and attach the full output. Cause: module 'gast' has no attribute 'Num'\n",
            "WARNING:tensorflow:Entity <bound method ResidualBlock.call of <__main__.ResidualBlock object at 0x7ff682906400>> could not be transformed and will be executed as-is. Please report this to the AutoGraph team. When filing the bug, set the verbosity to 10 (on Linux, `export AUTOGRAPH_VERBOSITY=10`) and attach the full output. Cause: module 'gast' has no attribute 'Num'\n",
            "WARNING: Entity <bound method ResidualBlock.call of <__main__.ResidualBlock object at 0x7ff682906400>> could not be transformed and will be executed as-is. Please report this to the AutoGraph team. When filing the bug, set the verbosity to 10 (on Linux, `export AUTOGRAPH_VERBOSITY=10`) and attach the full output. Cause: module 'gast' has no attribute 'Num'\n",
            "WARNING:tensorflow:Entity <bound method ResidualBlock.call of <__main__.ResidualBlock object at 0x7ff3bd852dd8>> could not be transformed and will be executed as-is. Please report this to the AutoGraph team. When filing the bug, set the verbosity to 10 (on Linux, `export AUTOGRAPH_VERBOSITY=10`) and attach the full output. Cause: module 'gast' has no attribute 'Num'\n",
            "WARNING: Entity <bound method ResidualBlock.call of <__main__.ResidualBlock object at 0x7ff3bd852dd8>> could not be transformed and will be executed as-is. Please report this to the AutoGraph team. When filing the bug, set the verbosity to 10 (on Linux, `export AUTOGRAPH_VERBOSITY=10`) and attach the full output. Cause: module 'gast' has no attribute 'Num'\n",
            "WARNING:tensorflow:Entity <bound method ResidualBlock.call of <__main__.ResidualBlock object at 0x7ff5694adac8>> could not be transformed and will be executed as-is. Please report this to the AutoGraph team. When filing the bug, set the verbosity to 10 (on Linux, `export AUTOGRAPH_VERBOSITY=10`) and attach the full output. Cause: module 'gast' has no attribute 'Num'\n",
            "WARNING: Entity <bound method ResidualBlock.call of <__main__.ResidualBlock object at 0x7ff5694adac8>> could not be transformed and will be executed as-is. Please report this to the AutoGraph team. When filing the bug, set the verbosity to 10 (on Linux, `export AUTOGRAPH_VERBOSITY=10`) and attach the full output. Cause: module 'gast' has no attribute 'Num'\n",
            "WARNING:tensorflow:Entity <bound method ResidualBlock.call of <__main__.ResidualBlock object at 0x7ff8f16b2470>> could not be transformed and will be executed as-is. Please report this to the AutoGraph team. When filing the bug, set the verbosity to 10 (on Linux, `export AUTOGRAPH_VERBOSITY=10`) and attach the full output. Cause: module 'gast' has no attribute 'Num'\n",
            "WARNING: Entity <bound method ResidualBlock.call of <__main__.ResidualBlock object at 0x7ff8f16b2470>> could not be transformed and will be executed as-is. Please report this to the AutoGraph team. When filing the bug, set the verbosity to 10 (on Linux, `export AUTOGRAPH_VERBOSITY=10`) and attach the full output. Cause: module 'gast' has no attribute 'Num'\n",
            "WARNING:tensorflow:Entity <bound method ResidualBlock.call of <__main__.ResidualBlock object at 0x7ff568ee0780>> could not be transformed and will be executed as-is. Please report this to the AutoGraph team. When filing the bug, set the verbosity to 10 (on Linux, `export AUTOGRAPH_VERBOSITY=10`) and attach the full output. Cause: module 'gast' has no attribute 'Num'\n",
            "WARNING: Entity <bound method ResidualBlock.call of <__main__.ResidualBlock object at 0x7ff568ee0780>> could not be transformed and will be executed as-is. Please report this to the AutoGraph team. When filing the bug, set the verbosity to 10 (on Linux, `export AUTOGRAPH_VERBOSITY=10`) and attach the full output. Cause: module 'gast' has no attribute 'Num'\n",
            "WARNING:tensorflow:Entity <bound method TemporalBlock.call of <__main__.TemporalBlock object at 0x7ff37b045780>> could not be transformed and will be executed as-is. Please report this to the AutoGraph team. When filing the bug, set the verbosity to 10 (on Linux, `export AUTOGRAPH_VERBOSITY=10`) and attach the full output. Cause: module 'gast' has no attribute 'Num'\n",
            "WARNING: Entity <bound method TemporalBlock.call of <__main__.TemporalBlock object at 0x7ff37b045780>> could not be transformed and will be executed as-is. Please report this to the AutoGraph team. When filing the bug, set the verbosity to 10 (on Linux, `export AUTOGRAPH_VERBOSITY=10`) and attach the full output. Cause: module 'gast' has no attribute 'Num'\n",
            "WARNING:tensorflow:Entity <bound method ResidualBlock.call of <__main__.ResidualBlock object at 0x7ff37b045470>> could not be transformed and will be executed as-is. Please report this to the AutoGraph team. When filing the bug, set the verbosity to 10 (on Linux, `export AUTOGRAPH_VERBOSITY=10`) and attach the full output. Cause: module 'gast' has no attribute 'Num'\n",
            "WARNING: Entity <bound method ResidualBlock.call of <__main__.ResidualBlock object at 0x7ff37b045470>> could not be transformed and will be executed as-is. Please report this to the AutoGraph team. When filing the bug, set the verbosity to 10 (on Linux, `export AUTOGRAPH_VERBOSITY=10`) and attach the full output. Cause: module 'gast' has no attribute 'Num'\n",
            "WARNING:tensorflow:Entity <bound method ResidualBlock.call of <__main__.ResidualBlock object at 0x7ff8f1748550>> could not be transformed and will be executed as-is. Please report this to the AutoGraph team. When filing the bug, set the verbosity to 10 (on Linux, `export AUTOGRAPH_VERBOSITY=10`) and attach the full output. Cause: module 'gast' has no attribute 'Num'\n",
            "WARNING: Entity <bound method ResidualBlock.call of <__main__.ResidualBlock object at 0x7ff8f1748550>> could not be transformed and will be executed as-is. Please report this to the AutoGraph team. When filing the bug, set the verbosity to 10 (on Linux, `export AUTOGRAPH_VERBOSITY=10`) and attach the full output. Cause: module 'gast' has no attribute 'Num'\n",
            "WARNING:tensorflow:Entity <bound method ResidualBlock.call of <__main__.ResidualBlock object at 0x7ff8f173e588>> could not be transformed and will be executed as-is. Please report this to the AutoGraph team. When filing the bug, set the verbosity to 10 (on Linux, `export AUTOGRAPH_VERBOSITY=10`) and attach the full output. Cause: module 'gast' has no attribute 'Num'\n",
            "WARNING: Entity <bound method ResidualBlock.call of <__main__.ResidualBlock object at 0x7ff8f173e588>> could not be transformed and will be executed as-is. Please report this to the AutoGraph team. When filing the bug, set the verbosity to 10 (on Linux, `export AUTOGRAPH_VERBOSITY=10`) and attach the full output. Cause: module 'gast' has no attribute 'Num'\n",
            "WARNING:tensorflow:Entity <bound method ResidualBlock.call of <__main__.ResidualBlock object at 0x7ff568ecebe0>> could not be transformed and will be executed as-is. Please report this to the AutoGraph team. When filing the bug, set the verbosity to 10 (on Linux, `export AUTOGRAPH_VERBOSITY=10`) and attach the full output. Cause: module 'gast' has no attribute 'Num'\n",
            "WARNING: Entity <bound method ResidualBlock.call of <__main__.ResidualBlock object at 0x7ff568ecebe0>> could not be transformed and will be executed as-is. Please report this to the AutoGraph team. When filing the bug, set the verbosity to 10 (on Linux, `export AUTOGRAPH_VERBOSITY=10`) and attach the full output. Cause: module 'gast' has no attribute 'Num'\n",
            "WARNING:tensorflow:Entity <bound method ResidualBlock.call of <__main__.ResidualBlock object at 0x7ff56a9eb8d0>> could not be transformed and will be executed as-is. Please report this to the AutoGraph team. When filing the bug, set the verbosity to 10 (on Linux, `export AUTOGRAPH_VERBOSITY=10`) and attach the full output. Cause: module 'gast' has no attribute 'Num'\n",
            "WARNING: Entity <bound method ResidualBlock.call of <__main__.ResidualBlock object at 0x7ff56a9eb8d0>> could not be transformed and will be executed as-is. Please report this to the AutoGraph team. When filing the bug, set the verbosity to 10 (on Linux, `export AUTOGRAPH_VERBOSITY=10`) and attach the full output. Cause: module 'gast' has no attribute 'Num'\n",
            "WARNING:tensorflow:Entity <bound method ResidualBlock.call of <__main__.ResidualBlock object at 0x7ff8f1817550>> could not be transformed and will be executed as-is. Please report this to the AutoGraph team. When filing the bug, set the verbosity to 10 (on Linux, `export AUTOGRAPH_VERBOSITY=10`) and attach the full output. Cause: module 'gast' has no attribute 'Num'\n",
            "WARNING: Entity <bound method ResidualBlock.call of <__main__.ResidualBlock object at 0x7ff8f1817550>> could not be transformed and will be executed as-is. Please report this to the AutoGraph team. When filing the bug, set the verbosity to 10 (on Linux, `export AUTOGRAPH_VERBOSITY=10`) and attach the full output. Cause: module 'gast' has no attribute 'Num'\n",
            "WARNING:tensorflow:Entity <bound method TemporalBlock.call of <__main__.TemporalBlock object at 0x7ff37b0593c8>> could not be transformed and will be executed as-is. Please report this to the AutoGraph team. When filing the bug, set the verbosity to 10 (on Linux, `export AUTOGRAPH_VERBOSITY=10`) and attach the full output. Cause: module 'gast' has no attribute 'Num'\n",
            "WARNING: Entity <bound method TemporalBlock.call of <__main__.TemporalBlock object at 0x7ff37b0593c8>> could not be transformed and will be executed as-is. Please report this to the AutoGraph team. When filing the bug, set the verbosity to 10 (on Linux, `export AUTOGRAPH_VERBOSITY=10`) and attach the full output. Cause: module 'gast' has no attribute 'Num'\n",
            "WARNING:tensorflow:Entity <bound method ResidualBlock.call of <__main__.ResidualBlock object at 0x7ff37b059e80>> could not be transformed and will be executed as-is. Please report this to the AutoGraph team. When filing the bug, set the verbosity to 10 (on Linux, `export AUTOGRAPH_VERBOSITY=10`) and attach the full output. Cause: module 'gast' has no attribute 'Num'\n",
            "WARNING: Entity <bound method ResidualBlock.call of <__main__.ResidualBlock object at 0x7ff37b059e80>> could not be transformed and will be executed as-is. Please report this to the AutoGraph team. When filing the bug, set the verbosity to 10 (on Linux, `export AUTOGRAPH_VERBOSITY=10`) and attach the full output. Cause: module 'gast' has no attribute 'Num'\n",
            "WARNING:tensorflow:Entity <bound method ResidualBlock.call of <__main__.ResidualBlock object at 0x7ff56b8b0400>> could not be transformed and will be executed as-is. Please report this to the AutoGraph team. When filing the bug, set the verbosity to 10 (on Linux, `export AUTOGRAPH_VERBOSITY=10`) and attach the full output. Cause: module 'gast' has no attribute 'Num'\n",
            "WARNING: Entity <bound method ResidualBlock.call of <__main__.ResidualBlock object at 0x7ff56b8b0400>> could not be transformed and will be executed as-is. Please report this to the AutoGraph team. When filing the bug, set the verbosity to 10 (on Linux, `export AUTOGRAPH_VERBOSITY=10`) and attach the full output. Cause: module 'gast' has no attribute 'Num'\n",
            "WARNING:tensorflow:Entity <bound method ResidualBlock.call of <__main__.ResidualBlock object at 0x7ff8f13db710>> could not be transformed and will be executed as-is. Please report this to the AutoGraph team. When filing the bug, set the verbosity to 10 (on Linux, `export AUTOGRAPH_VERBOSITY=10`) and attach the full output. Cause: module 'gast' has no attribute 'Num'\n",
            "WARNING: Entity <bound method ResidualBlock.call of <__main__.ResidualBlock object at 0x7ff8f13db710>> could not be transformed and will be executed as-is. Please report this to the AutoGraph team. When filing the bug, set the verbosity to 10 (on Linux, `export AUTOGRAPH_VERBOSITY=10`) and attach the full output. Cause: module 'gast' has no attribute 'Num'\n",
            "WARNING:tensorflow:Entity <bound method ResidualBlock.call of <__main__.ResidualBlock object at 0x7ff8f13ee2e8>> could not be transformed and will be executed as-is. Please report this to the AutoGraph team. When filing the bug, set the verbosity to 10 (on Linux, `export AUTOGRAPH_VERBOSITY=10`) and attach the full output. Cause: module 'gast' has no attribute 'Num'\n",
            "WARNING: Entity <bound method ResidualBlock.call of <__main__.ResidualBlock object at 0x7ff8f13ee2e8>> could not be transformed and will be executed as-is. Please report this to the AutoGraph team. When filing the bug, set the verbosity to 10 (on Linux, `export AUTOGRAPH_VERBOSITY=10`) and attach the full output. Cause: module 'gast' has no attribute 'Num'\n",
            "WARNING:tensorflow:Entity <bound method ResidualBlock.call of <__main__.ResidualBlock object at 0x7ff8f13f4e80>> could not be transformed and will be executed as-is. Please report this to the AutoGraph team. When filing the bug, set the verbosity to 10 (on Linux, `export AUTOGRAPH_VERBOSITY=10`) and attach the full output. Cause: module 'gast' has no attribute 'Num'\n",
            "WARNING: Entity <bound method ResidualBlock.call of <__main__.ResidualBlock object at 0x7ff8f13f4e80>> could not be transformed and will be executed as-is. Please report this to the AutoGraph team. When filing the bug, set the verbosity to 10 (on Linux, `export AUTOGRAPH_VERBOSITY=10`) and attach the full output. Cause: module 'gast' has no attribute 'Num'\n",
            "WARNING:tensorflow:Entity <bound method ResidualBlock.call of <__main__.ResidualBlock object at 0x7ff8f1402a58>> could not be transformed and will be executed as-is. Please report this to the AutoGraph team. When filing the bug, set the verbosity to 10 (on Linux, `export AUTOGRAPH_VERBOSITY=10`) and attach the full output. Cause: module 'gast' has no attribute 'Num'\n",
            "WARNING: Entity <bound method ResidualBlock.call of <__main__.ResidualBlock object at 0x7ff8f1402a58>> could not be transformed and will be executed as-is. Please report this to the AutoGraph team. When filing the bug, set the verbosity to 10 (on Linux, `export AUTOGRAPH_VERBOSITY=10`) and attach the full output. Cause: module 'gast' has no attribute 'Num'\n",
            "WARNING:tensorflow:Entity <bound method TempConvnet_Decoder.call of <__main__.TempConvnet_Decoder object at 0x7ff8e2fece10>> could not be transformed and will be executed as-is. Please report this to the AutoGraph team. When filing the bug, set the verbosity to 10 (on Linux, `export AUTOGRAPH_VERBOSITY=10`) and attach the full output. Cause: module 'gast' has no attribute 'Num'\n",
            "WARNING: Entity <bound method TempConvnet_Decoder.call of <__main__.TempConvnet_Decoder object at 0x7ff8e2fece10>> could not be transformed and will be executed as-is. Please report this to the AutoGraph team. When filing the bug, set the verbosity to 10 (on Linux, `export AUTOGRAPH_VERBOSITY=10`) and attach the full output. Cause: module 'gast' has no attribute 'Num'\n",
            "WARNING:tensorflow:Entity <bound method TempConvnet_Decoder.call of <__main__.TempConvnet_Decoder object at 0x7ff8e2fc6668>> could not be transformed and will be executed as-is. Please report this to the AutoGraph team. When filing the bug, set the verbosity to 10 (on Linux, `export AUTOGRAPH_VERBOSITY=10`) and attach the full output. Cause: module 'gast' has no attribute 'Num'\n",
            "WARNING: Entity <bound method TempConvnet_Decoder.call of <__main__.TempConvnet_Decoder object at 0x7ff8e2fc6668>> could not be transformed and will be executed as-is. Please report this to the AutoGraph team. When filing the bug, set the verbosity to 10 (on Linux, `export AUTOGRAPH_VERBOSITY=10`) and attach the full output. Cause: module 'gast' has no attribute 'Num'\n"
          ],
          "name": "stdout"
        }
      ]
    },
    {
      "cell_type": "code",
      "metadata": {
        "id": "fAZrallcaXJF",
        "colab": {
          "base_uri": "https://localhost:8080/",
          "height": 1000
        },
        "outputId": "9a80a9d8-e66a-4252-e8f5-38b2d9248aeb"
      },
      "source": [
        "# Train model\n",
        "\n",
        "wandb_config = {'batch_size':batch_size,\n",
        "                'learning_rate': lr,\n",
        "                'loss_weight (linguistic, acoustic)': (loss_weights['linguistic'], loss_weights['acoustic']),\n",
        "                'channel_type': 'single',\n",
        "                'n_mels': n_mels,\n",
        "                'seed': seed,\n",
        "                'date': '2020-12-03',\n",
        "                'train_model_number': train_model_number,\n",
        "                'memo': 'init std=10'}\n",
        "wandb_run = wandb.init(project='Speech2Pickup', name='sentenceEM', config=wandb_config)\n",
        "total_model_file_path = '/content/drive/MyDrive/Speech2Pickup/sentenceEM_model/' + str(train_model_number) + '/total_model/sentenceEM_total_model'\n",
        "encoder_model_file_path = '/content/drive/MyDrive/Speech2Pickup/sentenceEM_model/' + str(train_model_number) + '/encoder_model/sentenceEM_encoder_model'\n",
        "model_configuration_file = '/content/drive/MyDrive/Speech2Pickup/sentenceEM_model/' + str(train_model_number) + '/model_config.txt'\n",
        "relative_data_directory_path = '/content/drive/MyDrive/Speech2Pickup/data_v2.2_single_channel'\n",
        "\n",
        "# Write model configuration in .txt file\n",
        "with open(model_configuration_file, 'w') as f:\n",
        "    f.write(str(wandb_config))\n",
        "\n",
        "# # Load data\n",
        "# print('Loading data...')\n",
        "# data_file = listdir(relative_data_directory_path)[0]\n",
        "# data = load_single_npz_data(relative_data_directory_path=relative_data_directory_path, file_name=data_file)\n",
        "# acoustic_data = data['acoustic']\n",
        "# linguistic_data = data['linguistic']\n",
        "\n",
        "# Train model and save\n",
        "print('Start training')\n",
        "try:\n",
        "    # Train\n",
        "    with tf.device('/device:GPU:0'):\n",
        "        sen_em_model.model_train(X_train=acoustic_data, Y_linguistic_train=linguistic_data, Y_acoustic_train=acoustic_data, batch_size=batch_size, epochs=epochs,\n",
        "                                 total_model_file_path=total_model_file_path, encoder_model_file_path=encoder_model_file_path)\n",
        "except KeyboardInterrupt:\n",
        "    pass"
      ],
      "execution_count": 50,
      "outputs": [
        {
          "output_type": "display_data",
          "data": {
            "text/html": [
              "\n",
              "                Tracking run with wandb version 0.10.11<br/>\n",
              "                Syncing run <strong style=\"color:#cdcd00\">sentenceEM</strong> to <a href=\"https://wandb.ai\" target=\"_blank\">Weights & Biases</a> <a href=\"https://docs.wandb.com/integrations/jupyter.html\" target=\"_blank\">(Documentation)</a>.<br/>\n",
              "                Project page: <a href=\"https://wandb.ai/awesomericky/Speech2Pickup\" target=\"_blank\">https://wandb.ai/awesomericky/Speech2Pickup</a><br/>\n",
              "                Run page: <a href=\"https://wandb.ai/awesomericky/Speech2Pickup/runs/38s909gy\" target=\"_blank\">https://wandb.ai/awesomericky/Speech2Pickup/runs/38s909gy</a><br/>\n",
              "                Run data is saved locally in <code>/content/wandb/run-20201203_094702-38s909gy</code><br/><br/>\n",
              "            "
            ],
            "text/plain": [
              "<IPython.core.display.HTML object>"
            ]
          },
          "metadata": {
            "tags": []
          }
        },
        {
          "output_type": "stream",
          "text": [
            "Start training\n",
            "Train on 40698 samples\n",
            "Epoch 1/50\n",
            "40698/40698 [==============================] - 32s 775us/sample - loss: 1112.9145 - model_1_loss: 10.8228 - model_1_1_loss: 6102.4404 - model_1_categorical_accuracy: 0.0547 - model_1_mean_squared_error: 0.0436 - model_1_1_categorical_accuracy: 0.0025 - model_1_1_mean_squared_error: 6105.2007\n",
            "Epoch 2/50\n",
            "40698/40698 [==============================] - 20s 484us/sample - loss: 1050.8951 - model_1_loss: 10.2449 - model_1_1_loss: 5209.6440 - model_1_categorical_accuracy: 0.0619 - model_1_mean_squared_error: 0.0415 - model_1_1_categorical_accuracy: 0.0021 - model_1_1_mean_squared_error: 5211.1387\n",
            "Epoch 3/50\n",
            "40698/40698 [==============================] - 20s 482us/sample - loss: 870.0284 - model_1_loss: 8.4792 - model_1_1_loss: 4301.5498 - model_1_categorical_accuracy: 0.0979 - model_1_mean_squared_error: 0.0347 - model_1_1_categorical_accuracy: 0.0018 - model_1_1_mean_squared_error: 4303.1553\n",
            "Epoch 4/50\n",
            "40698/40698 [==============================] - 20s 481us/sample - loss: 624.3869 - model_1_loss: 6.0545 - model_1_1_loss: 3663.0039 - model_1_categorical_accuracy: 0.1914 - model_1_mean_squared_error: 0.0249 - model_1_1_categorical_accuracy: 0.0028 - model_1_1_mean_squared_error: 3664.3293\n",
            "Epoch 5/50\n",
            "40698/40698 [==============================] - 20s 480us/sample - loss: 483.9252 - model_1_loss: 4.6665 - model_1_1_loss: 3411.5630 - model_1_categorical_accuracy: 0.3121 - model_1_mean_squared_error: 0.0192 - model_1_1_categorical_accuracy: 0.0043 - model_1_1_mean_squared_error: 3411.9724\n",
            "Epoch 6/50\n",
            "40698/40698 [==============================] - 20s 480us/sample - loss: 429.7785 - model_1_loss: 4.1349 - model_1_1_loss: 3247.8154 - model_1_categorical_accuracy: 0.4376 - model_1_mean_squared_error: 0.0171 - model_1_1_categorical_accuracy: 0.0049 - model_1_1_mean_squared_error: 3248.0984\n",
            "Epoch 7/50\n",
            "40698/40698 [==============================] - 20s 480us/sample - loss: 403.2428 - model_1_loss: 3.8762 - model_1_1_loss: 3120.8083 - model_1_categorical_accuracy: 0.5597 - model_1_mean_squared_error: 0.0161 - model_1_1_categorical_accuracy: 0.0060 - model_1_1_mean_squared_error: 3121.2405\n",
            "Epoch 8/50\n",
            "40698/40698 [==============================] - 20s 480us/sample - loss: 391.3117 - model_1_loss: 3.7620 - model_1_1_loss: 3011.1719 - model_1_categorical_accuracy: 0.6383 - model_1_mean_squared_error: 0.0157 - model_1_1_categorical_accuracy: 0.0066 - model_1_1_mean_squared_error: 3011.3716\n",
            "Epoch 9/50\n",
            "40698/40698 [==============================] - 20s 481us/sample - loss: 385.0441 - model_1_loss: 3.7046 - model_1_1_loss: 2914.3992 - model_1_categorical_accuracy: 0.6893 - model_1_mean_squared_error: 0.0154 - model_1_1_categorical_accuracy: 0.0069 - model_1_1_mean_squared_error: 2914.7827\n",
            "Epoch 10/50\n",
            "40698/40698 [==============================] - 20s 482us/sample - loss: 380.7814 - model_1_loss: 3.6666 - model_1_1_loss: 2829.3347 - model_1_categorical_accuracy: 0.7116 - model_1_mean_squared_error: 0.0153 - model_1_1_categorical_accuracy: 0.0070 - model_1_1_mean_squared_error: 2829.5029\n",
            "Epoch 11/50\n",
            "40698/40698 [==============================] - 20s 481us/sample - loss: 377.2717 - model_1_loss: 3.6352 - model_1_1_loss: 2754.3347 - model_1_categorical_accuracy: 0.7279 - model_1_mean_squared_error: 0.0152 - model_1_1_categorical_accuracy: 0.0068 - model_1_1_mean_squared_error: 2754.5830\n",
            "Epoch 12/50\n",
            "40698/40698 [==============================] - 20s 482us/sample - loss: 373.5990 - model_1_loss: 3.6021 - model_1_1_loss: 2679.8362 - model_1_categorical_accuracy: 0.7391 - model_1_mean_squared_error: 0.0150 - model_1_1_categorical_accuracy: 0.0070 - model_1_1_mean_squared_error: 2680.0107\n",
            "Epoch 13/50\n",
            "40698/40698 [==============================] - 20s 480us/sample - loss: 371.3215 - model_1_loss: 3.5826 - model_1_1_loss: 2610.5781 - model_1_categorical_accuracy: 0.7440 - model_1_mean_squared_error: 0.0150 - model_1_1_categorical_accuracy: 0.0068 - model_1_1_mean_squared_error: 2610.8491\n",
            "Epoch 14/50\n",
            "40698/40698 [==============================] - 20s 482us/sample - loss: 368.2313 - model_1_loss: 3.5550 - model_1_1_loss: 2543.8599 - model_1_categorical_accuracy: 0.7470 - model_1_mean_squared_error: 0.0149 - model_1_1_categorical_accuracy: 0.0068 - model_1_1_mean_squared_error: 2544.0664\n",
            "Epoch 15/50\n",
            "40698/40698 [==============================] - 20s 482us/sample - loss: 365.4293 - model_1_loss: 3.5305 - model_1_1_loss: 2478.6023 - model_1_categorical_accuracy: 0.7538 - model_1_mean_squared_error: 0.0148 - model_1_1_categorical_accuracy: 0.0066 - model_1_1_mean_squared_error: 2478.8306\n",
            "Epoch 16/50\n",
            "40698/40698 [==============================] - 20s 483us/sample - loss: 363.5931 - model_1_loss: 3.5151 - model_1_1_loss: 2416.3123 - model_1_categorical_accuracy: 0.7576 - model_1_mean_squared_error: 0.0147 - model_1_1_categorical_accuracy: 0.0066 - model_1_1_mean_squared_error: 2416.5103\n",
            "Epoch 17/50\n",
            "40698/40698 [==============================] - 20s 484us/sample - loss: 361.2416 - model_1_loss: 3.4946 - model_1_1_loss: 2354.1733 - model_1_categorical_accuracy: 0.7615 - model_1_mean_squared_error: 0.0146 - model_1_1_categorical_accuracy: 0.0066 - model_1_1_mean_squared_error: 2354.4177\n",
            "Epoch 18/50\n",
            "40698/40698 [==============================] - 20s 483us/sample - loss: 359.5913 - model_1_loss: 3.4810 - model_1_1_loss: 2291.9016 - model_1_categorical_accuracy: 0.7642 - model_1_mean_squared_error: 0.0146 - model_1_1_categorical_accuracy: 0.0065 - model_1_1_mean_squared_error: 2292.0371\n",
            "Epoch 19/50\n",
            "40698/40698 [==============================] - 20s 482us/sample - loss: 357.7561 - model_1_loss: 3.4660 - model_1_1_loss: 2228.1428 - model_1_categorical_accuracy: 0.7658 - model_1_mean_squared_error: 0.0145 - model_1_1_categorical_accuracy: 0.0063 - model_1_1_mean_squared_error: 2228.2705\n",
            "Epoch 20/50\n",
            "40698/40698 [==============================] - 20s 481us/sample - loss: 355.6700 - model_1_loss: 3.4483 - model_1_1_loss: 2164.9624 - model_1_categorical_accuracy: 0.7680 - model_1_mean_squared_error: 0.0145 - model_1_1_categorical_accuracy: 0.0062 - model_1_1_mean_squared_error: 2165.1523\n",
            "Epoch 21/50\n",
            "40698/40698 [==============================] - 20s 482us/sample - loss: 353.2454 - model_1_loss: 3.4271 - model_1_1_loss: 2103.3188 - model_1_categorical_accuracy: 0.7681 - model_1_mean_squared_error: 0.0144 - model_1_1_categorical_accuracy: 0.0061 - model_1_1_mean_squared_error: 2103.5083\n",
            "Epoch 22/50\n",
            "40698/40698 [==============================] - 19s 474us/sample - loss: 350.3393 - model_1_loss: 3.4014 - model_1_1_loss: 2041.0973 - model_1_categorical_accuracy: 0.7658 - model_1_mean_squared_error: 0.0143 - model_1_1_categorical_accuracy: 0.0060 - model_1_1_mean_squared_error: 2041.3079\n",
            "Epoch 23/50\n",
            "40698/40698 [==============================] - 19s 475us/sample - loss: 347.7769 - model_1_loss: 3.3783 - model_1_1_loss: 1979.8635 - model_1_categorical_accuracy: 0.7661 - model_1_mean_squared_error: 0.0142 - model_1_1_categorical_accuracy: 0.0059 - model_1_1_mean_squared_error: 1979.9742\n",
            "Epoch 24/50\n",
            "40698/40698 [==============================] - 19s 475us/sample - loss: 344.9622 - model_1_loss: 3.3537 - model_1_1_loss: 1918.0701 - model_1_categorical_accuracy: 0.7671 - model_1_mean_squared_error: 0.0141 - model_1_1_categorical_accuracy: 0.0060 - model_1_1_mean_squared_error: 1918.2045\n",
            "Epoch 25/50\n",
            "40698/40698 [==============================] - 19s 475us/sample - loss: 342.8245 - model_1_loss: 3.3356 - model_1_1_loss: 1856.2942 - model_1_categorical_accuracy: 0.7673 - model_1_mean_squared_error: 0.0140 - model_1_1_categorical_accuracy: 0.0057 - model_1_1_mean_squared_error: 1856.5101\n",
            "Epoch 26/50\n",
            "40698/40698 [==============================] - 20s 480us/sample - loss: 340.6521 - model_1_loss: 3.3166 - model_1_1_loss: 1794.9912 - model_1_categorical_accuracy: 0.7694 - model_1_mean_squared_error: 0.0139 - model_1_1_categorical_accuracy: 0.0058 - model_1_1_mean_squared_error: 1795.2064\n",
            "Epoch 27/50\n",
            "40698/40698 [==============================] - 20s 482us/sample - loss: 338.9384 - model_1_loss: 3.3026 - model_1_1_loss: 1736.2285 - model_1_categorical_accuracy: 0.7725 - model_1_mean_squared_error: 0.0139 - model_1_1_categorical_accuracy: 0.0057 - model_1_1_mean_squared_error: 1736.3818\n",
            "Epoch 28/50\n",
            "40698/40698 [==============================] - 20s 479us/sample - loss: 337.6933 - model_1_loss: 3.2935 - model_1_1_loss: 1678.1185 - model_1_categorical_accuracy: 0.7732 - model_1_mean_squared_error: 0.0138 - model_1_1_categorical_accuracy: 0.0057 - model_1_1_mean_squared_error: 1678.3220\n",
            "Epoch 29/50\n",
            "40698/40698 [==============================] - 20s 481us/sample - loss: 335.5705 - model_1_loss: 3.2741 - model_1_1_loss: 1621.1208 - model_1_categorical_accuracy: 0.7737 - model_1_mean_squared_error: 0.0138 - model_1_1_categorical_accuracy: 0.0056 - model_1_1_mean_squared_error: 1621.1942\n",
            "Epoch 30/50\n",
            "40698/40698 [==============================] - 20s 483us/sample - loss: 334.2573 - model_1_loss: 3.2641 - model_1_1_loss: 1565.8273 - model_1_categorical_accuracy: 0.7751 - model_1_mean_squared_error: 0.0137 - model_1_1_categorical_accuracy: 0.0056 - model_1_1_mean_squared_error: 1565.9802\n",
            "Epoch 31/50\n",
            "40698/40698 [==============================] - 20s 482us/sample - loss: 332.5968 - model_1_loss: 3.2500 - model_1_1_loss: 1512.0422 - model_1_categorical_accuracy: 0.7759 - model_1_mean_squared_error: 0.0137 - model_1_1_categorical_accuracy: 0.0055 - model_1_1_mean_squared_error: 1512.1683\n",
            "Epoch 32/50\n",
            "40698/40698 [==============================] - 20s 482us/sample - loss: 330.4333 - model_1_loss: 3.2312 - model_1_1_loss: 1460.3971 - model_1_categorical_accuracy: 0.7764 - model_1_mean_squared_error: 0.0136 - model_1_1_categorical_accuracy: 0.0054 - model_1_1_mean_squared_error: 1460.5322\n",
            "Epoch 33/50\n",
            "40698/40698 [==============================] - 20s 482us/sample - loss: 327.7168 - model_1_loss: 3.2065 - model_1_1_loss: 1410.8811 - model_1_categorical_accuracy: 0.7774 - model_1_mean_squared_error: 0.0135 - model_1_1_categorical_accuracy: 0.0054 - model_1_1_mean_squared_error: 1411.0044\n",
            "Epoch 34/50\n",
            "40698/40698 [==============================] - 19s 473us/sample - loss: 325.2925 - model_1_loss: 3.1847 - model_1_1_loss: 1362.7521 - model_1_categorical_accuracy: 0.7750 - model_1_mean_squared_error: 0.0134 - model_1_1_categorical_accuracy: 0.0052 - model_1_1_mean_squared_error: 1362.8608\n",
            "Epoch 35/50\n",
            "40698/40698 [==============================] - 19s 475us/sample - loss: 322.5977 - model_1_loss: 3.1600 - model_1_1_loss: 1317.9091 - model_1_categorical_accuracy: 0.7765 - model_1_mean_squared_error: 0.0133 - model_1_1_categorical_accuracy: 0.0051 - model_1_1_mean_squared_error: 1318.0198\n",
            "Epoch 36/50\n",
            "40698/40698 [==============================] - 20s 482us/sample - loss: 320.7710 - model_1_loss: 3.1440 - model_1_1_loss: 1274.9895 - model_1_categorical_accuracy: 0.7811 - model_1_mean_squared_error: 0.0133 - model_1_1_categorical_accuracy: 0.0051 - model_1_1_mean_squared_error: 1275.1302\n",
            "Epoch 37/50\n",
            "40698/40698 [==============================] - 20s 482us/sample - loss: 319.3000 - model_1_loss: 3.1314 - model_1_1_loss: 1235.2887 - model_1_categorical_accuracy: 0.7811 - model_1_mean_squared_error: 0.0132 - model_1_1_categorical_accuracy: 0.0050 - model_1_1_mean_squared_error: 1235.3933\n",
            "Epoch 38/50\n",
            "40698/40698 [==============================] - 20s 482us/sample - loss: 317.3136 - model_1_loss: 3.1130 - model_1_1_loss: 1197.0385 - model_1_categorical_accuracy: 0.7842 - model_1_mean_squared_error: 0.0131 - model_1_1_categorical_accuracy: 0.0049 - model_1_1_mean_squared_error: 1197.1295\n",
            "Epoch 39/50\n",
            "40698/40698 [==============================] - 20s 483us/sample - loss: 315.7764 - model_1_loss: 3.1000 - model_1_1_loss: 1160.9916 - model_1_categorical_accuracy: 0.7868 - model_1_mean_squared_error: 0.0131 - model_1_1_categorical_accuracy: 0.0048 - model_1_1_mean_squared_error: 1161.1240\n",
            "Epoch 40/50\n",
            "40698/40698 [==============================] - 20s 483us/sample - loss: 314.4434 - model_1_loss: 3.0879 - model_1_1_loss: 1127.4923 - model_1_categorical_accuracy: 0.7888 - model_1_mean_squared_error: 0.0130 - model_1_1_categorical_accuracy: 0.0048 - model_1_1_mean_squared_error: 1127.6377\n",
            "Epoch 41/50\n",
            "40698/40698 [==============================] - 20s 482us/sample - loss: 313.6980 - model_1_loss: 3.0831 - model_1_1_loss: 1096.5602 - model_1_categorical_accuracy: 0.7903 - model_1_mean_squared_error: 0.0130 - model_1_1_categorical_accuracy: 0.0047 - model_1_1_mean_squared_error: 1096.7158\n",
            "Epoch 42/50\n",
            "40698/40698 [==============================] - 20s 482us/sample - loss: 312.2868 - model_1_loss: 3.0699 - model_1_1_loss: 1066.8269 - model_1_categorical_accuracy: 0.7914 - model_1_mean_squared_error: 0.0129 - model_1_1_categorical_accuracy: 0.0047 - model_1_1_mean_squared_error: 1066.9769\n",
            "Epoch 43/50\n",
            "40698/40698 [==============================] - 20s 482us/sample - loss: 311.2252 - model_1_loss: 3.0603 - model_1_1_loss: 1040.0385 - model_1_categorical_accuracy: 0.7926 - model_1_mean_squared_error: 0.0129 - model_1_1_categorical_accuracy: 0.0046 - model_1_1_mean_squared_error: 1040.1210\n",
            "Epoch 44/50\n",
            "40698/40698 [==============================] - 20s 481us/sample - loss: 310.4114 - model_1_loss: 3.0535 - model_1_1_loss: 1014.9985 - model_1_categorical_accuracy: 0.7935 - model_1_mean_squared_error: 0.0129 - model_1_1_categorical_accuracy: 0.0045 - model_1_1_mean_squared_error: 1015.0718\n",
            "Epoch 45/50\n",
            "40698/40698 [==============================] - 20s 482us/sample - loss: 309.8884 - model_1_loss: 3.0491 - model_1_1_loss: 991.4941 - model_1_categorical_accuracy: 0.7940 - model_1_mean_squared_error: 0.0128 - model_1_1_categorical_accuracy: 0.0046 - model_1_1_mean_squared_error: 991.5407\n",
            "Epoch 46/50\n",
            "40698/40698 [==============================] - 20s 482us/sample - loss: 308.9258 - model_1_loss: 3.0410 - model_1_1_loss: 969.7172 - model_1_categorical_accuracy: 0.7947 - model_1_mean_squared_error: 0.0128 - model_1_1_categorical_accuracy: 0.0045 - model_1_1_mean_squared_error: 969.7717\n",
            "Epoch 47/50\n",
            "40698/40698 [==============================] - 20s 481us/sample - loss: 308.1847 - model_1_loss: 3.0344 - model_1_1_loss: 949.3299 - model_1_categorical_accuracy: 0.7957 - model_1_mean_squared_error: 0.0128 - model_1_1_categorical_accuracy: 0.0044 - model_1_1_mean_squared_error: 949.3807\n",
            "Epoch 48/50\n",
            "40698/40698 [==============================] - 20s 481us/sample - loss: 307.5706 - model_1_loss: 3.0292 - model_1_1_loss: 930.5218 - model_1_categorical_accuracy: 0.7960 - model_1_mean_squared_error: 0.0127 - model_1_1_categorical_accuracy: 0.0044 - model_1_1_mean_squared_error: 930.5966\n",
            "Epoch 49/50\n",
            "40698/40698 [==============================] - 20s 482us/sample - loss: 306.7453 - model_1_loss: 3.0218 - model_1_1_loss: 912.9751 - model_1_categorical_accuracy: 0.7962 - model_1_mean_squared_error: 0.0127 - model_1_1_categorical_accuracy: 0.0044 - model_1_1_mean_squared_error: 913.0335\n",
            "Epoch 50/50\n",
            "40698/40698 [==============================] - 20s 481us/sample - loss: 306.2861 - model_1_loss: 3.0184 - model_1_1_loss: 896.9081 - model_1_categorical_accuracy: 0.7965 - model_1_mean_squared_error: 0.0127 - model_1_1_categorical_accuracy: 0.0044 - model_1_1_mean_squared_error: 896.9454\n"
          ],
          "name": "stdout"
        }
      ]
    },
    {
      "cell_type": "code",
      "metadata": {
        "id": "ibBz0FwpzLPw",
        "colab": {
          "base_uri": "https://localhost:8080/",
          "height": 583,
          "referenced_widgets": [
            "ae6a66576ca2494c9485dfc203d8d88b",
            "8461b0f09e1c4c19a237486c8a4379aa",
            "20b498c2344845448470a9a2bbbc0008",
            "b7156d3799f74c8f94b4e806648c6e21",
            "92bd2a5032d24f6cb69f1322dee347ce",
            "318f44729ca847a294f6807a42422855",
            "1ca60aaa08da4d23aa384c234a1051e0",
            "8bdf1025d3424c859de32610ed401e54"
          ]
        },
        "outputId": "9c18bc2e-792f-4154-8644-cb927ad367d5"
      },
      "source": [
        "# Erase model from memory\n",
        "# Finish wandb process\n",
        "\n",
        "tf.keras.backend.clear_session()\n",
        "del sen_em_model\n",
        "wandb_run.finish()"
      ],
      "execution_count": 51,
      "outputs": [
        {
          "output_type": "display_data",
          "data": {
            "text/html": [
              "<br/>Waiting for W&B process to finish, PID 1323<br/>Program ended successfully."
            ],
            "text/plain": [
              "<IPython.core.display.HTML object>"
            ]
          },
          "metadata": {
            "tags": []
          }
        },
        {
          "output_type": "display_data",
          "data": {
            "application/vnd.jupyter.widget-view+json": {
              "model_id": "ae6a66576ca2494c9485dfc203d8d88b",
              "version_minor": 0,
              "version_major": 2
            },
            "text/plain": [
              "VBox(children=(Label(value=' 0.00MB of 0.00MB uploaded (0.00MB deduped)\\r'), FloatProgress(value=1.0, max=1.0)…"
            ]
          },
          "metadata": {
            "tags": []
          }
        },
        {
          "output_type": "display_data",
          "data": {
            "text/html": [
              "Find user logs for this run at: <code>/content/wandb/run-20201203_094702-38s909gy/logs/debug.log</code>"
            ],
            "text/plain": [
              "<IPython.core.display.HTML object>"
            ]
          },
          "metadata": {
            "tags": []
          }
        },
        {
          "output_type": "display_data",
          "data": {
            "text/html": [
              "Find internal logs for this run at: <code>/content/wandb/run-20201203_094702-38s909gy/logs/debug-internal.log</code>"
            ],
            "text/plain": [
              "<IPython.core.display.HTML object>"
            ]
          },
          "metadata": {
            "tags": []
          }
        },
        {
          "output_type": "display_data",
          "data": {
            "text/html": [
              "<h3>Run summary:</h3><br/><style>\n",
              "    table.wandb td:nth-child(1) { padding: 0 10px; text-align: right }\n",
              "    </style><table class=\"wandb\">\n",
              "<tr><td>temp_loss</td><td>306.28614</td></tr><tr><td>_step</td><td>8199</td></tr><tr><td>_runtime</td><td>1011</td></tr><tr><td>_timestamp</td><td>1606989833</td></tr><tr><td>temp_linguistic_loss</td><td>3.01835</td></tr><tr><td>temp_acoustic_loss</td><td>896.90808</td></tr><tr><td>temp_linguistic_accuracy</td><td>0.7965</td></tr></table>"
            ],
            "text/plain": [
              "<IPython.core.display.HTML object>"
            ]
          },
          "metadata": {
            "tags": []
          }
        },
        {
          "output_type": "display_data",
          "data": {
            "text/html": [
              "<h3>Run history:</h3><br/><style>\n",
              "    table.wandb td:nth-child(1) { padding: 0 10px; text-align: right }\n",
              "    </style><table class=\"wandb\">\n",
              "<tr><td>temp_loss</td><td>██▅▃▂▂▂▂▂▂▂▂▁▁▁▁▁▁▁▁▁▁▁▁▁▁▁▁▁▁▁▁▁▁▁▁▁▁▁▁</td></tr><tr><td>_step</td><td>▁▁▁▁▂▂▂▂▂▃▃▃▃▃▃▄▄▄▄▄▅▅▅▅▅▅▆▆▆▆▆▇▇▇▇▇▇███</td></tr><tr><td>_runtime</td><td>▁▁▁▁▂▂▂▂▂▃▃▃▃▃▃▄▄▄▄▄▅▅▅▅▅▅▆▆▆▆▆▇▇▇▇▇████</td></tr><tr><td>_timestamp</td><td>▁▁▁▁▂▂▂▂▂▃▃▃▃▃▃▄▄▄▄▄▅▅▅▅▅▅▆▆▆▆▆▇▇▇▇▇████</td></tr><tr><td>temp_linguistic_loss</td><td>██▅▄▂▂▂▂▂▂▁▂▁▁▁▁▁▁▁▁▁▁▁▁▁▁▁▁▁▁▁▁▁▁▁▁▁▁▁▁</td></tr><tr><td>temp_acoustic_loss</td><td>█▇▅▅▄▄▄▄▄▃▃▃▃▃▃▃▃▃▂▂▂▂▂▂▂▂▂▂▂▁▁▁▁▁▁▁▁▁▁▁</td></tr><tr><td>temp_linguistic_accuracy</td><td>▁▁▂▂▄▆▆▇▇▇██████████████████████████████</td></tr></table><br/>"
            ],
            "text/plain": [
              "<IPython.core.display.HTML object>"
            ]
          },
          "metadata": {
            "tags": []
          }
        },
        {
          "output_type": "display_data",
          "data": {
            "text/html": [
              "Synced 5 W&B file(s), 0 media file(s), 0 artifact file(s) and 0 other file(s)"
            ],
            "text/plain": [
              "<IPython.core.display.HTML object>"
            ]
          },
          "metadata": {
            "tags": []
          }
        },
        {
          "output_type": "display_data",
          "data": {
            "text/html": [
              "\n",
              "                    <br/>Synced <strong style=\"color:#cdcd00\">sentenceEM</strong>: <a href=\"https://wandb.ai/awesomericky/Speech2Pickup/runs/38s909gy\" target=\"_blank\">https://wandb.ai/awesomericky/Speech2Pickup/runs/38s909gy</a><br/>\n",
              "                "
            ],
            "text/plain": [
              "<IPython.core.display.HTML object>"
            ]
          },
          "metadata": {
            "tags": []
          }
        }
      ]
    },
    {
      "cell_type": "code",
      "metadata": {
        "id": "0JyMoCwrTa00",
        "colab": {
          "base_uri": "https://localhost:8080/"
        },
        "outputId": "01f25fba-8be5-4f17-e8a3-3982d108c6ea"
      },
      "source": [
        "x = tf.convert_to_tensor(np.random.random((batch_size, 40, 303)), dtype=np.float32)   # batch, dim, seq_len\n",
        "l_y, a_y = sen_em_model.model(x)\n",
        "embed = sen_em_model.encoder_model(x)\n",
        "print(kb.eval(embed).shape)\n",
        "\n",
        "print('='*20)\n",
        "print(kb.eval(l_y).shape)\n",
        "print(kb.eval(a_y).shape)\n",
        "# print(len(kb.eval(l_y)[0,:,0]))\n",
        "print('='*20)\n",
        "print(np.sum(kb.eval(l_y)[0,:,0]))\n",
        "print(np.sum(kb.eval(l_y)[0,:,100]))"
      ],
      "execution_count": 15,
      "outputs": [
        {
          "output_type": "stream",
          "text": [
            "WARNING:tensorflow:Entity <bound method TempConvnet.call of <__main__.TempConvnet object at 0x7ff961016c18>> could not be transformed and will be executed as-is. Please report this to the AutoGraph team. When filing the bug, set the verbosity to 10 (on Linux, `export AUTOGRAPH_VERBOSITY=10`) and attach the full output. Cause: module 'gast' has no attribute 'Num'\n",
            "WARNING: Entity <bound method TempConvnet.call of <__main__.TempConvnet object at 0x7ff961016c18>> could not be transformed and will be executed as-is. Please report this to the AutoGraph team. When filing the bug, set the verbosity to 10 (on Linux, `export AUTOGRAPH_VERBOSITY=10`) and attach the full output. Cause: module 'gast' has no attribute 'Num'\n",
            "WARNING:tensorflow:Entity <bound method TemporalBlock.call of <__main__.TemporalBlock object at 0x7ff961016e48>> could not be transformed and will be executed as-is. Please report this to the AutoGraph team. When filing the bug, set the verbosity to 10 (on Linux, `export AUTOGRAPH_VERBOSITY=10`) and attach the full output. Cause: module 'gast' has no attribute 'Num'\n",
            "WARNING: Entity <bound method TemporalBlock.call of <__main__.TemporalBlock object at 0x7ff961016e48>> could not be transformed and will be executed as-is. Please report this to the AutoGraph team. When filing the bug, set the verbosity to 10 (on Linux, `export AUTOGRAPH_VERBOSITY=10`) and attach the full output. Cause: module 'gast' has no attribute 'Num'\n",
            "WARNING:tensorflow:Entity <bound method ResidualBlock.call of <__main__.ResidualBlock object at 0x7ff96100f080>> could not be transformed and will be executed as-is. Please report this to the AutoGraph team. When filing the bug, set the verbosity to 10 (on Linux, `export AUTOGRAPH_VERBOSITY=10`) and attach the full output. Cause: module 'gast' has no attribute 'Num'\n",
            "WARNING: Entity <bound method ResidualBlock.call of <__main__.ResidualBlock object at 0x7ff96100f080>> could not be transformed and will be executed as-is. Please report this to the AutoGraph team. When filing the bug, set the verbosity to 10 (on Linux, `export AUTOGRAPH_VERBOSITY=10`) and attach the full output. Cause: module 'gast' has no attribute 'Num'\n",
            "WARNING:tensorflow:Entity <bound method ResidualBlock.call of <__main__.ResidualBlock object at 0x7ff961011c18>> could not be transformed and will be executed as-is. Please report this to the AutoGraph team. When filing the bug, set the verbosity to 10 (on Linux, `export AUTOGRAPH_VERBOSITY=10`) and attach the full output. Cause: module 'gast' has no attribute 'Num'\n",
            "WARNING: Entity <bound method ResidualBlock.call of <__main__.ResidualBlock object at 0x7ff961011c18>> could not be transformed and will be executed as-is. Please report this to the AutoGraph team. When filing the bug, set the verbosity to 10 (on Linux, `export AUTOGRAPH_VERBOSITY=10`) and attach the full output. Cause: module 'gast' has no attribute 'Num'\n",
            "WARNING:tensorflow:Entity <bound method ResidualBlock.call of <__main__.ResidualBlock object at 0x7ff8f35207f0>> could not be transformed and will be executed as-is. Please report this to the AutoGraph team. When filing the bug, set the verbosity to 10 (on Linux, `export AUTOGRAPH_VERBOSITY=10`) and attach the full output. Cause: module 'gast' has no attribute 'Num'\n",
            "WARNING: Entity <bound method ResidualBlock.call of <__main__.ResidualBlock object at 0x7ff8f35207f0>> could not be transformed and will be executed as-is. Please report this to the AutoGraph team. When filing the bug, set the verbosity to 10 (on Linux, `export AUTOGRAPH_VERBOSITY=10`) and attach the full output. Cause: module 'gast' has no attribute 'Num'\n",
            "WARNING:tensorflow:Entity <bound method ResidualBlock.call of <__main__.ResidualBlock object at 0x7ff8f352c390>> could not be transformed and will be executed as-is. Please report this to the AutoGraph team. When filing the bug, set the verbosity to 10 (on Linux, `export AUTOGRAPH_VERBOSITY=10`) and attach the full output. Cause: module 'gast' has no attribute 'Num'\n",
            "WARNING: Entity <bound method ResidualBlock.call of <__main__.ResidualBlock object at 0x7ff8f352c390>> could not be transformed and will be executed as-is. Please report this to the AutoGraph team. When filing the bug, set the verbosity to 10 (on Linux, `export AUTOGRAPH_VERBOSITY=10`) and attach the full output. Cause: module 'gast' has no attribute 'Num'\n",
            "WARNING:tensorflow:Entity <bound method ResidualBlock.call of <__main__.ResidualBlock object at 0x7ff8f3531f60>> could not be transformed and will be executed as-is. Please report this to the AutoGraph team. When filing the bug, set the verbosity to 10 (on Linux, `export AUTOGRAPH_VERBOSITY=10`) and attach the full output. Cause: module 'gast' has no attribute 'Num'\n",
            "WARNING: Entity <bound method ResidualBlock.call of <__main__.ResidualBlock object at 0x7ff8f3531f60>> could not be transformed and will be executed as-is. Please report this to the AutoGraph team. When filing the bug, set the verbosity to 10 (on Linux, `export AUTOGRAPH_VERBOSITY=10`) and attach the full output. Cause: module 'gast' has no attribute 'Num'\n",
            "WARNING:tensorflow:Entity <bound method ResidualBlock.call of <__main__.ResidualBlock object at 0x7ff8f353ab38>> could not be transformed and will be executed as-is. Please report this to the AutoGraph team. When filing the bug, set the verbosity to 10 (on Linux, `export AUTOGRAPH_VERBOSITY=10`) and attach the full output. Cause: module 'gast' has no attribute 'Num'\n",
            "WARNING: Entity <bound method ResidualBlock.call of <__main__.ResidualBlock object at 0x7ff8f353ab38>> could not be transformed and will be executed as-is. Please report this to the AutoGraph team. When filing the bug, set the verbosity to 10 (on Linux, `export AUTOGRAPH_VERBOSITY=10`) and attach the full output. Cause: module 'gast' has no attribute 'Num'\n",
            "WARNING:tensorflow:Entity <bound method TemporalBlock.call of <__main__.TemporalBlock object at 0x7ff8f3547710>> could not be transformed and will be executed as-is. Please report this to the AutoGraph team. When filing the bug, set the verbosity to 10 (on Linux, `export AUTOGRAPH_VERBOSITY=10`) and attach the full output. Cause: module 'gast' has no attribute 'Num'\n",
            "WARNING: Entity <bound method TemporalBlock.call of <__main__.TemporalBlock object at 0x7ff8f3547710>> could not be transformed and will be executed as-is. Please report this to the AutoGraph team. When filing the bug, set the verbosity to 10 (on Linux, `export AUTOGRAPH_VERBOSITY=10`) and attach the full output. Cause: module 'gast' has no attribute 'Num'\n",
            "WARNING:tensorflow:Entity <bound method ResidualBlock.call of <__main__.ResidualBlock object at 0x7ff8f3547908>> could not be transformed and will be executed as-is. Please report this to the AutoGraph team. When filing the bug, set the verbosity to 10 (on Linux, `export AUTOGRAPH_VERBOSITY=10`) and attach the full output. Cause: module 'gast' has no attribute 'Num'\n",
            "WARNING: Entity <bound method ResidualBlock.call of <__main__.ResidualBlock object at 0x7ff8f3547908>> could not be transformed and will be executed as-is. Please report this to the AutoGraph team. When filing the bug, set the verbosity to 10 (on Linux, `export AUTOGRAPH_VERBOSITY=10`) and attach the full output. Cause: module 'gast' has no attribute 'Num'\n",
            "WARNING:tensorflow:Entity <bound method ResidualBlock.call of <__main__.ResidualBlock object at 0x7ff8f34d44e0>> could not be transformed and will be executed as-is. Please report this to the AutoGraph team. When filing the bug, set the verbosity to 10 (on Linux, `export AUTOGRAPH_VERBOSITY=10`) and attach the full output. Cause: module 'gast' has no attribute 'Num'\n",
            "WARNING: Entity <bound method ResidualBlock.call of <__main__.ResidualBlock object at 0x7ff8f34d44e0>> could not be transformed and will be executed as-is. Please report this to the AutoGraph team. When filing the bug, set the verbosity to 10 (on Linux, `export AUTOGRAPH_VERBOSITY=10`) and attach the full output. Cause: module 'gast' has no attribute 'Num'\n",
            "WARNING:tensorflow:Entity <bound method ResidualBlock.call of <__main__.ResidualBlock object at 0x7ff8f34e10b8>> could not be transformed and will be executed as-is. Please report this to the AutoGraph team. When filing the bug, set the verbosity to 10 (on Linux, `export AUTOGRAPH_VERBOSITY=10`) and attach the full output. Cause: module 'gast' has no attribute 'Num'\n",
            "WARNING: Entity <bound method ResidualBlock.call of <__main__.ResidualBlock object at 0x7ff8f34e10b8>> could not be transformed and will be executed as-is. Please report this to the AutoGraph team. When filing the bug, set the verbosity to 10 (on Linux, `export AUTOGRAPH_VERBOSITY=10`) and attach the full output. Cause: module 'gast' has no attribute 'Num'\n",
            "WARNING:tensorflow:Entity <bound method ResidualBlock.call of <__main__.ResidualBlock object at 0x7ff8f34ebc50>> could not be transformed and will be executed as-is. Please report this to the AutoGraph team. When filing the bug, set the verbosity to 10 (on Linux, `export AUTOGRAPH_VERBOSITY=10`) and attach the full output. Cause: module 'gast' has no attribute 'Num'\n",
            "WARNING: Entity <bound method ResidualBlock.call of <__main__.ResidualBlock object at 0x7ff8f34ebc50>> could not be transformed and will be executed as-is. Please report this to the AutoGraph team. When filing the bug, set the verbosity to 10 (on Linux, `export AUTOGRAPH_VERBOSITY=10`) and attach the full output. Cause: module 'gast' has no attribute 'Num'\n",
            "WARNING:tensorflow:Entity <bound method ResidualBlock.call of <__main__.ResidualBlock object at 0x7ff8f34f9828>> could not be transformed and will be executed as-is. Please report this to the AutoGraph team. When filing the bug, set the verbosity to 10 (on Linux, `export AUTOGRAPH_VERBOSITY=10`) and attach the full output. Cause: module 'gast' has no attribute 'Num'\n",
            "WARNING: Entity <bound method ResidualBlock.call of <__main__.ResidualBlock object at 0x7ff8f34f9828>> could not be transformed and will be executed as-is. Please report this to the AutoGraph team. When filing the bug, set the verbosity to 10 (on Linux, `export AUTOGRAPH_VERBOSITY=10`) and attach the full output. Cause: module 'gast' has no attribute 'Num'\n",
            "WARNING:tensorflow:Entity <bound method ResidualBlock.call of <__main__.ResidualBlock object at 0x7ff8f3509400>> could not be transformed and will be executed as-is. Please report this to the AutoGraph team. When filing the bug, set the verbosity to 10 (on Linux, `export AUTOGRAPH_VERBOSITY=10`) and attach the full output. Cause: module 'gast' has no attribute 'Num'\n",
            "WARNING: Entity <bound method ResidualBlock.call of <__main__.ResidualBlock object at 0x7ff8f3509400>> could not be transformed and will be executed as-is. Please report this to the AutoGraph team. When filing the bug, set the verbosity to 10 (on Linux, `export AUTOGRAPH_VERBOSITY=10`) and attach the full output. Cause: module 'gast' has no attribute 'Num'\n",
            "WARNING:tensorflow:Entity <bound method TemporalBlock.call of <__main__.TemporalBlock object at 0x7ff8f348ff98>> could not be transformed and will be executed as-is. Please report this to the AutoGraph team. When filing the bug, set the verbosity to 10 (on Linux, `export AUTOGRAPH_VERBOSITY=10`) and attach the full output. Cause: module 'gast' has no attribute 'Num'\n",
            "WARNING: Entity <bound method TemporalBlock.call of <__main__.TemporalBlock object at 0x7ff8f348ff98>> could not be transformed and will be executed as-is. Please report this to the AutoGraph team. When filing the bug, set the verbosity to 10 (on Linux, `export AUTOGRAPH_VERBOSITY=10`) and attach the full output. Cause: module 'gast' has no attribute 'Num'\n",
            "WARNING:tensorflow:Entity <bound method ResidualBlock.call of <__main__.ResidualBlock object at 0x7ff8f34971d0>> could not be transformed and will be executed as-is. Please report this to the AutoGraph team. When filing the bug, set the verbosity to 10 (on Linux, `export AUTOGRAPH_VERBOSITY=10`) and attach the full output. Cause: module 'gast' has no attribute 'Num'\n",
            "WARNING: Entity <bound method ResidualBlock.call of <__main__.ResidualBlock object at 0x7ff8f34971d0>> could not be transformed and will be executed as-is. Please report this to the AutoGraph team. When filing the bug, set the verbosity to 10 (on Linux, `export AUTOGRAPH_VERBOSITY=10`) and attach the full output. Cause: module 'gast' has no attribute 'Num'\n",
            "WARNING:tensorflow:Entity <bound method ResidualBlock.call of <__main__.ResidualBlock object at 0x7ff8f34a0d68>> could not be transformed and will be executed as-is. Please report this to the AutoGraph team. When filing the bug, set the verbosity to 10 (on Linux, `export AUTOGRAPH_VERBOSITY=10`) and attach the full output. Cause: module 'gast' has no attribute 'Num'\n",
            "WARNING: Entity <bound method ResidualBlock.call of <__main__.ResidualBlock object at 0x7ff8f34a0d68>> could not be transformed and will be executed as-is. Please report this to the AutoGraph team. When filing the bug, set the verbosity to 10 (on Linux, `export AUTOGRAPH_VERBOSITY=10`) and attach the full output. Cause: module 'gast' has no attribute 'Num'\n",
            "WARNING:tensorflow:Entity <bound method ResidualBlock.call of <__main__.ResidualBlock object at 0x7ff8f34b1940>> could not be transformed and will be executed as-is. Please report this to the AutoGraph team. When filing the bug, set the verbosity to 10 (on Linux, `export AUTOGRAPH_VERBOSITY=10`) and attach the full output. Cause: module 'gast' has no attribute 'Num'\n",
            "WARNING: Entity <bound method ResidualBlock.call of <__main__.ResidualBlock object at 0x7ff8f34b1940>> could not be transformed and will be executed as-is. Please report this to the AutoGraph team. When filing the bug, set the verbosity to 10 (on Linux, `export AUTOGRAPH_VERBOSITY=10`) and attach the full output. Cause: module 'gast' has no attribute 'Num'\n",
            "WARNING:tensorflow:Entity <bound method ResidualBlock.call of <__main__.ResidualBlock object at 0x7ff8f34bf6a0>> could not be transformed and will be executed as-is. Please report this to the AutoGraph team. When filing the bug, set the verbosity to 10 (on Linux, `export AUTOGRAPH_VERBOSITY=10`) and attach the full output. Cause: module 'gast' has no attribute 'Num'\n",
            "WARNING: Entity <bound method ResidualBlock.call of <__main__.ResidualBlock object at 0x7ff8f34bf6a0>> could not be transformed and will be executed as-is. Please report this to the AutoGraph team. When filing the bug, set the verbosity to 10 (on Linux, `export AUTOGRAPH_VERBOSITY=10`) and attach the full output. Cause: module 'gast' has no attribute 'Num'\n",
            "WARNING:tensorflow:Entity <bound method ResidualBlock.call of <__main__.ResidualBlock object at 0x7ff8f344d470>> could not be transformed and will be executed as-is. Please report this to the AutoGraph team. When filing the bug, set the verbosity to 10 (on Linux, `export AUTOGRAPH_VERBOSITY=10`) and attach the full output. Cause: module 'gast' has no attribute 'Num'\n",
            "WARNING: Entity <bound method ResidualBlock.call of <__main__.ResidualBlock object at 0x7ff8f344d470>> could not be transformed and will be executed as-is. Please report this to the AutoGraph team. When filing the bug, set the verbosity to 10 (on Linux, `export AUTOGRAPH_VERBOSITY=10`) and attach the full output. Cause: module 'gast' has no attribute 'Num'\n",
            "WARNING:tensorflow:Entity <bound method ResidualBlock.call of <__main__.ResidualBlock object at 0x7ff8f345c240>> could not be transformed and will be executed as-is. Please report this to the AutoGraph team. When filing the bug, set the verbosity to 10 (on Linux, `export AUTOGRAPH_VERBOSITY=10`) and attach the full output. Cause: module 'gast' has no attribute 'Num'\n",
            "WARNING: Entity <bound method ResidualBlock.call of <__main__.ResidualBlock object at 0x7ff8f345c240>> could not be transformed and will be executed as-is. Please report this to the AutoGraph team. When filing the bug, set the verbosity to 10 (on Linux, `export AUTOGRAPH_VERBOSITY=10`) and attach the full output. Cause: module 'gast' has no attribute 'Num'\n",
            "WARNING:tensorflow:Entity <bound method TempConvnet_Decoder.call of <__main__.TempConvnet_Decoder object at 0x7ff8f3413d68>> could not be transformed and will be executed as-is. Please report this to the AutoGraph team. When filing the bug, set the verbosity to 10 (on Linux, `export AUTOGRAPH_VERBOSITY=10`) and attach the full output. Cause: module 'gast' has no attribute 'Num'\n",
            "WARNING: Entity <bound method TempConvnet_Decoder.call of <__main__.TempConvnet_Decoder object at 0x7ff8f3413d68>> could not be transformed and will be executed as-is. Please report this to the AutoGraph team. When filing the bug, set the verbosity to 10 (on Linux, `export AUTOGRAPH_VERBOSITY=10`) and attach the full output. Cause: module 'gast' has no attribute 'Num'\n",
            "WARNING:tensorflow:Entity <bound method TempConvnet_Decoder.call of <__main__.TempConvnet_Decoder object at 0x7ff8f346a048>> could not be transformed and will be executed as-is. Please report this to the AutoGraph team. When filing the bug, set the verbosity to 10 (on Linux, `export AUTOGRAPH_VERBOSITY=10`) and attach the full output. Cause: module 'gast' has no attribute 'Num'\n",
            "WARNING: Entity <bound method TempConvnet_Decoder.call of <__main__.TempConvnet_Decoder object at 0x7ff8f346a048>> could not be transformed and will be executed as-is. Please report this to the AutoGraph team. When filing the bug, set the verbosity to 10 (on Linux, `export AUTOGRAPH_VERBOSITY=10`) and attach the full output. Cause: module 'gast' has no attribute 'Num'\n",
            "WARNING:tensorflow:Entity <bound method TempConvnet.call of <__main__.TempConvnet object at 0x7ff961016c18>> could not be transformed and will be executed as-is. Please report this to the AutoGraph team. When filing the bug, set the verbosity to 10 (on Linux, `export AUTOGRAPH_VERBOSITY=10`) and attach the full output. Cause: module 'gast' has no attribute 'Num'\n",
            "WARNING: Entity <bound method TempConvnet.call of <__main__.TempConvnet object at 0x7ff961016c18>> could not be transformed and will be executed as-is. Please report this to the AutoGraph team. When filing the bug, set the verbosity to 10 (on Linux, `export AUTOGRAPH_VERBOSITY=10`) and attach the full output. Cause: module 'gast' has no attribute 'Num'\n",
            "WARNING:tensorflow:Entity <bound method TemporalBlock.call of <__main__.TemporalBlock object at 0x7ff961016e48>> could not be transformed and will be executed as-is. Please report this to the AutoGraph team. When filing the bug, set the verbosity to 10 (on Linux, `export AUTOGRAPH_VERBOSITY=10`) and attach the full output. Cause: module 'gast' has no attribute 'Num'\n",
            "WARNING: Entity <bound method TemporalBlock.call of <__main__.TemporalBlock object at 0x7ff961016e48>> could not be transformed and will be executed as-is. Please report this to the AutoGraph team. When filing the bug, set the verbosity to 10 (on Linux, `export AUTOGRAPH_VERBOSITY=10`) and attach the full output. Cause: module 'gast' has no attribute 'Num'\n",
            "WARNING:tensorflow:Entity <bound method ResidualBlock.call of <__main__.ResidualBlock object at 0x7ff96100f080>> could not be transformed and will be executed as-is. Please report this to the AutoGraph team. When filing the bug, set the verbosity to 10 (on Linux, `export AUTOGRAPH_VERBOSITY=10`) and attach the full output. Cause: module 'gast' has no attribute 'Num'\n",
            "WARNING: Entity <bound method ResidualBlock.call of <__main__.ResidualBlock object at 0x7ff96100f080>> could not be transformed and will be executed as-is. Please report this to the AutoGraph team. When filing the bug, set the verbosity to 10 (on Linux, `export AUTOGRAPH_VERBOSITY=10`) and attach the full output. Cause: module 'gast' has no attribute 'Num'\n",
            "WARNING:tensorflow:Entity <bound method ResidualBlock.call of <__main__.ResidualBlock object at 0x7ff961011c18>> could not be transformed and will be executed as-is. Please report this to the AutoGraph team. When filing the bug, set the verbosity to 10 (on Linux, `export AUTOGRAPH_VERBOSITY=10`) and attach the full output. Cause: module 'gast' has no attribute 'Num'\n",
            "WARNING: Entity <bound method ResidualBlock.call of <__main__.ResidualBlock object at 0x7ff961011c18>> could not be transformed and will be executed as-is. Please report this to the AutoGraph team. When filing the bug, set the verbosity to 10 (on Linux, `export AUTOGRAPH_VERBOSITY=10`) and attach the full output. Cause: module 'gast' has no attribute 'Num'\n",
            "WARNING:tensorflow:Entity <bound method ResidualBlock.call of <__main__.ResidualBlock object at 0x7ff8f35207f0>> could not be transformed and will be executed as-is. Please report this to the AutoGraph team. When filing the bug, set the verbosity to 10 (on Linux, `export AUTOGRAPH_VERBOSITY=10`) and attach the full output. Cause: module 'gast' has no attribute 'Num'\n",
            "WARNING: Entity <bound method ResidualBlock.call of <__main__.ResidualBlock object at 0x7ff8f35207f0>> could not be transformed and will be executed as-is. Please report this to the AutoGraph team. When filing the bug, set the verbosity to 10 (on Linux, `export AUTOGRAPH_VERBOSITY=10`) and attach the full output. Cause: module 'gast' has no attribute 'Num'\n",
            "WARNING:tensorflow:Entity <bound method ResidualBlock.call of <__main__.ResidualBlock object at 0x7ff8f352c390>> could not be transformed and will be executed as-is. Please report this to the AutoGraph team. When filing the bug, set the verbosity to 10 (on Linux, `export AUTOGRAPH_VERBOSITY=10`) and attach the full output. Cause: module 'gast' has no attribute 'Num'\n",
            "WARNING: Entity <bound method ResidualBlock.call of <__main__.ResidualBlock object at 0x7ff8f352c390>> could not be transformed and will be executed as-is. Please report this to the AutoGraph team. When filing the bug, set the verbosity to 10 (on Linux, `export AUTOGRAPH_VERBOSITY=10`) and attach the full output. Cause: module 'gast' has no attribute 'Num'\n",
            "WARNING:tensorflow:Entity <bound method ResidualBlock.call of <__main__.ResidualBlock object at 0x7ff8f3531f60>> could not be transformed and will be executed as-is. Please report this to the AutoGraph team. When filing the bug, set the verbosity to 10 (on Linux, `export AUTOGRAPH_VERBOSITY=10`) and attach the full output. Cause: module 'gast' has no attribute 'Num'\n",
            "WARNING: Entity <bound method ResidualBlock.call of <__main__.ResidualBlock object at 0x7ff8f3531f60>> could not be transformed and will be executed as-is. Please report this to the AutoGraph team. When filing the bug, set the verbosity to 10 (on Linux, `export AUTOGRAPH_VERBOSITY=10`) and attach the full output. Cause: module 'gast' has no attribute 'Num'\n",
            "WARNING:tensorflow:Entity <bound method ResidualBlock.call of <__main__.ResidualBlock object at 0x7ff8f353ab38>> could not be transformed and will be executed as-is. Please report this to the AutoGraph team. When filing the bug, set the verbosity to 10 (on Linux, `export AUTOGRAPH_VERBOSITY=10`) and attach the full output. Cause: module 'gast' has no attribute 'Num'\n",
            "WARNING: Entity <bound method ResidualBlock.call of <__main__.ResidualBlock object at 0x7ff8f353ab38>> could not be transformed and will be executed as-is. Please report this to the AutoGraph team. When filing the bug, set the verbosity to 10 (on Linux, `export AUTOGRAPH_VERBOSITY=10`) and attach the full output. Cause: module 'gast' has no attribute 'Num'\n",
            "WARNING:tensorflow:Entity <bound method TemporalBlock.call of <__main__.TemporalBlock object at 0x7ff8f3547710>> could not be transformed and will be executed as-is. Please report this to the AutoGraph team. When filing the bug, set the verbosity to 10 (on Linux, `export AUTOGRAPH_VERBOSITY=10`) and attach the full output. Cause: module 'gast' has no attribute 'Num'\n",
            "WARNING: Entity <bound method TemporalBlock.call of <__main__.TemporalBlock object at 0x7ff8f3547710>> could not be transformed and will be executed as-is. Please report this to the AutoGraph team. When filing the bug, set the verbosity to 10 (on Linux, `export AUTOGRAPH_VERBOSITY=10`) and attach the full output. Cause: module 'gast' has no attribute 'Num'\n",
            "WARNING:tensorflow:Entity <bound method ResidualBlock.call of <__main__.ResidualBlock object at 0x7ff8f3547908>> could not be transformed and will be executed as-is. Please report this to the AutoGraph team. When filing the bug, set the verbosity to 10 (on Linux, `export AUTOGRAPH_VERBOSITY=10`) and attach the full output. Cause: module 'gast' has no attribute 'Num'\n",
            "WARNING: Entity <bound method ResidualBlock.call of <__main__.ResidualBlock object at 0x7ff8f3547908>> could not be transformed and will be executed as-is. Please report this to the AutoGraph team. When filing the bug, set the verbosity to 10 (on Linux, `export AUTOGRAPH_VERBOSITY=10`) and attach the full output. Cause: module 'gast' has no attribute 'Num'\n",
            "WARNING:tensorflow:Entity <bound method ResidualBlock.call of <__main__.ResidualBlock object at 0x7ff8f34d44e0>> could not be transformed and will be executed as-is. Please report this to the AutoGraph team. When filing the bug, set the verbosity to 10 (on Linux, `export AUTOGRAPH_VERBOSITY=10`) and attach the full output. Cause: module 'gast' has no attribute 'Num'\n",
            "WARNING: Entity <bound method ResidualBlock.call of <__main__.ResidualBlock object at 0x7ff8f34d44e0>> could not be transformed and will be executed as-is. Please report this to the AutoGraph team. When filing the bug, set the verbosity to 10 (on Linux, `export AUTOGRAPH_VERBOSITY=10`) and attach the full output. Cause: module 'gast' has no attribute 'Num'\n",
            "WARNING:tensorflow:Entity <bound method ResidualBlock.call of <__main__.ResidualBlock object at 0x7ff8f34e10b8>> could not be transformed and will be executed as-is. Please report this to the AutoGraph team. When filing the bug, set the verbosity to 10 (on Linux, `export AUTOGRAPH_VERBOSITY=10`) and attach the full output. Cause: module 'gast' has no attribute 'Num'\n",
            "WARNING: Entity <bound method ResidualBlock.call of <__main__.ResidualBlock object at 0x7ff8f34e10b8>> could not be transformed and will be executed as-is. Please report this to the AutoGraph team. When filing the bug, set the verbosity to 10 (on Linux, `export AUTOGRAPH_VERBOSITY=10`) and attach the full output. Cause: module 'gast' has no attribute 'Num'\n",
            "WARNING:tensorflow:Entity <bound method ResidualBlock.call of <__main__.ResidualBlock object at 0x7ff8f34ebc50>> could not be transformed and will be executed as-is. Please report this to the AutoGraph team. When filing the bug, set the verbosity to 10 (on Linux, `export AUTOGRAPH_VERBOSITY=10`) and attach the full output. Cause: module 'gast' has no attribute 'Num'\n",
            "WARNING: Entity <bound method ResidualBlock.call of <__main__.ResidualBlock object at 0x7ff8f34ebc50>> could not be transformed and will be executed as-is. Please report this to the AutoGraph team. When filing the bug, set the verbosity to 10 (on Linux, `export AUTOGRAPH_VERBOSITY=10`) and attach the full output. Cause: module 'gast' has no attribute 'Num'\n",
            "WARNING:tensorflow:Entity <bound method ResidualBlock.call of <__main__.ResidualBlock object at 0x7ff8f34f9828>> could not be transformed and will be executed as-is. Please report this to the AutoGraph team. When filing the bug, set the verbosity to 10 (on Linux, `export AUTOGRAPH_VERBOSITY=10`) and attach the full output. Cause: module 'gast' has no attribute 'Num'\n",
            "WARNING: Entity <bound method ResidualBlock.call of <__main__.ResidualBlock object at 0x7ff8f34f9828>> could not be transformed and will be executed as-is. Please report this to the AutoGraph team. When filing the bug, set the verbosity to 10 (on Linux, `export AUTOGRAPH_VERBOSITY=10`) and attach the full output. Cause: module 'gast' has no attribute 'Num'\n",
            "WARNING:tensorflow:Entity <bound method ResidualBlock.call of <__main__.ResidualBlock object at 0x7ff8f3509400>> could not be transformed and will be executed as-is. Please report this to the AutoGraph team. When filing the bug, set the verbosity to 10 (on Linux, `export AUTOGRAPH_VERBOSITY=10`) and attach the full output. Cause: module 'gast' has no attribute 'Num'\n",
            "WARNING: Entity <bound method ResidualBlock.call of <__main__.ResidualBlock object at 0x7ff8f3509400>> could not be transformed and will be executed as-is. Please report this to the AutoGraph team. When filing the bug, set the verbosity to 10 (on Linux, `export AUTOGRAPH_VERBOSITY=10`) and attach the full output. Cause: module 'gast' has no attribute 'Num'\n",
            "WARNING:tensorflow:Entity <bound method TemporalBlock.call of <__main__.TemporalBlock object at 0x7ff8f348ff98>> could not be transformed and will be executed as-is. Please report this to the AutoGraph team. When filing the bug, set the verbosity to 10 (on Linux, `export AUTOGRAPH_VERBOSITY=10`) and attach the full output. Cause: module 'gast' has no attribute 'Num'\n",
            "WARNING: Entity <bound method TemporalBlock.call of <__main__.TemporalBlock object at 0x7ff8f348ff98>> could not be transformed and will be executed as-is. Please report this to the AutoGraph team. When filing the bug, set the verbosity to 10 (on Linux, `export AUTOGRAPH_VERBOSITY=10`) and attach the full output. Cause: module 'gast' has no attribute 'Num'\n",
            "WARNING:tensorflow:Entity <bound method ResidualBlock.call of <__main__.ResidualBlock object at 0x7ff8f34971d0>> could not be transformed and will be executed as-is. Please report this to the AutoGraph team. When filing the bug, set the verbosity to 10 (on Linux, `export AUTOGRAPH_VERBOSITY=10`) and attach the full output. Cause: module 'gast' has no attribute 'Num'\n",
            "WARNING: Entity <bound method ResidualBlock.call of <__main__.ResidualBlock object at 0x7ff8f34971d0>> could not be transformed and will be executed as-is. Please report this to the AutoGraph team. When filing the bug, set the verbosity to 10 (on Linux, `export AUTOGRAPH_VERBOSITY=10`) and attach the full output. Cause: module 'gast' has no attribute 'Num'\n",
            "WARNING:tensorflow:Entity <bound method ResidualBlock.call of <__main__.ResidualBlock object at 0x7ff8f34a0d68>> could not be transformed and will be executed as-is. Please report this to the AutoGraph team. When filing the bug, set the verbosity to 10 (on Linux, `export AUTOGRAPH_VERBOSITY=10`) and attach the full output. Cause: module 'gast' has no attribute 'Num'\n",
            "WARNING: Entity <bound method ResidualBlock.call of <__main__.ResidualBlock object at 0x7ff8f34a0d68>> could not be transformed and will be executed as-is. Please report this to the AutoGraph team. When filing the bug, set the verbosity to 10 (on Linux, `export AUTOGRAPH_VERBOSITY=10`) and attach the full output. Cause: module 'gast' has no attribute 'Num'\n",
            "WARNING:tensorflow:Entity <bound method ResidualBlock.call of <__main__.ResidualBlock object at 0x7ff8f34b1940>> could not be transformed and will be executed as-is. Please report this to the AutoGraph team. When filing the bug, set the verbosity to 10 (on Linux, `export AUTOGRAPH_VERBOSITY=10`) and attach the full output. Cause: module 'gast' has no attribute 'Num'\n",
            "WARNING: Entity <bound method ResidualBlock.call of <__main__.ResidualBlock object at 0x7ff8f34b1940>> could not be transformed and will be executed as-is. Please report this to the AutoGraph team. When filing the bug, set the verbosity to 10 (on Linux, `export AUTOGRAPH_VERBOSITY=10`) and attach the full output. Cause: module 'gast' has no attribute 'Num'\n",
            "WARNING:tensorflow:Entity <bound method ResidualBlock.call of <__main__.ResidualBlock object at 0x7ff8f34bf6a0>> could not be transformed and will be executed as-is. Please report this to the AutoGraph team. When filing the bug, set the verbosity to 10 (on Linux, `export AUTOGRAPH_VERBOSITY=10`) and attach the full output. Cause: module 'gast' has no attribute 'Num'\n",
            "WARNING: Entity <bound method ResidualBlock.call of <__main__.ResidualBlock object at 0x7ff8f34bf6a0>> could not be transformed and will be executed as-is. Please report this to the AutoGraph team. When filing the bug, set the verbosity to 10 (on Linux, `export AUTOGRAPH_VERBOSITY=10`) and attach the full output. Cause: module 'gast' has no attribute 'Num'\n",
            "WARNING:tensorflow:Entity <bound method ResidualBlock.call of <__main__.ResidualBlock object at 0x7ff8f344d470>> could not be transformed and will be executed as-is. Please report this to the AutoGraph team. When filing the bug, set the verbosity to 10 (on Linux, `export AUTOGRAPH_VERBOSITY=10`) and attach the full output. Cause: module 'gast' has no attribute 'Num'\n",
            "WARNING: Entity <bound method ResidualBlock.call of <__main__.ResidualBlock object at 0x7ff8f344d470>> could not be transformed and will be executed as-is. Please report this to the AutoGraph team. When filing the bug, set the verbosity to 10 (on Linux, `export AUTOGRAPH_VERBOSITY=10`) and attach the full output. Cause: module 'gast' has no attribute 'Num'\n",
            "WARNING:tensorflow:Entity <bound method ResidualBlock.call of <__main__.ResidualBlock object at 0x7ff8f345c240>> could not be transformed and will be executed as-is. Please report this to the AutoGraph team. When filing the bug, set the verbosity to 10 (on Linux, `export AUTOGRAPH_VERBOSITY=10`) and attach the full output. Cause: module 'gast' has no attribute 'Num'\n",
            "WARNING: Entity <bound method ResidualBlock.call of <__main__.ResidualBlock object at 0x7ff8f345c240>> could not be transformed and will be executed as-is. Please report this to the AutoGraph team. When filing the bug, set the verbosity to 10 (on Linux, `export AUTOGRAPH_VERBOSITY=10`) and attach the full output. Cause: module 'gast' has no attribute 'Num'\n",
            "(512, 40)\n",
            "====================\n",
            "(512, 43, 303)\n",
            "(512, 40, 303)\n",
            "====================\n",
            "1.0\n",
            "0.99999994\n"
          ],
          "name": "stdout"
        }
      ]
    },
    {
      "cell_type": "code",
      "metadata": {
        "id": "YHrguM7QsINY",
        "colab": {
          "base_uri": "https://localhost:8080/"
        },
        "outputId": "0b6ef199-fe53-482a-aeb4-75b306bb523c"
      },
      "source": [
        "# Load model (model compiling should be done first)\n",
        "\n",
        "model_path = '/content/drive/MyDrive/Speech2Pickup/sentenceEM_model/' + str(train_model_number) + '/total_model/sentenceEM_total_model'\n",
        "sen_em_model.model.load_weights(model_path)"
      ],
      "execution_count": 53,
      "outputs": [
        {
          "output_type": "execute_result",
          "data": {
            "text/plain": [
              "<tensorflow.python.training.tracking.util.CheckpointLoadStatus at 0x7ff682534908>"
            ]
          },
          "metadata": {
            "tags": []
          },
          "execution_count": 53
        }
      ]
    },
    {
      "cell_type": "code",
      "metadata": {
        "id": "o4vZBkDHrPfm"
      },
      "source": [
        "\"\"\"\n",
        "utils.py\n",
        "\"\"\"\n",
        "\n",
        "def read_script_files(script_dir_path):\n",
        "    script_files = [f for f in listdir(script_dir_path) if isfile(join(script_dir_path, f))]\n",
        "    script_files.sort()\n",
        "    return script_files\n",
        "\n",
        "def read_script_file_data(script_dir_path, script_file):\n",
        "    curr_file = open(join(script_dir_path, script_file), 'r')\n",
        "    curr_file_lines = curr_file.readlines()\n",
        "    for i in range(len(curr_file_lines)):\n",
        "        words = curr_file_lines[i].split()[2: ]\n",
        "        curr_file_lines[i] = ' '.join(words)\n",
        "    return curr_file_lines"
      ],
      "execution_count": 54,
      "outputs": []
    },
    {
      "cell_type": "code",
      "metadata": {
        "id": "rrgYrsZzrIcn"
      },
      "source": [
        "\"\"\"\n",
        "process_data.py\n",
        "\"\"\"\n",
        "\n",
        "def make_word_dictionary(relative_script_directory_path):\n",
        "    # Check whole word candidates\n",
        "    script_files = read_script_files(relative_script_directory_path)\n",
        "    total_words = set()\n",
        "    num = 0\n",
        "    for script_file in script_files:\n",
        "        num += 1\n",
        "        print('Processing {}/{}'.format(num, len(script_files)))\n",
        "        curr_file_lines = read_script_file_data(relative_script_directory_path, script_file)\n",
        "        for curr_file_line in curr_file_lines:\n",
        "            total_words.update(set(curr_file_line.split()))\n",
        "    total_words = list(total_words)\n",
        "    total_words.append(\"\")  # blank\n",
        "    total_words.append(\"OOV\")  # Out of vocabulary\n",
        "    total_words.sort()\n",
        "\n",
        "    # One-hot encoding\n",
        "    word_dictionary = dict()\n",
        "    word_dictionary_size = len(total_words)\n",
        "    for i in range(word_dictionary_size):\n",
        "        one_hot = np.zeros(word_dictionary_size)\n",
        "        one_hot[i] = 1\n",
        "        word_dictionary[total_words[i]] = one_hot\n",
        "    # print(word_dictionary)\n",
        "    return word_dictionary, word_dictionary_size"
      ],
      "execution_count": 55,
      "outputs": []
    },
    {
      "cell_type": "code",
      "metadata": {
        "id": "Y6eppcGFq-hc"
      },
      "source": [
        "# Set word dictionary to check output of model later\n",
        "\n",
        "relative_script_directory_path = './drive/MyDrive/Speech2Pickup/train_script'\n",
        "word_dic, word_dic_size = make_word_dictionary(relative_script_directory_path)"
      ],
      "execution_count": null,
      "outputs": []
    },
    {
      "cell_type": "code",
      "metadata": {
        "colab": {
          "base_uri": "https://localhost:8080/",
          "height": 1000
        },
        "id": "J_0fxHfmL-2D",
        "outputId": "4e0ddf83-c323-4bb8-e499-7e3352625503"
      },
      "source": [
        "# Check output of loaded model\n",
        "\n",
        "import matplotlib.pyplot as plt\n",
        "import librosa.display\n",
        "\n",
        "relative_data_directory_path = '/content/drive/MyDrive/Speech2Pickup/data_v2.2_single_channel'\n",
        "file_name = 'senEM_preprocessed.npz'\n",
        "n = 40123\n",
        "# data = load_single_npz_data(relative_data_directory_path=relative_data_directory_path, file_name=file_name)\n",
        "acoustic_train_batch = [data['acoustic'][n]]\n",
        "linguistic_train_batch = [data['linguistic'][n]]\n",
        "acoustic_train_batch = np.array(acoustic_train_batch, dtype=np.float32)\n",
        "linguistic_train_batch = np.array(linguistic_train_batch, dtype=np.float32)\n",
        "l_out, a_out = sen_em_model.model(acoustic_train_batch)\n",
        "\n",
        "l_out = np.squeeze(kb.eval(l_out))\n",
        "a_out = np.squeeze(kb.eval(a_out))\n",
        "l_true = np.squeeze(linguistic_train_batch)\n",
        "a_true = np.squeeze(acoustic_train_batch)\n",
        "\n",
        "l_out = np.argmax(l_out, axis=0)\n",
        "l_true = np.argmax(l_true, axis=0)\n",
        "\n",
        "true_sentence = []\n",
        "predicted_sentence = []\n",
        "word_dic_keys = list(word_dic.keys())\n",
        "n = 0\n",
        "for i in l_true:\n",
        "  if n==0:\n",
        "    true_sentence.append(word_dic_keys[i])\n",
        "  elif true_sentence[-1] != word_dic_keys[i]:\n",
        "    true_sentence.append(word_dic_keys[i])\n",
        "  n += 1\n",
        "n = 0\n",
        "for i in l_out:\n",
        "  if n==0:\n",
        "    predicted_sentence.append(word_dic_keys[i])\n",
        "  elif predicted_sentence[-1] != word_dic_keys[i]:\n",
        "    predicted_sentence.append(word_dic_keys[i])\n",
        "  n += 1\n",
        "true_sentence = ' '.join(true_sentence)\n",
        "predicted_sentence = ' '.join(predicted_sentence)\n",
        "print('True: {}'.format(true_sentence))\n",
        "print('Predict: {}'.format(predicted_sentence))\n",
        "\n",
        "fig, ax = plt.subplots(1)\n",
        "ax.plot(l_out, label='prediction')\n",
        "ax.plot(l_true, label='ground truth')\n",
        "ax.set_title('Linguistic feature')\n",
        "ax.set_xlabel('Time step')\n",
        "ax.set_ylabel('Freq')\n",
        "plt.legend()\n",
        "plt.show()\n",
        "\n",
        "fig, ax = plt.subplots(nrows=2, ncols=1, sharex=True, figsize=(25,15))\n",
        "img = librosa.display.specshow(data=a_true, sr=8000, hop_length=256,  x_axis='time',\n",
        "                            y_axis='mel', cmap='viridis', fmax=4000, ax=ax[0])\n",
        "ax[0].set(title='Mel specrogram - ground truth')\n",
        "ax[0].label_outer()\n",
        "\n",
        "img = librosa.display.specshow(data=a_out, sr=8000, hop_length=256,  x_axis='time',\n",
        "                            y_axis='mel', cmap='viridis', fmax=4000, ax=ax[1])\n",
        "ax[1].set(title='Mel specrogram - prediction')\n",
        "ax[1].label_outer()"
      ],
      "execution_count": 59,
      "outputs": [
        {
          "output_type": "stream",
          "text": [
            "WARNING:tensorflow:Entity <bound method TempConvnet.call of <__main__.TempConvnet object at 0x7ff6837208d0>> could not be transformed and will be executed as-is. Please report this to the AutoGraph team. When filing the bug, set the verbosity to 10 (on Linux, `export AUTOGRAPH_VERBOSITY=10`) and attach the full output. Cause: module 'gast' has no attribute 'Num'\n",
            "WARNING: Entity <bound method TempConvnet.call of <__main__.TempConvnet object at 0x7ff6837208d0>> could not be transformed and will be executed as-is. Please report this to the AutoGraph team. When filing the bug, set the verbosity to 10 (on Linux, `export AUTOGRAPH_VERBOSITY=10`) and attach the full output. Cause: module 'gast' has no attribute 'Num'\n",
            "WARNING:tensorflow:Entity <bound method TemporalBlock.call of <__main__.TemporalBlock object at 0x7ff683720dd8>> could not be transformed and will be executed as-is. Please report this to the AutoGraph team. When filing the bug, set the verbosity to 10 (on Linux, `export AUTOGRAPH_VERBOSITY=10`) and attach the full output. Cause: module 'gast' has no attribute 'Num'\n",
            "WARNING: Entity <bound method TemporalBlock.call of <__main__.TemporalBlock object at 0x7ff683720dd8>> could not be transformed and will be executed as-is. Please report this to the AutoGraph team. When filing the bug, set the verbosity to 10 (on Linux, `export AUTOGRAPH_VERBOSITY=10`) and attach the full output. Cause: module 'gast' has no attribute 'Num'\n",
            "WARNING:tensorflow:Entity <bound method ResidualBlock.call of <__main__.ResidualBlock object at 0x7ff37b707cc0>> could not be transformed and will be executed as-is. Please report this to the AutoGraph team. When filing the bug, set the verbosity to 10 (on Linux, `export AUTOGRAPH_VERBOSITY=10`) and attach the full output. Cause: module 'gast' has no attribute 'Num'\n",
            "WARNING: Entity <bound method ResidualBlock.call of <__main__.ResidualBlock object at 0x7ff37b707cc0>> could not be transformed and will be executed as-is. Please report this to the AutoGraph team. When filing the bug, set the verbosity to 10 (on Linux, `export AUTOGRAPH_VERBOSITY=10`) and attach the full output. Cause: module 'gast' has no attribute 'Num'\n",
            "WARNING:tensorflow:Entity <bound method ResidualBlock.call of <__main__.ResidualBlock object at 0x7ff682906400>> could not be transformed and will be executed as-is. Please report this to the AutoGraph team. When filing the bug, set the verbosity to 10 (on Linux, `export AUTOGRAPH_VERBOSITY=10`) and attach the full output. Cause: module 'gast' has no attribute 'Num'\n",
            "WARNING: Entity <bound method ResidualBlock.call of <__main__.ResidualBlock object at 0x7ff682906400>> could not be transformed and will be executed as-is. Please report this to the AutoGraph team. When filing the bug, set the verbosity to 10 (on Linux, `export AUTOGRAPH_VERBOSITY=10`) and attach the full output. Cause: module 'gast' has no attribute 'Num'\n",
            "WARNING:tensorflow:Entity <bound method ResidualBlock.call of <__main__.ResidualBlock object at 0x7ff3bd852dd8>> could not be transformed and will be executed as-is. Please report this to the AutoGraph team. When filing the bug, set the verbosity to 10 (on Linux, `export AUTOGRAPH_VERBOSITY=10`) and attach the full output. Cause: module 'gast' has no attribute 'Num'\n",
            "WARNING: Entity <bound method ResidualBlock.call of <__main__.ResidualBlock object at 0x7ff3bd852dd8>> could not be transformed and will be executed as-is. Please report this to the AutoGraph team. When filing the bug, set the verbosity to 10 (on Linux, `export AUTOGRAPH_VERBOSITY=10`) and attach the full output. Cause: module 'gast' has no attribute 'Num'\n",
            "WARNING:tensorflow:Entity <bound method ResidualBlock.call of <__main__.ResidualBlock object at 0x7ff5694adac8>> could not be transformed and will be executed as-is. Please report this to the AutoGraph team. When filing the bug, set the verbosity to 10 (on Linux, `export AUTOGRAPH_VERBOSITY=10`) and attach the full output. Cause: module 'gast' has no attribute 'Num'\n",
            "WARNING: Entity <bound method ResidualBlock.call of <__main__.ResidualBlock object at 0x7ff5694adac8>> could not be transformed and will be executed as-is. Please report this to the AutoGraph team. When filing the bug, set the verbosity to 10 (on Linux, `export AUTOGRAPH_VERBOSITY=10`) and attach the full output. Cause: module 'gast' has no attribute 'Num'\n",
            "WARNING:tensorflow:Entity <bound method ResidualBlock.call of <__main__.ResidualBlock object at 0x7ff8f16b2470>> could not be transformed and will be executed as-is. Please report this to the AutoGraph team. When filing the bug, set the verbosity to 10 (on Linux, `export AUTOGRAPH_VERBOSITY=10`) and attach the full output. Cause: module 'gast' has no attribute 'Num'\n",
            "WARNING: Entity <bound method ResidualBlock.call of <__main__.ResidualBlock object at 0x7ff8f16b2470>> could not be transformed and will be executed as-is. Please report this to the AutoGraph team. When filing the bug, set the verbosity to 10 (on Linux, `export AUTOGRAPH_VERBOSITY=10`) and attach the full output. Cause: module 'gast' has no attribute 'Num'\n",
            "WARNING:tensorflow:Entity <bound method ResidualBlock.call of <__main__.ResidualBlock object at 0x7ff568ee0780>> could not be transformed and will be executed as-is. Please report this to the AutoGraph team. When filing the bug, set the verbosity to 10 (on Linux, `export AUTOGRAPH_VERBOSITY=10`) and attach the full output. Cause: module 'gast' has no attribute 'Num'\n",
            "WARNING: Entity <bound method ResidualBlock.call of <__main__.ResidualBlock object at 0x7ff568ee0780>> could not be transformed and will be executed as-is. Please report this to the AutoGraph team. When filing the bug, set the verbosity to 10 (on Linux, `export AUTOGRAPH_VERBOSITY=10`) and attach the full output. Cause: module 'gast' has no attribute 'Num'\n",
            "WARNING:tensorflow:Entity <bound method TemporalBlock.call of <__main__.TemporalBlock object at 0x7ff37b045780>> could not be transformed and will be executed as-is. Please report this to the AutoGraph team. When filing the bug, set the verbosity to 10 (on Linux, `export AUTOGRAPH_VERBOSITY=10`) and attach the full output. Cause: module 'gast' has no attribute 'Num'\n",
            "WARNING: Entity <bound method TemporalBlock.call of <__main__.TemporalBlock object at 0x7ff37b045780>> could not be transformed and will be executed as-is. Please report this to the AutoGraph team. When filing the bug, set the verbosity to 10 (on Linux, `export AUTOGRAPH_VERBOSITY=10`) and attach the full output. Cause: module 'gast' has no attribute 'Num'\n",
            "WARNING:tensorflow:Entity <bound method ResidualBlock.call of <__main__.ResidualBlock object at 0x7ff37b045470>> could not be transformed and will be executed as-is. Please report this to the AutoGraph team. When filing the bug, set the verbosity to 10 (on Linux, `export AUTOGRAPH_VERBOSITY=10`) and attach the full output. Cause: module 'gast' has no attribute 'Num'\n",
            "WARNING: Entity <bound method ResidualBlock.call of <__main__.ResidualBlock object at 0x7ff37b045470>> could not be transformed and will be executed as-is. Please report this to the AutoGraph team. When filing the bug, set the verbosity to 10 (on Linux, `export AUTOGRAPH_VERBOSITY=10`) and attach the full output. Cause: module 'gast' has no attribute 'Num'\n",
            "WARNING:tensorflow:Entity <bound method ResidualBlock.call of <__main__.ResidualBlock object at 0x7ff8f1748550>> could not be transformed and will be executed as-is. Please report this to the AutoGraph team. When filing the bug, set the verbosity to 10 (on Linux, `export AUTOGRAPH_VERBOSITY=10`) and attach the full output. Cause: module 'gast' has no attribute 'Num'\n",
            "WARNING: Entity <bound method ResidualBlock.call of <__main__.ResidualBlock object at 0x7ff8f1748550>> could not be transformed and will be executed as-is. Please report this to the AutoGraph team. When filing the bug, set the verbosity to 10 (on Linux, `export AUTOGRAPH_VERBOSITY=10`) and attach the full output. Cause: module 'gast' has no attribute 'Num'\n",
            "WARNING:tensorflow:Entity <bound method ResidualBlock.call of <__main__.ResidualBlock object at 0x7ff8f173e588>> could not be transformed and will be executed as-is. Please report this to the AutoGraph team. When filing the bug, set the verbosity to 10 (on Linux, `export AUTOGRAPH_VERBOSITY=10`) and attach the full output. Cause: module 'gast' has no attribute 'Num'\n",
            "WARNING: Entity <bound method ResidualBlock.call of <__main__.ResidualBlock object at 0x7ff8f173e588>> could not be transformed and will be executed as-is. Please report this to the AutoGraph team. When filing the bug, set the verbosity to 10 (on Linux, `export AUTOGRAPH_VERBOSITY=10`) and attach the full output. Cause: module 'gast' has no attribute 'Num'\n",
            "WARNING:tensorflow:Entity <bound method ResidualBlock.call of <__main__.ResidualBlock object at 0x7ff568ecebe0>> could not be transformed and will be executed as-is. Please report this to the AutoGraph team. When filing the bug, set the verbosity to 10 (on Linux, `export AUTOGRAPH_VERBOSITY=10`) and attach the full output. Cause: module 'gast' has no attribute 'Num'\n",
            "WARNING: Entity <bound method ResidualBlock.call of <__main__.ResidualBlock object at 0x7ff568ecebe0>> could not be transformed and will be executed as-is. Please report this to the AutoGraph team. When filing the bug, set the verbosity to 10 (on Linux, `export AUTOGRAPH_VERBOSITY=10`) and attach the full output. Cause: module 'gast' has no attribute 'Num'\n",
            "WARNING:tensorflow:Entity <bound method ResidualBlock.call of <__main__.ResidualBlock object at 0x7ff56a9eb8d0>> could not be transformed and will be executed as-is. Please report this to the AutoGraph team. When filing the bug, set the verbosity to 10 (on Linux, `export AUTOGRAPH_VERBOSITY=10`) and attach the full output. Cause: module 'gast' has no attribute 'Num'\n",
            "WARNING: Entity <bound method ResidualBlock.call of <__main__.ResidualBlock object at 0x7ff56a9eb8d0>> could not be transformed and will be executed as-is. Please report this to the AutoGraph team. When filing the bug, set the verbosity to 10 (on Linux, `export AUTOGRAPH_VERBOSITY=10`) and attach the full output. Cause: module 'gast' has no attribute 'Num'\n",
            "WARNING:tensorflow:Entity <bound method ResidualBlock.call of <__main__.ResidualBlock object at 0x7ff8f1817550>> could not be transformed and will be executed as-is. Please report this to the AutoGraph team. When filing the bug, set the verbosity to 10 (on Linux, `export AUTOGRAPH_VERBOSITY=10`) and attach the full output. Cause: module 'gast' has no attribute 'Num'\n",
            "WARNING: Entity <bound method ResidualBlock.call of <__main__.ResidualBlock object at 0x7ff8f1817550>> could not be transformed and will be executed as-is. Please report this to the AutoGraph team. When filing the bug, set the verbosity to 10 (on Linux, `export AUTOGRAPH_VERBOSITY=10`) and attach the full output. Cause: module 'gast' has no attribute 'Num'\n",
            "WARNING:tensorflow:Entity <bound method TemporalBlock.call of <__main__.TemporalBlock object at 0x7ff37b0593c8>> could not be transformed and will be executed as-is. Please report this to the AutoGraph team. When filing the bug, set the verbosity to 10 (on Linux, `export AUTOGRAPH_VERBOSITY=10`) and attach the full output. Cause: module 'gast' has no attribute 'Num'\n",
            "WARNING: Entity <bound method TemporalBlock.call of <__main__.TemporalBlock object at 0x7ff37b0593c8>> could not be transformed and will be executed as-is. Please report this to the AutoGraph team. When filing the bug, set the verbosity to 10 (on Linux, `export AUTOGRAPH_VERBOSITY=10`) and attach the full output. Cause: module 'gast' has no attribute 'Num'\n",
            "WARNING:tensorflow:Entity <bound method ResidualBlock.call of <__main__.ResidualBlock object at 0x7ff37b059e80>> could not be transformed and will be executed as-is. Please report this to the AutoGraph team. When filing the bug, set the verbosity to 10 (on Linux, `export AUTOGRAPH_VERBOSITY=10`) and attach the full output. Cause: module 'gast' has no attribute 'Num'\n",
            "WARNING: Entity <bound method ResidualBlock.call of <__main__.ResidualBlock object at 0x7ff37b059e80>> could not be transformed and will be executed as-is. Please report this to the AutoGraph team. When filing the bug, set the verbosity to 10 (on Linux, `export AUTOGRAPH_VERBOSITY=10`) and attach the full output. Cause: module 'gast' has no attribute 'Num'\n",
            "WARNING:tensorflow:Entity <bound method ResidualBlock.call of <__main__.ResidualBlock object at 0x7ff56b8b0400>> could not be transformed and will be executed as-is. Please report this to the AutoGraph team. When filing the bug, set the verbosity to 10 (on Linux, `export AUTOGRAPH_VERBOSITY=10`) and attach the full output. Cause: module 'gast' has no attribute 'Num'\n",
            "WARNING: Entity <bound method ResidualBlock.call of <__main__.ResidualBlock object at 0x7ff56b8b0400>> could not be transformed and will be executed as-is. Please report this to the AutoGraph team. When filing the bug, set the verbosity to 10 (on Linux, `export AUTOGRAPH_VERBOSITY=10`) and attach the full output. Cause: module 'gast' has no attribute 'Num'\n",
            "WARNING:tensorflow:Entity <bound method ResidualBlock.call of <__main__.ResidualBlock object at 0x7ff8f13db710>> could not be transformed and will be executed as-is. Please report this to the AutoGraph team. When filing the bug, set the verbosity to 10 (on Linux, `export AUTOGRAPH_VERBOSITY=10`) and attach the full output. Cause: module 'gast' has no attribute 'Num'\n",
            "WARNING: Entity <bound method ResidualBlock.call of <__main__.ResidualBlock object at 0x7ff8f13db710>> could not be transformed and will be executed as-is. Please report this to the AutoGraph team. When filing the bug, set the verbosity to 10 (on Linux, `export AUTOGRAPH_VERBOSITY=10`) and attach the full output. Cause: module 'gast' has no attribute 'Num'\n",
            "WARNING:tensorflow:Entity <bound method ResidualBlock.call of <__main__.ResidualBlock object at 0x7ff8f13ee2e8>> could not be transformed and will be executed as-is. Please report this to the AutoGraph team. When filing the bug, set the verbosity to 10 (on Linux, `export AUTOGRAPH_VERBOSITY=10`) and attach the full output. Cause: module 'gast' has no attribute 'Num'\n",
            "WARNING: Entity <bound method ResidualBlock.call of <__main__.ResidualBlock object at 0x7ff8f13ee2e8>> could not be transformed and will be executed as-is. Please report this to the AutoGraph team. When filing the bug, set the verbosity to 10 (on Linux, `export AUTOGRAPH_VERBOSITY=10`) and attach the full output. Cause: module 'gast' has no attribute 'Num'\n",
            "WARNING:tensorflow:Entity <bound method ResidualBlock.call of <__main__.ResidualBlock object at 0x7ff8f13f4e80>> could not be transformed and will be executed as-is. Please report this to the AutoGraph team. When filing the bug, set the verbosity to 10 (on Linux, `export AUTOGRAPH_VERBOSITY=10`) and attach the full output. Cause: module 'gast' has no attribute 'Num'\n",
            "WARNING: Entity <bound method ResidualBlock.call of <__main__.ResidualBlock object at 0x7ff8f13f4e80>> could not be transformed and will be executed as-is. Please report this to the AutoGraph team. When filing the bug, set the verbosity to 10 (on Linux, `export AUTOGRAPH_VERBOSITY=10`) and attach the full output. Cause: module 'gast' has no attribute 'Num'\n",
            "WARNING:tensorflow:Entity <bound method ResidualBlock.call of <__main__.ResidualBlock object at 0x7ff8f1402a58>> could not be transformed and will be executed as-is. Please report this to the AutoGraph team. When filing the bug, set the verbosity to 10 (on Linux, `export AUTOGRAPH_VERBOSITY=10`) and attach the full output. Cause: module 'gast' has no attribute 'Num'\n",
            "WARNING: Entity <bound method ResidualBlock.call of <__main__.ResidualBlock object at 0x7ff8f1402a58>> could not be transformed and will be executed as-is. Please report this to the AutoGraph team. When filing the bug, set the verbosity to 10 (on Linux, `export AUTOGRAPH_VERBOSITY=10`) and attach the full output. Cause: module 'gast' has no attribute 'Num'\n",
            "WARNING:tensorflow:Entity <bound method TempConvnet_Decoder.call of <__main__.TempConvnet_Decoder object at 0x7ff8e2fece10>> could not be transformed and will be executed as-is. Please report this to the AutoGraph team. When filing the bug, set the verbosity to 10 (on Linux, `export AUTOGRAPH_VERBOSITY=10`) and attach the full output. Cause: module 'gast' has no attribute 'Num'\n",
            "WARNING: Entity <bound method TempConvnet_Decoder.call of <__main__.TempConvnet_Decoder object at 0x7ff8e2fece10>> could not be transformed and will be executed as-is. Please report this to the AutoGraph team. When filing the bug, set the verbosity to 10 (on Linux, `export AUTOGRAPH_VERBOSITY=10`) and attach the full output. Cause: module 'gast' has no attribute 'Num'\n",
            "WARNING:tensorflow:Entity <bound method TempConvnet_Decoder.call of <__main__.TempConvnet_Decoder object at 0x7ff8e2fc6668>> could not be transformed and will be executed as-is. Please report this to the AutoGraph team. When filing the bug, set the verbosity to 10 (on Linux, `export AUTOGRAPH_VERBOSITY=10`) and attach the full output. Cause: module 'gast' has no attribute 'Num'\n",
            "WARNING: Entity <bound method TempConvnet_Decoder.call of <__main__.TempConvnet_Decoder object at 0x7ff8e2fc6668>> could not be transformed and will be executed as-is. Please report this to the AutoGraph team. When filing the bug, set the verbosity to 10 (on Linux, `export AUTOGRAPH_VERBOSITY=10`) and attach the full output. Cause: module 'gast' has no attribute 'Num'\n",
            "True: pick up the lower block which color is green \n",
            "Predict: pick up block  pick\n"
          ],
          "name": "stdout"
        },
        {
          "output_type": "display_data",
          "data": {
            "image/png": "[encoded data removed]",
            "text/plain": [
              "<Figure size 432x288 with 1 Axes>"
            ]
          },
          "metadata": {
            "tags": [],
            "needs_background": "light"
          }
        },
        {
          "output_type": "display_data",
          "data": {
            "image/png": "[encoded data removed]",
            "text/plain": [
              "<Figure size 1800x1080 with 2 Axes>"
            ]
          },
          "metadata": {
            "tags": [],
            "needs_background": "light"
          }
        }
      ]
    },
    {
      "cell_type": "code",
      "metadata": {
        "colab": {
          "base_uri": "https://localhost:8080/"
        },
        "id": "d8hGflXHkJl4",
        "outputId": "1053e65d-0b21-4d8b-863f-c68970543d04"
      },
      "source": [
        "# Test and save for jointly training 'Speech2Pickup' (Debugging)\n",
        "\n",
        "sen_em_model.model.save_weights(filepath='/content/drive/MyDrive/Speech2Pickup/sentenceEM_model/total_model/sentenceEM_total_model', overwrite=True)\n",
        "sen_em_model.encoder_model.save_weights(filepath='/content/drive/MyDrive/Speech2Pickup/sentenceEM_model/encoder_model/sentenceEM_encoder_model', overwrite=True)\n",
        "print('Model saving complete!')"
      ],
      "execution_count": null,
      "outputs": [
        {
          "output_type": "stream",
          "text": [
            "Model saving complete!\n"
          ],
          "name": "stdout"
        }
      ]
    },
    {
      "cell_type": "code",
      "metadata": {
        "id": "JihOgux0mKCk"
      },
      "source": [
        "# Compare sorting time\n",
        "\n",
        "import time\n",
        "ts = time.time()\n",
        "random.shuffle(data_files)\n",
        "te = time.time()\n",
        "print('String sort: {}'.format(te-ts))\n",
        "print(data_files)\n",
        "# ts = time.time()\n",
        "# random.shuffle(indexs)\n",
        "# te = time.time()\n",
        "# print('Int sort: {}'.format(te-ts))"
      ],
      "execution_count": null,
      "outputs": []
    },
    {
      "cell_type": "code",
      "metadata": {
        "id": "bPa0THO1Umyn"
      },
      "source": [
        "# Test (Debugging)\n",
        "\n",
        "data = load_single_npz_data(relative_data_directory_path='/content/drive/MyDrive/Speech2Pickup/data_v2.2', file_name='senEM_preprocessed_100.npz')\n",
        "data1 = data['arr_0']\n",
        "data1 = np.float32(data1)\n",
        "data1 = kb.expand_dims(data1, axis=0)\n",
        "with tf.device('/device:GPU:0'):\n",
        "  l_y, a_y = sen_em_model(data1)\n",
        "print(kb.eval(a_y)[0,:,180])\n",
        "print('='*20)\n",
        "print(kb.eval(l_y)[0,:,180])\n",
        "print(len(kb.eval(l_y)[0,:,180]))\n",
        "print('='*20)\n",
        "print(np.sum(kb.eval(l_y)[0,:,180]))\n",
        "print(np.sum(kb.eval(l_y)[0,:,300]))"
      ],
      "execution_count": null,
      "outputs": []
    },
    {
      "cell_type": "code",
      "metadata": {
        "id": "9JciAh_P4Is6"
      },
      "source": [
        "# Test (Debugging)\n",
        "\n",
        "x = tf.convert_to_tensor(np.random.random((batch_size, 80, 303)), dtype=np.float32)   # batch, dim, seq_len\n",
        "l_y, a_y = sen_em_model(x)\n",
        "print('='*20)\n",
        "print(kb.eval(l_y)[0,:,0])\n",
        "print(len(kb.eval(l_y)[0,:,0]))\n",
        "print('='*20)\n",
        "print(np.sum(kb.eval(l_y)[0,:,0]))\n",
        "print(np.sum(kb.eval(l_y)[0,:,100]))"
      ],
      "execution_count": null,
      "outputs": []
    },
    {
      "cell_type": "code",
      "metadata": {
        "id": "013hJm5c0SWq"
      },
      "source": [
        ""
      ],
      "execution_count": null,
      "outputs": []
    }
  ]
}