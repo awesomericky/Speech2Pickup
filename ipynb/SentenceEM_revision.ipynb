{
  "nbformat": 4,
  "nbformat_minor": 0,
  "metadata": {
    "colab": {
      "name": "SentenceEM_revision.ipynb",
      "provenance": [],
      "collapsed_sections": [],
      "machine_shape": "hm"
    },
    "kernelspec": {
      "display_name": "Python 3",
      "name": "python3"
    },
    "accelerator": "GPU",
    "widgets": {
      "application/vnd.jupyter.widget-state+json": {
        "842c5dd592a0401eaa67663f6136a64d": {
          "model_module": "@jupyter-widgets/controls",
          "model_name": "VBoxModel",
          "state": {
            "_view_name": "VBoxView",
            "_dom_classes": [],
            "_model_name": "VBoxModel",
            "_view_module": "@jupyter-widgets/controls",
            "_model_module_version": "1.5.0",
            "_view_count": null,
            "_view_module_version": "1.5.0",
            "box_style": "",
            "layout": "IPY_MODEL_eee2c07ae62f46e59de6502ddb26eafe",
            "_model_module": "@jupyter-widgets/controls",
            "children": [
              "IPY_MODEL_f9d8f049b78a4d4faf2658b2bbbfdd87",
              "IPY_MODEL_6bf00549a93f414fbd363c84c77a026c"
            ]
          }
        },
        "eee2c07ae62f46e59de6502ddb26eafe": {
          "model_module": "@jupyter-widgets/base",
          "model_name": "LayoutModel",
          "state": {
            "_view_name": "LayoutView",
            "grid_template_rows": null,
            "right": null,
            "justify_content": null,
            "_view_module": "@jupyter-widgets/base",
            "overflow": null,
            "_model_module_version": "1.2.0",
            "_view_count": null,
            "flex_flow": null,
            "width": null,
            "min_width": null,
            "border": null,
            "align_items": null,
            "bottom": null,
            "_model_module": "@jupyter-widgets/base",
            "top": null,
            "grid_column": null,
            "overflow_y": null,
            "overflow_x": null,
            "grid_auto_flow": null,
            "grid_area": null,
            "grid_template_columns": null,
            "flex": null,
            "_model_name": "LayoutModel",
            "justify_items": null,
            "grid_row": null,
            "max_height": null,
            "align_content": null,
            "visibility": null,
            "align_self": null,
            "height": null,
            "min_height": null,
            "padding": null,
            "grid_auto_rows": null,
            "grid_gap": null,
            "max_width": null,
            "order": null,
            "_view_module_version": "1.2.0",
            "grid_template_areas": null,
            "object_position": null,
            "object_fit": null,
            "grid_auto_columns": null,
            "margin": null,
            "display": null,
            "left": null
          }
        },
        "f9d8f049b78a4d4faf2658b2bbbfdd87": {
          "model_module": "@jupyter-widgets/controls",
          "model_name": "LabelModel",
          "state": {
            "_view_name": "LabelView",
            "style": "IPY_MODEL_39f290bc179d44e8900615cce52d7bb6",
            "_dom_classes": [],
            "description": "",
            "_model_name": "LabelModel",
            "placeholder": "​",
            "_view_module": "@jupyter-widgets/controls",
            "_model_module_version": "1.5.0",
            "value": " 5.26MB of 5.26MB uploaded (0.00MB deduped)\r",
            "_view_count": null,
            "_view_module_version": "1.5.0",
            "description_tooltip": null,
            "_model_module": "@jupyter-widgets/controls",
            "layout": "IPY_MODEL_ddf070be3e254bd99ffe9313a55342c8"
          }
        },
        "6bf00549a93f414fbd363c84c77a026c": {
          "model_module": "@jupyter-widgets/controls",
          "model_name": "FloatProgressModel",
          "state": {
            "_view_name": "ProgressView",
            "style": "IPY_MODEL_5f8577baa0124f3db888b88490ca603d",
            "_dom_classes": [],
            "description": "",
            "_model_name": "FloatProgressModel",
            "bar_style": "",
            "max": 1,
            "_view_module": "@jupyter-widgets/controls",
            "_model_module_version": "1.5.0",
            "value": 1,
            "_view_count": null,
            "_view_module_version": "1.5.0",
            "orientation": "horizontal",
            "min": 0,
            "description_tooltip": null,
            "_model_module": "@jupyter-widgets/controls",
            "layout": "IPY_MODEL_a30c961e1fc940aea61eabeb7e2f6aff"
          }
        },
        "39f290bc179d44e8900615cce52d7bb6": {
          "model_module": "@jupyter-widgets/controls",
          "model_name": "DescriptionStyleModel",
          "state": {
            "_view_name": "StyleView",
            "_model_name": "DescriptionStyleModel",
            "description_width": "",
            "_view_module": "@jupyter-widgets/base",
            "_model_module_version": "1.5.0",
            "_view_count": null,
            "_view_module_version": "1.2.0",
            "_model_module": "@jupyter-widgets/controls"
          }
        },
        "ddf070be3e254bd99ffe9313a55342c8": {
          "model_module": "@jupyter-widgets/base",
          "model_name": "LayoutModel",
          "state": {
            "_view_name": "LayoutView",
            "grid_template_rows": null,
            "right": null,
            "justify_content": null,
            "_view_module": "@jupyter-widgets/base",
            "overflow": null,
            "_model_module_version": "1.2.0",
            "_view_count": null,
            "flex_flow": null,
            "width": null,
            "min_width": null,
            "border": null,
            "align_items": null,
            "bottom": null,
            "_model_module": "@jupyter-widgets/base",
            "top": null,
            "grid_column": null,
            "overflow_y": null,
            "overflow_x": null,
            "grid_auto_flow": null,
            "grid_area": null,
            "grid_template_columns": null,
            "flex": null,
            "_model_name": "LayoutModel",
            "justify_items": null,
            "grid_row": null,
            "max_height": null,
            "align_content": null,
            "visibility": null,
            "align_self": null,
            "height": null,
            "min_height": null,
            "padding": null,
            "grid_auto_rows": null,
            "grid_gap": null,
            "max_width": null,
            "order": null,
            "_view_module_version": "1.2.0",
            "grid_template_areas": null,
            "object_position": null,
            "object_fit": null,
            "grid_auto_columns": null,
            "margin": null,
            "display": null,
            "left": null
          }
        },
        "5f8577baa0124f3db888b88490ca603d": {
          "model_module": "@jupyter-widgets/controls",
          "model_name": "ProgressStyleModel",
          "state": {
            "_view_name": "StyleView",
            "_model_name": "ProgressStyleModel",
            "description_width": "",
            "_view_module": "@jupyter-widgets/base",
            "_model_module_version": "1.5.0",
            "_view_count": null,
            "_view_module_version": "1.2.0",
            "bar_color": null,
            "_model_module": "@jupyter-widgets/controls"
          }
        },
        "a30c961e1fc940aea61eabeb7e2f6aff": {
          "model_module": "@jupyter-widgets/base",
          "model_name": "LayoutModel",
          "state": {
            "_view_name": "LayoutView",
            "grid_template_rows": null,
            "right": null,
            "justify_content": null,
            "_view_module": "@jupyter-widgets/base",
            "overflow": null,
            "_model_module_version": "1.2.0",
            "_view_count": null,
            "flex_flow": null,
            "width": null,
            "min_width": null,
            "border": null,
            "align_items": null,
            "bottom": null,
            "_model_module": "@jupyter-widgets/base",
            "top": null,
            "grid_column": null,
            "overflow_y": null,
            "overflow_x": null,
            "grid_auto_flow": null,
            "grid_area": null,
            "grid_template_columns": null,
            "flex": null,
            "_model_name": "LayoutModel",
            "justify_items": null,
            "grid_row": null,
            "max_height": null,
            "align_content": null,
            "visibility": null,
            "align_self": null,
            "height": null,
            "min_height": null,
            "padding": null,
            "grid_auto_rows": null,
            "grid_gap": null,
            "max_width": null,
            "order": null,
            "_view_module_version": "1.2.0",
            "grid_template_areas": null,
            "object_position": null,
            "object_fit": null,
            "grid_auto_columns": null,
            "margin": null,
            "display": null,
            "left": null
          }
        }
      }
    }
  },
  "cells": [
    {
      "cell_type": "code",
      "metadata": {
        "colab": {
          "base_uri": "https://localhost:8080/"
        },
        "id": "gjubJvgqoi7O",
        "outputId": "be3ee593-4334-43cb-c86d-71e8a5f60bc5"
      },
      "source": [
        "from google.colab import drive\n",
        "drive.mount('/content/drive')"
      ],
      "execution_count": 1,
      "outputs": [
        {
          "output_type": "stream",
          "text": [
            "Mounted at /content/drive\n"
          ],
          "name": "stdout"
        }
      ]
    },
    {
      "cell_type": "code",
      "metadata": {
        "id": "PXUngcu6W42Q",
        "colab": {
          "base_uri": "https://localhost:8080/",
          "height": 543
        },
        "outputId": "e9692b95-cf03-4d77-d8bb-4de4cdbefe1b"
      },
      "source": [
        "% pip install pdbpp"
      ],
      "execution_count": 2,
      "outputs": [
        {
          "output_type": "stream",
          "text": [
            "Collecting pdbpp\n",
            "\u001b[?25l  Downloading https://files.pythonhosted.org/packages/3f/82/4b6c5b9128bbbad48a52c6d639c84e3c453e75953ed123b6e9338420dcec/pdbpp-0.10.2.tar.gz (62kB)\n",
            "\r\u001b[K     |█████▎                          | 10kB 26.7MB/s eta 0:00:01\r\u001b[K     |██████████▌                     | 20kB 15.3MB/s eta 0:00:01\r\u001b[K     |███████████████▉                | 30kB 13.0MB/s eta 0:00:01\r\u001b[K     |█████████████████████           | 40kB 12.1MB/s eta 0:00:01\r\u001b[K     |██████████████████████████▎     | 51kB 8.6MB/s eta 0:00:01\r\u001b[K     |███████████████████████████████▋| 61kB 9.1MB/s eta 0:00:01\r\u001b[K     |████████████████████████████████| 71kB 5.8MB/s \n",
            "\u001b[?25hCollecting fancycompleter>=0.8\n",
            "  Downloading https://files.pythonhosted.org/packages/38/ef/c08926112034d017633f693d3afc8343393a035134a29dfc12dcd71b0375/fancycompleter-0.9.1-py3-none-any.whl\n",
            "Collecting wmctrl\n",
            "  Downloading https://files.pythonhosted.org/packages/01/c6/001aefbde5782d6f359af0a8782990c3f4e751e29518fbd59dc8dfc58b18/wmctrl-0.3.tar.gz\n",
            "Requirement already satisfied: pygments in /usr/local/lib/python3.6/dist-packages (from pdbpp) (2.6.1)\n",
            "Collecting pyrepl>=0.8.2\n",
            "\u001b[?25l  Downloading https://files.pythonhosted.org/packages/05/1b/ea40363be0056080454cdbabe880773c3c5bd66d7b13f0c8b8b8c8da1e0c/pyrepl-0.9.0.tar.gz (48kB)\n",
            "\u001b[K     |████████████████████████████████| 51kB 5.7MB/s \n",
            "\u001b[?25hBuilding wheels for collected packages: pdbpp, wmctrl, pyrepl\n",
            "  Building wheel for pdbpp (setup.py) ... \u001b[?25l\u001b[?25hdone\n",
            "  Created wheel for pdbpp: filename=pdbpp-0.10.2-py2.py3-none-any.whl size=23749 sha256=7c0030f8852388ab5c471599fee06c24568d7b69994a6906d6a9ce8541bd4ee9\n",
            "  Stored in directory: /root/.cache/pip/wheels/c3/fb/22/af5cd9592306ae3dfedbb58940f43f42134713bf594559065f\n",
            "  Building wheel for wmctrl (setup.py) ... \u001b[?25l\u001b[?25hdone\n",
            "  Created wheel for wmctrl: filename=wmctrl-0.3-cp36-none-any.whl size=2041 sha256=c03cddfacf2dc0b19060ac3ad984af705fc44ea084a0b24e1e38ce5e49b6d5bc\n",
            "  Stored in directory: /root/.cache/pip/wheels/01/25/60/7cfd4de7944c37564b983376e1ba70fc3ef7df2367a1c41642\n",
            "  Building wheel for pyrepl (setup.py) ... \u001b[?25l\u001b[?25hdone\n",
            "  Created wheel for pyrepl: filename=pyrepl-0.9.0-cp36-none-any.whl size=59892 sha256=72a49959a31f011f7e515cd5169232834ae652ea5775f79199f27acbde6b5ebf\n",
            "  Stored in directory: /root/.cache/pip/wheels/c6/a8/9c/a20d43bcd31f378f94caacf85c006f015c966d6633d69fbfdc\n",
            "Successfully built pdbpp wmctrl pyrepl\n",
            "Installing collected packages: pyrepl, fancycompleter, wmctrl, pdbpp\n",
            "Successfully installed fancycompleter-0.9.1 pdbpp-0.10.2 pyrepl-0.9.0 wmctrl-0.3\n"
          ],
          "name": "stdout"
        },
        {
          "output_type": "display_data",
          "data": {
            "application/vnd.colab-display-data+json": {
              "pip_warning": {
                "packages": [
                  "pdb"
                ]
              }
            }
          },
          "metadata": {
            "tags": []
          }
        }
      ]
    },
    {
      "cell_type": "code",
      "metadata": {
        "id": "6DtnV8t-aTfD",
        "colab": {
          "base_uri": "https://localhost:8080/"
        },
        "outputId": "564d0a2f-e6f8-431c-ae48-b96abb1b1c1a"
      },
      "source": [
        "% pip install wandb -q"
      ],
      "execution_count": 1,
      "outputs": [
        {
          "output_type": "stream",
          "text": [
            "\u001b[K     |████████████████████████████████| 1.8MB 8.9MB/s \n",
            "\u001b[K     |████████████████████████████████| 133kB 31.6MB/s \n",
            "\u001b[K     |████████████████████████████████| 102kB 9.5MB/s \n",
            "\u001b[K     |████████████████████████████████| 102kB 10.9MB/s \n",
            "\u001b[K     |████████████████████████████████| 163kB 23.8MB/s \n",
            "\u001b[K     |████████████████████████████████| 71kB 9.6MB/s \n",
            "\u001b[?25h  Building wheel for watchdog (setup.py) ... \u001b[?25l\u001b[?25hdone\n",
            "  Building wheel for subprocess32 (setup.py) ... \u001b[?25l\u001b[?25hdone\n",
            "  Building wheel for pathtools (setup.py) ... \u001b[?25l\u001b[?25hdone\n"
          ],
          "name": "stdout"
        }
      ]
    },
    {
      "cell_type": "code",
      "metadata": {
        "colab": {
          "base_uri": "https://localhost:8080/"
        },
        "id": "gBA26NJTgUsh",
        "outputId": "5d14f154-ebb2-4cdc-a361-2e6e42bf4112"
      },
      "source": [
        "%tensorflow_version 1.x"
      ],
      "execution_count": 1,
      "outputs": [
        {
          "output_type": "stream",
          "text": [
            "TensorFlow 1.x selected.\n"
          ],
          "name": "stdout"
        }
      ]
    },
    {
      "cell_type": "code",
      "metadata": {
        "id": "RrLeuXRKm3vN"
      },
      "source": [
        "# Turning off tensorflow warning message (not recommended)\n",
        "\n",
        "import os\n",
        "os.environ['TF_CPP_MIN_LOG_LEVEL'] = '2' "
      ],
      "execution_count": 2,
      "outputs": []
    },
    {
      "cell_type": "code",
      "metadata": {
        "id": "UZ0XNqJJZ-ll"
      },
      "source": [
        "import numpy as np\n",
        "import tensorflow as tf\n",
        "import tensorflow.keras.layers as layers\n",
        "import tensorflow.keras.backend as kb\n",
        "from tensorflow.keras.models import save_model\n",
        "from tensorflow.keras.callbacks import Callback\n",
        "import random\n",
        "import pdb\n",
        "import wandb\n",
        "from os.path import join, isfile\n",
        "from os import listdir"
      ],
      "execution_count": 3,
      "outputs": []
    },
    {
      "cell_type": "code",
      "metadata": {
        "colab": {
          "base_uri": "https://localhost:8080/"
        },
        "id": "kHYVABrggyHf",
        "outputId": "5837ae8b-e9af-4853-80dc-8b0c85334333"
      },
      "source": [
        "print(tf.__version__)"
      ],
      "execution_count": 4,
      "outputs": [
        {
          "output_type": "stream",
          "text": [
            "1.15.2\n"
          ],
          "name": "stdout"
        }
      ]
    },
    {
      "cell_type": "code",
      "metadata": {
        "colab": {
          "base_uri": "https://localhost:8080/"
        },
        "id": "di9QVKhraRmb",
        "outputId": "5cc1fd84-a1fb-44e6-9580-c4300e8462b9"
      },
      "source": [
        "wandb.login()"
      ],
      "execution_count": 5,
      "outputs": [
        {
          "output_type": "stream",
          "text": [
            "\u001b[34m\u001b[1mwandb\u001b[0m: Currently logged in as: \u001b[33mawesomericky\u001b[0m (use `wandb login --relogin` to force relogin)\n"
          ],
          "name": "stderr"
        },
        {
          "output_type": "execute_result",
          "data": {
            "text/plain": [
              "True"
            ]
          },
          "metadata": {
            "tags": []
          },
          "execution_count": 5
        }
      ]
    },
    {
      "cell_type": "code",
      "metadata": {
        "colab": {
          "base_uri": "https://localhost:8080/"
        },
        "id": "5EySe9_QPR-K",
        "outputId": "60215489-d5af-4e27-f0e7-660a19fcbced"
      },
      "source": [
        "device_name = tf.test.gpu_device_name()\n",
        "print('Found GPU at {}'.format(device_name))"
      ],
      "execution_count": 7,
      "outputs": [
        {
          "output_type": "stream",
          "text": [
            "Found GPU at /device:GPU:0\n"
          ],
          "name": "stdout"
        }
      ]
    },
    {
      "cell_type": "code",
      "metadata": {
        "id": "biS128E0ZXvL"
      },
      "source": [
        "\"\"\"\n",
        "utils.py\n",
        "\"\"\"\n",
        "\n",
        "def read_script_files(script_dir_path):\n",
        "    script_files = [f for f in listdir(script_dir_path) if isfile(join(script_dir_path, f))]\n",
        "    script_files.sort()\n",
        "    return script_files\n",
        "\n",
        "def data_shuffle(relative_data_directory_path):\n",
        "    data_files = read_script_files(relative_data_directory_path)\n",
        "    random.shuffle(data_files)\n",
        "    return data_files"
      ],
      "execution_count": 6,
      "outputs": []
    },
    {
      "cell_type": "code",
      "metadata": {
        "id": "76bPg01FZg_p"
      },
      "source": [
        "\"\"\"\n",
        "processed_data_loader.py\n",
        "\"\"\"\n",
        "\n",
        "def load_single_npz_data(relative_data_directory_path, file_name):\n",
        "    file_path = join(relative_data_directory_path, file_name)\n",
        "    data = np.load(file=file_path)\n",
        "    return data"
      ],
      "execution_count": 7,
      "outputs": []
    },
    {
      "cell_type": "code",
      "metadata": {
        "id": "RDnb_Tk9F2JJ"
      },
      "source": [
        "\"\"\"\n",
        "TCN_and_decoder.py\n",
        "\"\"\"\n",
        "\n",
        "class ResidualBlock(tf.keras.Model):\n",
        "    def __init__(self, dilation_rate, num_filters, kernel_size, padding, \n",
        "                        dropout_rate, activation, seed, training_state):\n",
        "        super(ResidualBlock, self).__init__()\n",
        "        init = tf.keras.initializers.RandomNormal(mean=0.0, stddev=0.1, seed=seed)\n",
        "        layers = tf.keras.layers\n",
        "        assert padding in ['causal', 'same']\n",
        "\n",
        "        self.training_state = training_state\n",
        "\n",
        "        # Block1\n",
        "        self.conv1 = layers.Conv1D(filters=num_filters, kernel_size=kernel_size, data_format='channels_last',\n",
        "                                    dilation_rate=dilation_rate, padding=padding, kernel_initializer=init)\n",
        "        self.batch1 = layers.BatchNormalization(axis=1, trainable=True)\n",
        "        if activation == 'leaky-relu':\n",
        "            self.ac1 = layers.LeakyReLU(alpha=0.3)\n",
        "        else:\n",
        "            self.ac1 = layers.Activation(activation)\n",
        "        self.drop1 = layers.Dropout(rate=dropout_rate)\n",
        "\n",
        "        # Block2\n",
        "        self.conv2 = layers.Conv1D(filters=num_filters, kernel_size=kernel_size, data_format='channels_last',\n",
        "                                    dilation_rate=dilation_rate, padding=padding, kernel_initializer=init)\n",
        "        self.batch2 = layers.BatchNormalization(axis=1, trainable=True)\n",
        "        if activation == 'leaky-relu':\n",
        "            self.ac2 = layers.LeakyReLU(alpha=0.3)\n",
        "        else:\n",
        "            self.ac2 = layers.Activation(activation)\n",
        "        self.drop2 = layers.Dropout(rate=dropout_rate)\n",
        "\n",
        "        self.downsample = layers.Conv1D(filters=num_filters, kernel_size=1,\n",
        "                                        padding='same', kernel_initializer=init)\n",
        "        if activation == 'leaky-relu':\n",
        "            self.ac3 = layers.LeakyReLU(alpha=0.3)\n",
        "        else:\n",
        "            self.ac3 = layers.Activation(activation)\n",
        "    \n",
        "    def call(self, x):\n",
        "        # Block1\n",
        "        prev_x = x\n",
        "        x = self.conv1(x)\n",
        "        x = self.batch1(x)\n",
        "        x = self.ac1(x)\n",
        "        x = self.drop1(x) if self.training_state else x\n",
        "\n",
        "        # Block2\n",
        "        x = self.conv2(x)\n",
        "        x = self.batch2(x)\n",
        "        x = self.ac2(x)\n",
        "        x = self.drop2(x) if self.training_state else x\n",
        "\n",
        "        # Match dimention\n",
        "        if prev_x.shape[-1] != x.shape[-1]:\n",
        "            prev_x = self.downsample(prev_x)\n",
        "        assert prev_x.shape[1:] == x.shape[1:]\n",
        "\n",
        "        # skip connection\n",
        "        return self.ac3(prev_x + x)\n",
        "\n",
        "class TemporalBlock(tf.keras.Model):\n",
        "    def __init__(self, num_channels, kernel_size, dropout_rate, activation, seed, training_state):\n",
        "        # num_channels is a list contains hidden channel numbers of Conv1D\n",
        "        # len(num_channels) is number of convolutional layers in one Temporal Block\n",
        "        super(TemporalBlock, self).__init__()\n",
        "        assert isinstance(num_channels, list)\n",
        "\n",
        "        self.num_levels = len(num_channels)\n",
        "        self.resi_blocks = [0]*self.num_levels\n",
        "        for i in range(self.num_levels):\n",
        "            dilation_rate = 2**i\n",
        "            self.resi_blocks[i] = ResidualBlock(dilation_rate, num_channels[i], kernel_size, padding='causal',\n",
        "                            dropout_rate=dropout_rate, activation=activation, seed=seed, training_state=training_state)\n",
        "    \n",
        "    def call(self, x):\n",
        "        for i in range(self.num_levels):\n",
        "            x = self.resi_blocks[i](x)\n",
        "        return x\n",
        "\n",
        "class TempConvnet(tf.keras.Model):\n",
        "    def __init__(self, num_stacks, num_channels, kernel_size, dropout_rate, activation, return_type, seed, training_state):\n",
        "        # num_stacks number of Temporal Blocks in Temporal convolutional network\n",
        "        super(TempConvnet, self).__init__()\n",
        "        assert isinstance(num_stacks, int)\n",
        "        assert isinstance(num_channels, list)\n",
        "        assert isinstance(activation, str)\n",
        "        assert return_type in ['whole', 'end']\n",
        "\n",
        "        self.num_stacks = num_stacks\n",
        "        self.temp_blocks = [0]*self.num_stacks\n",
        "        self.return_type = return_type\n",
        "        for i in range(num_stacks):\n",
        "            self.temp_blocks[i] = TemporalBlock(num_channels, kernel_size=kernel_size, dropout_rate=dropout_rate, activation=activation, seed=seed, training_state=training_state)\n",
        "    \n",
        "    def call(self, x):\n",
        "        for i in range(self.num_stacks):\n",
        "            x = self.temp_blocks[i](x)\n",
        "        \n",
        "        if self.return_type == 'whole':\n",
        "            return x\n",
        "        elif self.return_type == 'end':\n",
        "            return x[:, -1, :]\n",
        "\n",
        "class TempConvnet_Decoder(tf.keras.Model):\n",
        "    def __init__(self, decoder_type, num_channels, kernel_size, padding, dropout_rate, activation, seed, training_state):\n",
        "        super(TempConvnet_Decoder, self).__init__()\n",
        "        assert isinstance(num_channels, int)\n",
        "        assert isinstance(kernel_size, list)\n",
        "        assert isinstance(activation, str)\n",
        "        assert padding in ['causal', 'same']\n",
        "        assert decoder_type in ['linguistic', 'acoustic']\n",
        "\n",
        "        init = tf.keras.initializers.RandomNormal(mean=0.0, stddev=0.1, seed=seed)\n",
        "        layers = tf.keras.layers\n",
        "\n",
        "        self.training_state = training_state\n",
        "\n",
        "        # Block1\n",
        "        self.upsample_block1 = layers.UpSampling1D(size=3)\n",
        "        self.conv_block1 = layers.Conv1D(filters=num_channels, kernel_size=kernel_size[0], data_format='channels_last',\n",
        "                                            padding=padding, kernel_initializer=init)\n",
        "        self.batchnorm_block1 = layers.BatchNormalization(axis=-1, trainable=True)\n",
        "        self.ac_block1 = layers.Activation(activation) if activation != 'leaky-relu' else layers.LeakyReLU(alpha=0.2)\n",
        "        self.drop_block1 = layers.Dropout(rate=dropout_rate)\n",
        "\n",
        "        # Extra block0\n",
        "        self.conv_block_e0 = layers.Conv1D(filters=num_channels, kernel_size=kernel_size[0], data_format='channels_last',\n",
        "                                            padding=padding, kernel_initializer=init)\n",
        "        self.batchnorm_block_e0 = layers.BatchNormalization(axis=-1, trainable=True)\n",
        "        self.ac_block_e0 = layers.Activation(activation) if activation != 'leaky-relu' else layers.LeakyReLU(alpha=0.2)\n",
        "        self.drop_block_e0 = layers.Dropout(rate=dropout_rate)\n",
        "\n",
        "        # Block2\n",
        "        self.upsample_block2 = layers.UpSampling1D(size=3)\n",
        "        self.conv_block2 = layers.Conv1D(filters=num_channels, kernel_size=kernel_size[0], data_format='channels_last',\n",
        "                                            padding=padding, kernel_initializer=init)\n",
        "        self.batchnorm_block2 = layers.BatchNormalization(axis=-1, trainable=True)\n",
        "        self.ac_block2 = layers.Activation(activation) if activation != 'leaky-relu' else layers.LeakyReLU(alpha=0.2)\n",
        "        self.drop_block2 = layers.Dropout(rate=dropout_rate)\n",
        "\n",
        "        # Extra block1\n",
        "        self.conv_block_e1 = layers.Conv1D(filters=num_channels, kernel_size=kernel_size[0], data_format='channels_last',\n",
        "                                            padding=padding, kernel_initializer=init)\n",
        "        self.batchnorm_block_e1 = layers.BatchNormalization(axis=-1, trainable=True)\n",
        "        self.ac_block_e1 = layers.Activation(activation) if activation != 'leaky-relu' else layers.LeakyReLU(alpha=0.2)\n",
        "        self.drop_block_e1 = layers.Dropout(rate=dropout_rate)\n",
        "\n",
        "        # Block3\n",
        "        self.upsample_block3 = layers.UpSampling1D(size=2)\n",
        "        self.conv_block3 = layers.Conv1D(filters=num_channels, kernel_size=kernel_size[0], data_format='channels_last',\n",
        "                                            padding=padding, kernel_initializer=init)\n",
        "        self.batchnorm_block3 = layers.BatchNormalization(axis=-1, trainable=True)\n",
        "        self.ac_block3 = layers.Activation(activation) if activation != 'leaky-relu' else layers.LeakyReLU(alpha=0.2)\n",
        "        self.drop_block3 = layers.Dropout(rate=dropout_rate)\n",
        "\n",
        "        # Extra block2\n",
        "        self.conv_block_e2 = layers.Conv1D(filters=num_channels, kernel_size=kernel_size[0], data_format='channels_last',\n",
        "                                            padding=padding, kernel_initializer=init)\n",
        "        self.batchnorm_block_e2 = layers.BatchNormalization(axis=-1, trainable=True)\n",
        "        self.ac_block_e2 = layers.Activation(activation) if activation != 'leaky-relu' else layers.LeakyReLU(alpha=0.2)\n",
        "        self.drop_block_e2 = layers.Dropout(rate=dropout_rate)\n",
        "\n",
        "        # Block4\n",
        "        self.conv_block4 = layers.Conv1D(filters=num_channels, kernel_size=kernel_size[0], data_format='channels_last',\n",
        "                                            padding='valid', kernel_initializer=init)\n",
        "        self.batchnorm_block4 = layers.BatchNormalization(axis=-1, trainable=True)\n",
        "        self.ac_block4 = layers.Activation(activation) if activation != 'leaky-relu' else layers.LeakyReLU(alpha=0.2)\n",
        "        self.drop_block4 = layers.Dropout(rate=dropout_rate)\n",
        "\n",
        "        # Extra block3\n",
        "        self.conv_block_e3 = layers.Conv1D(filters=num_channels, kernel_size=kernel_size[0], data_format='channels_last',\n",
        "                                            padding=padding, kernel_initializer=init)\n",
        "        self.batchnorm_block_e3 = layers.BatchNormalization(axis=-1, trainable=True)\n",
        "        self.ac_block_e3 = layers.Activation(activation) if activation != 'leaky-relu' else layers.LeakyReLU(alpha=0.2)\n",
        "        self.drop_block_e3 = layers.Dropout(rate=dropout_rate)\n",
        "\n",
        "        # Block5\n",
        "        self.upsample_block5 = layers.UpSampling1D(size=2)\n",
        "        self.conv_block5 = layers.Conv1D(filters=num_channels, kernel_size=kernel_size[0], data_format='channels_last',\n",
        "                                            padding=padding, kernel_initializer=init)\n",
        "        self.batchnorm_block5 = layers.BatchNormalization(axis=-1, trainable=True)\n",
        "        self.ac_block5 = layers.Activation(activation) if activation != 'leaky-relu' else layers.LeakyReLU(alpha=0.2)\n",
        "        self.drop_block5 = layers.Dropout(rate=dropout_rate)\n",
        "\n",
        "        # Extra block4\n",
        "        self.conv_block_e4 = layers.Conv1D(filters=num_channels, kernel_size=kernel_size[0], data_format='channels_last',\n",
        "                                            padding=padding, kernel_initializer=init)\n",
        "        self.batchnorm_block_e4 = layers.BatchNormalization(axis=-1, trainable=True)\n",
        "        self.ac_block_e4 = layers.Activation(activation) if activation != 'leaky-relu' else layers.LeakyReLU(alpha=0.2)\n",
        "        self.drop_block_e4 = layers.Dropout(rate=dropout_rate)\n",
        "\n",
        "        # Block6\n",
        "        self.upsample_block6 = layers.UpSampling1D(size=3)\n",
        "        self.conv_block6 = layers.Conv1D(filters=num_channels, kernel_size=kernel_size[0], data_format='channels_last',\n",
        "                                            padding=padding, kernel_initializer=init)\n",
        "        self.batchnorm_block6 = layers.BatchNormalization(axis=-1, trainable=True)\n",
        "        self.ac_block6 = layers.Activation(activation) if activation != 'leaky-relu' else layers.LeakyReLU(alpha=0.2)\n",
        "        self.drop_block6 = layers.Dropout(rate=dropout_rate)\n",
        "\n",
        "        # Extra block5\n",
        "        self.conv_block_e5 = layers.Conv1D(filters=num_channels, kernel_size=kernel_size[0], data_format='channels_last',\n",
        "                                            padding=padding, kernel_initializer=init)\n",
        "        self.batchnorm_block_e5 = layers.BatchNormalization(axis=-1, trainable=True)\n",
        "        self.ac_block_e5 = layers.Activation(activation) if activation != 'leaky-relu' else layers.LeakyReLU(alpha=0.2)\n",
        "        self.drop_block_e5 = layers.Dropout(rate=dropout_rate)\n",
        "\n",
        "        # Block7\n",
        "        self.conv_block7 = layers.Conv1D(filters=num_channels, kernel_size=kernel_size[0], data_format='channels_last',\n",
        "                                            padding='valid', kernel_initializer=init)\n",
        "        self.batchnorm_block7 = layers.BatchNormalization(axis=-1, trainable=True)\n",
        "        self.ac_block7 = layers.Activation(activation) if activation != 'leaky-relu' else layers.LeakyReLU(alpha=0.2)\n",
        "        self.drop_block7 = layers.Dropout(rate=dropout_rate)\n",
        "\n",
        "        # Extra block6\n",
        "        self.conv_block_e6 = layers.Conv1D(filters=num_channels, kernel_size=kernel_size[0], data_format='channels_last',\n",
        "                                            padding=padding, kernel_initializer=init)\n",
        "        self.batchnorm_block_e6 = layers.BatchNormalization(axis=-1, trainable=True)\n",
        "        self.ac_block_e6 = layers.Activation(activation) if activation != 'leaky-relu' else layers.LeakyReLU(alpha=0.2)\n",
        "        self.drop_block_e6 = layers.Dropout(rate=dropout_rate)\n",
        "\n",
        "        # Block8\n",
        "        self.upsample_block8 = layers.UpSampling1D(size=3)\n",
        "        self.conv_block8 = layers.Conv1D(filters=num_channels, kernel_size=kernel_size[0], data_format='channels_last',\n",
        "                                            padding=padding, kernel_initializer=init)\n",
        "        self.batchnorm_block8 = layers.BatchNormalization(axis=-1, trainable=True)\n",
        "        self.ac_block8 = layers.Activation(activation) if activation != 'leaky-relu' else layers.LeakyReLU(alpha=0.2)\n",
        "        self.drop_block8 = layers.Dropout(rate=dropout_rate)\n",
        "\n",
        "        # Extra block7\n",
        "        self.conv_block_e7 = layers.Conv1D(filters=num_channels, kernel_size=kernel_size[1], data_format='channels_last',\n",
        "                                            padding=padding, kernel_initializer=init)\n",
        "        self.batchnorm_block_e7 = layers.BatchNormalization(axis=-1, trainable=True)\n",
        "        self.ac_block_e7 = layers.Activation(activation) if activation != 'leaky-relu' else layers.LeakyReLU(alpha=0.2)\n",
        "        self.drop_block_e7 = layers.Dropout(rate=dropout_rate)\n",
        "\n",
        "        # Extra block8\n",
        "        self.conv_block_e8 = layers.Conv1D(filters=num_channels, kernel_size=kernel_size[1], data_format='channels_last',\n",
        "                                            padding=padding, kernel_initializer=init)\n",
        "        self.batchnorm_block_e8 = layers.BatchNormalization(axis=-1, trainable=True)\n",
        "        self.ac_block_e8 = layers.Activation(activation) if activation != 'leaky-relu' else layers.LeakyReLU(alpha=0.2)\n",
        "        self.drop_block_e8 = layers.Dropout(rate=dropout_rate)\n",
        "\n",
        "        # Block9 (final block)\n",
        "        self.final_conv_block = layers.Conv1D(filters=num_channels, kernel_size=kernel_size[1], data_format='channels_last',\n",
        "                                                    padding=padding, kernel_initializer=init)\n",
        "        self.final_ac_block = layers.Softmax(axis=-1)\n",
        "        self.final_reshape_block = layers.Permute((2, 1))\n",
        "    \n",
        "    def call(self, x):\n",
        "        x = self.upsample_block1(x)\n",
        "        x = self.conv_block1(x)\n",
        "        x = self.batchnorm_block1(x)\n",
        "        x = self.ac_block1(x)\n",
        "        x = self.drop_block1(x) if self.training_state else x\n",
        "        x = self.conv_block_e0(x)\n",
        "        x = self.batchnorm_block_e0(x)\n",
        "        x = self.ac_block_e0(x)\n",
        "        x = self.drop_block_e0(x) if self.training_state else x\n",
        "        x = self.upsample_block2(x)\n",
        "        x = self.conv_block2(x)\n",
        "        x = self.batchnorm_block2(x)\n",
        "        x = self.ac_block2(x)\n",
        "        x = self.drop_block2(x) if self.training_state else x\n",
        "        x = self.conv_block_e1(x)\n",
        "        x = self.batchnorm_block_e1(x)\n",
        "        x = self.ac_block_e1(x)\n",
        "        x = self.drop_block_e1(x) if self.training_state else x\n",
        "        x = self.upsample_block3(x)\n",
        "        x = self.conv_block3(x)\n",
        "        x = self.batchnorm_block3(x)\n",
        "        x = self.ac_block3(x)\n",
        "        x = self.drop_block3(x) if self.training_state else x\n",
        "        x = self.conv_block_e2(x)\n",
        "        x = self.batchnorm_block_e2(x)\n",
        "        x = self.ac_block_e2(x)\n",
        "        x = self.drop_block_e2(x) if self.training_state else x\n",
        "        x = self.conv_block4(x)\n",
        "        x = self.batchnorm_block4(x)\n",
        "        x = self.ac_block4(x)\n",
        "        x = self.drop_block4(x) if self.training_state else x\n",
        "        x = self.conv_block_e3(x)\n",
        "        x = self.batchnorm_block_e3(x)\n",
        "        x = self.ac_block_e3(x)\n",
        "        x = self.drop_block_e3(x) if self.training_state else x\n",
        "        x = self.upsample_block5(x)\n",
        "        x = self.conv_block5(x)\n",
        "        x = self.batchnorm_block5(x)\n",
        "        x = self.ac_block5(x)\n",
        "        x = self.drop_block5(x) if self.training_state else x\n",
        "        x = self.conv_block_e4(x)\n",
        "        x = self.batchnorm_block_e4(x)\n",
        "        x = self.ac_block_e4(x)\n",
        "        x = self.drop_block_e4(x) if self.training_state else x\n",
        "        x = self.upsample_block6(x)\n",
        "        x = self.conv_block6(x)\n",
        "        x = self.batchnorm_block6(x)\n",
        "        x = self.ac_block6(x)\n",
        "        x = self.drop_block6(x) if self.training_state else x\n",
        "        x = self.conv_block_e5(x)\n",
        "        x = self.batchnorm_block_e5(x)\n",
        "        x = self.ac_block_e5(x)\n",
        "        x = self.drop_block_e5(x) if self.training_state else x\n",
        "        x = self.conv_block7(x)\n",
        "        x = self.batchnorm_block7(x)\n",
        "        x = self.ac_block7(x)\n",
        "        x = self.drop_block7(x) if self.training_state else x\n",
        "        x = self.conv_block_e6(x)\n",
        "        x = self.batchnorm_block_e6(x)\n",
        "        x = self.ac_block_e6(x)\n",
        "        x = self.drop_block_e6(x) if self.training_state else x\n",
        "        x = self.upsample_block8(x)\n",
        "        x = self.conv_block8(x)\n",
        "        x = self.batchnorm_block8(x)\n",
        "        x = self.ac_block8(x)\n",
        "        x = self.drop_block8(x) if self.training_state else x\n",
        "        x = self.conv_block_e7(x)\n",
        "        x = self.batchnorm_block_e7(x)\n",
        "        x = self.ac_block_e7(x)\n",
        "        x = self.drop_block_e7(x) if self.training_state else x\n",
        "        x = self.conv_block_e8(x)\n",
        "        x = self.batchnorm_block_e8(x)\n",
        "        x = self.ac_block_e8(x)\n",
        "        x = self.drop_block_e8(x) if self.training_state else x\n",
        "        x = self.final_conv_block(x)\n",
        "        x = self.final_ac_block(x)\n",
        "        y = self.final_reshape_block(x)\n",
        "        return y"
      ],
      "execution_count": 51,
      "outputs": []
    },
    {
      "cell_type": "code",
      "metadata": {
        "id": "q_tBigUbFqaT"
      },
      "source": [
        "\"\"\"\n",
        "sentenceEM.py\n",
        "\"\"\"\n",
        "\n",
        "class sentenceEM(tf.keras.Model):\n",
        "    def __init__(self, encoder_args, linguistic_decoder_args, input_shapes, seed, training_state):\n",
        "        \"\"\"\n",
        "        1) encoder_args: \n",
        "        num_stacks, num_channels, kernel_size, dropout_rate, return_type, seed\n",
        "        2) linguistic_decoder_args:\n",
        "        decoder_type, num_channels, kernel_size, padding, dropout_rate, seed, training_state\n",
        "        \"\"\"\n",
        "        super(sentenceEM, self).__init__()\n",
        "        self.input_shapes = input_shapes\n",
        "        self.input_reshape_block = layers.Permute((2, 1))\n",
        "        self.encoder = TempConvnet(num_stacks=encoder_args['num_stacks'], num_channels=encoder_args['num_channels'],\n",
        "                                   kernel_size=encoder_args['kernel_size'], dropout_rate=encoder_args['dropout_rate'], activation=encoder_args['activation'],\n",
        "                                   return_type=encoder_args['return_type'], seed=seed, training_state=training_state)\n",
        "        self.linguistic_decoder = TempConvnet_Decoder(decoder_type=linguistic_decoder_args['decoder_type'], num_channels=linguistic_decoder_args['num_channels'], \n",
        "                                                      kernel_size=linguistic_decoder_args['kernel_size'], padding=linguistic_decoder_args['padding'],\n",
        "                                                      dropout_rate=linguistic_decoder_args['dropout_rate'], activation=linguistic_decoder_args['activation'],\n",
        "                                                      seed=seed, training_state=training_state)\n",
        "    \n",
        "    def call(self, x):\n",
        "        embedded_outputs = self.input_reshape_block(x)\n",
        "        embedded_outputs = self.encoder(embedded_outputs)\n",
        "        embedded_outputs = kb.expand_dims(embedded_outputs, axis=1)\n",
        "        linguistic_outputs = self.linguistic_decoder(embedded_outputs)\n",
        "        return linguistic_outputs\n",
        "    \n",
        "    def encoder_call(self, x):\n",
        "        embedded_outputs = self.input_reshape_block(x)\n",
        "        embedded_outputs = self.encoder(embedded_outputs)\n",
        "        return embedded_outputs\n",
        "    \n",
        "    def decoder_call(self, x):\n",
        "        embedded_outputs = kb.expand_dims(x, axis=1)\n",
        "        linguistic_outputs = self.linguistic_decoder(embedded_outputs)\n",
        "        return linguistic_outputs\n",
        "    \n",
        "    def build_seperate_graph(self):\n",
        "        # Encoder graph\n",
        "        x = tf.keras.Input(batch_shape=self.input_shapes)\n",
        "        embedded_outputs = self.encoder_call(x)\n",
        "        self.embedded_outputs_shape = embedded_outputs.shape\n",
        "        self.encoder_model = tf.keras.Model(inputs=x, outputs=embedded_outputs)\n",
        "\n",
        "        # Decoder graph\n",
        "        embeddings = tf.keras.Input(batch_shape=self.embedded_outputs_shape)\n",
        "        linguistic_outputs = self.decoder_call(embeddings)\n",
        "        self.decoder_model = tf.keras.Model(inputs=embeddings, outputs=[linguistic_outputs])\n",
        "    \n",
        "    def build_total_graph(self):\n",
        "        x = tf.keras.Input(batch_input_shape=self.input_shapes)\n",
        "        y = self.encoder_model(x)\n",
        "        l_y = self.decoder_model(y)\n",
        "        self.model = tf.keras.Model(inputs=x, outputs=[l_y])\n",
        "\n",
        "    def model_visualize(self):\n",
        "        self.model.summary()\n",
        "        # plot_model(self.model, to_file='/home/awesomericky/Lab_intern/Prof_Oh/Code/Speech2Pickup/image/sentenceEM.png')\n",
        "    \n",
        "    def encoder_model_compile(self, lr):\n",
        "        optimizer = tf.keras.optimizers.Adam(learning_rate=lr)\n",
        "        self.encoder_model.compile(optimizer=optimizer)\n",
        "\n",
        "    def model_compile(self, lr):\n",
        "        optimizer = tf.keras.optimizers.Adam(learning_rate=lr)\n",
        "        metric = self.custom_metric()\n",
        "        self.model.compile(optimizer=optimizer, loss=[self.linguistic_loss_function], metrics=[metric])\n",
        "\n",
        "    def model_train(self, X_train, Y_linguistic_train, batch_size, epochs, total_model_file_path, encoder_model_file_path):\n",
        "        custom_callback = CustomCallback(total_model_file_path, encoder_model_file_path, self.model, self.encoder_model)\n",
        "        self.model.fit(x=X_train, y=[Y_linguistic_train], batch_size=batch_size, epochs=epochs, verbose=1, callbacks=[custom_callback])\n",
        "\n",
        "    def custom_metric(self):\n",
        "        def categorical_accuracy(y_true, y_pred):\n",
        "            ind_actual = tf.math.argmax(y_true, axis=1)\n",
        "            ind_predict = tf.math.argmax(y_pred, axis=1)\n",
        "            batch_size = ind_predict.shape[0]\n",
        "            time_size = ind_predict.shape[1]\n",
        "            count = tf.reduce_sum(tf.cast(tf.math.equal(ind_actual, ind_predict), tf.int32), axis=1)\n",
        "            accuracy = tf.math.reduce_mean(tf.math.divide(count, time_size))\n",
        "            return accuracy\n",
        "        categorical_accuracy.__name__ = 'categorical_accuracy'\n",
        "        return categorical_accuracy\n",
        "\n",
        "    def linguistic_loss_function(self, y_actual, y_predicted):\n",
        "        epsil = 1e-5\n",
        "        y_predicted_correct = -kb.log(y_predicted + epsil)\n",
        "        # y_predicted_incorrect = -kb.log(1 - y_predicted + epsil)\n",
        "        # y_actual_op = tf.math.subtract(tf.ones_like(y_actual), y_actual)\n",
        "\n",
        "        correct_loss = layers.multiply([y_actual, y_predicted_correct])\n",
        "        # incorrect_loss = layers.multiply([y_actual_op, y_predicted_incorrect])\n",
        "        # loss = tf.math.add(correct_loss, incorrect_loss)\n",
        "        loss = kb.sum(correct_loss, axis=1)\n",
        "        loss = kb.mean(loss, keepdims=False)\n",
        "        return loss\n",
        "\n",
        "class CustomCallback(Callback):\n",
        "    def __init__(self, total_model_file_path, encoder_model_file_path, total_model, encoder_model):\n",
        "        self.total_model_file_path = total_model_file_path\n",
        "        self.encoder_model_file_path = encoder_model_file_path\n",
        "        self.total_model = total_model\n",
        "        self.encoder_model = encoder_model\n",
        "        self.monitor = 'categorical_accuracy'\n",
        "        self.monitor_op = np.greater\n",
        "        self.best = 0\n",
        "        self.temp_loss = []\n",
        "        self.temp_linguistic_accuracy = []\n",
        "    \n",
        "    def on_batch_end(self, batch, logs=None):\n",
        "        self.temp_loss.append(logs.get('loss'))\n",
        "        self.temp_linguistic_accuracy.append(logs.get('categorical_accuracy'))\n",
        "\n",
        "    def on_epoch_end(self, epoch, logs=None):\n",
        "        self.temp_loss.append(logs.get('loss'))\n",
        "        self.temp_linguistic_accuracy.append(logs.get('categorical_accuracy'))\n",
        "\n",
        "        # Logging data\n",
        "        for iii in range(len(self.temp_loss)):\n",
        "            wandb.log({'temp_loss': self.temp_loss[iii]})\n",
        "            wandb.log({'temp_linguistic_accuracy': self.temp_linguistic_accuracy[iii]})\n",
        "        self.temp_loss = []\n",
        "        self.temp_linguistic_accuracy = []\n",
        "        \n",
        "        # Save model\n",
        "        current = logs.get(self.monitor)\n",
        "        if self.monitor_op(current, self.best):\n",
        "            self.best = current\n",
        "            self.total_model.save_weights(filepath=self.total_model_file_path, overwrite=True)\n",
        "            self.encoder_model.save_weights(filepath=self.encoder_model_file_path, overwrite=True)"
      ],
      "execution_count": 52,
      "outputs": []
    },
    {
      "cell_type": "code",
      "metadata": {
        "id": "GRSZUTxv6OyO",
        "colab": {
          "base_uri": "https://localhost:8080/"
        },
        "outputId": "49646198-c9b7-495d-a57a-9cfe43b8daff"
      },
      "source": [
        "# Configure model\n",
        "\n",
        "train_model_number = 12\n",
        "batch_size = 36; seed = 1; lr = 0.0005; epochs = 50\n",
        "n_mels = 40\n",
        "time_steps = 303\n",
        "word_dic_size = 43\n",
        "dropout_rate = 0.2\n",
        "training_state = True\n",
        "input_shapes = (None, n_mels, time_steps)\n",
        "encoder_args = {'num_stacks': 3, 'num_channels':[n_mels for i in range(6)], 'kernel_size':3,\n",
        "                'dropout_rate': dropout_rate, 'activation': 'leaky-relu', 'return_type': 'end'}\n",
        "linguistic_decoder_args = {'decoder_type': 'linguistic', 'num_channels': word_dic_size, 'kernel_size': [2, 2],\n",
        "                           'padding': 'same', 'dropout_rate': dropout_rate, 'activation': 'leaky-relu'}\n",
        "\n",
        "with tf.device('/device:GPU:0'):\n",
        "    sen_em_model = sentenceEM(encoder_args=encoder_args, linguistic_decoder_args=linguistic_decoder_args,\n",
        "                              input_shapes=input_shapes, seed=seed, training_state=training_state)\n",
        "    sen_em_model.build_seperate_graph()\n",
        "    sen_em_model.build_total_graph()\n",
        "    sen_em_model.model_compile(lr=lr)\n",
        "sen_em_model.model_visualize()"
      ],
      "execution_count": 71,
      "outputs": [
        {
          "output_type": "stream",
          "text": [
            "WARNING:tensorflow:Entity <bound method TempConvnet.call of <__main__.TempConvnet object at 0x7ef63e043080>> could not be transformed and will be executed as-is. Please report this to the AutoGraph team. When filing the bug, set the verbosity to 10 (on Linux, `export AUTOGRAPH_VERBOSITY=10`) and attach the full output. Cause: module 'gast' has no attribute 'Num'\n",
            "WARNING: Entity <bound method TempConvnet.call of <__main__.TempConvnet object at 0x7ef63e043080>> could not be transformed and will be executed as-is. Please report this to the AutoGraph team. When filing the bug, set the verbosity to 10 (on Linux, `export AUTOGRAPH_VERBOSITY=10`) and attach the full output. Cause: module 'gast' has no attribute 'Num'\n",
            "WARNING:tensorflow:Entity <bound method TemporalBlock.call of <__main__.TemporalBlock object at 0x7ef63d3b7780>> could not be transformed and will be executed as-is. Please report this to the AutoGraph team. When filing the bug, set the verbosity to 10 (on Linux, `export AUTOGRAPH_VERBOSITY=10`) and attach the full output. Cause: module 'gast' has no attribute 'Num'\n",
            "WARNING: Entity <bound method TemporalBlock.call of <__main__.TemporalBlock object at 0x7ef63d3b7780>> could not be transformed and will be executed as-is. Please report this to the AutoGraph team. When filing the bug, set the verbosity to 10 (on Linux, `export AUTOGRAPH_VERBOSITY=10`) and attach the full output. Cause: module 'gast' has no attribute 'Num'\n",
            "WARNING:tensorflow:Entity <bound method ResidualBlock.call of <__main__.ResidualBlock object at 0x7ef63d3b7cc0>> could not be transformed and will be executed as-is. Please report this to the AutoGraph team. When filing the bug, set the verbosity to 10 (on Linux, `export AUTOGRAPH_VERBOSITY=10`) and attach the full output. Cause: module 'gast' has no attribute 'Num'\n",
            "WARNING: Entity <bound method ResidualBlock.call of <__main__.ResidualBlock object at 0x7ef63d3b7cc0>> could not be transformed and will be executed as-is. Please report this to the AutoGraph team. When filing the bug, set the verbosity to 10 (on Linux, `export AUTOGRAPH_VERBOSITY=10`) and attach the full output. Cause: module 'gast' has no attribute 'Num'\n",
            "WARNING:tensorflow:Entity <bound method ResidualBlock.call of <__main__.ResidualBlock object at 0x7ef63ce89630>> could not be transformed and will be executed as-is. Please report this to the AutoGraph team. When filing the bug, set the verbosity to 10 (on Linux, `export AUTOGRAPH_VERBOSITY=10`) and attach the full output. Cause: module 'gast' has no attribute 'Num'\n",
            "WARNING: Entity <bound method ResidualBlock.call of <__main__.ResidualBlock object at 0x7ef63ce89630>> could not be transformed and will be executed as-is. Please report this to the AutoGraph team. When filing the bug, set the verbosity to 10 (on Linux, `export AUTOGRAPH_VERBOSITY=10`) and attach the full output. Cause: module 'gast' has no attribute 'Num'\n",
            "WARNING:tensorflow:Entity <bound method ResidualBlock.call of <__main__.ResidualBlock object at 0x7ef63ce91278>> could not be transformed and will be executed as-is. Please report this to the AutoGraph team. When filing the bug, set the verbosity to 10 (on Linux, `export AUTOGRAPH_VERBOSITY=10`) and attach the full output. Cause: module 'gast' has no attribute 'Num'\n",
            "WARNING: Entity <bound method ResidualBlock.call of <__main__.ResidualBlock object at 0x7ef63ce91278>> could not be transformed and will be executed as-is. Please report this to the AutoGraph team. When filing the bug, set the verbosity to 10 (on Linux, `export AUTOGRAPH_VERBOSITY=10`) and attach the full output. Cause: module 'gast' has no attribute 'Num'\n",
            "WARNING:tensorflow:Entity <bound method ResidualBlock.call of <__main__.ResidualBlock object at 0x7ef63ce9ee10>> could not be transformed and will be executed as-is. Please report this to the AutoGraph team. When filing the bug, set the verbosity to 10 (on Linux, `export AUTOGRAPH_VERBOSITY=10`) and attach the full output. Cause: module 'gast' has no attribute 'Num'\n",
            "WARNING: Entity <bound method ResidualBlock.call of <__main__.ResidualBlock object at 0x7ef63ce9ee10>> could not be transformed and will be executed as-is. Please report this to the AutoGraph team. When filing the bug, set the verbosity to 10 (on Linux, `export AUTOGRAPH_VERBOSITY=10`) and attach the full output. Cause: module 'gast' has no attribute 'Num'\n",
            "WARNING:tensorflow:Entity <bound method ResidualBlock.call of <__main__.ResidualBlock object at 0x7ef63ceae9e8>> could not be transformed and will be executed as-is. Please report this to the AutoGraph team. When filing the bug, set the verbosity to 10 (on Linux, `export AUTOGRAPH_VERBOSITY=10`) and attach the full output. Cause: module 'gast' has no attribute 'Num'\n",
            "WARNING: Entity <bound method ResidualBlock.call of <__main__.ResidualBlock object at 0x7ef63ceae9e8>> could not be transformed and will be executed as-is. Please report this to the AutoGraph team. When filing the bug, set the verbosity to 10 (on Linux, `export AUTOGRAPH_VERBOSITY=10`) and attach the full output. Cause: module 'gast' has no attribute 'Num'\n",
            "WARNING:tensorflow:Entity <bound method ResidualBlock.call of <__main__.ResidualBlock object at 0x7ef63ce3b5c0>> could not be transformed and will be executed as-is. Please report this to the AutoGraph team. When filing the bug, set the verbosity to 10 (on Linux, `export AUTOGRAPH_VERBOSITY=10`) and attach the full output. Cause: module 'gast' has no attribute 'Num'\n",
            "WARNING: Entity <bound method ResidualBlock.call of <__main__.ResidualBlock object at 0x7ef63ce3b5c0>> could not be transformed and will be executed as-is. Please report this to the AutoGraph team. When filing the bug, set the verbosity to 10 (on Linux, `export AUTOGRAPH_VERBOSITY=10`) and attach the full output. Cause: module 'gast' has no attribute 'Num'\n",
            "WARNING:tensorflow:Entity <bound method TemporalBlock.call of <__main__.TemporalBlock object at 0x7ef63ce4b198>> could not be transformed and will be executed as-is. Please report this to the AutoGraph team. When filing the bug, set the verbosity to 10 (on Linux, `export AUTOGRAPH_VERBOSITY=10`) and attach the full output. Cause: module 'gast' has no attribute 'Num'\n",
            "WARNING: Entity <bound method TemporalBlock.call of <__main__.TemporalBlock object at 0x7ef63ce4b198>> could not be transformed and will be executed as-is. Please report this to the AutoGraph team. When filing the bug, set the verbosity to 10 (on Linux, `export AUTOGRAPH_VERBOSITY=10`) and attach the full output. Cause: module 'gast' has no attribute 'Num'\n",
            "WARNING:tensorflow:Entity <bound method ResidualBlock.call of <__main__.ResidualBlock object at 0x7ef63ce4b390>> could not be transformed and will be executed as-is. Please report this to the AutoGraph team. When filing the bug, set the verbosity to 10 (on Linux, `export AUTOGRAPH_VERBOSITY=10`) and attach the full output. Cause: module 'gast' has no attribute 'Num'\n",
            "WARNING: Entity <bound method ResidualBlock.call of <__main__.ResidualBlock object at 0x7ef63ce4b390>> could not be transformed and will be executed as-is. Please report this to the AutoGraph team. When filing the bug, set the verbosity to 10 (on Linux, `export AUTOGRAPH_VERBOSITY=10`) and attach the full output. Cause: module 'gast' has no attribute 'Num'\n",
            "WARNING:tensorflow:Entity <bound method ResidualBlock.call of <__main__.ResidualBlock object at 0x7ef63ce53f28>> could not be transformed and will be executed as-is. Please report this to the AutoGraph team. When filing the bug, set the verbosity to 10 (on Linux, `export AUTOGRAPH_VERBOSITY=10`) and attach the full output. Cause: module 'gast' has no attribute 'Num'\n",
            "WARNING: Entity <bound method ResidualBlock.call of <__main__.ResidualBlock object at 0x7ef63ce53f28>> could not be transformed and will be executed as-is. Please report this to the AutoGraph team. When filing the bug, set the verbosity to 10 (on Linux, `export AUTOGRAPH_VERBOSITY=10`) and attach the full output. Cause: module 'gast' has no attribute 'Num'\n",
            "WARNING:tensorflow:Entity <bound method ResidualBlock.call of <__main__.ResidualBlock object at 0x7ef63ce62b00>> could not be transformed and will be executed as-is. Please report this to the AutoGraph team. When filing the bug, set the verbosity to 10 (on Linux, `export AUTOGRAPH_VERBOSITY=10`) and attach the full output. Cause: module 'gast' has no attribute 'Num'\n",
            "WARNING: Entity <bound method ResidualBlock.call of <__main__.ResidualBlock object at 0x7ef63ce62b00>> could not be transformed and will be executed as-is. Please report this to the AutoGraph team. When filing the bug, set the verbosity to 10 (on Linux, `export AUTOGRAPH_VERBOSITY=10`) and attach the full output. Cause: module 'gast' has no attribute 'Num'\n",
            "WARNING:tensorflow:Entity <bound method ResidualBlock.call of <__main__.ResidualBlock object at 0x7ef63cdf16d8>> could not be transformed and will be executed as-is. Please report this to the AutoGraph team. When filing the bug, set the verbosity to 10 (on Linux, `export AUTOGRAPH_VERBOSITY=10`) and attach the full output. Cause: module 'gast' has no attribute 'Num'\n",
            "WARNING: Entity <bound method ResidualBlock.call of <__main__.ResidualBlock object at 0x7ef63cdf16d8>> could not be transformed and will be executed as-is. Please report this to the AutoGraph team. When filing the bug, set the verbosity to 10 (on Linux, `export AUTOGRAPH_VERBOSITY=10`) and attach the full output. Cause: module 'gast' has no attribute 'Num'\n",
            "WARNING:tensorflow:Entity <bound method ResidualBlock.call of <__main__.ResidualBlock object at 0x7ef63ce012b0>> could not be transformed and will be executed as-is. Please report this to the AutoGraph team. When filing the bug, set the verbosity to 10 (on Linux, `export AUTOGRAPH_VERBOSITY=10`) and attach the full output. Cause: module 'gast' has no attribute 'Num'\n",
            "WARNING: Entity <bound method ResidualBlock.call of <__main__.ResidualBlock object at 0x7ef63ce012b0>> could not be transformed and will be executed as-is. Please report this to the AutoGraph team. When filing the bug, set the verbosity to 10 (on Linux, `export AUTOGRAPH_VERBOSITY=10`) and attach the full output. Cause: module 'gast' has no attribute 'Num'\n",
            "WARNING:tensorflow:Entity <bound method ResidualBlock.call of <__main__.ResidualBlock object at 0x7ef63ce09e48>> could not be transformed and will be executed as-is. Please report this to the AutoGraph team. When filing the bug, set the verbosity to 10 (on Linux, `export AUTOGRAPH_VERBOSITY=10`) and attach the full output. Cause: module 'gast' has no attribute 'Num'\n",
            "WARNING: Entity <bound method ResidualBlock.call of <__main__.ResidualBlock object at 0x7ef63ce09e48>> could not be transformed and will be executed as-is. Please report this to the AutoGraph team. When filing the bug, set the verbosity to 10 (on Linux, `export AUTOGRAPH_VERBOSITY=10`) and attach the full output. Cause: module 'gast' has no attribute 'Num'\n",
            "WARNING:tensorflow:Entity <bound method TemporalBlock.call of <__main__.TemporalBlock object at 0x7ef63ce18a20>> could not be transformed and will be executed as-is. Please report this to the AutoGraph team. When filing the bug, set the verbosity to 10 (on Linux, `export AUTOGRAPH_VERBOSITY=10`) and attach the full output. Cause: module 'gast' has no attribute 'Num'\n",
            "WARNING: Entity <bound method TemporalBlock.call of <__main__.TemporalBlock object at 0x7ef63ce18a20>> could not be transformed and will be executed as-is. Please report this to the AutoGraph team. When filing the bug, set the verbosity to 10 (on Linux, `export AUTOGRAPH_VERBOSITY=10`) and attach the full output. Cause: module 'gast' has no attribute 'Num'\n",
            "WARNING:tensorflow:Entity <bound method ResidualBlock.call of <__main__.ResidualBlock object at 0x7ef63ce18c18>> could not be transformed and will be executed as-is. Please report this to the AutoGraph team. When filing the bug, set the verbosity to 10 (on Linux, `export AUTOGRAPH_VERBOSITY=10`) and attach the full output. Cause: module 'gast' has no attribute 'Num'\n",
            "WARNING: Entity <bound method ResidualBlock.call of <__main__.ResidualBlock object at 0x7ef63ce18c18>> could not be transformed and will be executed as-is. Please report this to the AutoGraph team. When filing the bug, set the verbosity to 10 (on Linux, `export AUTOGRAPH_VERBOSITY=10`) and attach the full output. Cause: module 'gast' has no attribute 'Num'\n",
            "WARNING:tensorflow:Entity <bound method ResidualBlock.call of <__main__.ResidualBlock object at 0x7ef63ce287f0>> could not be transformed and will be executed as-is. Please report this to the AutoGraph team. When filing the bug, set the verbosity to 10 (on Linux, `export AUTOGRAPH_VERBOSITY=10`) and attach the full output. Cause: module 'gast' has no attribute 'Num'\n",
            "WARNING: Entity <bound method ResidualBlock.call of <__main__.ResidualBlock object at 0x7ef63ce287f0>> could not be transformed and will be executed as-is. Please report this to the AutoGraph team. When filing the bug, set the verbosity to 10 (on Linux, `export AUTOGRAPH_VERBOSITY=10`) and attach the full output. Cause: module 'gast' has no attribute 'Num'\n",
            "WARNING:tensorflow:Entity <bound method ResidualBlock.call of <__main__.ResidualBlock object at 0x7ef63cdb83c8>> could not be transformed and will be executed as-is. Please report this to the AutoGraph team. When filing the bug, set the verbosity to 10 (on Linux, `export AUTOGRAPH_VERBOSITY=10`) and attach the full output. Cause: module 'gast' has no attribute 'Num'\n",
            "WARNING: Entity <bound method ResidualBlock.call of <__main__.ResidualBlock object at 0x7ef63cdb83c8>> could not be transformed and will be executed as-is. Please report this to the AutoGraph team. When filing the bug, set the verbosity to 10 (on Linux, `export AUTOGRAPH_VERBOSITY=10`) and attach the full output. Cause: module 'gast' has no attribute 'Num'\n",
            "WARNING:tensorflow:Entity <bound method ResidualBlock.call of <__main__.ResidualBlock object at 0x7ef63cdbef60>> could not be transformed and will be executed as-is. Please report this to the AutoGraph team. When filing the bug, set the verbosity to 10 (on Linux, `export AUTOGRAPH_VERBOSITY=10`) and attach the full output. Cause: module 'gast' has no attribute 'Num'\n",
            "WARNING: Entity <bound method ResidualBlock.call of <__main__.ResidualBlock object at 0x7ef63cdbef60>> could not be transformed and will be executed as-is. Please report this to the AutoGraph team. When filing the bug, set the verbosity to 10 (on Linux, `export AUTOGRAPH_VERBOSITY=10`) and attach the full output. Cause: module 'gast' has no attribute 'Num'\n",
            "WARNING:tensorflow:Entity <bound method ResidualBlock.call of <__main__.ResidualBlock object at 0x7ef63cdcdb38>> could not be transformed and will be executed as-is. Please report this to the AutoGraph team. When filing the bug, set the verbosity to 10 (on Linux, `export AUTOGRAPH_VERBOSITY=10`) and attach the full output. Cause: module 'gast' has no attribute 'Num'\n",
            "WARNING: Entity <bound method ResidualBlock.call of <__main__.ResidualBlock object at 0x7ef63cdcdb38>> could not be transformed and will be executed as-is. Please report this to the AutoGraph team. When filing the bug, set the verbosity to 10 (on Linux, `export AUTOGRAPH_VERBOSITY=10`) and attach the full output. Cause: module 'gast' has no attribute 'Num'\n",
            "WARNING:tensorflow:Entity <bound method ResidualBlock.call of <__main__.ResidualBlock object at 0x7ef63cddc710>> could not be transformed and will be executed as-is. Please report this to the AutoGraph team. When filing the bug, set the verbosity to 10 (on Linux, `export AUTOGRAPH_VERBOSITY=10`) and attach the full output. Cause: module 'gast' has no attribute 'Num'\n",
            "WARNING: Entity <bound method ResidualBlock.call of <__main__.ResidualBlock object at 0x7ef63cddc710>> could not be transformed and will be executed as-is. Please report this to the AutoGraph team. When filing the bug, set the verbosity to 10 (on Linux, `export AUTOGRAPH_VERBOSITY=10`) and attach the full output. Cause: module 'gast' has no attribute 'Num'\n",
            "WARNING:tensorflow:Entity <bound method TempConvnet_Decoder.call of <__main__.TempConvnet_Decoder object at 0x7ef63cdec320>> could not be transformed and will be executed as-is. Please report this to the AutoGraph team. When filing the bug, set the verbosity to 10 (on Linux, `export AUTOGRAPH_VERBOSITY=10`) and attach the full output. Cause: Bad argument number for Name: 3, expecting 4\n",
            "WARNING: Entity <bound method TempConvnet_Decoder.call of <__main__.TempConvnet_Decoder object at 0x7ef63cdec320>> could not be transformed and will be executed as-is. Please report this to the AutoGraph team. When filing the bug, set the verbosity to 10 (on Linux, `export AUTOGRAPH_VERBOSITY=10`) and attach the full output. Cause: Bad argument number for Name: 3, expecting 4\n",
            "WARNING:tensorflow:Entity <bound method TempConvnet.call of <__main__.TempConvnet object at 0x7ef63e043080>> could not be transformed and will be executed as-is. Please report this to the AutoGraph team. When filing the bug, set the verbosity to 10 (on Linux, `export AUTOGRAPH_VERBOSITY=10`) and attach the full output. Cause: module 'gast' has no attribute 'Num'\n",
            "WARNING: Entity <bound method TempConvnet.call of <__main__.TempConvnet object at 0x7ef63e043080>> could not be transformed and will be executed as-is. Please report this to the AutoGraph team. When filing the bug, set the verbosity to 10 (on Linux, `export AUTOGRAPH_VERBOSITY=10`) and attach the full output. Cause: module 'gast' has no attribute 'Num'\n",
            "WARNING:tensorflow:Entity <bound method TemporalBlock.call of <__main__.TemporalBlock object at 0x7ef63d3b7780>> could not be transformed and will be executed as-is. Please report this to the AutoGraph team. When filing the bug, set the verbosity to 10 (on Linux, `export AUTOGRAPH_VERBOSITY=10`) and attach the full output. Cause: module 'gast' has no attribute 'Num'\n",
            "WARNING: Entity <bound method TemporalBlock.call of <__main__.TemporalBlock object at 0x7ef63d3b7780>> could not be transformed and will be executed as-is. Please report this to the AutoGraph team. When filing the bug, set the verbosity to 10 (on Linux, `export AUTOGRAPH_VERBOSITY=10`) and attach the full output. Cause: module 'gast' has no attribute 'Num'\n",
            "WARNING:tensorflow:Entity <bound method ResidualBlock.call of <__main__.ResidualBlock object at 0x7ef63d3b7cc0>> could not be transformed and will be executed as-is. Please report this to the AutoGraph team. When filing the bug, set the verbosity to 10 (on Linux, `export AUTOGRAPH_VERBOSITY=10`) and attach the full output. Cause: module 'gast' has no attribute 'Num'\n",
            "WARNING: Entity <bound method ResidualBlock.call of <__main__.ResidualBlock object at 0x7ef63d3b7cc0>> could not be transformed and will be executed as-is. Please report this to the AutoGraph team. When filing the bug, set the verbosity to 10 (on Linux, `export AUTOGRAPH_VERBOSITY=10`) and attach the full output. Cause: module 'gast' has no attribute 'Num'\n",
            "WARNING:tensorflow:Entity <bound method ResidualBlock.call of <__main__.ResidualBlock object at 0x7ef63ce89630>> could not be transformed and will be executed as-is. Please report this to the AutoGraph team. When filing the bug, set the verbosity to 10 (on Linux, `export AUTOGRAPH_VERBOSITY=10`) and attach the full output. Cause: module 'gast' has no attribute 'Num'\n",
            "WARNING: Entity <bound method ResidualBlock.call of <__main__.ResidualBlock object at 0x7ef63ce89630>> could not be transformed and will be executed as-is. Please report this to the AutoGraph team. When filing the bug, set the verbosity to 10 (on Linux, `export AUTOGRAPH_VERBOSITY=10`) and attach the full output. Cause: module 'gast' has no attribute 'Num'\n",
            "WARNING:tensorflow:Entity <bound method ResidualBlock.call of <__main__.ResidualBlock object at 0x7ef63ce91278>> could not be transformed and will be executed as-is. Please report this to the AutoGraph team. When filing the bug, set the verbosity to 10 (on Linux, `export AUTOGRAPH_VERBOSITY=10`) and attach the full output. Cause: module 'gast' has no attribute 'Num'\n",
            "WARNING: Entity <bound method ResidualBlock.call of <__main__.ResidualBlock object at 0x7ef63ce91278>> could not be transformed and will be executed as-is. Please report this to the AutoGraph team. When filing the bug, set the verbosity to 10 (on Linux, `export AUTOGRAPH_VERBOSITY=10`) and attach the full output. Cause: module 'gast' has no attribute 'Num'\n",
            "WARNING:tensorflow:Entity <bound method ResidualBlock.call of <__main__.ResidualBlock object at 0x7ef63ce9ee10>> could not be transformed and will be executed as-is. Please report this to the AutoGraph team. When filing the bug, set the verbosity to 10 (on Linux, `export AUTOGRAPH_VERBOSITY=10`) and attach the full output. Cause: module 'gast' has no attribute 'Num'\n",
            "WARNING: Entity <bound method ResidualBlock.call of <__main__.ResidualBlock object at 0x7ef63ce9ee10>> could not be transformed and will be executed as-is. Please report this to the AutoGraph team. When filing the bug, set the verbosity to 10 (on Linux, `export AUTOGRAPH_VERBOSITY=10`) and attach the full output. Cause: module 'gast' has no attribute 'Num'\n",
            "WARNING:tensorflow:Entity <bound method ResidualBlock.call of <__main__.ResidualBlock object at 0x7ef63ceae9e8>> could not be transformed and will be executed as-is. Please report this to the AutoGraph team. When filing the bug, set the verbosity to 10 (on Linux, `export AUTOGRAPH_VERBOSITY=10`) and attach the full output. Cause: module 'gast' has no attribute 'Num'\n",
            "WARNING: Entity <bound method ResidualBlock.call of <__main__.ResidualBlock object at 0x7ef63ceae9e8>> could not be transformed and will be executed as-is. Please report this to the AutoGraph team. When filing the bug, set the verbosity to 10 (on Linux, `export AUTOGRAPH_VERBOSITY=10`) and attach the full output. Cause: module 'gast' has no attribute 'Num'\n",
            "WARNING:tensorflow:Entity <bound method ResidualBlock.call of <__main__.ResidualBlock object at 0x7ef63ce3b5c0>> could not be transformed and will be executed as-is. Please report this to the AutoGraph team. When filing the bug, set the verbosity to 10 (on Linux, `export AUTOGRAPH_VERBOSITY=10`) and attach the full output. Cause: module 'gast' has no attribute 'Num'\n",
            "WARNING: Entity <bound method ResidualBlock.call of <__main__.ResidualBlock object at 0x7ef63ce3b5c0>> could not be transformed and will be executed as-is. Please report this to the AutoGraph team. When filing the bug, set the verbosity to 10 (on Linux, `export AUTOGRAPH_VERBOSITY=10`) and attach the full output. Cause: module 'gast' has no attribute 'Num'\n",
            "WARNING:tensorflow:Entity <bound method TemporalBlock.call of <__main__.TemporalBlock object at 0x7ef63ce4b198>> could not be transformed and will be executed as-is. Please report this to the AutoGraph team. When filing the bug, set the verbosity to 10 (on Linux, `export AUTOGRAPH_VERBOSITY=10`) and attach the full output. Cause: module 'gast' has no attribute 'Num'\n",
            "WARNING: Entity <bound method TemporalBlock.call of <__main__.TemporalBlock object at 0x7ef63ce4b198>> could not be transformed and will be executed as-is. Please report this to the AutoGraph team. When filing the bug, set the verbosity to 10 (on Linux, `export AUTOGRAPH_VERBOSITY=10`) and attach the full output. Cause: module 'gast' has no attribute 'Num'\n",
            "WARNING:tensorflow:Entity <bound method ResidualBlock.call of <__main__.ResidualBlock object at 0x7ef63ce4b390>> could not be transformed and will be executed as-is. Please report this to the AutoGraph team. When filing the bug, set the verbosity to 10 (on Linux, `export AUTOGRAPH_VERBOSITY=10`) and attach the full output. Cause: module 'gast' has no attribute 'Num'\n",
            "WARNING: Entity <bound method ResidualBlock.call of <__main__.ResidualBlock object at 0x7ef63ce4b390>> could not be transformed and will be executed as-is. Please report this to the AutoGraph team. When filing the bug, set the verbosity to 10 (on Linux, `export AUTOGRAPH_VERBOSITY=10`) and attach the full output. Cause: module 'gast' has no attribute 'Num'\n",
            "WARNING:tensorflow:Entity <bound method ResidualBlock.call of <__main__.ResidualBlock object at 0x7ef63ce53f28>> could not be transformed and will be executed as-is. Please report this to the AutoGraph team. When filing the bug, set the verbosity to 10 (on Linux, `export AUTOGRAPH_VERBOSITY=10`) and attach the full output. Cause: module 'gast' has no attribute 'Num'\n",
            "WARNING: Entity <bound method ResidualBlock.call of <__main__.ResidualBlock object at 0x7ef63ce53f28>> could not be transformed and will be executed as-is. Please report this to the AutoGraph team. When filing the bug, set the verbosity to 10 (on Linux, `export AUTOGRAPH_VERBOSITY=10`) and attach the full output. Cause: module 'gast' has no attribute 'Num'\n",
            "WARNING:tensorflow:Entity <bound method ResidualBlock.call of <__main__.ResidualBlock object at 0x7ef63ce62b00>> could not be transformed and will be executed as-is. Please report this to the AutoGraph team. When filing the bug, set the verbosity to 10 (on Linux, `export AUTOGRAPH_VERBOSITY=10`) and attach the full output. Cause: module 'gast' has no attribute 'Num'\n",
            "WARNING: Entity <bound method ResidualBlock.call of <__main__.ResidualBlock object at 0x7ef63ce62b00>> could not be transformed and will be executed as-is. Please report this to the AutoGraph team. When filing the bug, set the verbosity to 10 (on Linux, `export AUTOGRAPH_VERBOSITY=10`) and attach the full output. Cause: module 'gast' has no attribute 'Num'\n",
            "WARNING:tensorflow:Entity <bound method ResidualBlock.call of <__main__.ResidualBlock object at 0x7ef63cdf16d8>> could not be transformed and will be executed as-is. Please report this to the AutoGraph team. When filing the bug, set the verbosity to 10 (on Linux, `export AUTOGRAPH_VERBOSITY=10`) and attach the full output. Cause: module 'gast' has no attribute 'Num'\n",
            "WARNING: Entity <bound method ResidualBlock.call of <__main__.ResidualBlock object at 0x7ef63cdf16d8>> could not be transformed and will be executed as-is. Please report this to the AutoGraph team. When filing the bug, set the verbosity to 10 (on Linux, `export AUTOGRAPH_VERBOSITY=10`) and attach the full output. Cause: module 'gast' has no attribute 'Num'\n",
            "WARNING:tensorflow:Entity <bound method ResidualBlock.call of <__main__.ResidualBlock object at 0x7ef63ce012b0>> could not be transformed and will be executed as-is. Please report this to the AutoGraph team. When filing the bug, set the verbosity to 10 (on Linux, `export AUTOGRAPH_VERBOSITY=10`) and attach the full output. Cause: module 'gast' has no attribute 'Num'\n",
            "WARNING: Entity <bound method ResidualBlock.call of <__main__.ResidualBlock object at 0x7ef63ce012b0>> could not be transformed and will be executed as-is. Please report this to the AutoGraph team. When filing the bug, set the verbosity to 10 (on Linux, `export AUTOGRAPH_VERBOSITY=10`) and attach the full output. Cause: module 'gast' has no attribute 'Num'\n",
            "WARNING:tensorflow:Entity <bound method ResidualBlock.call of <__main__.ResidualBlock object at 0x7ef63ce09e48>> could not be transformed and will be executed as-is. Please report this to the AutoGraph team. When filing the bug, set the verbosity to 10 (on Linux, `export AUTOGRAPH_VERBOSITY=10`) and attach the full output. Cause: module 'gast' has no attribute 'Num'\n",
            "WARNING: Entity <bound method ResidualBlock.call of <__main__.ResidualBlock object at 0x7ef63ce09e48>> could not be transformed and will be executed as-is. Please report this to the AutoGraph team. When filing the bug, set the verbosity to 10 (on Linux, `export AUTOGRAPH_VERBOSITY=10`) and attach the full output. Cause: module 'gast' has no attribute 'Num'\n",
            "WARNING:tensorflow:Entity <bound method TemporalBlock.call of <__main__.TemporalBlock object at 0x7ef63ce18a20>> could not be transformed and will be executed as-is. Please report this to the AutoGraph team. When filing the bug, set the verbosity to 10 (on Linux, `export AUTOGRAPH_VERBOSITY=10`) and attach the full output. Cause: module 'gast' has no attribute 'Num'\n",
            "WARNING: Entity <bound method TemporalBlock.call of <__main__.TemporalBlock object at 0x7ef63ce18a20>> could not be transformed and will be executed as-is. Please report this to the AutoGraph team. When filing the bug, set the verbosity to 10 (on Linux, `export AUTOGRAPH_VERBOSITY=10`) and attach the full output. Cause: module 'gast' has no attribute 'Num'\n",
            "WARNING:tensorflow:Entity <bound method ResidualBlock.call of <__main__.ResidualBlock object at 0x7ef63ce18c18>> could not be transformed and will be executed as-is. Please report this to the AutoGraph team. When filing the bug, set the verbosity to 10 (on Linux, `export AUTOGRAPH_VERBOSITY=10`) and attach the full output. Cause: module 'gast' has no attribute 'Num'\n",
            "WARNING: Entity <bound method ResidualBlock.call of <__main__.ResidualBlock object at 0x7ef63ce18c18>> could not be transformed and will be executed as-is. Please report this to the AutoGraph team. When filing the bug, set the verbosity to 10 (on Linux, `export AUTOGRAPH_VERBOSITY=10`) and attach the full output. Cause: module 'gast' has no attribute 'Num'\n",
            "WARNING:tensorflow:Entity <bound method ResidualBlock.call of <__main__.ResidualBlock object at 0x7ef63ce287f0>> could not be transformed and will be executed as-is. Please report this to the AutoGraph team. When filing the bug, set the verbosity to 10 (on Linux, `export AUTOGRAPH_VERBOSITY=10`) and attach the full output. Cause: module 'gast' has no attribute 'Num'\n",
            "WARNING: Entity <bound method ResidualBlock.call of <__main__.ResidualBlock object at 0x7ef63ce287f0>> could not be transformed and will be executed as-is. Please report this to the AutoGraph team. When filing the bug, set the verbosity to 10 (on Linux, `export AUTOGRAPH_VERBOSITY=10`) and attach the full output. Cause: module 'gast' has no attribute 'Num'\n",
            "WARNING:tensorflow:Entity <bound method ResidualBlock.call of <__main__.ResidualBlock object at 0x7ef63cdb83c8>> could not be transformed and will be executed as-is. Please report this to the AutoGraph team. When filing the bug, set the verbosity to 10 (on Linux, `export AUTOGRAPH_VERBOSITY=10`) and attach the full output. Cause: module 'gast' has no attribute 'Num'\n",
            "WARNING: Entity <bound method ResidualBlock.call of <__main__.ResidualBlock object at 0x7ef63cdb83c8>> could not be transformed and will be executed as-is. Please report this to the AutoGraph team. When filing the bug, set the verbosity to 10 (on Linux, `export AUTOGRAPH_VERBOSITY=10`) and attach the full output. Cause: module 'gast' has no attribute 'Num'\n",
            "WARNING:tensorflow:Entity <bound method ResidualBlock.call of <__main__.ResidualBlock object at 0x7ef63cdbef60>> could not be transformed and will be executed as-is. Please report this to the AutoGraph team. When filing the bug, set the verbosity to 10 (on Linux, `export AUTOGRAPH_VERBOSITY=10`) and attach the full output. Cause: module 'gast' has no attribute 'Num'\n",
            "WARNING: Entity <bound method ResidualBlock.call of <__main__.ResidualBlock object at 0x7ef63cdbef60>> could not be transformed and will be executed as-is. Please report this to the AutoGraph team. When filing the bug, set the verbosity to 10 (on Linux, `export AUTOGRAPH_VERBOSITY=10`) and attach the full output. Cause: module 'gast' has no attribute 'Num'\n",
            "WARNING:tensorflow:Entity <bound method ResidualBlock.call of <__main__.ResidualBlock object at 0x7ef63cdcdb38>> could not be transformed and will be executed as-is. Please report this to the AutoGraph team. When filing the bug, set the verbosity to 10 (on Linux, `export AUTOGRAPH_VERBOSITY=10`) and attach the full output. Cause: module 'gast' has no attribute 'Num'\n",
            "WARNING: Entity <bound method ResidualBlock.call of <__main__.ResidualBlock object at 0x7ef63cdcdb38>> could not be transformed and will be executed as-is. Please report this to the AutoGraph team. When filing the bug, set the verbosity to 10 (on Linux, `export AUTOGRAPH_VERBOSITY=10`) and attach the full output. Cause: module 'gast' has no attribute 'Num'\n",
            "WARNING:tensorflow:Entity <bound method ResidualBlock.call of <__main__.ResidualBlock object at 0x7ef63cddc710>> could not be transformed and will be executed as-is. Please report this to the AutoGraph team. When filing the bug, set the verbosity to 10 (on Linux, `export AUTOGRAPH_VERBOSITY=10`) and attach the full output. Cause: module 'gast' has no attribute 'Num'\n",
            "WARNING: Entity <bound method ResidualBlock.call of <__main__.ResidualBlock object at 0x7ef63cddc710>> could not be transformed and will be executed as-is. Please report this to the AutoGraph team. When filing the bug, set the verbosity to 10 (on Linux, `export AUTOGRAPH_VERBOSITY=10`) and attach the full output. Cause: module 'gast' has no attribute 'Num'\n",
            "WARNING:tensorflow:Entity <bound method TempConvnet_Decoder.call of <__main__.TempConvnet_Decoder object at 0x7ef63cdec320>> could not be transformed and will be executed as-is. Please report this to the AutoGraph team. When filing the bug, set the verbosity to 10 (on Linux, `export AUTOGRAPH_VERBOSITY=10`) and attach the full output. Cause: Bad argument number for Name: 3, expecting 4\n",
            "WARNING: Entity <bound method TempConvnet_Decoder.call of <__main__.TempConvnet_Decoder object at 0x7ef63cdec320>> could not be transformed and will be executed as-is. Please report this to the AutoGraph team. When filing the bug, set the verbosity to 10 (on Linux, `export AUTOGRAPH_VERBOSITY=10`) and attach the full output. Cause: Bad argument number for Name: 3, expecting 4\n",
            "Model: \"model_2\"\n",
            "_________________________________________________________________\n",
            "Layer (type)                 Output Shape              Param #   \n",
            "=================================================================\n",
            "input_3 (InputLayer)         [(None, 40, 303)]         0         \n",
            "_________________________________________________________________\n",
            "model (Model)                (None, 40)                217872    \n",
            "_________________________________________________________________\n",
            "model_1 (Model)              (None, 43, 303)           70004     \n",
            "=================================================================\n",
            "Total params: 287,876\n",
            "Trainable params: 264,598\n",
            "Non-trainable params: 23,278\n",
            "_________________________________________________________________\n"
          ],
          "name": "stdout"
        }
      ]
    },
    {
      "cell_type": "code",
      "metadata": {
        "id": "fAZrallcaXJF",
        "colab": {
          "base_uri": "https://localhost:8080/",
          "height": 140
        },
        "outputId": "6432a9c9-f3ef-49af-9683-278fb6b1ce58"
      },
      "source": [
        "# Train model\n",
        "\n",
        "wandb_config = {'batch_size':batch_size,\n",
        "                'learning_rate': lr,\n",
        "                'channel_type': 'single',\n",
        "                'n_mels': n_mels,\n",
        "                'seed': seed,\n",
        "                'date': '2020-12-06',\n",
        "                'train_model_number': train_model_number,\n",
        "                'Encoder activation': encoder_args['activation'],\n",
        "                'Linguistic decoder activation': linguistic_decoder_args['activation'],\n",
        "                'Decoder kernel':  linguistic_decoder_args['kernel_size'],\n",
        "                'memo': 'init std=0.1, Dropout_rate: 0.2',\n",
        "                'model type': 'modified model(only linguistic)'}\n",
        "wandb_run = wandb.init(project='Speech2Pickup', name='sentenceEM', config=wandb_config)\n",
        "total_model_file_path = '/content/drive/MyDrive/Speech2Pickup/sentenceEM_model/' + str(train_model_number) + '/total_model/sentenceEM_total_model'\n",
        "encoder_model_file_path = '/content/drive/MyDrive/Speech2Pickup/sentenceEM_model/' + str(train_model_number) + '/encoder_model/sentenceEM_encoder_model'\n",
        "model_configuration_file = '/content/drive/MyDrive/Speech2Pickup/sentenceEM_model/' + str(train_model_number) + '/model_config.txt'\n",
        "relative_data_directory_path = '/content/drive/MyDrive/Speech2Pickup/data_v2.2_single_channel'\n",
        "\n",
        "# Write model configuration in .txt file\n",
        "with open(model_configuration_file, 'w') as f:\n",
        "    f.write(str(wandb_config))\n",
        "\n",
        "# # Load data\n",
        "# print('Loading data...')\n",
        "# data_file = listdir(relative_data_directory_path)[0]\n",
        "# data = load_single_npz_data(relative_data_directory_path=relative_data_directory_path, file_name=data_file)\n",
        "# acoustic_data = data['acoustic']\n",
        "# linguistic_data = data['linguistic']\n",
        "\n",
        "# Train model and save\n",
        "print('Start training')\n",
        "try:\n",
        "    # Train\n",
        "    with tf.device('/device:GPU:0'):\n",
        "        sen_em_model.model_train(X_train=acoustic_data, Y_linguistic_train=linguistic_data, batch_size=batch_size, epochs=epochs,\n",
        "                                 total_model_file_path=total_model_file_path, encoder_model_file_path=encoder_model_file_path)\n",
        "except KeyboardInterrupt:\n",
        "    pass"
      ],
      "execution_count": null,
      "outputs": [
        {
          "output_type": "display_data",
          "data": {
            "text/html": [
              "\n",
              "                Tracking run with wandb version 0.10.12<br/>\n",
              "                Syncing run <strong style=\"color:#cdcd00\">sentenceEM</strong> to <a href=\"https://wandb.ai\" target=\"_blank\">Weights & Biases</a> <a href=\"https://docs.wandb.com/integrations/jupyter.html\" target=\"_blank\">(Documentation)</a>.<br/>\n",
              "                Project page: <a href=\"https://wandb.ai/awesomericky/Speech2Pickup\" target=\"_blank\">https://wandb.ai/awesomericky/Speech2Pickup</a><br/>\n",
              "                Run page: <a href=\"https://wandb.ai/awesomericky/Speech2Pickup/runs/1idbpr33\" target=\"_blank\">https://wandb.ai/awesomericky/Speech2Pickup/runs/1idbpr33</a><br/>\n",
              "                Run data is saved locally in <code>/content/wandb/run-20201205_192936-1idbpr33</code><br/><br/>\n",
              "            "
            ],
            "text/plain": [
              "<IPython.core.display.HTML object>"
            ]
          },
          "metadata": {
            "tags": []
          }
        },
        {
          "output_type": "stream",
          "text": [
            "Loading data...\n"
          ],
          "name": "stdout"
        }
      ]
    },
    {
      "cell_type": "code",
      "metadata": {
        "id": "ibBz0FwpzLPw",
        "colab": {
          "base_uri": "https://localhost:8080/",
          "height": 503,
          "referenced_widgets": [
            "842c5dd592a0401eaa67663f6136a64d",
            "eee2c07ae62f46e59de6502ddb26eafe",
            "f9d8f049b78a4d4faf2658b2bbbfdd87",
            "6bf00549a93f414fbd363c84c77a026c",
            "39f290bc179d44e8900615cce52d7bb6",
            "ddf070be3e254bd99ffe9313a55342c8",
            "5f8577baa0124f3db888b88490ca603d",
            "a30c961e1fc940aea61eabeb7e2f6aff"
          ]
        },
        "outputId": "fcfaa34b-2bf8-476d-82b2-62a41e8b9e77"
      },
      "source": [
        "# Erase model from memory\n",
        "# Finish wandb process\n",
        "\n",
        "tf.keras.backend.clear_session()\n",
        "del sen_em_model\n",
        "wandb_run.finish()"
      ],
      "execution_count": 70,
      "outputs": [
        {
          "output_type": "display_data",
          "data": {
            "text/html": [
              "<br/>Waiting for W&B process to finish, PID 5210<br/>Program ended successfully."
            ],
            "text/plain": [
              "<IPython.core.display.HTML object>"
            ]
          },
          "metadata": {
            "tags": []
          }
        },
        {
          "output_type": "display_data",
          "data": {
            "application/vnd.jupyter.widget-view+json": {
              "model_id": "842c5dd592a0401eaa67663f6136a64d",
              "version_minor": 0,
              "version_major": 2
            },
            "text/plain": [
              "VBox(children=(Label(value=' 0.00MB of 0.00MB uploaded (0.00MB deduped)\\r'), FloatProgress(value=1.0, max=1.0)…"
            ]
          },
          "metadata": {
            "tags": []
          }
        },
        {
          "output_type": "display_data",
          "data": {
            "text/html": [
              "Find user logs for this run at: <code>/content/wandb/run-20201205_184921-129bak14/logs/debug.log</code>"
            ],
            "text/plain": [
              "<IPython.core.display.HTML object>"
            ]
          },
          "metadata": {
            "tags": []
          }
        },
        {
          "output_type": "display_data",
          "data": {
            "text/html": [
              "Find internal logs for this run at: <code>/content/wandb/run-20201205_184921-129bak14/logs/debug-internal.log</code>"
            ],
            "text/plain": [
              "<IPython.core.display.HTML object>"
            ]
          },
          "metadata": {
            "tags": []
          }
        },
        {
          "output_type": "display_data",
          "data": {
            "text/html": [
              "<h3>Run summary:</h3><br/><style>\n",
              "    table.wandb td:nth-child(1) { padding: 0 10px; text-align: right }\n",
              "    </style><table class=\"wandb\">\n",
              "<tr><td>temp_loss</td><td>0.31027</td></tr><tr><td>_step</td><td>52071</td></tr><tr><td>_runtime</td><td>2016</td></tr><tr><td>_timestamp</td><td>1607196177</td></tr><tr><td>temp_linguistic_accuracy</td><td>0.87837</td></tr></table>"
            ],
            "text/plain": [
              "<IPython.core.display.HTML object>"
            ]
          },
          "metadata": {
            "tags": []
          }
        },
        {
          "output_type": "display_data",
          "data": {
            "text/html": [
              "<h3>Run history:</h3><br/><style>\n",
              "    table.wandb td:nth-child(1) { padding: 0 10px; text-align: right }\n",
              "    </style><table class=\"wandb\">\n",
              "<tr><td>temp_loss</td><td>█▆▅▃▃▄▃▂▂▂▃▃▂▃▂▂▂▃▂▂▂▂▃▂▂▂▁▂▂▁▂▁▁▂▁▁▁▁▁▁</td></tr><tr><td>_step</td><td>▁▁▁▁▂▂▂▂▂▃▃▃▃▃▃▄▄▄▄▄▅▅▅▅▅▅▆▆▆▆▆▇▇▇▇▇▇███</td></tr><tr><td>_runtime</td><td>▁▁▁▁▂▂▂▂▂▃▃▃▃▃▄▄▄▄▄▅▅▅▅▅▅▅▆▆▆▆▆▇▇▇▇▇████</td></tr><tr><td>_timestamp</td><td>▁▁▁▁▂▂▂▂▂▃▃▃▃▃▄▄▄▄▄▅▅▅▅▅▅▅▆▆▆▆▆▇▇▇▇▇████</td></tr><tr><td>temp_linguistic_accuracy</td><td>▁▃▆▆▆▇▇▇▇▇▇▇▇▇▇▇▇▇▇█████████████████████</td></tr></table><br/>"
            ],
            "text/plain": [
              "<IPython.core.display.HTML object>"
            ]
          },
          "metadata": {
            "tags": []
          }
        },
        {
          "output_type": "display_data",
          "data": {
            "text/html": [
              "Synced 5 W&B file(s), 0 media file(s), 0 artifact file(s) and 0 other file(s)"
            ],
            "text/plain": [
              "<IPython.core.display.HTML object>"
            ]
          },
          "metadata": {
            "tags": []
          }
        },
        {
          "output_type": "display_data",
          "data": {
            "text/html": [
              "\n",
              "                    <br/>Synced <strong style=\"color:#cdcd00\">sentenceEM</strong>: <a href=\"https://wandb.ai/awesomericky/Speech2Pickup/runs/129bak14\" target=\"_blank\">https://wandb.ai/awesomericky/Speech2Pickup/runs/129bak14</a><br/>\n",
              "                "
            ],
            "text/plain": [
              "<IPython.core.display.HTML object>"
            ]
          },
          "metadata": {
            "tags": []
          }
        }
      ]
    },
    {
      "cell_type": "code",
      "metadata": {
        "id": "YHrguM7QsINY",
        "colab": {
          "base_uri": "https://localhost:8080/"
        },
        "outputId": "1d2cbc06-9f2e-432d-d4d0-8e25dd55afa8"
      },
      "source": [
        "# Load model (model compiling should be done first)\n",
        "\n",
        "model_path = '/content/drive/MyDrive/Speech2Pickup/sentenceEM_model/' + str(train_model_number) + '/total_model/sentenceEM_total_model'\n",
        "sen_em_model.model.load_weights(model_path)"
      ],
      "execution_count": 30,
      "outputs": [
        {
          "output_type": "execute_result",
          "data": {
            "text/plain": [
              "<tensorflow.python.training.tracking.util.CheckpointLoadStatus at 0x7efbb2b5dcf8>"
            ]
          },
          "metadata": {
            "tags": []
          },
          "execution_count": 30
        }
      ]
    },
    {
      "cell_type": "code",
      "metadata": {
        "id": "o4vZBkDHrPfm"
      },
      "source": [
        "\"\"\"\n",
        "utils.py\n",
        "\"\"\"\n",
        "\n",
        "def read_script_files(script_dir_path):\n",
        "    script_files = [f for f in listdir(script_dir_path) if isfile(join(script_dir_path, f))]\n",
        "    script_files.sort()\n",
        "    return script_files\n",
        "\n",
        "def read_script_file_data(script_dir_path, script_file):\n",
        "    curr_file = open(join(script_dir_path, script_file), 'r')\n",
        "    curr_file_lines = curr_file.readlines()\n",
        "    for i in range(len(curr_file_lines)):\n",
        "        words = curr_file_lines[i].split()[2: ]\n",
        "        curr_file_lines[i] = ' '.join(words)\n",
        "    return curr_file_lines"
      ],
      "execution_count": 15,
      "outputs": []
    },
    {
      "cell_type": "code",
      "metadata": {
        "id": "rrgYrsZzrIcn"
      },
      "source": [
        "\"\"\"\n",
        "process_data.py\n",
        "\"\"\"\n",
        "\n",
        "def make_word_dictionary(relative_script_directory_path):\n",
        "    # Check whole word candidates\n",
        "    script_files = read_script_files(relative_script_directory_path)\n",
        "    total_words = set()\n",
        "    num = 0\n",
        "    for script_file in script_files:\n",
        "        num += 1\n",
        "        print('Processing {}/{}'.format(num, len(script_files)))\n",
        "        curr_file_lines = read_script_file_data(relative_script_directory_path, script_file)\n",
        "        for curr_file_line in curr_file_lines:\n",
        "            total_words.update(set(curr_file_line.split()))\n",
        "    total_words = list(total_words)\n",
        "    total_words.append(\"\")  # blank\n",
        "    total_words.append(\"OOV\")  # Out of vocabulary\n",
        "    total_words.sort()\n",
        "\n",
        "    # One-hot encoding\n",
        "    word_dictionary = dict()\n",
        "    word_dictionary_size = len(total_words)\n",
        "    for i in range(word_dictionary_size):\n",
        "        one_hot = np.zeros(word_dictionary_size)\n",
        "        one_hot[i] = 1\n",
        "        word_dictionary[total_words[i]] = one_hot\n",
        "    # print(word_dictionary)\n",
        "    return word_dictionary, word_dictionary_size"
      ],
      "execution_count": 16,
      "outputs": []
    },
    {
      "cell_type": "code",
      "metadata": {
        "id": "Y6eppcGFq-hc",
        "colab": {
          "base_uri": "https://localhost:8080/"
        },
        "outputId": "921daa3c-debb-4def-9b76-8bf384cd61bd"
      },
      "source": [
        "# Set word dictionary to check output of model later\n",
        "\n",
        "relative_script_directory_path = './drive/MyDrive/Speech2Pickup/train_script'\n",
        "word_dic, word_dic_size = make_word_dictionary(relative_script_directory_path)"
      ],
      "execution_count": 17,
      "outputs": [
        {
          "output_type": "stream",
          "text": [
            "Processing 1/478\n",
            "Processing 2/478\n",
            "Processing 3/478\n",
            "Processing 4/478\n",
            "Processing 5/478\n",
            "Processing 6/478\n",
            "Processing 7/478\n",
            "Processing 8/478\n",
            "Processing 9/478\n",
            "Processing 10/478\n",
            "Processing 11/478\n",
            "Processing 12/478\n",
            "Processing 13/478\n",
            "Processing 14/478\n",
            "Processing 15/478\n",
            "Processing 16/478\n",
            "Processing 17/478\n",
            "Processing 18/478\n",
            "Processing 19/478\n",
            "Processing 20/478\n",
            "Processing 21/478\n",
            "Processing 22/478\n",
            "Processing 23/478\n",
            "Processing 24/478\n",
            "Processing 25/478\n",
            "Processing 26/478\n",
            "Processing 27/478\n",
            "Processing 28/478\n",
            "Processing 29/478\n",
            "Processing 30/478\n",
            "Processing 31/478\n",
            "Processing 32/478\n",
            "Processing 33/478\n",
            "Processing 34/478\n",
            "Processing 35/478\n",
            "Processing 36/478\n",
            "Processing 37/478\n",
            "Processing 38/478\n",
            "Processing 39/478\n",
            "Processing 40/478\n",
            "Processing 41/478\n",
            "Processing 42/478\n",
            "Processing 43/478\n",
            "Processing 44/478\n",
            "Processing 45/478\n",
            "Processing 46/478\n",
            "Processing 47/478\n",
            "Processing 48/478\n",
            "Processing 49/478\n",
            "Processing 50/478\n",
            "Processing 51/478\n",
            "Processing 52/478\n",
            "Processing 53/478\n",
            "Processing 54/478\n",
            "Processing 55/478\n",
            "Processing 56/478\n",
            "Processing 57/478\n",
            "Processing 58/478\n",
            "Processing 59/478\n",
            "Processing 60/478\n",
            "Processing 61/478\n",
            "Processing 62/478\n",
            "Processing 63/478\n",
            "Processing 64/478\n",
            "Processing 65/478\n",
            "Processing 66/478\n",
            "Processing 67/478\n",
            "Processing 68/478\n",
            "Processing 69/478\n",
            "Processing 70/478\n",
            "Processing 71/478\n",
            "Processing 72/478\n",
            "Processing 73/478\n",
            "Processing 74/478\n",
            "Processing 75/478\n",
            "Processing 76/478\n",
            "Processing 77/478\n",
            "Processing 78/478\n",
            "Processing 79/478\n",
            "Processing 80/478\n",
            "Processing 81/478\n",
            "Processing 82/478\n",
            "Processing 83/478\n",
            "Processing 84/478\n",
            "Processing 85/478\n",
            "Processing 86/478\n",
            "Processing 87/478\n",
            "Processing 88/478\n",
            "Processing 89/478\n",
            "Processing 90/478\n",
            "Processing 91/478\n",
            "Processing 92/478\n",
            "Processing 93/478\n",
            "Processing 94/478\n",
            "Processing 95/478\n",
            "Processing 96/478\n",
            "Processing 97/478\n",
            "Processing 98/478\n",
            "Processing 99/478\n",
            "Processing 100/478\n",
            "Processing 101/478\n",
            "Processing 102/478\n",
            "Processing 103/478\n",
            "Processing 104/478\n",
            "Processing 105/478\n",
            "Processing 106/478\n",
            "Processing 107/478\n",
            "Processing 108/478\n",
            "Processing 109/478\n",
            "Processing 110/478\n",
            "Processing 111/478\n",
            "Processing 112/478\n",
            "Processing 113/478\n",
            "Processing 114/478\n",
            "Processing 115/478\n",
            "Processing 116/478\n",
            "Processing 117/478\n",
            "Processing 118/478\n",
            "Processing 119/478\n",
            "Processing 120/478\n",
            "Processing 121/478\n",
            "Processing 122/478\n",
            "Processing 123/478\n",
            "Processing 124/478\n",
            "Processing 125/478\n",
            "Processing 126/478\n",
            "Processing 127/478\n",
            "Processing 128/478\n",
            "Processing 129/478\n",
            "Processing 130/478\n",
            "Processing 131/478\n",
            "Processing 132/478\n",
            "Processing 133/478\n",
            "Processing 134/478\n",
            "Processing 135/478\n",
            "Processing 136/478\n",
            "Processing 137/478\n",
            "Processing 138/478\n",
            "Processing 139/478\n",
            "Processing 140/478\n",
            "Processing 141/478\n",
            "Processing 142/478\n",
            "Processing 143/478\n",
            "Processing 144/478\n",
            "Processing 145/478\n",
            "Processing 146/478\n",
            "Processing 147/478\n",
            "Processing 148/478\n",
            "Processing 149/478\n",
            "Processing 150/478\n",
            "Processing 151/478\n",
            "Processing 152/478\n",
            "Processing 153/478\n",
            "Processing 154/478\n",
            "Processing 155/478\n",
            "Processing 156/478\n",
            "Processing 157/478\n",
            "Processing 158/478\n",
            "Processing 159/478\n",
            "Processing 160/478\n",
            "Processing 161/478\n",
            "Processing 162/478\n",
            "Processing 163/478\n",
            "Processing 164/478\n",
            "Processing 165/478\n",
            "Processing 166/478\n",
            "Processing 167/478\n",
            "Processing 168/478\n",
            "Processing 169/478\n",
            "Processing 170/478\n",
            "Processing 171/478\n",
            "Processing 172/478\n",
            "Processing 173/478\n",
            "Processing 174/478\n",
            "Processing 175/478\n",
            "Processing 176/478\n",
            "Processing 177/478\n",
            "Processing 178/478\n",
            "Processing 179/478\n",
            "Processing 180/478\n",
            "Processing 181/478\n",
            "Processing 182/478\n",
            "Processing 183/478\n",
            "Processing 184/478\n",
            "Processing 185/478\n",
            "Processing 186/478\n",
            "Processing 187/478\n",
            "Processing 188/478\n",
            "Processing 189/478\n",
            "Processing 190/478\n",
            "Processing 191/478\n",
            "Processing 192/478\n",
            "Processing 193/478\n",
            "Processing 194/478\n",
            "Processing 195/478\n",
            "Processing 196/478\n",
            "Processing 197/478\n",
            "Processing 198/478\n",
            "Processing 199/478\n",
            "Processing 200/478\n",
            "Processing 201/478\n",
            "Processing 202/478\n",
            "Processing 203/478\n",
            "Processing 204/478\n",
            "Processing 205/478\n",
            "Processing 206/478\n",
            "Processing 207/478\n",
            "Processing 208/478\n",
            "Processing 209/478\n",
            "Processing 210/478\n",
            "Processing 211/478\n",
            "Processing 212/478\n",
            "Processing 213/478\n",
            "Processing 214/478\n",
            "Processing 215/478\n",
            "Processing 216/478\n",
            "Processing 217/478\n",
            "Processing 218/478\n",
            "Processing 219/478\n",
            "Processing 220/478\n",
            "Processing 221/478\n",
            "Processing 222/478\n",
            "Processing 223/478\n",
            "Processing 224/478\n",
            "Processing 225/478\n",
            "Processing 226/478\n",
            "Processing 227/478\n",
            "Processing 228/478\n",
            "Processing 229/478\n",
            "Processing 230/478\n",
            "Processing 231/478\n",
            "Processing 232/478\n",
            "Processing 233/478\n",
            "Processing 234/478\n",
            "Processing 235/478\n",
            "Processing 236/478\n",
            "Processing 237/478\n",
            "Processing 238/478\n",
            "Processing 239/478\n",
            "Processing 240/478\n",
            "Processing 241/478\n",
            "Processing 242/478\n",
            "Processing 243/478\n",
            "Processing 244/478\n",
            "Processing 245/478\n",
            "Processing 246/478\n",
            "Processing 247/478\n",
            "Processing 248/478\n",
            "Processing 249/478\n",
            "Processing 250/478\n",
            "Processing 251/478\n",
            "Processing 252/478\n",
            "Processing 253/478\n",
            "Processing 254/478\n",
            "Processing 255/478\n",
            "Processing 256/478\n",
            "Processing 257/478\n",
            "Processing 258/478\n",
            "Processing 259/478\n",
            "Processing 260/478\n",
            "Processing 261/478\n",
            "Processing 262/478\n",
            "Processing 263/478\n",
            "Processing 264/478\n",
            "Processing 265/478\n",
            "Processing 266/478\n",
            "Processing 267/478\n",
            "Processing 268/478\n",
            "Processing 269/478\n",
            "Processing 270/478\n",
            "Processing 271/478\n",
            "Processing 272/478\n",
            "Processing 273/478\n",
            "Processing 274/478\n",
            "Processing 275/478\n",
            "Processing 276/478\n",
            "Processing 277/478\n",
            "Processing 278/478\n",
            "Processing 279/478\n",
            "Processing 280/478\n",
            "Processing 281/478\n",
            "Processing 282/478\n",
            "Processing 283/478\n",
            "Processing 284/478\n",
            "Processing 285/478\n",
            "Processing 286/478\n",
            "Processing 287/478\n",
            "Processing 288/478\n",
            "Processing 289/478\n",
            "Processing 290/478\n",
            "Processing 291/478\n",
            "Processing 292/478\n",
            "Processing 293/478\n",
            "Processing 294/478\n",
            "Processing 295/478\n",
            "Processing 296/478\n",
            "Processing 297/478\n",
            "Processing 298/478\n",
            "Processing 299/478\n",
            "Processing 300/478\n",
            "Processing 301/478\n",
            "Processing 302/478\n",
            "Processing 303/478\n",
            "Processing 304/478\n",
            "Processing 305/478\n",
            "Processing 306/478\n",
            "Processing 307/478\n",
            "Processing 308/478\n",
            "Processing 309/478\n",
            "Processing 310/478\n",
            "Processing 311/478\n",
            "Processing 312/478\n",
            "Processing 313/478\n",
            "Processing 314/478\n",
            "Processing 315/478\n",
            "Processing 316/478\n",
            "Processing 317/478\n",
            "Processing 318/478\n",
            "Processing 319/478\n",
            "Processing 320/478\n",
            "Processing 321/478\n",
            "Processing 322/478\n",
            "Processing 323/478\n",
            "Processing 324/478\n",
            "Processing 325/478\n",
            "Processing 326/478\n",
            "Processing 327/478\n",
            "Processing 328/478\n",
            "Processing 329/478\n",
            "Processing 330/478\n",
            "Processing 331/478\n",
            "Processing 332/478\n",
            "Processing 333/478\n",
            "Processing 334/478\n",
            "Processing 335/478\n",
            "Processing 336/478\n",
            "Processing 337/478\n",
            "Processing 338/478\n",
            "Processing 339/478\n",
            "Processing 340/478\n",
            "Processing 341/478\n",
            "Processing 342/478\n",
            "Processing 343/478\n",
            "Processing 344/478\n",
            "Processing 345/478\n",
            "Processing 346/478\n",
            "Processing 347/478\n",
            "Processing 348/478\n",
            "Processing 349/478\n",
            "Processing 350/478\n",
            "Processing 351/478\n",
            "Processing 352/478\n",
            "Processing 353/478\n",
            "Processing 354/478\n",
            "Processing 355/478\n",
            "Processing 356/478\n",
            "Processing 357/478\n",
            "Processing 358/478\n",
            "Processing 359/478\n",
            "Processing 360/478\n",
            "Processing 361/478\n",
            "Processing 362/478\n",
            "Processing 363/478\n",
            "Processing 364/478\n",
            "Processing 365/478\n",
            "Processing 366/478\n",
            "Processing 367/478\n",
            "Processing 368/478\n",
            "Processing 369/478\n",
            "Processing 370/478\n",
            "Processing 371/478\n",
            "Processing 372/478\n",
            "Processing 373/478\n",
            "Processing 374/478\n",
            "Processing 375/478\n",
            "Processing 376/478\n",
            "Processing 377/478\n",
            "Processing 378/478\n",
            "Processing 379/478\n",
            "Processing 380/478\n",
            "Processing 381/478\n",
            "Processing 382/478\n",
            "Processing 383/478\n",
            "Processing 384/478\n",
            "Processing 385/478\n",
            "Processing 386/478\n",
            "Processing 387/478\n",
            "Processing 388/478\n",
            "Processing 389/478\n",
            "Processing 390/478\n",
            "Processing 391/478\n",
            "Processing 392/478\n",
            "Processing 393/478\n",
            "Processing 394/478\n",
            "Processing 395/478\n",
            "Processing 396/478\n",
            "Processing 397/478\n",
            "Processing 398/478\n",
            "Processing 399/478\n",
            "Processing 400/478\n",
            "Processing 401/478\n",
            "Processing 402/478\n",
            "Processing 403/478\n",
            "Processing 404/478\n",
            "Processing 405/478\n",
            "Processing 406/478\n",
            "Processing 407/478\n",
            "Processing 408/478\n",
            "Processing 409/478\n",
            "Processing 410/478\n",
            "Processing 411/478\n",
            "Processing 412/478\n",
            "Processing 413/478\n",
            "Processing 414/478\n",
            "Processing 415/478\n",
            "Processing 416/478\n",
            "Processing 417/478\n",
            "Processing 418/478\n",
            "Processing 419/478\n",
            "Processing 420/478\n",
            "Processing 421/478\n",
            "Processing 422/478\n",
            "Processing 423/478\n",
            "Processing 424/478\n",
            "Processing 425/478\n",
            "Processing 426/478\n",
            "Processing 427/478\n",
            "Processing 428/478\n",
            "Processing 429/478\n",
            "Processing 430/478\n",
            "Processing 431/478\n",
            "Processing 432/478\n",
            "Processing 433/478\n",
            "Processing 434/478\n",
            "Processing 435/478\n",
            "Processing 436/478\n",
            "Processing 437/478\n",
            "Processing 438/478\n",
            "Processing 439/478\n",
            "Processing 440/478\n",
            "Processing 441/478\n",
            "Processing 442/478\n",
            "Processing 443/478\n",
            "Processing 444/478\n",
            "Processing 445/478\n",
            "Processing 446/478\n",
            "Processing 447/478\n",
            "Processing 448/478\n",
            "Processing 449/478\n",
            "Processing 450/478\n",
            "Processing 451/478\n",
            "Processing 452/478\n",
            "Processing 453/478\n",
            "Processing 454/478\n",
            "Processing 455/478\n",
            "Processing 456/478\n",
            "Processing 457/478\n",
            "Processing 458/478\n",
            "Processing 459/478\n",
            "Processing 460/478\n",
            "Processing 461/478\n",
            "Processing 462/478\n",
            "Processing 463/478\n",
            "Processing 464/478\n",
            "Processing 465/478\n",
            "Processing 466/478\n",
            "Processing 467/478\n",
            "Processing 468/478\n",
            "Processing 469/478\n",
            "Processing 470/478\n",
            "Processing 471/478\n",
            "Processing 472/478\n",
            "Processing 473/478\n",
            "Processing 474/478\n",
            "Processing 475/478\n",
            "Processing 476/478\n",
            "Processing 477/478\n",
            "Processing 478/478\n"
          ],
          "name": "stdout"
        }
      ]
    },
    {
      "cell_type": "code",
      "metadata": {
        "id": "J_0fxHfmL-2D",
        "colab": {
          "base_uri": "https://localhost:8080/",
          "height": 1000
        },
        "outputId": "e6a738c8-e1d9-4534-9378-76c9c299d907"
      },
      "source": [
        "# Check output of loaded model\n",
        "\n",
        "import matplotlib.pyplot as plt\n",
        "import librosa.display\n",
        "\n",
        "relative_data_directory_path = '/content/drive/MyDrive/Speech2Pickup/data_v2.2_single_channel'\n",
        "file_name = 'senEM_preprocessed.npz'\n",
        "n_data = 9\n",
        "# data = load_single_npz_data(relative_data_directory_path=relative_data_directory_path, file_name=file_name)\n",
        "acoustic_train_batch = [data['acoustic'][n_data]]\n",
        "linguistic_train_batch = [data['linguistic'][n_data]]\n",
        "acoustic_train_batch = np.array(acoustic_train_batch, dtype=np.float32)\n",
        "linguistic_train_batch = np.array(linguistic_train_batch, dtype=np.float32)\n",
        "\n",
        "with tf.device('/device:GPU:0'):\n",
        "    l_out_full = sen_em_model.model(acoustic_train_batch)\n",
        "\n",
        "l_out_full = np.squeeze(kb.eval(l_out_full))\n",
        "l_true = np.squeeze(linguistic_train_batch)\n",
        "\n",
        "l_out = np.argmax(l_out_full, axis=0)\n",
        "l_true = np.argmax(l_true, axis=0)\n",
        "\n",
        "true_sentence = []\n",
        "predicted_sentence = []\n",
        "word_dic_keys = list(word_dic.keys())\n",
        "n = 0\n",
        "for i in l_true:\n",
        "  if n==0:\n",
        "    true_sentence.append(word_dic_keys[i])\n",
        "  elif true_sentence[-1] != word_dic_keys[i]:\n",
        "    true_sentence.append(word_dic_keys[i])\n",
        "  n += 1\n",
        "n = 0\n",
        "for i in l_out:\n",
        "  if n==0:\n",
        "    predicted_sentence.append(word_dic_keys[i])\n",
        "  elif predicted_sentence[-1] != word_dic_keys[i]:\n",
        "    predicted_sentence.append(word_dic_keys[i])\n",
        "  n += 1\n",
        "true_sentence = ' '.join(true_sentence)\n",
        "predicted_sentence = ' '.join(predicted_sentence)\n",
        "print('True: {}'.format(true_sentence))\n",
        "print('Predict: {}'.format(predicted_sentence))\n",
        "\n",
        "fig, ax = plt.subplots(1)\n",
        "ax.plot(l_out, label='prediction')\n",
        "ax.plot(l_true, label='ground truth')\n",
        "ax.set_title('Linguistic feature')\n",
        "ax.set_xlabel('Time step')\n",
        "ax.set_ylabel('Freq')\n",
        "plt.legend()\n",
        "plt.show()\n",
        "\n",
        "# Draw contour\n",
        "fig, ax = plt.subplots(nrows=1, ncols=2, figsize=(25, 10))\n",
        "ax[0].imshow(data['linguistic'][n_data])\n",
        "ax[1].imshow(l_out_full)"
      ],
      "execution_count": 69,
      "outputs": [
        {
          "output_type": "stream",
          "text": [
            "WARNING:tensorflow:Entity <bound method TempConvnet.call of <__main__.TempConvnet object at 0x7ef64a72b4e0>> could not be transformed and will be executed as-is. Please report this to the AutoGraph team. When filing the bug, set the verbosity to 10 (on Linux, `export AUTOGRAPH_VERBOSITY=10`) and attach the full output. Cause: module 'gast' has no attribute 'Num'\n",
            "WARNING: Entity <bound method TempConvnet.call of <__main__.TempConvnet object at 0x7ef64a72b4e0>> could not be transformed and will be executed as-is. Please report this to the AutoGraph team. When filing the bug, set the verbosity to 10 (on Linux, `export AUTOGRAPH_VERBOSITY=10`) and attach the full output. Cause: module 'gast' has no attribute 'Num'\n",
            "WARNING:tensorflow:Entity <bound method TemporalBlock.call of <__main__.TemporalBlock object at 0x7ef64a13d828>> could not be transformed and will be executed as-is. Please report this to the AutoGraph team. When filing the bug, set the verbosity to 10 (on Linux, `export AUTOGRAPH_VERBOSITY=10`) and attach the full output. Cause: module 'gast' has no attribute 'Num'\n",
            "WARNING: Entity <bound method TemporalBlock.call of <__main__.TemporalBlock object at 0x7ef64a13d828>> could not be transformed and will be executed as-is. Please report this to the AutoGraph team. When filing the bug, set the verbosity to 10 (on Linux, `export AUTOGRAPH_VERBOSITY=10`) and attach the full output. Cause: module 'gast' has no attribute 'Num'\n",
            "WARNING:tensorflow:Entity <bound method ResidualBlock.call of <__main__.ResidualBlock object at 0x7ef64a13d7f0>> could not be transformed and will be executed as-is. Please report this to the AutoGraph team. When filing the bug, set the verbosity to 10 (on Linux, `export AUTOGRAPH_VERBOSITY=10`) and attach the full output. Cause: module 'gast' has no attribute 'Num'\n",
            "WARNING: Entity <bound method ResidualBlock.call of <__main__.ResidualBlock object at 0x7ef64a13d7f0>> could not be transformed and will be executed as-is. Please report this to the AutoGraph team. When filing the bug, set the verbosity to 10 (on Linux, `export AUTOGRAPH_VERBOSITY=10`) and attach the full output. Cause: module 'gast' has no attribute 'Num'\n",
            "WARNING:tensorflow:Entity <bound method ResidualBlock.call of <__main__.ResidualBlock object at 0x7ef64567d828>> could not be transformed and will be executed as-is. Please report this to the AutoGraph team. When filing the bug, set the verbosity to 10 (on Linux, `export AUTOGRAPH_VERBOSITY=10`) and attach the full output. Cause: module 'gast' has no attribute 'Num'\n",
            "WARNING: Entity <bound method ResidualBlock.call of <__main__.ResidualBlock object at 0x7ef64567d828>> could not be transformed and will be executed as-is. Please report this to the AutoGraph team. When filing the bug, set the verbosity to 10 (on Linux, `export AUTOGRAPH_VERBOSITY=10`) and attach the full output. Cause: module 'gast' has no attribute 'Num'\n",
            "WARNING:tensorflow:Entity <bound method ResidualBlock.call of <__main__.ResidualBlock object at 0x7ef645685780>> could not be transformed and will be executed as-is. Please report this to the AutoGraph team. When filing the bug, set the verbosity to 10 (on Linux, `export AUTOGRAPH_VERBOSITY=10`) and attach the full output. Cause: module 'gast' has no attribute 'Num'\n",
            "WARNING: Entity <bound method ResidualBlock.call of <__main__.ResidualBlock object at 0x7ef645685780>> could not be transformed and will be executed as-is. Please report this to the AutoGraph team. When filing the bug, set the verbosity to 10 (on Linux, `export AUTOGRAPH_VERBOSITY=10`) and attach the full output. Cause: module 'gast' has no attribute 'Num'\n",
            "WARNING:tensorflow:Entity <bound method ResidualBlock.call of <__main__.ResidualBlock object at 0x7ef645674630>> could not be transformed and will be executed as-is. Please report this to the AutoGraph team. When filing the bug, set the verbosity to 10 (on Linux, `export AUTOGRAPH_VERBOSITY=10`) and attach the full output. Cause: module 'gast' has no attribute 'Num'\n",
            "WARNING: Entity <bound method ResidualBlock.call of <__main__.ResidualBlock object at 0x7ef645674630>> could not be transformed and will be executed as-is. Please report this to the AutoGraph team. When filing the bug, set the verbosity to 10 (on Linux, `export AUTOGRAPH_VERBOSITY=10`) and attach the full output. Cause: module 'gast' has no attribute 'Num'\n",
            "WARNING:tensorflow:Entity <bound method ResidualBlock.call of <__main__.ResidualBlock object at 0x7ef6456a11d0>> could not be transformed and will be executed as-is. Please report this to the AutoGraph team. When filing the bug, set the verbosity to 10 (on Linux, `export AUTOGRAPH_VERBOSITY=10`) and attach the full output. Cause: module 'gast' has no attribute 'Num'\n",
            "WARNING: Entity <bound method ResidualBlock.call of <__main__.ResidualBlock object at 0x7ef6456a11d0>> could not be transformed and will be executed as-is. Please report this to the AutoGraph team. When filing the bug, set the verbosity to 10 (on Linux, `export AUTOGRAPH_VERBOSITY=10`) and attach the full output. Cause: module 'gast' has no attribute 'Num'\n",
            "WARNING:tensorflow:Entity <bound method ResidualBlock.call of <__main__.ResidualBlock object at 0x7ef6456a8d68>> could not be transformed and will be executed as-is. Please report this to the AutoGraph team. When filing the bug, set the verbosity to 10 (on Linux, `export AUTOGRAPH_VERBOSITY=10`) and attach the full output. Cause: module 'gast' has no attribute 'Num'\n",
            "WARNING: Entity <bound method ResidualBlock.call of <__main__.ResidualBlock object at 0x7ef6456a8d68>> could not be transformed and will be executed as-is. Please report this to the AutoGraph team. When filing the bug, set the verbosity to 10 (on Linux, `export AUTOGRAPH_VERBOSITY=10`) and attach the full output. Cause: module 'gast' has no attribute 'Num'\n",
            "WARNING:tensorflow:Entity <bound method TemporalBlock.call of <__main__.TemporalBlock object at 0x7ef645635940>> could not be transformed and will be executed as-is. Please report this to the AutoGraph team. When filing the bug, set the verbosity to 10 (on Linux, `export AUTOGRAPH_VERBOSITY=10`) and attach the full output. Cause: module 'gast' has no attribute 'Num'\n",
            "WARNING: Entity <bound method TemporalBlock.call of <__main__.TemporalBlock object at 0x7ef645635940>> could not be transformed and will be executed as-is. Please report this to the AutoGraph team. When filing the bug, set the verbosity to 10 (on Linux, `export AUTOGRAPH_VERBOSITY=10`) and attach the full output. Cause: module 'gast' has no attribute 'Num'\n",
            "WARNING:tensorflow:Entity <bound method ResidualBlock.call of <__main__.ResidualBlock object at 0x7ef645635b38>> could not be transformed and will be executed as-is. Please report this to the AutoGraph team. When filing the bug, set the verbosity to 10 (on Linux, `export AUTOGRAPH_VERBOSITY=10`) and attach the full output. Cause: module 'gast' has no attribute 'Num'\n",
            "WARNING: Entity <bound method ResidualBlock.call of <__main__.ResidualBlock object at 0x7ef645635b38>> could not be transformed and will be executed as-is. Please report this to the AutoGraph team. When filing the bug, set the verbosity to 10 (on Linux, `export AUTOGRAPH_VERBOSITY=10`) and attach the full output. Cause: module 'gast' has no attribute 'Num'\n",
            "WARNING:tensorflow:Entity <bound method ResidualBlock.call of <__main__.ResidualBlock object at 0x7ef645647710>> could not be transformed and will be executed as-is. Please report this to the AutoGraph team. When filing the bug, set the verbosity to 10 (on Linux, `export AUTOGRAPH_VERBOSITY=10`) and attach the full output. Cause: module 'gast' has no attribute 'Num'\n",
            "WARNING: Entity <bound method ResidualBlock.call of <__main__.ResidualBlock object at 0x7ef645647710>> could not be transformed and will be executed as-is. Please report this to the AutoGraph team. When filing the bug, set the verbosity to 10 (on Linux, `export AUTOGRAPH_VERBOSITY=10`) and attach the full output. Cause: module 'gast' has no attribute 'Num'\n",
            "WARNING:tensorflow:Entity <bound method ResidualBlock.call of <__main__.ResidualBlock object at 0x7ef6456562e8>> could not be transformed and will be executed as-is. Please report this to the AutoGraph team. When filing the bug, set the verbosity to 10 (on Linux, `export AUTOGRAPH_VERBOSITY=10`) and attach the full output. Cause: module 'gast' has no attribute 'Num'\n",
            "WARNING: Entity <bound method ResidualBlock.call of <__main__.ResidualBlock object at 0x7ef6456562e8>> could not be transformed and will be executed as-is. Please report this to the AutoGraph team. When filing the bug, set the verbosity to 10 (on Linux, `export AUTOGRAPH_VERBOSITY=10`) and attach the full output. Cause: module 'gast' has no attribute 'Num'\n",
            "WARNING:tensorflow:Entity <bound method ResidualBlock.call of <__main__.ResidualBlock object at 0x7ef64565de80>> could not be transformed and will be executed as-is. Please report this to the AutoGraph team. When filing the bug, set the verbosity to 10 (on Linux, `export AUTOGRAPH_VERBOSITY=10`) and attach the full output. Cause: module 'gast' has no attribute 'Num'\n",
            "WARNING: Entity <bound method ResidualBlock.call of <__main__.ResidualBlock object at 0x7ef64565de80>> could not be transformed and will be executed as-is. Please report this to the AutoGraph team. When filing the bug, set the verbosity to 10 (on Linux, `export AUTOGRAPH_VERBOSITY=10`) and attach the full output. Cause: module 'gast' has no attribute 'Num'\n",
            "WARNING:tensorflow:Entity <bound method ResidualBlock.call of <__main__.ResidualBlock object at 0x7ef64566ca58>> could not be transformed and will be executed as-is. Please report this to the AutoGraph team. When filing the bug, set the verbosity to 10 (on Linux, `export AUTOGRAPH_VERBOSITY=10`) and attach the full output. Cause: module 'gast' has no attribute 'Num'\n",
            "WARNING: Entity <bound method ResidualBlock.call of <__main__.ResidualBlock object at 0x7ef64566ca58>> could not be transformed and will be executed as-is. Please report this to the AutoGraph team. When filing the bug, set the verbosity to 10 (on Linux, `export AUTOGRAPH_VERBOSITY=10`) and attach the full output. Cause: module 'gast' has no attribute 'Num'\n",
            "WARNING:tensorflow:Entity <bound method ResidualBlock.call of <__main__.ResidualBlock object at 0x7ef6455fc630>> could not be transformed and will be executed as-is. Please report this to the AutoGraph team. When filing the bug, set the verbosity to 10 (on Linux, `export AUTOGRAPH_VERBOSITY=10`) and attach the full output. Cause: module 'gast' has no attribute 'Num'\n",
            "WARNING: Entity <bound method ResidualBlock.call of <__main__.ResidualBlock object at 0x7ef6455fc630>> could not be transformed and will be executed as-is. Please report this to the AutoGraph team. When filing the bug, set the verbosity to 10 (on Linux, `export AUTOGRAPH_VERBOSITY=10`) and attach the full output. Cause: module 'gast' has no attribute 'Num'\n",
            "WARNING:tensorflow:Entity <bound method TemporalBlock.call of <__main__.TemporalBlock object at 0x7ef64560a208>> could not be transformed and will be executed as-is. Please report this to the AutoGraph team. When filing the bug, set the verbosity to 10 (on Linux, `export AUTOGRAPH_VERBOSITY=10`) and attach the full output. Cause: module 'gast' has no attribute 'Num'\n",
            "WARNING: Entity <bound method TemporalBlock.call of <__main__.TemporalBlock object at 0x7ef64560a208>> could not be transformed and will be executed as-is. Please report this to the AutoGraph team. When filing the bug, set the verbosity to 10 (on Linux, `export AUTOGRAPH_VERBOSITY=10`) and attach the full output. Cause: module 'gast' has no attribute 'Num'\n",
            "WARNING:tensorflow:Entity <bound method ResidualBlock.call of <__main__.ResidualBlock object at 0x7ef64560a400>> could not be transformed and will be executed as-is. Please report this to the AutoGraph team. When filing the bug, set the verbosity to 10 (on Linux, `export AUTOGRAPH_VERBOSITY=10`) and attach the full output. Cause: module 'gast' has no attribute 'Num'\n",
            "WARNING: Entity <bound method ResidualBlock.call of <__main__.ResidualBlock object at 0x7ef64560a400>> could not be transformed and will be executed as-is. Please report this to the AutoGraph team. When filing the bug, set the verbosity to 10 (on Linux, `export AUTOGRAPH_VERBOSITY=10`) and attach the full output. Cause: module 'gast' has no attribute 'Num'\n",
            "WARNING:tensorflow:Entity <bound method ResidualBlock.call of <__main__.ResidualBlock object at 0x7ef645612f98>> could not be transformed and will be executed as-is. Please report this to the AutoGraph team. When filing the bug, set the verbosity to 10 (on Linux, `export AUTOGRAPH_VERBOSITY=10`) and attach the full output. Cause: module 'gast' has no attribute 'Num'\n",
            "WARNING: Entity <bound method ResidualBlock.call of <__main__.ResidualBlock object at 0x7ef645612f98>> could not be transformed and will be executed as-is. Please report this to the AutoGraph team. When filing the bug, set the verbosity to 10 (on Linux, `export AUTOGRAPH_VERBOSITY=10`) and attach the full output. Cause: module 'gast' has no attribute 'Num'\n",
            "WARNING:tensorflow:Entity <bound method ResidualBlock.call of <__main__.ResidualBlock object at 0x7ef645621b70>> could not be transformed and will be executed as-is. Please report this to the AutoGraph team. When filing the bug, set the verbosity to 10 (on Linux, `export AUTOGRAPH_VERBOSITY=10`) and attach the full output. Cause: module 'gast' has no attribute 'Num'\n",
            "WARNING: Entity <bound method ResidualBlock.call of <__main__.ResidualBlock object at 0x7ef645621b70>> could not be transformed and will be executed as-is. Please report this to the AutoGraph team. When filing the bug, set the verbosity to 10 (on Linux, `export AUTOGRAPH_VERBOSITY=10`) and attach the full output. Cause: module 'gast' has no attribute 'Num'\n",
            "WARNING:tensorflow:Entity <bound method ResidualBlock.call of <__main__.ResidualBlock object at 0x7ef645630748>> could not be transformed and will be executed as-is. Please report this to the AutoGraph team. When filing the bug, set the verbosity to 10 (on Linux, `export AUTOGRAPH_VERBOSITY=10`) and attach the full output. Cause: module 'gast' has no attribute 'Num'\n",
            "WARNING: Entity <bound method ResidualBlock.call of <__main__.ResidualBlock object at 0x7ef645630748>> could not be transformed and will be executed as-is. Please report this to the AutoGraph team. When filing the bug, set the verbosity to 10 (on Linux, `export AUTOGRAPH_VERBOSITY=10`) and attach the full output. Cause: module 'gast' has no attribute 'Num'\n",
            "WARNING:tensorflow:Entity <bound method ResidualBlock.call of <__main__.ResidualBlock object at 0x7ef6455c0320>> could not be transformed and will be executed as-is. Please report this to the AutoGraph team. When filing the bug, set the verbosity to 10 (on Linux, `export AUTOGRAPH_VERBOSITY=10`) and attach the full output. Cause: module 'gast' has no attribute 'Num'\n",
            "WARNING: Entity <bound method ResidualBlock.call of <__main__.ResidualBlock object at 0x7ef6455c0320>> could not be transformed and will be executed as-is. Please report this to the AutoGraph team. When filing the bug, set the verbosity to 10 (on Linux, `export AUTOGRAPH_VERBOSITY=10`) and attach the full output. Cause: module 'gast' has no attribute 'Num'\n",
            "WARNING:tensorflow:Entity <bound method ResidualBlock.call of <__main__.ResidualBlock object at 0x7ef6455c9eb8>> could not be transformed and will be executed as-is. Please report this to the AutoGraph team. When filing the bug, set the verbosity to 10 (on Linux, `export AUTOGRAPH_VERBOSITY=10`) and attach the full output. Cause: module 'gast' has no attribute 'Num'\n",
            "WARNING: Entity <bound method ResidualBlock.call of <__main__.ResidualBlock object at 0x7ef6455c9eb8>> could not be transformed and will be executed as-is. Please report this to the AutoGraph team. When filing the bug, set the verbosity to 10 (on Linux, `export AUTOGRAPH_VERBOSITY=10`) and attach the full output. Cause: module 'gast' has no attribute 'Num'\n",
            "WARNING:tensorflow:Entity <bound method TempConvnet_Decoder.call of <__main__.TempConvnet_Decoder object at 0x7ef6455d7ac8>> could not be transformed and will be executed as-is. Please report this to the AutoGraph team. When filing the bug, set the verbosity to 10 (on Linux, `export AUTOGRAPH_VERBOSITY=10`) and attach the full output. Cause: Bad argument number for Name: 3, expecting 4\n",
            "WARNING: Entity <bound method TempConvnet_Decoder.call of <__main__.TempConvnet_Decoder object at 0x7ef6455d7ac8>> could not be transformed and will be executed as-is. Please report this to the AutoGraph team. When filing the bug, set the verbosity to 10 (on Linux, `export AUTOGRAPH_VERBOSITY=10`) and attach the full output. Cause: Bad argument number for Name: 3, expecting 4\n",
            "True: pick up the top block which color is purple \n",
            "Predict: pick up the top upper block which color is green yellow \n"
          ],
          "name": "stdout"
        },
        {
          "output_type": "display_data",
          "data": {
            "image/png": "[encoded data removed]",
            "text/plain": [
              "<Figure size 432x288 with 1 Axes>"
            ]
          },
          "metadata": {
            "tags": [],
            "needs_background": "light"
          }
        },
        {
          "output_type": "execute_result",
          "data": {
            "text/plain": [
              "<matplotlib.image.AxesImage at 0x7ef63d3b7748>"
            ]
          },
          "metadata": {
            "tags": []
          },
          "execution_count": 69
        },
        {
          "output_type": "display_data",
          "data": {
            "image/png": "[encoded data removed]",
            "text/plain": [
              "<Figure size 1800x720 with 2 Axes>"
            ]
          },
          "metadata": {
            "tags": [],
            "needs_background": "light"
          }
        }
      ]
    },
    {
      "cell_type": "code",
      "metadata": {
        "colab": {
          "base_uri": "https://localhost:8080/"
        },
        "id": "El_LRo0m65Y6",
        "outputId": "0a611d12-ced4-4fd2-abdb-ec35f357e5ed"
      },
      "source": [
        "print(l_out_full[:, 80])\n",
        "print(np.argmax(l_out_full[:, 80]))\n",
        "# l_out_full[np.argmax(l_out_full[:, 80]), 80] = 0\n",
        "print(np.max(l_out_full[:, 80]))\n",
        "print(np.argmax(l_out_full[:, 80]))\n",
        "\n",
        "print(linguistic_train_batch[0, :, 80])"
      ],
      "execution_count": 42,
      "outputs": [
        {
          "output_type": "stream",
          "text": [
            "[9.29300040e-02 2.84429989e-04 4.44116478e-04 2.46811984e-03\n",
            " 6.97561365e-04 4.29398700e-04 1.34461066e-02 2.98137544e-04\n",
            " 3.78939760e-04 2.23112386e-02 0.00000000e+00 1.10977201e-03\n",
            " 9.52419266e-03 2.11608242e-02 3.05807404e-03 1.96720790e-02\n",
            " 8.09166057e-04 1.82525553e-02 9.66150314e-04 9.92825080e-05\n",
            " 4.53395507e-04 1.66819077e-02 7.45027140e-03 2.95320414e-02\n",
            " 5.54175256e-03 1.49283453e-03 1.60773110e-03 2.04968471e-02\n",
            " 3.66136734e-03 5.24275424e-03 4.22216486e-04 2.23344956e-02\n",
            " 1.29565075e-02 1.13783358e-02 6.44481182e-03 9.03429911e-02\n",
            " 5.78750565e-04 1.90990400e-02 1.86547812e-03 3.61705548e-04\n",
            " 2.36015879e-02 1.38539195e-01 1.88974198e-02]\n",
            "41\n",
            "0.1385392\n",
            "41\n",
            "[0. 0. 0. 0. 0. 0. 0. 0. 0. 0. 0. 0. 0. 1. 0. 0. 0. 0. 0. 0. 0. 0. 0. 0.\n",
            " 0. 0. 0. 0. 0. 0. 0. 0. 0. 0. 0. 0. 0. 0. 0. 0. 0. 0. 0.]\n"
          ],
          "name": "stdout"
        }
      ]
    },
    {
      "cell_type": "code",
      "metadata": {
        "colab": {
          "base_uri": "https://localhost:8080/"
        },
        "id": "Uu8v3xhxEKPf",
        "outputId": "481dc6ba-e577-490b-b154-d608f316eda0"
      },
      "source": [
        "print(l_out_full[:, 80])\n",
        "print(np.argmax(l_out_full[:, 80]))\n",
        "# l_out_full[np.argmax(l_out_full[:, 80]), 80] = 0\n",
        "print(np.max(l_out_full[:, 80]))\n",
        "print(np.argmax(l_out_full[:, 80]))\n",
        "\n",
        "print(linguistic_train_batch[0, :, 80])"
      ],
      "execution_count": 44,
      "outputs": [
        {
          "output_type": "stream",
          "text": [
            "[9.29300040e-02 2.84429989e-04 4.44116478e-04 2.46811984e-03\n",
            " 6.97561365e-04 4.29398700e-04 1.34461066e-02 2.98137544e-04\n",
            " 3.78939760e-04 2.23112386e-02 3.52676421e-01 1.10977201e-03\n",
            " 9.52419266e-03 2.11608242e-02 3.05807404e-03 1.96720790e-02\n",
            " 8.09166057e-04 1.82525553e-02 9.66150314e-04 9.92825080e-05\n",
            " 4.53395507e-04 1.66819077e-02 7.45027140e-03 2.95320414e-02\n",
            " 5.54175256e-03 1.49283453e-03 1.60773110e-03 2.04968471e-02\n",
            " 3.66136734e-03 5.24275424e-03 4.22216486e-04 2.23344956e-02\n",
            " 1.29565075e-02 1.13783358e-02 6.44481182e-03 9.03429911e-02\n",
            " 5.78750565e-04 1.90990400e-02 1.86547812e-03 3.61705548e-04\n",
            " 2.36015879e-02 1.38539195e-01 1.88974198e-02]\n",
            "10\n",
            "0.35267642\n",
            "10\n",
            "[0. 0. 0. 0. 0. 0. 0. 0. 0. 0. 1. 0. 0. 0. 0. 0. 0. 0. 0. 0. 0. 0. 0. 0.\n",
            " 0. 0. 0. 0. 0. 0. 0. 0. 0. 0. 0. 0. 0. 0. 0. 0. 0. 0. 0.]\n"
          ],
          "name": "stdout"
        }
      ]
    },
    {
      "cell_type": "code",
      "metadata": {
        "colab": {
          "base_uri": "https://localhost:8080/"
        },
        "id": "aMcqD5SFFJX2",
        "outputId": "b48024a5-1508-4a6e-c593-c79b3a45465c"
      },
      "source": [
        "acoustic_train_batch = [data['acoustic'][40000]]\n",
        "acoustic_train_batch = np.array(acoustic_train_batch, dtype=np.float32)\n",
        "with tf.device('/device:GPU:0'):\n",
        "    l_out_full = sen_em_model.encoder_model(acoustic_train_batch)\n",
        "\n",
        "l_out_full = np.squeeze(kb.eval(l_out_full))\n",
        "print(l_out_full)"
      ],
      "execution_count": 56,
      "outputs": [
        {
          "output_type": "stream",
          "text": [
            "WARNING:tensorflow:Entity <bound method TempConvnet.call of <__main__.TempConvnet object at 0x7ef651ad0eb8>> could not be transformed and will be executed as-is. Please report this to the AutoGraph team. When filing the bug, set the verbosity to 10 (on Linux, `export AUTOGRAPH_VERBOSITY=10`) and attach the full output. Cause: module 'gast' has no attribute 'Num'\n",
            "WARNING: Entity <bound method TempConvnet.call of <__main__.TempConvnet object at 0x7ef651ad0eb8>> could not be transformed and will be executed as-is. Please report this to the AutoGraph team. When filing the bug, set the verbosity to 10 (on Linux, `export AUTOGRAPH_VERBOSITY=10`) and attach the full output. Cause: module 'gast' has no attribute 'Num'\n",
            "WARNING:tensorflow:Entity <bound method TemporalBlock.call of <__main__.TemporalBlock object at 0x7efbb2afe0f0>> could not be transformed and will be executed as-is. Please report this to the AutoGraph team. When filing the bug, set the verbosity to 10 (on Linux, `export AUTOGRAPH_VERBOSITY=10`) and attach the full output. Cause: module 'gast' has no attribute 'Num'\n",
            "WARNING: Entity <bound method TemporalBlock.call of <__main__.TemporalBlock object at 0x7efbb2afe0f0>> could not be transformed and will be executed as-is. Please report this to the AutoGraph team. When filing the bug, set the verbosity to 10 (on Linux, `export AUTOGRAPH_VERBOSITY=10`) and attach the full output. Cause: module 'gast' has no attribute 'Num'\n",
            "WARNING:tensorflow:Entity <bound method ResidualBlock.call of <__main__.ResidualBlock object at 0x7ef65159f5f8>> could not be transformed and will be executed as-is. Please report this to the AutoGraph team. When filing the bug, set the verbosity to 10 (on Linux, `export AUTOGRAPH_VERBOSITY=10`) and attach the full output. Cause: module 'gast' has no attribute 'Num'\n",
            "WARNING: Entity <bound method ResidualBlock.call of <__main__.ResidualBlock object at 0x7ef65159f5f8>> could not be transformed and will be executed as-is. Please report this to the AutoGraph team. When filing the bug, set the verbosity to 10 (on Linux, `export AUTOGRAPH_VERBOSITY=10`) and attach the full output. Cause: module 'gast' has no attribute 'Num'\n",
            "WARNING:tensorflow:Entity <bound method ResidualBlock.call of <__main__.ResidualBlock object at 0x7ef651489940>> could not be transformed and will be executed as-is. Please report this to the AutoGraph team. When filing the bug, set the verbosity to 10 (on Linux, `export AUTOGRAPH_VERBOSITY=10`) and attach the full output. Cause: module 'gast' has no attribute 'Num'\n",
            "WARNING: Entity <bound method ResidualBlock.call of <__main__.ResidualBlock object at 0x7ef651489940>> could not be transformed and will be executed as-is. Please report this to the AutoGraph team. When filing the bug, set the verbosity to 10 (on Linux, `export AUTOGRAPH_VERBOSITY=10`) and attach the full output. Cause: module 'gast' has no attribute 'Num'\n",
            "WARNING:tensorflow:Entity <bound method ResidualBlock.call of <__main__.ResidualBlock object at 0x7ef651484f28>> could not be transformed and will be executed as-is. Please report this to the AutoGraph team. When filing the bug, set the verbosity to 10 (on Linux, `export AUTOGRAPH_VERBOSITY=10`) and attach the full output. Cause: module 'gast' has no attribute 'Num'\n",
            "WARNING: Entity <bound method ResidualBlock.call of <__main__.ResidualBlock object at 0x7ef651484f28>> could not be transformed and will be executed as-is. Please report this to the AutoGraph team. When filing the bug, set the verbosity to 10 (on Linux, `export AUTOGRAPH_VERBOSITY=10`) and attach the full output. Cause: module 'gast' has no attribute 'Num'\n",
            "WARNING:tensorflow:Entity <bound method ResidualBlock.call of <__main__.ResidualBlock object at 0x7ef6514adb00>> could not be transformed and will be executed as-is. Please report this to the AutoGraph team. When filing the bug, set the verbosity to 10 (on Linux, `export AUTOGRAPH_VERBOSITY=10`) and attach the full output. Cause: module 'gast' has no attribute 'Num'\n",
            "WARNING: Entity <bound method ResidualBlock.call of <__main__.ResidualBlock object at 0x7ef6514adb00>> could not be transformed and will be executed as-is. Please report this to the AutoGraph team. When filing the bug, set the verbosity to 10 (on Linux, `export AUTOGRAPH_VERBOSITY=10`) and attach the full output. Cause: module 'gast' has no attribute 'Num'\n",
            "WARNING:tensorflow:Entity <bound method ResidualBlock.call of <__main__.ResidualBlock object at 0x7ef6514956a0>> could not be transformed and will be executed as-is. Please report this to the AutoGraph team. When filing the bug, set the verbosity to 10 (on Linux, `export AUTOGRAPH_VERBOSITY=10`) and attach the full output. Cause: module 'gast' has no attribute 'Num'\n",
            "WARNING: Entity <bound method ResidualBlock.call of <__main__.ResidualBlock object at 0x7ef6514956a0>> could not be transformed and will be executed as-is. Please report this to the AutoGraph team. When filing the bug, set the verbosity to 10 (on Linux, `export AUTOGRAPH_VERBOSITY=10`) and attach the full output. Cause: module 'gast' has no attribute 'Num'\n",
            "WARNING:tensorflow:Entity <bound method ResidualBlock.call of <__main__.ResidualBlock object at 0x7ef65147b278>> could not be transformed and will be executed as-is. Please report this to the AutoGraph team. When filing the bug, set the verbosity to 10 (on Linux, `export AUTOGRAPH_VERBOSITY=10`) and attach the full output. Cause: module 'gast' has no attribute 'Num'\n",
            "WARNING: Entity <bound method ResidualBlock.call of <__main__.ResidualBlock object at 0x7ef65147b278>> could not be transformed and will be executed as-is. Please report this to the AutoGraph team. When filing the bug, set the verbosity to 10 (on Linux, `export AUTOGRAPH_VERBOSITY=10`) and attach the full output. Cause: module 'gast' has no attribute 'Num'\n",
            "WARNING:tensorflow:Entity <bound method TemporalBlock.call of <__main__.TemporalBlock object at 0x7ef6514940f0>> could not be transformed and will be executed as-is. Please report this to the AutoGraph team. When filing the bug, set the verbosity to 10 (on Linux, `export AUTOGRAPH_VERBOSITY=10`) and attach the full output. Cause: module 'gast' has no attribute 'Num'\n",
            "WARNING: Entity <bound method TemporalBlock.call of <__main__.TemporalBlock object at 0x7ef6514940f0>> could not be transformed and will be executed as-is. Please report this to the AutoGraph team. When filing the bug, set the verbosity to 10 (on Linux, `export AUTOGRAPH_VERBOSITY=10`) and attach the full output. Cause: module 'gast' has no attribute 'Num'\n",
            "WARNING:tensorflow:Entity <bound method ResidualBlock.call of <__main__.ResidualBlock object at 0x7ef651494320>> could not be transformed and will be executed as-is. Please report this to the AutoGraph team. When filing the bug, set the verbosity to 10 (on Linux, `export AUTOGRAPH_VERBOSITY=10`) and attach the full output. Cause: module 'gast' has no attribute 'Num'\n",
            "WARNING: Entity <bound method ResidualBlock.call of <__main__.ResidualBlock object at 0x7ef651494320>> could not be transformed and will be executed as-is. Please report this to the AutoGraph team. When filing the bug, set the verbosity to 10 (on Linux, `export AUTOGRAPH_VERBOSITY=10`) and attach the full output. Cause: module 'gast' has no attribute 'Num'\n",
            "WARNING:tensorflow:Entity <bound method ResidualBlock.call of <__main__.ResidualBlock object at 0x7ef6514e80b8>> could not be transformed and will be executed as-is. Please report this to the AutoGraph team. When filing the bug, set the verbosity to 10 (on Linux, `export AUTOGRAPH_VERBOSITY=10`) and attach the full output. Cause: module 'gast' has no attribute 'Num'\n",
            "WARNING: Entity <bound method ResidualBlock.call of <__main__.ResidualBlock object at 0x7ef6514e80b8>> could not be transformed and will be executed as-is. Please report this to the AutoGraph team. When filing the bug, set the verbosity to 10 (on Linux, `export AUTOGRAPH_VERBOSITY=10`) and attach the full output. Cause: module 'gast' has no attribute 'Num'\n",
            "WARNING:tensorflow:Entity <bound method ResidualBlock.call of <__main__.ResidualBlock object at 0x7ef6514e9e48>> could not be transformed and will be executed as-is. Please report this to the AutoGraph team. When filing the bug, set the verbosity to 10 (on Linux, `export AUTOGRAPH_VERBOSITY=10`) and attach the full output. Cause: module 'gast' has no attribute 'Num'\n",
            "WARNING: Entity <bound method ResidualBlock.call of <__main__.ResidualBlock object at 0x7ef6514e9e48>> could not be transformed and will be executed as-is. Please report this to the AutoGraph team. When filing the bug, set the verbosity to 10 (on Linux, `export AUTOGRAPH_VERBOSITY=10`) and attach the full output. Cause: module 'gast' has no attribute 'Num'\n",
            "WARNING:tensorflow:Entity <bound method ResidualBlock.call of <__main__.ResidualBlock object at 0x7ef6514d8be0>> could not be transformed and will be executed as-is. Please report this to the AutoGraph team. When filing the bug, set the verbosity to 10 (on Linux, `export AUTOGRAPH_VERBOSITY=10`) and attach the full output. Cause: module 'gast' has no attribute 'Num'\n",
            "WARNING: Entity <bound method ResidualBlock.call of <__main__.ResidualBlock object at 0x7ef6514d8be0>> could not be transformed and will be executed as-is. Please report this to the AutoGraph team. When filing the bug, set the verbosity to 10 (on Linux, `export AUTOGRAPH_VERBOSITY=10`) and attach the full output. Cause: module 'gast' has no attribute 'Num'\n",
            "WARNING:tensorflow:Entity <bound method ResidualBlock.call of <__main__.ResidualBlock object at 0x7ef6514cb940>> could not be transformed and will be executed as-is. Please report this to the AutoGraph team. When filing the bug, set the verbosity to 10 (on Linux, `export AUTOGRAPH_VERBOSITY=10`) and attach the full output. Cause: module 'gast' has no attribute 'Num'\n",
            "WARNING: Entity <bound method ResidualBlock.call of <__main__.ResidualBlock object at 0x7ef6514cb940>> could not be transformed and will be executed as-is. Please report this to the AutoGraph team. When filing the bug, set the verbosity to 10 (on Linux, `export AUTOGRAPH_VERBOSITY=10`) and attach the full output. Cause: module 'gast' has no attribute 'Num'\n",
            "WARNING:tensorflow:Entity <bound method ResidualBlock.call of <__main__.ResidualBlock object at 0x7ef6514325f8>> could not be transformed and will be executed as-is. Please report this to the AutoGraph team. When filing the bug, set the verbosity to 10 (on Linux, `export AUTOGRAPH_VERBOSITY=10`) and attach the full output. Cause: module 'gast' has no attribute 'Num'\n",
            "WARNING: Entity <bound method ResidualBlock.call of <__main__.ResidualBlock object at 0x7ef6514325f8>> could not be transformed and will be executed as-is. Please report this to the AutoGraph team. When filing the bug, set the verbosity to 10 (on Linux, `export AUTOGRAPH_VERBOSITY=10`) and attach the full output. Cause: module 'gast' has no attribute 'Num'\n",
            "WARNING:tensorflow:Entity <bound method TemporalBlock.call of <__main__.TemporalBlock object at 0x7ef6514413c8>> could not be transformed and will be executed as-is. Please report this to the AutoGraph team. When filing the bug, set the verbosity to 10 (on Linux, `export AUTOGRAPH_VERBOSITY=10`) and attach the full output. Cause: module 'gast' has no attribute 'Num'\n",
            "WARNING: Entity <bound method TemporalBlock.call of <__main__.TemporalBlock object at 0x7ef6514413c8>> could not be transformed and will be executed as-is. Please report this to the AutoGraph team. When filing the bug, set the verbosity to 10 (on Linux, `export AUTOGRAPH_VERBOSITY=10`) and attach the full output. Cause: module 'gast' has no attribute 'Num'\n",
            "WARNING:tensorflow:Entity <bound method ResidualBlock.call of <__main__.ResidualBlock object at 0x7ef6514415f8>> could not be transformed and will be executed as-is. Please report this to the AutoGraph team. When filing the bug, set the verbosity to 10 (on Linux, `export AUTOGRAPH_VERBOSITY=10`) and attach the full output. Cause: module 'gast' has no attribute 'Num'\n",
            "WARNING: Entity <bound method ResidualBlock.call of <__main__.ResidualBlock object at 0x7ef6514415f8>> could not be transformed and will be executed as-is. Please report this to the AutoGraph team. When filing the bug, set the verbosity to 10 (on Linux, `export AUTOGRAPH_VERBOSITY=10`) and attach the full output. Cause: module 'gast' has no attribute 'Num'\n",
            "WARNING:tensorflow:Entity <bound method ResidualBlock.call of <__main__.ResidualBlock object at 0x7ef651450390>> could not be transformed and will be executed as-is. Please report this to the AutoGraph team. When filing the bug, set the verbosity to 10 (on Linux, `export AUTOGRAPH_VERBOSITY=10`) and attach the full output. Cause: module 'gast' has no attribute 'Num'\n",
            "WARNING: Entity <bound method ResidualBlock.call of <__main__.ResidualBlock object at 0x7ef651450390>> could not be transformed and will be executed as-is. Please report this to the AutoGraph team. When filing the bug, set the verbosity to 10 (on Linux, `export AUTOGRAPH_VERBOSITY=10`) and attach the full output. Cause: module 'gast' has no attribute 'Num'\n",
            "WARNING:tensorflow:Entity <bound method ResidualBlock.call of <__main__.ResidualBlock object at 0x7ef65145f160>> could not be transformed and will be executed as-is. Please report this to the AutoGraph team. When filing the bug, set the verbosity to 10 (on Linux, `export AUTOGRAPH_VERBOSITY=10`) and attach the full output. Cause: module 'gast' has no attribute 'Num'\n",
            "WARNING: Entity <bound method ResidualBlock.call of <__main__.ResidualBlock object at 0x7ef65145f160>> could not be transformed and will be executed as-is. Please report this to the AutoGraph team. When filing the bug, set the verbosity to 10 (on Linux, `export AUTOGRAPH_VERBOSITY=10`) and attach the full output. Cause: module 'gast' has no attribute 'Num'\n",
            "WARNING:tensorflow:Entity <bound method ResidualBlock.call of <__main__.ResidualBlock object at 0x7ef651466ef0>> could not be transformed and will be executed as-is. Please report this to the AutoGraph team. When filing the bug, set the verbosity to 10 (on Linux, `export AUTOGRAPH_VERBOSITY=10`) and attach the full output. Cause: module 'gast' has no attribute 'Num'\n",
            "WARNING: Entity <bound method ResidualBlock.call of <__main__.ResidualBlock object at 0x7ef651466ef0>> could not be transformed and will be executed as-is. Please report this to the AutoGraph team. When filing the bug, set the verbosity to 10 (on Linux, `export AUTOGRAPH_VERBOSITY=10`) and attach the full output. Cause: module 'gast' has no attribute 'Num'\n",
            "WARNING:tensorflow:Entity <bound method ResidualBlock.call of <__main__.ResidualBlock object at 0x7ef6513f3cc0>> could not be transformed and will be executed as-is. Please report this to the AutoGraph team. When filing the bug, set the verbosity to 10 (on Linux, `export AUTOGRAPH_VERBOSITY=10`) and attach the full output. Cause: module 'gast' has no attribute 'Num'\n",
            "WARNING: Entity <bound method ResidualBlock.call of <__main__.ResidualBlock object at 0x7ef6513f3cc0>> could not be transformed and will be executed as-is. Please report this to the AutoGraph team. When filing the bug, set the verbosity to 10 (on Linux, `export AUTOGRAPH_VERBOSITY=10`) and attach the full output. Cause: module 'gast' has no attribute 'Num'\n",
            "WARNING:tensorflow:Entity <bound method ResidualBlock.call of <__main__.ResidualBlock object at 0x7ef651403a90>> could not be transformed and will be executed as-is. Please report this to the AutoGraph team. When filing the bug, set the verbosity to 10 (on Linux, `export AUTOGRAPH_VERBOSITY=10`) and attach the full output. Cause: module 'gast' has no attribute 'Num'\n",
            "WARNING: Entity <bound method ResidualBlock.call of <__main__.ResidualBlock object at 0x7ef651403a90>> could not be transformed and will be executed as-is. Please report this to the AutoGraph team. When filing the bug, set the verbosity to 10 (on Linux, `export AUTOGRAPH_VERBOSITY=10`) and attach the full output. Cause: module 'gast' has no attribute 'Num'\n",
            "[ 5.9866028e+00  6.6522300e-02  9.5697427e-01  2.6457281e+00\n",
            "  2.7154899e+00 -6.3805640e-02 -4.8570123e-02  1.9825782e+00\n",
            "  2.7902083e+00  7.3329773e+00 -1.0947887e-02  3.4353751e-01\n",
            "  2.5855532e-01  4.6046910e+00  3.2617826e+00  7.8768358e+00\n",
            " -6.6574648e-02  2.4851073e-01 -5.2011982e-02  1.9038117e+00\n",
            "  1.1796679e+00  2.2417693e-01  2.7122495e+00  1.1081805e+00\n",
            "  3.6592299e-01  1.8488891e+00  5.2485332e+00  7.2089976e-01\n",
            "  2.1819391e+00  4.2677301e-01  7.2825580e+00 -4.0140152e-03\n",
            "  5.1615520e+00  1.3626950e+00  1.9320236e+00  2.0505264e+00\n",
            "  2.8002019e+00  6.5857873e+00 -1.4792988e-02 -7.5525887e-02]\n"
          ],
          "name": "stdout"
        }
      ]
    },
    {
      "cell_type": "code",
      "metadata": {
        "colab": {
          "base_uri": "https://localhost:8080/"
        },
        "id": "MuZnVEUpHMCl",
        "outputId": "952adc20-5097-4cb3-c098-4cefa71977f0"
      },
      "source": [
        "acoustic_train_batch = [data['acoustic'][1]]\n",
        "acoustic_train_batch = np.array(acoustic_train_batch, dtype=np.float32)\n",
        "l_out_full = sen_em_model.encoder_model(acoustic_train_batch)\n",
        "\n",
        "l_out_full = np.squeeze(kb.eval(l_out_full))\n",
        "print(l_out_full)"
      ],
      "execution_count": 58,
      "outputs": [
        {
          "output_type": "stream",
          "text": [
            "WARNING:tensorflow:Entity <bound method TempConvnet.call of <__main__.TempConvnet object at 0x7ef651ad0eb8>> could not be transformed and will be executed as-is. Please report this to the AutoGraph team. When filing the bug, set the verbosity to 10 (on Linux, `export AUTOGRAPH_VERBOSITY=10`) and attach the full output. Cause: module 'gast' has no attribute 'Num'\n",
            "WARNING: Entity <bound method TempConvnet.call of <__main__.TempConvnet object at 0x7ef651ad0eb8>> could not be transformed and will be executed as-is. Please report this to the AutoGraph team. When filing the bug, set the verbosity to 10 (on Linux, `export AUTOGRAPH_VERBOSITY=10`) and attach the full output. Cause: module 'gast' has no attribute 'Num'\n",
            "WARNING:tensorflow:Entity <bound method TemporalBlock.call of <__main__.TemporalBlock object at 0x7efbb2afe0f0>> could not be transformed and will be executed as-is. Please report this to the AutoGraph team. When filing the bug, set the verbosity to 10 (on Linux, `export AUTOGRAPH_VERBOSITY=10`) and attach the full output. Cause: module 'gast' has no attribute 'Num'\n",
            "WARNING: Entity <bound method TemporalBlock.call of <__main__.TemporalBlock object at 0x7efbb2afe0f0>> could not be transformed and will be executed as-is. Please report this to the AutoGraph team. When filing the bug, set the verbosity to 10 (on Linux, `export AUTOGRAPH_VERBOSITY=10`) and attach the full output. Cause: module 'gast' has no attribute 'Num'\n",
            "WARNING:tensorflow:Entity <bound method ResidualBlock.call of <__main__.ResidualBlock object at 0x7ef65159f5f8>> could not be transformed and will be executed as-is. Please report this to the AutoGraph team. When filing the bug, set the verbosity to 10 (on Linux, `export AUTOGRAPH_VERBOSITY=10`) and attach the full output. Cause: module 'gast' has no attribute 'Num'\n",
            "WARNING: Entity <bound method ResidualBlock.call of <__main__.ResidualBlock object at 0x7ef65159f5f8>> could not be transformed and will be executed as-is. Please report this to the AutoGraph team. When filing the bug, set the verbosity to 10 (on Linux, `export AUTOGRAPH_VERBOSITY=10`) and attach the full output. Cause: module 'gast' has no attribute 'Num'\n",
            "WARNING:tensorflow:Entity <bound method ResidualBlock.call of <__main__.ResidualBlock object at 0x7ef651489940>> could not be transformed and will be executed as-is. Please report this to the AutoGraph team. When filing the bug, set the verbosity to 10 (on Linux, `export AUTOGRAPH_VERBOSITY=10`) and attach the full output. Cause: module 'gast' has no attribute 'Num'\n",
            "WARNING: Entity <bound method ResidualBlock.call of <__main__.ResidualBlock object at 0x7ef651489940>> could not be transformed and will be executed as-is. Please report this to the AutoGraph team. When filing the bug, set the verbosity to 10 (on Linux, `export AUTOGRAPH_VERBOSITY=10`) and attach the full output. Cause: module 'gast' has no attribute 'Num'\n",
            "WARNING:tensorflow:Entity <bound method ResidualBlock.call of <__main__.ResidualBlock object at 0x7ef651484f28>> could not be transformed and will be executed as-is. Please report this to the AutoGraph team. When filing the bug, set the verbosity to 10 (on Linux, `export AUTOGRAPH_VERBOSITY=10`) and attach the full output. Cause: module 'gast' has no attribute 'Num'\n",
            "WARNING: Entity <bound method ResidualBlock.call of <__main__.ResidualBlock object at 0x7ef651484f28>> could not be transformed and will be executed as-is. Please report this to the AutoGraph team. When filing the bug, set the verbosity to 10 (on Linux, `export AUTOGRAPH_VERBOSITY=10`) and attach the full output. Cause: module 'gast' has no attribute 'Num'\n",
            "WARNING:tensorflow:Entity <bound method ResidualBlock.call of <__main__.ResidualBlock object at 0x7ef6514adb00>> could not be transformed and will be executed as-is. Please report this to the AutoGraph team. When filing the bug, set the verbosity to 10 (on Linux, `export AUTOGRAPH_VERBOSITY=10`) and attach the full output. Cause: module 'gast' has no attribute 'Num'\n",
            "WARNING: Entity <bound method ResidualBlock.call of <__main__.ResidualBlock object at 0x7ef6514adb00>> could not be transformed and will be executed as-is. Please report this to the AutoGraph team. When filing the bug, set the verbosity to 10 (on Linux, `export AUTOGRAPH_VERBOSITY=10`) and attach the full output. Cause: module 'gast' has no attribute 'Num'\n",
            "WARNING:tensorflow:Entity <bound method ResidualBlock.call of <__main__.ResidualBlock object at 0x7ef6514956a0>> could not be transformed and will be executed as-is. Please report this to the AutoGraph team. When filing the bug, set the verbosity to 10 (on Linux, `export AUTOGRAPH_VERBOSITY=10`) and attach the full output. Cause: module 'gast' has no attribute 'Num'\n",
            "WARNING: Entity <bound method ResidualBlock.call of <__main__.ResidualBlock object at 0x7ef6514956a0>> could not be transformed and will be executed as-is. Please report this to the AutoGraph team. When filing the bug, set the verbosity to 10 (on Linux, `export AUTOGRAPH_VERBOSITY=10`) and attach the full output. Cause: module 'gast' has no attribute 'Num'\n",
            "WARNING:tensorflow:Entity <bound method ResidualBlock.call of <__main__.ResidualBlock object at 0x7ef65147b278>> could not be transformed and will be executed as-is. Please report this to the AutoGraph team. When filing the bug, set the verbosity to 10 (on Linux, `export AUTOGRAPH_VERBOSITY=10`) and attach the full output. Cause: module 'gast' has no attribute 'Num'\n",
            "WARNING: Entity <bound method ResidualBlock.call of <__main__.ResidualBlock object at 0x7ef65147b278>> could not be transformed and will be executed as-is. Please report this to the AutoGraph team. When filing the bug, set the verbosity to 10 (on Linux, `export AUTOGRAPH_VERBOSITY=10`) and attach the full output. Cause: module 'gast' has no attribute 'Num'\n",
            "WARNING:tensorflow:Entity <bound method TemporalBlock.call of <__main__.TemporalBlock object at 0x7ef6514940f0>> could not be transformed and will be executed as-is. Please report this to the AutoGraph team. When filing the bug, set the verbosity to 10 (on Linux, `export AUTOGRAPH_VERBOSITY=10`) and attach the full output. Cause: module 'gast' has no attribute 'Num'\n",
            "WARNING: Entity <bound method TemporalBlock.call of <__main__.TemporalBlock object at 0x7ef6514940f0>> could not be transformed and will be executed as-is. Please report this to the AutoGraph team. When filing the bug, set the verbosity to 10 (on Linux, `export AUTOGRAPH_VERBOSITY=10`) and attach the full output. Cause: module 'gast' has no attribute 'Num'\n",
            "WARNING:tensorflow:Entity <bound method ResidualBlock.call of <__main__.ResidualBlock object at 0x7ef651494320>> could not be transformed and will be executed as-is. Please report this to the AutoGraph team. When filing the bug, set the verbosity to 10 (on Linux, `export AUTOGRAPH_VERBOSITY=10`) and attach the full output. Cause: module 'gast' has no attribute 'Num'\n",
            "WARNING: Entity <bound method ResidualBlock.call of <__main__.ResidualBlock object at 0x7ef651494320>> could not be transformed and will be executed as-is. Please report this to the AutoGraph team. When filing the bug, set the verbosity to 10 (on Linux, `export AUTOGRAPH_VERBOSITY=10`) and attach the full output. Cause: module 'gast' has no attribute 'Num'\n",
            "WARNING:tensorflow:Entity <bound method ResidualBlock.call of <__main__.ResidualBlock object at 0x7ef6514e80b8>> could not be transformed and will be executed as-is. Please report this to the AutoGraph team. When filing the bug, set the verbosity to 10 (on Linux, `export AUTOGRAPH_VERBOSITY=10`) and attach the full output. Cause: module 'gast' has no attribute 'Num'\n",
            "WARNING: Entity <bound method ResidualBlock.call of <__main__.ResidualBlock object at 0x7ef6514e80b8>> could not be transformed and will be executed as-is. Please report this to the AutoGraph team. When filing the bug, set the verbosity to 10 (on Linux, `export AUTOGRAPH_VERBOSITY=10`) and attach the full output. Cause: module 'gast' has no attribute 'Num'\n",
            "WARNING:tensorflow:Entity <bound method ResidualBlock.call of <__main__.ResidualBlock object at 0x7ef6514e9e48>> could not be transformed and will be executed as-is. Please report this to the AutoGraph team. When filing the bug, set the verbosity to 10 (on Linux, `export AUTOGRAPH_VERBOSITY=10`) and attach the full output. Cause: module 'gast' has no attribute 'Num'\n",
            "WARNING: Entity <bound method ResidualBlock.call of <__main__.ResidualBlock object at 0x7ef6514e9e48>> could not be transformed and will be executed as-is. Please report this to the AutoGraph team. When filing the bug, set the verbosity to 10 (on Linux, `export AUTOGRAPH_VERBOSITY=10`) and attach the full output. Cause: module 'gast' has no attribute 'Num'\n",
            "WARNING:tensorflow:Entity <bound method ResidualBlock.call of <__main__.ResidualBlock object at 0x7ef6514d8be0>> could not be transformed and will be executed as-is. Please report this to the AutoGraph team. When filing the bug, set the verbosity to 10 (on Linux, `export AUTOGRAPH_VERBOSITY=10`) and attach the full output. Cause: module 'gast' has no attribute 'Num'\n",
            "WARNING: Entity <bound method ResidualBlock.call of <__main__.ResidualBlock object at 0x7ef6514d8be0>> could not be transformed and will be executed as-is. Please report this to the AutoGraph team. When filing the bug, set the verbosity to 10 (on Linux, `export AUTOGRAPH_VERBOSITY=10`) and attach the full output. Cause: module 'gast' has no attribute 'Num'\n",
            "WARNING:tensorflow:Entity <bound method ResidualBlock.call of <__main__.ResidualBlock object at 0x7ef6514cb940>> could not be transformed and will be executed as-is. Please report this to the AutoGraph team. When filing the bug, set the verbosity to 10 (on Linux, `export AUTOGRAPH_VERBOSITY=10`) and attach the full output. Cause: module 'gast' has no attribute 'Num'\n",
            "WARNING: Entity <bound method ResidualBlock.call of <__main__.ResidualBlock object at 0x7ef6514cb940>> could not be transformed and will be executed as-is. Please report this to the AutoGraph team. When filing the bug, set the verbosity to 10 (on Linux, `export AUTOGRAPH_VERBOSITY=10`) and attach the full output. Cause: module 'gast' has no attribute 'Num'\n",
            "WARNING:tensorflow:Entity <bound method ResidualBlock.call of <__main__.ResidualBlock object at 0x7ef6514325f8>> could not be transformed and will be executed as-is. Please report this to the AutoGraph team. When filing the bug, set the verbosity to 10 (on Linux, `export AUTOGRAPH_VERBOSITY=10`) and attach the full output. Cause: module 'gast' has no attribute 'Num'\n",
            "WARNING: Entity <bound method ResidualBlock.call of <__main__.ResidualBlock object at 0x7ef6514325f8>> could not be transformed and will be executed as-is. Please report this to the AutoGraph team. When filing the bug, set the verbosity to 10 (on Linux, `export AUTOGRAPH_VERBOSITY=10`) and attach the full output. Cause: module 'gast' has no attribute 'Num'\n",
            "WARNING:tensorflow:Entity <bound method TemporalBlock.call of <__main__.TemporalBlock object at 0x7ef6514413c8>> could not be transformed and will be executed as-is. Please report this to the AutoGraph team. When filing the bug, set the verbosity to 10 (on Linux, `export AUTOGRAPH_VERBOSITY=10`) and attach the full output. Cause: module 'gast' has no attribute 'Num'\n",
            "WARNING: Entity <bound method TemporalBlock.call of <__main__.TemporalBlock object at 0x7ef6514413c8>> could not be transformed and will be executed as-is. Please report this to the AutoGraph team. When filing the bug, set the verbosity to 10 (on Linux, `export AUTOGRAPH_VERBOSITY=10`) and attach the full output. Cause: module 'gast' has no attribute 'Num'\n",
            "WARNING:tensorflow:Entity <bound method ResidualBlock.call of <__main__.ResidualBlock object at 0x7ef6514415f8>> could not be transformed and will be executed as-is. Please report this to the AutoGraph team. When filing the bug, set the verbosity to 10 (on Linux, `export AUTOGRAPH_VERBOSITY=10`) and attach the full output. Cause: module 'gast' has no attribute 'Num'\n",
            "WARNING: Entity <bound method ResidualBlock.call of <__main__.ResidualBlock object at 0x7ef6514415f8>> could not be transformed and will be executed as-is. Please report this to the AutoGraph team. When filing the bug, set the verbosity to 10 (on Linux, `export AUTOGRAPH_VERBOSITY=10`) and attach the full output. Cause: module 'gast' has no attribute 'Num'\n",
            "WARNING:tensorflow:Entity <bound method ResidualBlock.call of <__main__.ResidualBlock object at 0x7ef651450390>> could not be transformed and will be executed as-is. Please report this to the AutoGraph team. When filing the bug, set the verbosity to 10 (on Linux, `export AUTOGRAPH_VERBOSITY=10`) and attach the full output. Cause: module 'gast' has no attribute 'Num'\n",
            "WARNING: Entity <bound method ResidualBlock.call of <__main__.ResidualBlock object at 0x7ef651450390>> could not be transformed and will be executed as-is. Please report this to the AutoGraph team. When filing the bug, set the verbosity to 10 (on Linux, `export AUTOGRAPH_VERBOSITY=10`) and attach the full output. Cause: module 'gast' has no attribute 'Num'\n",
            "WARNING:tensorflow:Entity <bound method ResidualBlock.call of <__main__.ResidualBlock object at 0x7ef65145f160>> could not be transformed and will be executed as-is. Please report this to the AutoGraph team. When filing the bug, set the verbosity to 10 (on Linux, `export AUTOGRAPH_VERBOSITY=10`) and attach the full output. Cause: module 'gast' has no attribute 'Num'\n",
            "WARNING: Entity <bound method ResidualBlock.call of <__main__.ResidualBlock object at 0x7ef65145f160>> could not be transformed and will be executed as-is. Please report this to the AutoGraph team. When filing the bug, set the verbosity to 10 (on Linux, `export AUTOGRAPH_VERBOSITY=10`) and attach the full output. Cause: module 'gast' has no attribute 'Num'\n",
            "WARNING:tensorflow:Entity <bound method ResidualBlock.call of <__main__.ResidualBlock object at 0x7ef651466ef0>> could not be transformed and will be executed as-is. Please report this to the AutoGraph team. When filing the bug, set the verbosity to 10 (on Linux, `export AUTOGRAPH_VERBOSITY=10`) and attach the full output. Cause: module 'gast' has no attribute 'Num'\n",
            "WARNING: Entity <bound method ResidualBlock.call of <__main__.ResidualBlock object at 0x7ef651466ef0>> could not be transformed and will be executed as-is. Please report this to the AutoGraph team. When filing the bug, set the verbosity to 10 (on Linux, `export AUTOGRAPH_VERBOSITY=10`) and attach the full output. Cause: module 'gast' has no attribute 'Num'\n",
            "WARNING:tensorflow:Entity <bound method ResidualBlock.call of <__main__.ResidualBlock object at 0x7ef6513f3cc0>> could not be transformed and will be executed as-is. Please report this to the AutoGraph team. When filing the bug, set the verbosity to 10 (on Linux, `export AUTOGRAPH_VERBOSITY=10`) and attach the full output. Cause: module 'gast' has no attribute 'Num'\n",
            "WARNING: Entity <bound method ResidualBlock.call of <__main__.ResidualBlock object at 0x7ef6513f3cc0>> could not be transformed and will be executed as-is. Please report this to the AutoGraph team. When filing the bug, set the verbosity to 10 (on Linux, `export AUTOGRAPH_VERBOSITY=10`) and attach the full output. Cause: module 'gast' has no attribute 'Num'\n",
            "WARNING:tensorflow:Entity <bound method ResidualBlock.call of <__main__.ResidualBlock object at 0x7ef651403a90>> could not be transformed and will be executed as-is. Please report this to the AutoGraph team. When filing the bug, set the verbosity to 10 (on Linux, `export AUTOGRAPH_VERBOSITY=10`) and attach the full output. Cause: module 'gast' has no attribute 'Num'\n",
            "WARNING: Entity <bound method ResidualBlock.call of <__main__.ResidualBlock object at 0x7ef651403a90>> could not be transformed and will be executed as-is. Please report this to the AutoGraph team. When filing the bug, set the verbosity to 10 (on Linux, `export AUTOGRAPH_VERBOSITY=10`) and attach the full output. Cause: module 'gast' has no attribute 'Num'\n",
            "[ 5.9638815e+00 -1.5623724e-01  1.0812523e+00  2.6915393e+00\n",
            " -3.3168972e-02  5.8920269e+00  6.4292473e-01 -9.7510038e-04\n",
            "  8.4178972e-01 -7.7210531e-02  2.1405618e+00 -8.0856681e-02\n",
            " -1.0037462e-01  4.4739270e+00  4.4611150e-01 -5.3802472e-02\n",
            "  8.3804550e+00 -3.5349376e-02  6.1726251e+00  9.4230533e-01\n",
            "  7.2228432e-01  1.3380634e+00 -2.7665878e-02  1.0127786e+00\n",
            "  5.7136500e-01 -1.9188546e-02  4.8032999e+00  7.3533635e+00\n",
            "  3.6210310e+00  7.1145272e-01 -8.4814087e-02  1.8305949e+00\n",
            " -1.2012664e-01  3.3095298e+00  4.9237027e+00  5.1041284e+00\n",
            " -1.0901343e-01 -1.2010033e-01  9.1886568e+00  8.5167933e+00]\n"
          ],
          "name": "stdout"
        }
      ]
    },
    {
      "cell_type": "code",
      "metadata": {
        "colab": {
          "base_uri": "https://localhost:8080/"
        },
        "id": "h_f7TwLgE-f2",
        "outputId": "2c1a259b-04b2-4b7f-e4b2-8f15051cd9d2"
      },
      "source": [
        "acoustic_train_batch"
      ],
      "execution_count": 48,
      "outputs": [
        {
          "output_type": "execute_result",
          "data": {
            "text/plain": [
              "array([[[-60.91473 , -48.656754, -26.126396, ..., -60.91473 ,\n",
              "         -60.91473 , -60.91473 ],\n",
              "        [-60.91473 , -56.805637, -30.19718 , ..., -60.91473 ,\n",
              "         -60.91473 , -60.91473 ],\n",
              "        [-60.91473 , -60.91473 , -36.019653, ..., -60.91473 ,\n",
              "         -60.91473 , -60.91473 ],\n",
              "        ...,\n",
              "        [-60.91473 , -60.91473 , -60.91473 , ..., -60.91473 ,\n",
              "         -60.91473 , -60.91473 ],\n",
              "        [-60.91473 , -60.91473 , -60.91473 , ..., -60.91473 ,\n",
              "         -60.91473 , -60.91473 ],\n",
              "        [-60.91473 , -60.91473 , -60.91473 , ..., -60.91473 ,\n",
              "         -60.91473 , -60.91473 ]]], dtype=float32)"
            ]
          },
          "metadata": {
            "tags": []
          },
          "execution_count": 48
        }
      ]
    },
    {
      "cell_type": "code",
      "metadata": {
        "colab": {
          "base_uri": "https://localhost:8080/"
        },
        "id": "d8hGflXHkJl4",
        "outputId": "1053e65d-0b21-4d8b-863f-c68970543d04"
      },
      "source": [
        "# Test and save for jointly training 'Speech2Pickup' (Debugging)\n",
        "\n",
        "sen_em_model.model.save_weights(filepath='/content/drive/MyDrive/Speech2Pickup/sentenceEM_model/total_model/sentenceEM_total_model', overwrite=True)\n",
        "sen_em_model.encoder_model.save_weights(filepath='/content/drive/MyDrive/Speech2Pickup/sentenceEM_model/encoder_model/sentenceEM_encoder_model', overwrite=True)\n",
        "print('Model saving complete!')"
      ],
      "execution_count": null,
      "outputs": [
        {
          "output_type": "stream",
          "text": [
            "Model saving complete!\n"
          ],
          "name": "stdout"
        }
      ]
    },
    {
      "cell_type": "code",
      "metadata": {
        "id": "JihOgux0mKCk"
      },
      "source": [
        "# Compare sorting time\n",
        "\n",
        "import time\n",
        "ts = time.time()\n",
        "random.shuffle(data_files)\n",
        "te = time.time()\n",
        "print('String sort: {}'.format(te-ts))\n",
        "print(data_files)\n",
        "# ts = time.time()\n",
        "# random.shuffle(indexs)\n",
        "# te = time.time()\n",
        "# print('Int sort: {}'.format(te-ts))"
      ],
      "execution_count": null,
      "outputs": []
    },
    {
      "cell_type": "code",
      "metadata": {
        "id": "bPa0THO1Umyn"
      },
      "source": [
        "# Test (Debugging)\n",
        "\n",
        "data = load_single_npz_data(relative_data_directory_path='/content/drive/MyDrive/Speech2Pickup/data_v2.2', file_name='senEM_preprocessed_100.npz')\n",
        "data1 = data['arr_0']\n",
        "data1 = np.float32(data1)\n",
        "data1 = kb.expand_dims(data1, axis=0)\n",
        "with tf.device('/device:GPU:0'):\n",
        "  l_y, a_y = sen_em_model(data1)\n",
        "print(kb.eval(a_y)[0,:,180])\n",
        "print('='*20)\n",
        "print(kb.eval(l_y)[0,:,180])\n",
        "print(len(kb.eval(l_y)[0,:,180]))\n",
        "print('='*20)\n",
        "print(np.sum(kb.eval(l_y)[0,:,180]))\n",
        "print(np.sum(kb.eval(l_y)[0,:,300]))"
      ],
      "execution_count": null,
      "outputs": []
    },
    {
      "cell_type": "code",
      "metadata": {
        "id": "3jhil34yX5Ne"
      },
      "source": [
        "pdb.enable()"
      ],
      "execution_count": null,
      "outputs": []
    },
    {
      "cell_type": "code",
      "metadata": {
        "id": "9JciAh_P4Is6"
      },
      "source": [
        "# Test (Debugging)\n",
        "import matplotlib.pyplot as plt\n",
        "import librosa.display\n",
        "\n",
        "x = tf.convert_to_tensor(np.ones((1, 40, 303)), dtype=np.float32)   # batch, dim, seq_len\n",
        "l_y, a_y = sen_em_model.model(x)\n",
        "print(kb.eval(l_y).shape)\n",
        "print(kb.eval(a_y).shape)\n",
        "# mid = sen_em_model.encoder_model(x)\n",
        "# print('='*20)\n",
        "# print(kb.eval(l_y)[0,:,200])\n",
        "# out = np.squeeze(kb.eval(l_y))\n",
        "# subtract = out[:, :10] - np.fliplr(out[:, 293:])\n",
        "# print(subtract)\n",
        "# print(out[:, :10])\n",
        "# print('='*20)\n",
        "# print(out[:, 293:])\n",
        "# plt.imshow(out[:, :10], aspect='auto')\n",
        "# plt.show()\n",
        "# plt.imshow(out[:, 293:], aspect='auto')\n",
        "# print(len(kb.eval(l_y)[0,:,:]))\n",
        "# print(np.sum(kb.eval(l_y)[0,:,0]))\n",
        "# print(np.sum(kb.eval(l_y)[0,:,100]))"
      ],
      "execution_count": null,
      "outputs": []
    },
    {
      "cell_type": "code",
      "metadata": {
        "id": "qOYD86EfeZoj"
      },
      "source": [
        "# print(kb.eval(l_y)[0,:,234:238])\n",
        "# print(kb.eval(l_y)[0,:,298:])"
      ],
      "execution_count": null,
      "outputs": []
    },
    {
      "cell_type": "code",
      "metadata": {
        "id": "013hJm5c0SWq"
      },
      "source": [
        "x = tf.convert_to_tensor(np.ones((1, 40, 303)), dtype=np.float32)   # batch, dim, seq_len\n",
        "embedding = sen_em_model.encoder_model(x)\n",
        "print(kb.eval(embedding))"
      ],
      "execution_count": null,
      "outputs": []
    },
    {
      "cell_type": "code",
      "metadata": {
        "id": "FuoHjdx1NRCq"
      },
      "source": [
        ""
      ],
      "execution_count": null,
      "outputs": []
    }
  ]
}