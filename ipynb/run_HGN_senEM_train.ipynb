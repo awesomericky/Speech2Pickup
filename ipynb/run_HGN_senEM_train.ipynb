{
  "nbformat": 4,
  "nbformat_minor": 0,
  "metadata": {
    "kernelspec": {
      "display_name": "Python 3",
      "language": "python",
      "name": "python3"
    },
    "language_info": {
      "codemirror_mode": {
        "name": "ipython",
        "version": 3
      },
      "file_extension": ".py",
      "mimetype": "text/x-python",
      "name": "python",
      "nbconvert_exporter": "python",
      "pygments_lexer": "ipython3",
      "version": "3.8.3"
    },
    "varInspector": {
      "cols": {
        "lenName": 16,
        "lenType": 16,
        "lenVar": 40
      },
      "kernels_config": {
        "python": {
          "delete_cmd_postfix": "",
          "delete_cmd_prefix": "del ",
          "library": "var_list.py",
          "varRefreshCmd": "print(var_dic_list())"
        },
        "r": {
          "delete_cmd_postfix": ") ",
          "delete_cmd_prefix": "rm(",
          "library": "var_list.r",
          "varRefreshCmd": "cat(var_dic_list()) "
        }
      },
      "types_to_exclude": [
        "module",
        "function",
        "builtin_function_or_method",
        "instance",
        "_Feature"
      ],
      "window_display": false
    },
    "colab": {
      "name": "run_HGN_senEM_train.ipynb",
      "provenance": [],
      "collapsed_sections": [],
      "machine_shape": "hm"
    },
    "accelerator": "GPU"
  },
  "cells": [
    {
      "cell_type": "markdown",
      "metadata": {
        "id": "Pw3YiVt838Tn"
      },
      "source": [
        "## Import Dependencies"
      ]
    },
    {
      "cell_type": "code",
      "metadata": {
        "colab": {
          "base_uri": "https://localhost:8080/"
        },
        "id": "yFqZe5eq7wrP",
        "outputId": "b3606eec-f4ef-4339-ac89-9d669366fb7e"
      },
      "source": [
        "from google.colab import drive\n",
        "drive.mount('/content/drive')"
      ],
      "execution_count": 1,
      "outputs": [
        {
          "output_type": "stream",
          "text": [
            "Mounted at /content/drive\n"
          ],
          "name": "stdout"
        }
      ]
    },
    {
      "cell_type": "code",
      "metadata": {
        "colab": {
          "base_uri": "https://localhost:8080/"
        },
        "id": "VrwDjFKOu4Jg",
        "outputId": "77806501-14b2-4d48-f3f8-3013fde516b4"
      },
      "source": [
        "%tensorflow_version 1.x"
      ],
      "execution_count": 1,
      "outputs": [
        {
          "output_type": "stream",
          "text": [
            "TensorFlow 1.x selected.\n"
          ],
          "name": "stdout"
        }
      ]
    },
    {
      "cell_type": "code",
      "metadata": {
        "id": "e83VV0wby26c"
      },
      "source": [
        "% pip install wandb"
      ],
      "execution_count": null,
      "outputs": []
    },
    {
      "cell_type": "code",
      "metadata": {
        "id": "8op54dlA38Tn"
      },
      "source": [
        "# Import dependencies\n",
        "\n",
        "from os import listdir, remove, makedirs\n",
        "from os.path import join, isdir, isfile\n",
        "import numpy as np\n",
        "from skimage import io\n",
        "from skimage.transform import resize\n",
        "import random\n",
        "import tensorflow as tf\n",
        "from tensorflow.python.ops import variable_scope as vs\n",
        "import tensorflow.keras.layers as layers"
      ],
      "execution_count": 2,
      "outputs": []
    },
    {
      "cell_type": "code",
      "metadata": {
        "id": "i3CHnzG4yaXB"
      },
      "source": [
        "# Import python files\n",
        "\n",
        "from utils import HGN_organize_data, HGN_divide_train_test\n",
        "from code_HGN_senEM_train import train\n",
        "from preprocess4HGN import preprocess_speech2pickup"
      ],
      "execution_count": 3,
      "outputs": []
    },
    {
      "cell_type": "markdown",
      "metadata": {
        "id": "6OGQHCK_38Tn"
      },
      "source": [
        "## Load Preprocessed Data"
      ]
    },
    {
      "cell_type": "code",
      "metadata": {
        "colab": {
          "base_uri": "https://localhost:8080/"
        },
        "id": "CqqjCosb38Tn",
        "outputId": "aa28657b-9c3c-4010-af76-2d7331dd90e4"
      },
      "source": [
        "relative_data_directory_path = '/content/drive/MyDrive/Speech2Pickup/data_v1.2_single_channel/preprocessed4HGN_speech2pickup.npz'\n",
        "    \n",
        "data = np.load(relative_data_directory_path)\n",
        "\n",
        "img_idx = data['img_idx']\n",
        "sen_len = data['seq_len']\n",
        "speech_inputs = data['inputs']\n",
        "pos_outputs = data['outputs']\n",
        "sentence = data['sentence']\n",
        "\n",
        "print('End loading MetaData')"
      ],
      "execution_count": 4,
      "outputs": [
        {
          "output_type": "stream",
          "text": [
            "End loading MetaData\n"
          ],
          "name": "stdout"
        }
      ]
    },
    {
      "cell_type": "markdown",
      "metadata": {
        "id": "J_dqmGhN38Tn"
      },
      "source": [
        "## Load data and divide training and test set"
      ]
    },
    {
      "cell_type": "code",
      "metadata": {
        "colab": {
          "base_uri": "https://localhost:8080/",
          "height": 395
        },
        "id": "JlqqLiDe38To",
        "outputId": "c3980a56-f96d-45d9-9651-16768c65e97b"
      },
      "source": [
        "num_data = img_idx.shape[0]\n",
        "\n",
        "img_path = '/content/drive/MyDrive/Speech2Pickup/train_img'\n",
        "script_path = '/content/drive/MyDrive/Speech2Pickup/train_heatmap'\n",
        "\n",
        "total_images, total_heatmaps = HGN_organize_data(img_path, script_path, model_type='speech2pickup');\n",
        "\n",
        "args = dict()\n",
        "args['img_idx'] = img_idx\n",
        "args['speech_inputs'] = speech_inputs\n",
        "args['pos_outputs'] = pos_outputs\n",
        "args['num_data'] = num_data\n",
        "\n",
        "idx_train, idx_test, num_train, num_test, \\\n",
        "train_img_idx, train_speech_inputs, train_pos_outputs, \\\n",
        "test_img_idx, test_speech_inputs, test_pos_outputs = \\\n",
        "HGN_divide_train_test(args, model_type='speech2pickup')"
      ],
      "execution_count": 8,
      "outputs": [
        {
          "output_type": "error",
          "ename": "KeyboardInterrupt",
          "evalue": "ignored",
          "traceback": [
            "\u001b[0;31m---------------------------------------------------------------------------\u001b[0m",
            "\u001b[0;31mKeyboardInterrupt\u001b[0m                         Traceback (most recent call last)",
            "\u001b[0;32m<ipython-input-8-1f18bdc64b22>\u001b[0m in \u001b[0;36m<module>\u001b[0;34m()\u001b[0m\n\u001b[1;32m      4\u001b[0m \u001b[0mscript_path\u001b[0m \u001b[0;34m=\u001b[0m \u001b[0;34m'/content/drive/MyDrive/Speech2Pickup/train_heatmap'\u001b[0m\u001b[0;34m\u001b[0m\u001b[0;34m\u001b[0m\u001b[0m\n\u001b[1;32m      5\u001b[0m \u001b[0;34m\u001b[0m\u001b[0m\n\u001b[0;32m----> 6\u001b[0;31m \u001b[0mtotal_images\u001b[0m\u001b[0;34m,\u001b[0m \u001b[0mtotal_heatmaps\u001b[0m \u001b[0;34m=\u001b[0m \u001b[0mHGN_organize_data\u001b[0m\u001b[0;34m(\u001b[0m\u001b[0mimg_path\u001b[0m\u001b[0;34m,\u001b[0m \u001b[0mscript_path\u001b[0m\u001b[0;34m,\u001b[0m \u001b[0mmodel_type\u001b[0m\u001b[0;34m=\u001b[0m\u001b[0;34m'speech2pickup'\u001b[0m\u001b[0;34m)\u001b[0m\u001b[0;34m;\u001b[0m\u001b[0;34m\u001b[0m\u001b[0;34m\u001b[0m\u001b[0m\n\u001b[0m\u001b[1;32m      7\u001b[0m \u001b[0;34m\u001b[0m\u001b[0m\n\u001b[1;32m      8\u001b[0m \u001b[0margs\u001b[0m \u001b[0;34m=\u001b[0m \u001b[0mdict\u001b[0m\u001b[0;34m(\u001b[0m\u001b[0;34m)\u001b[0m\u001b[0;34m\u001b[0m\u001b[0;34m\u001b[0m\u001b[0m\n",
            "\u001b[0;32m/content/utils.py\u001b[0m in \u001b[0;36mHGN_organize_data\u001b[0;34m(img_path, script_path, model_type)\u001b[0m\n\u001b[1;32m     66\u001b[0m     \u001b[0mtotal_heatmaps\u001b[0m \u001b[0;34m=\u001b[0m \u001b[0mdict\u001b[0m\u001b[0;34m(\u001b[0m\u001b[0;34m)\u001b[0m\u001b[0;34m\u001b[0m\u001b[0;34m\u001b[0m\u001b[0m\n\u001b[1;32m     67\u001b[0m     \u001b[0;32mfor\u001b[0m \u001b[0mf\u001b[0m \u001b[0;32min\u001b[0m \u001b[0mscript_files\u001b[0m\u001b[0;34m:\u001b[0m\u001b[0;34m\u001b[0m\u001b[0;34m\u001b[0m\u001b[0m\n\u001b[0;32m---> 68\u001b[0;31m         \u001b[0mnpzfile\u001b[0m \u001b[0;34m=\u001b[0m \u001b[0mnp\u001b[0m\u001b[0;34m.\u001b[0m\u001b[0mload\u001b[0m\u001b[0;34m(\u001b[0m\u001b[0;34m(\u001b[0m\u001b[0;34m'%s/%s'\u001b[0m\u001b[0;34m)\u001b[0m \u001b[0;34m%\u001b[0m \u001b[0;34m(\u001b[0m\u001b[0mscript_path\u001b[0m\u001b[0;34m,\u001b[0m \u001b[0mf\u001b[0m\u001b[0;34m)\u001b[0m\u001b[0;34m)\u001b[0m\u001b[0;34m\u001b[0m\u001b[0;34m\u001b[0m\u001b[0m\n\u001b[0m\u001b[1;32m     69\u001b[0m         \u001b[0mtmp_heatmap\u001b[0m \u001b[0;34m=\u001b[0m \u001b[0mnpzfile\u001b[0m\u001b[0;34m[\u001b[0m\u001b[0;34m'arr_0'\u001b[0m\u001b[0;34m]\u001b[0m\u001b[0;34m\u001b[0m\u001b[0;34m\u001b[0m\u001b[0m\n\u001b[1;32m     70\u001b[0m         \u001b[0mtmp_heatmap\u001b[0m \u001b[0;34m=\u001b[0m \u001b[0mresize\u001b[0m\u001b[0;34m(\u001b[0m\u001b[0mtmp_heatmap\u001b[0m\u001b[0;34m,\u001b[0m \u001b[0;34m[\u001b[0m\u001b[0mheatmap_resize\u001b[0m\u001b[0;34m,\u001b[0m \u001b[0mheatmap_resize\u001b[0m\u001b[0;34m]\u001b[0m\u001b[0;34m,\u001b[0m \u001b[0mpreserve_range\u001b[0m\u001b[0;34m=\u001b[0m\u001b[0;32mTrue\u001b[0m\u001b[0;34m)\u001b[0m\u001b[0;34m\u001b[0m\u001b[0;34m\u001b[0m\u001b[0m\n",
            "\u001b[0;32m/usr/local/lib/python3.6/dist-packages/numpy/lib/npyio.py\u001b[0m in \u001b[0;36mload\u001b[0;34m(file, mmap_mode, allow_pickle, fix_imports, encoding)\u001b[0m\n\u001b[1;32m    434\u001b[0m         \u001b[0m_ZIP_SUFFIX\u001b[0m \u001b[0;34m=\u001b[0m \u001b[0;34mb'PK\\x05\\x06'\u001b[0m \u001b[0;31m# empty zip files start with this\u001b[0m\u001b[0;34m\u001b[0m\u001b[0;34m\u001b[0m\u001b[0m\n\u001b[1;32m    435\u001b[0m         \u001b[0mN\u001b[0m \u001b[0;34m=\u001b[0m \u001b[0mlen\u001b[0m\u001b[0;34m(\u001b[0m\u001b[0mformat\u001b[0m\u001b[0;34m.\u001b[0m\u001b[0mMAGIC_PREFIX\u001b[0m\u001b[0;34m)\u001b[0m\u001b[0;34m\u001b[0m\u001b[0;34m\u001b[0m\u001b[0m\n\u001b[0;32m--> 436\u001b[0;31m         \u001b[0mmagic\u001b[0m \u001b[0;34m=\u001b[0m \u001b[0mfid\u001b[0m\u001b[0;34m.\u001b[0m\u001b[0mread\u001b[0m\u001b[0;34m(\u001b[0m\u001b[0mN\u001b[0m\u001b[0;34m)\u001b[0m\u001b[0;34m\u001b[0m\u001b[0;34m\u001b[0m\u001b[0m\n\u001b[0m\u001b[1;32m    437\u001b[0m         \u001b[0;31m# If the file size is less than N, we need to make sure not\u001b[0m\u001b[0;34m\u001b[0m\u001b[0;34m\u001b[0m\u001b[0;34m\u001b[0m\u001b[0m\n\u001b[1;32m    438\u001b[0m         \u001b[0;31m# to seek past the beginning of the file\u001b[0m\u001b[0;34m\u001b[0m\u001b[0;34m\u001b[0m\u001b[0;34m\u001b[0m\u001b[0m\n",
            "\u001b[0;31mKeyboardInterrupt\u001b[0m: "
          ]
        }
      ]
    },
    {
      "cell_type": "markdown",
      "metadata": {
        "id": "BMTIgLyC38To"
      },
      "source": [
        "## Start Training"
      ]
    },
    {
      "cell_type": "code",
      "metadata": {
        "id": "amc_PFY438To",
        "colab": {
          "base_uri": "https://localhost:8080/",
          "height": 244
        },
        "outputId": "51d0305c-922a-48ff-ef25-8d8abac7770d"
      },
      "source": [
        "batch_size = 8\n",
        "max_epoch = 300\n",
        "n_mels = 40\n",
        "time_steps = 303\n",
        "num_hg_Depth = 4\n",
        "dim_hg_feat = 256\n",
        "learning_rate = 0.00001\n",
        "dropout_rate = 0.0\n",
        "train_model_number = 1\n",
        "input_channel_type = 'single'\n",
        "run_date = '2020-12-07'\n",
        "encoder_args = {'num_stacks': 3, 'num_channels':[n_mels for i in range(6)], 'kernel_size':3,\n",
        "                'dropout_rate': dropout_rate, 'activation': 'leaky-relu', 'return_type': 'end'}\n",
        "input_shapes = (None, n_mels, time_steps)\n",
        "seed = 1\n",
        "training_state = True\n",
        "\n",
        "wandb_config = {'batch_size': batch_size,\n",
        "                'max_epoch': max_epoch,\n",
        "                'n_mels': n_mels,\n",
        "                'num_hg_Depth': num_hg_Depth,\n",
        "                'dim_hg_feat': dim_hg_feat,\n",
        "                'learning_rate': learning_rate,\n",
        "                'dropout_rate': dropout_rate,\n",
        "                'train_model_number': train_model_number,\n",
        "                'input_channel_type': input_channel_type,\n",
        "                'seed': seed,\n",
        "                'training_state': training_state,\n",
        "                'num_train': num_train,\n",
        "                'num_test': num_test,\n",
        "                'date': run_date}\n",
        "# wandb_run = wandb.init(project='Speech2Pickup', name='sentenceEM', config=wandb_config)\n",
        "from code_HGN_senEM_train import train\n",
        "train(img_resize = 256, # must be fixed\n",
        "      heatmap_resize = 64, # must be fixed\n",
        "      num_hg_Depth = num_hg_Depth, # good be fixed\n",
        "      dim_hg_feat = dim_hg_feat, # good be fixed\n",
        "      n_mels = n_mels,\n",
        "      time_steps = time_steps,\n",
        "      encoder_model_path = '/content/drive/MyDrive/Speech2Pickup/sentenceEM_model/model.ckpt',\n",
        "      encoder_args = encoder_args,\n",
        "      input_shapes = input_shapes,\n",
        "      seed = seed,\n",
        "      training_state = training_state,\n",
        "      batch_size = batch_size, \n",
        "      max_epoch = max_epoch,\n",
        "      num_train = num_train,\n",
        "      save_stride = 10,\n",
        "      learning_rate = learning_rate, # good be fixed\n",
        "      dropout_rate = dropout_rate,\n",
        "      restore_flag = 0,\n",
        "      restore_path = '',\n",
        "      restore_epoch = 0,\n",
        "      total_images = total_images,\n",
        "      total_heatmaps = total_heatmaps,\n",
        "      train_speech_inputs = train_speech_inputs,\n",
        "      train_img_idx = train_img_idx,\n",
        "      train_pos_outputs = train_pos_outputs)"
      ],
      "execution_count": 7,
      "outputs": [
        {
          "output_type": "error",
          "ename": "NameError",
          "evalue": "ignored",
          "traceback": [
            "\u001b[0;31m---------------------------------------------------------------------------\u001b[0m",
            "\u001b[0;31mNameError\u001b[0m                                 Traceback (most recent call last)",
            "\u001b[0;32m<ipython-input-7-3c287ccd35cc>\u001b[0m in \u001b[0;36m<module>\u001b[0;34m()\u001b[0m\n\u001b[1;32m     27\u001b[0m                 \u001b[0;34m'seed'\u001b[0m\u001b[0;34m:\u001b[0m \u001b[0mseed\u001b[0m\u001b[0;34m,\u001b[0m\u001b[0;34m\u001b[0m\u001b[0;34m\u001b[0m\u001b[0m\n\u001b[1;32m     28\u001b[0m                 \u001b[0;34m'training_state'\u001b[0m\u001b[0;34m:\u001b[0m \u001b[0mtraining_state\u001b[0m\u001b[0;34m,\u001b[0m\u001b[0;34m\u001b[0m\u001b[0;34m\u001b[0m\u001b[0m\n\u001b[0;32m---> 29\u001b[0;31m                 \u001b[0;34m'num_train'\u001b[0m\u001b[0;34m:\u001b[0m \u001b[0mnum_train\u001b[0m\u001b[0;34m,\u001b[0m\u001b[0;34m\u001b[0m\u001b[0;34m\u001b[0m\u001b[0m\n\u001b[0m\u001b[1;32m     30\u001b[0m                 \u001b[0;34m'num_test'\u001b[0m\u001b[0;34m:\u001b[0m \u001b[0mnum_test\u001b[0m\u001b[0;34m,\u001b[0m\u001b[0;34m\u001b[0m\u001b[0;34m\u001b[0m\u001b[0m\n\u001b[1;32m     31\u001b[0m                 'date': run_date}\n",
            "\u001b[0;31mNameError\u001b[0m: name 'num_train' is not defined"
          ]
        }
      ]
    },
    {
      "cell_type": "code",
      "metadata": {
        "id": "xSRSZz3bT67K"
      },
      "source": [
        "variables_names = [v for v in tf.trainable_variables() if v.name.split('/')[0] == 'temp_convnet']\n",
        "tf.train.Saver(var_list=variables_names)"
      ],
      "execution_count": null,
      "outputs": []
    },
    {
      "cell_type": "code",
      "metadata": {
        "id": "z7-oZq5P9WQ5"
      },
      "source": [
        "tf.reset_default_graph()"
      ],
      "execution_count": 8,
      "outputs": []
    }
  ]
}