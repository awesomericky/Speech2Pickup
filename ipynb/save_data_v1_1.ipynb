{
  "nbformat": 4,
  "nbformat_minor": 0,
  "metadata": {
    "colab": {
      "name": "save_data_v1_1.ipynb",
      "provenance": []
    },
    "kernelspec": {
      "name": "python3",
      "display_name": "Python 3"
    }
  },
  "cells": [
    {
      "cell_type": "code",
      "metadata": {
        "colab": {
          "base_uri": "https://localhost:8080/"
        },
        "id": "sCm8fGgqP6Fh",
        "outputId": "e00de50c-fb81-4668-9e1a-c1b03eb4d85b"
      },
      "source": [
        "from google.colab import drive\n",
        "drive.mount('/content/drive')"
      ],
      "execution_count": 1,
      "outputs": [
        {
          "output_type": "stream",
          "text": [
            "Mounted at /content/drive\n"
          ],
          "name": "stdout"
        }
      ]
    },
    {
      "cell_type": "code",
      "metadata": {
        "id": "qRSMeK3_Q6zW"
      },
      "source": [
        "import numpy as np\n",
        "from os import listdir, makedirs\n",
        "from os.path import join, isfile, isdir\n",
        "import pickle"
      ],
      "execution_count": 2,
      "outputs": []
    },
    {
      "cell_type": "code",
      "metadata": {
        "id": "-P7DKX5aRGHr"
      },
      "source": [
        "\"\"\"\n",
        "processed_data_loader.py\n",
        "\"\"\"\n",
        "\n",
        "def load_single_data(relative_data_directory_path, file_name):\n",
        "    with open(join(relative_data_directory_path, file_name), 'rb') as f:\n",
        "        data = pickle.load(f)\n",
        "    return data"
      ],
      "execution_count": 3,
      "outputs": []
    },
    {
      "cell_type": "code",
      "metadata": {
        "id": "b8miwSW8QQfT"
      },
      "source": [
        "\"\"\"\n",
        "process_data.py\n",
        "\"\"\"\n",
        "\n",
        "def audio_length_equalize_and_save(relative_data_directory_path, relative_save_data_directory_path):\n",
        "    data_type = relative_data_directory_path.split('/')[-1]\n",
        "    if data_type == 'data_v1.0':\n",
        "        sampled_audios_idx = 3\n",
        "        sample_rates_idx = 4\n",
        "\n",
        "        # Load data\n",
        "        data_files = [f for f in listdir(relative_data_directory_path) if isfile(join(relative_data_directory_path, f))]\n",
        "        data_files.sort()\n",
        "        total_file_num = len(data_files)\n",
        "        print('{} file loaded'.format(total_file_num))\n",
        "\n",
        "        # Find max sampled audio length\n",
        "        max_sampled_audio_len = 0        \n",
        "        for data_file in data_files:\n",
        "            data = load_single_data(relative_data_directory_path, data_file)\n",
        "            sampled_audios = data[sampled_audios_idx]\n",
        "            for sampled_audio in sampled_audios:\n",
        "                curr_sampled_audio_len = len(sampled_audio)\n",
        "                if curr_sampled_audio_len > max_sampled_audio_len:\n",
        "                    max_sampled_audio_len = curr_sampled_audio_len\n",
        "        \n",
        "        # Modify 'sampled_audios'\n",
        "        # of 'data_v1.0' to make audio length same\n",
        "        for i in range(total_file_num):\n",
        "            print('Processing {}/{}'.format(i+1, total_file_num))\n",
        "            data = load_single_data(relative_data_directory_path, data_files[i])\n",
        "            sampled_audios = data[sampled_audios_idx]\n",
        "\n",
        "            for ii in range(len(sampled_audios)):\n",
        "                # Add zero padding to 'sampled audio'\n",
        "                len_zero_padding = max_sampled_audio_len - len(sampled_audios[ii])\n",
        "                sampled_audios[ii] = np.append(sampled_audios[ii], [0]*len_zero_padding)\n",
        "\n",
        "            data[sampled_audios_idx] = sampled_audios\n",
        "            result = save_single_data(relative_save_data_directory_path, data, i+1, data_type)\n",
        "\n",
        "    elif data_type == 'data_v2.0':\n",
        "        sampled_audios_idx = 0\n",
        "        sample_rates_idx = 1\n",
        "        word_time_intervals_idx = 2\n",
        "\n",
        "        # Load data\n",
        "        data_files = [f for f in listdir(relative_data_directory_path) if isfile(join(relative_data_directory_path, f))]\n",
        "        data_files.sort()\n",
        "        total_file_num = len(data_files)\n",
        "        print('{} file loaded'.format(total_file_num))\n",
        "        \n",
        "        # Find max sampled audio length\n",
        "        max_sampled_audio_len = 0        \n",
        "        for data_file in data_files:\n",
        "            data = load_single_data(relative_data_directory_path, data_file)\n",
        "            sampled_audios = data[sampled_audios_idx]\n",
        "            for i in range(len(sampled_audios)):\n",
        "                curr_sampled_audio_len = len(sampled_audios[i])\n",
        "                if curr_sampled_audio_len > max_sampled_audio_len:\n",
        "                    max_sampled_audio_len = curr_sampled_audio_len\n",
        "        \n",
        "        # Modify 'sampled_audios' and 'word_time_intervals'\n",
        "        # of 'data_v2.0' to make audio length same\n",
        "        for i in range(total_file_num):\n",
        "            print('Processing {}/{}'.format(i+1, total_file_num))\n",
        "            data = load_single_data(relative_data_directory_path, data_files[i])\n",
        "            sampled_audios = data[sampled_audios_idx]\n",
        "            sampled_rates = data[sample_rates_idx]\n",
        "            word_time_intervals = data[word_time_intervals_idx]\n",
        "\n",
        "            for ii in range(len(sampled_audios)):\n",
        "                # Add zero padding to 'sampled audio'\n",
        "                len_zero_padding = max_sampled_audio_len - len(sampled_audios[ii])\n",
        "                sampled_audios[ii] = np.append(sampled_audios[ii], [0]*len_zero_padding)\n",
        "\n",
        "                # Add silent part to 'word_time_interval'\n",
        "                fixed_end_time = round(max_sampled_audio_len/float(sampled_rates[ii]), 3)\n",
        "                curr_end_time = word_time_intervals[ii][-1][-1]\n",
        "                word_time_intervals[ii].append([\"\", curr_end_time, fixed_end_time])\n",
        "\n",
        "            data[sampled_audios_idx] = sampled_audios\n",
        "            data[word_time_intervals_idx] = word_time_intervals\n",
        "\n",
        "            result = save_single_data(relative_save_data_directory_path, data, i+1, data_type)\n",
        "    else:\n",
        "        raise ValueError('Unavailable data directory path for audio zero padding')\n",
        "\n",
        "\n",
        "def save_single_data(relative_save_data_directory_path, data, save_file_num, data_type):\n",
        "    # Check directiry to save data\n",
        "    if not isdir(relative_save_data_directory_path):\n",
        "        makedirs(relative_save_data_directory_path)\n",
        "    \n",
        "    # Save\n",
        "    num_data = len(data[0])\n",
        "    distrib_num_file = 4\n",
        "    each_num_data = int(num_data/distrib_num_file)\n",
        "    start = 0; end = start + each_num_data\n",
        "    for i in range(1, distrib_num_file):\n",
        "        file_name = relative_save_data_directory_path + '/senEM_preprocessed_{}.pkl'.format(distrib_num_file*(save_file_num-1)+i)\n",
        "        print('Saving {} data'.format(distrib_num_file*(save_file_num-1)+i))\n",
        "        with open(file_name, 'wb') as f:\n",
        "            if data_type == 'data_v1.0':\n",
        "                pickle.dump([data[0][start:end], data[1][start:end], data[2][start:end],\n",
        "                            data[3][start:end], data[4][start:end], data[5][start:end]], f)\n",
        "            elif data_type == 'data_v2.0':\n",
        "                pickle.dump([data[0][start:end], data[1][start:end], data[2][start:end]], f)\n",
        "            else:\n",
        "                raise ValueError('Unavailable data directory path for saving data')\n",
        "        start = end\n",
        "        end += each_num_data\n",
        "\n",
        "    file_name = relative_save_data_directory_path + '/senEM_preprocessed_{}.pkl'.format(distrib_num_file*save_file_num)\n",
        "    print('Saving {} data'.format(distrib_num_file*save_file_num))\n",
        "    with open(file_name, 'wb') as f:\n",
        "        if data_type == 'data_v1.0':\n",
        "            pickle.dump([data[0][start:], data[1][start:], data[2][start:],\n",
        "                        data[3][start:], data[4][start:], data[5][start:]], f)\n",
        "        elif data_type == 'data_v2.0':\n",
        "            pickle.dump([data[0][start:], data[1][start:], data[2][start:]], f)\n",
        "        else:\n",
        "            raise ValueError('Unavailable data directory path for saving data')\n",
        "    return True"
      ],
      "execution_count": 8,
      "outputs": []
    },
    {
      "cell_type": "code",
      "metadata": {
        "id": "Wz3XfUeYRU47"
      },
      "source": [
        "\"\"\"\n",
        "processed_data_saver.py\n",
        "\"\"\"\n",
        "\n",
        "def save_data_v1_1(relative_data_directory_path, relative_save_data_directory_path):\n",
        "    audio_length_equalize_and_save(relative_data_directory_path, relative_save_data_directory_path)"
      ],
      "execution_count": 9,
      "outputs": []
    },
    {
      "cell_type": "code",
      "metadata": {
        "colab": {
          "base_uri": "https://localhost:8080/"
        },
        "id": "GGM_NkuBRkaE",
        "outputId": "bb43b6f6-3397-4f1b-b6ca-0efefeb0683f"
      },
      "source": [
        "# Save data_v2.1\n",
        "relative_data_directory_path = '/content/drive/MyDrive/Speech2Pickup/data_v1.0'\n",
        "relative_save_data_directory_path = '/content/drive/MyDrive/Speech2Pickup/data_v1.1'\n",
        "save_data_v1_1(relative_data_directory_path, relative_save_data_directory_path)"
      ],
      "execution_count": 10,
      "outputs": [
        {
          "output_type": "stream",
          "text": [
            "10 file loaded\n",
            "Processing 1/10\n",
            "Saving 1 data\n",
            "Saving 2 data\n",
            "Saving 3 data\n",
            "Saving 4 data\n",
            "Processing 2/10\n",
            "Saving 5 data\n",
            "Saving 6 data\n",
            "Saving 7 data\n",
            "Saving 8 data\n",
            "Processing 3/10\n",
            "Saving 9 data\n",
            "Saving 10 data\n",
            "Saving 11 data\n",
            "Saving 12 data\n",
            "Processing 4/10\n",
            "Saving 13 data\n",
            "Saving 14 data\n",
            "Saving 15 data\n",
            "Saving 16 data\n",
            "Processing 5/10\n",
            "Saving 17 data\n",
            "Saving 18 data\n",
            "Saving 19 data\n",
            "Saving 20 data\n",
            "Processing 6/10\n",
            "Saving 21 data\n",
            "Saving 22 data\n",
            "Saving 23 data\n",
            "Saving 24 data\n",
            "Processing 7/10\n",
            "Saving 25 data\n",
            "Saving 26 data\n",
            "Saving 27 data\n",
            "Saving 28 data\n",
            "Processing 8/10\n",
            "Saving 29 data\n",
            "Saving 30 data\n",
            "Saving 31 data\n",
            "Saving 32 data\n",
            "Processing 9/10\n",
            "Saving 33 data\n",
            "Saving 34 data\n",
            "Saving 35 data\n",
            "Saving 36 data\n",
            "Processing 10/10\n",
            "Saving 37 data\n",
            "Saving 38 data\n",
            "Saving 39 data\n",
            "Saving 40 data\n"
          ],
          "name": "stdout"
        }
      ]
    },
    {
      "cell_type": "code",
      "metadata": {
        "colab": {
          "base_uri": "https://localhost:8080/"
        },
        "id": "2DN8xXrFSxkO",
        "outputId": "08fcf35c-e3a8-42b6-cade-698acd9dc848"
      },
      "source": [
        "# Check saved data (Debugging)\n",
        "relative_data_directory_path = '/content/drive/MyDrive/Speech2Pickup/data_v1.1'\n",
        "file_name = 'senEM_preprocessed_15.pkl'\n",
        "with open(join(relative_data_directory_path, file_name), 'rb') as f:\n",
        "    data = pickle.load(f)\n",
        "\n",
        "print(data[0])\n",
        "print(data[1])\n",
        "print(data[2])\n",
        "print(data[3])\n",
        "print(data[4])\n",
        "print(data[5])\n",
        "print(len(data[0]))"
      ],
      "execution_count": 12,
      "outputs": [
        {
          "output_type": "stream",
          "text": [
            "[472, 472, 472, 472, 472, 472, 472, 472, 472, 472, 472, 472, 472, 472, 472, 472, 472, 472, 472, 472, 473, 473, 473, 473, 473, 473, 473, 473, 473, 473, 473, 473, 473, 473, 473, 473, 473, 473, 473, 473, 473, 473, 473, 473, 473, 473, 473, 473, 473, 473, 473, 473, 474, 474, 474, 474, 474, 474, 474, 474, 474, 474, 474, 474, 474, 474, 474, 474, 474, 474, 474, 474, 474, 474, 474, 474, 474, 474, 474, 475, 475, 475, 475, 475, 475, 475, 475]\n",
            "[[150.0, 214.0], [150.0, 214.0], [150.0, 214.0], [150.0, 214.0], [150.0, 214.0], [150.0, 214.0], [189.0, 167.0], [189.0, 167.0], [113.0, 145.0], [189.0, 167.0], [189.0, 167.0], [189.0, 167.0], [189.0, 167.0], [123.0, 64.0], [123.0, 64.0], [123.0, 64.0], [123.0, 64.0], [123.0, 64.0], [123.0, 64.0], [123.0, 64.0], [110.0, 137.0], [122.0, 63.0], [122.0, 63.0], [122.0, 63.0], [122.0, 63.0], [122.0, 63.0], [122.0, 63.0], [122.0, 63.0], [188.0, 169.0], [188.0, 169.0], [188.0, 169.0], [110.0, 137.0], [188.0, 169.0], [188.0, 169.0], [188.0, 169.0], [188.0, 169.0], [188.0, 169.0], [188.0, 169.0], [188.0, 169.0], [43.0, 160.0], [43.0, 160.0], [43.0, 160.0], [110.0, 137.0], [43.0, 160.0], [43.0, 160.0], [43.0, 160.0], [110.0, 137.0], [110.0, 137.0], [110.0, 137.0], [110.0, 137.0], [110.0, 137.0], [110.0, 137.0], [118.0, 217.0], [190.0, 170.0], [190.0, 170.0], [190.0, 170.0], [190.0, 170.0], [190.0, 170.0], [190.0, 170.0], [44.0, 162.0], [44.0, 162.0], [44.0, 162.0], [44.0, 162.0], [118.0, 217.0], [44.0, 162.0], [44.0, 162.0], [93.0, 161.0], [93.0, 161.0], [93.0, 161.0], [93.0, 161.0], [93.0, 161.0], [93.0, 161.0], [118.0, 217.0], [118.0, 217.0], [118.0, 217.0], [118.0, 217.0], [118.0, 217.0], [190.0, 170.0], [190.0, 170.0], [120.0, 216.0], [166.0, 133.0], [166.0, 133.0], [166.0, 133.0], [166.0, 133.0], [166.0, 133.0], [190.0, 170.0], [190.0, 170.0]]\n",
            "[9, 6, 6, 7, 6, 8, 6, 5, 6, 9, 6, 6, 7, 7, 8, 5, 9, 6, 9, 6, 7, 7, 8, 5, 9, 6, 9, 6, 8, 6, 6, 6, 8, 9, 9, 6, 5, 9, 6, 9, 6, 5, 7, 9, 6, 8, 6, 8, 7, 8, 7, 6, 7, 5, 9, 6, 5, 9, 6, 9, 6, 5, 9, 8, 6, 8, 8, 9, 6, 9, 6, 6, 5, 9, 6, 9, 6, 7, 8, 7, 9, 6, 9, 6, 8, 8, 9]\n",
            "[array([0., 0., 0., ..., 0., 0., 0.]), array([0., 0., 0., ..., 0., 0., 0.]), array([0., 0., 0., ..., 0., 0., 0.]), array([0., 0., 0., ..., 0., 0., 0.]), array([0., 0., 0., ..., 0., 0., 0.]), array([0., 0., 0., ..., 0., 0., 0.]), array([0., 0., 0., ..., 0., 0., 0.]), array([0., 0., 0., ..., 0., 0., 0.]), array([0., 0., 0., ..., 0., 0., 0.]), array([0., 0., 0., ..., 0., 0., 0.]), array([0., 0., 0., ..., 0., 0., 0.]), array([0., 0., 0., ..., 0., 0., 0.]), array([0., 0., 0., ..., 0., 0., 0.]), array([0., 0., 0., ..., 0., 0., 0.]), array([0., 0., 0., ..., 0., 0., 0.]), array([0., 0., 0., ..., 0., 0., 0.]), array([0., 0., 0., ..., 0., 0., 0.]), array([0., 0., 0., ..., 0., 0., 0.]), array([0., 0., 0., ..., 0., 0., 0.]), array([0., 0., 0., ..., 0., 0., 0.]), array([0., 0., 0., ..., 0., 0., 0.]), array([0., 0., 0., ..., 0., 0., 0.]), array([0., 0., 0., ..., 0., 0., 0.]), array([0., 0., 0., ..., 0., 0., 0.]), array([0., 0., 0., ..., 0., 0., 0.]), array([0., 0., 0., ..., 0., 0., 0.]), array([0., 0., 0., ..., 0., 0., 0.]), array([0., 0., 0., ..., 0., 0., 0.]), array([0., 0., 0., ..., 0., 0., 0.]), array([0., 0., 0., ..., 0., 0., 0.]), array([0., 0., 0., ..., 0., 0., 0.]), array([0., 0., 0., ..., 0., 0., 0.]), array([0., 0., 0., ..., 0., 0., 0.]), array([0., 0., 0., ..., 0., 0., 0.]), array([0., 0., 0., ..., 0., 0., 0.]), array([0., 0., 0., ..., 0., 0., 0.]), array([0., 0., 0., ..., 0., 0., 0.]), array([0., 0., 0., ..., 0., 0., 0.]), array([0., 0., 0., ..., 0., 0., 0.]), array([0., 0., 0., ..., 0., 0., 0.]), array([0., 0., 0., ..., 0., 0., 0.]), array([0., 0., 0., ..., 0., 0., 0.]), array([0., 0., 0., ..., 0., 0., 0.]), array([0., 0., 0., ..., 0., 0., 0.]), array([0., 0., 0., ..., 0., 0., 0.]), array([0., 0., 0., ..., 0., 0., 0.]), array([0., 0., 0., ..., 0., 0., 0.]), array([0., 0., 0., ..., 0., 0., 0.]), array([0., 0., 0., ..., 0., 0., 0.]), array([0., 0., 0., ..., 0., 0., 0.]), array([0., 0., 0., ..., 0., 0., 0.]), array([0., 0., 0., ..., 0., 0., 0.]), array([0., 0., 0., ..., 0., 0., 0.]), array([0., 0., 0., ..., 0., 0., 0.]), array([0., 0., 0., ..., 0., 0., 0.]), array([0., 0., 0., ..., 0., 0., 0.]), array([0., 0., 0., ..., 0., 0., 0.]), array([0., 0., 0., ..., 0., 0., 0.]), array([0., 0., 0., ..., 0., 0., 0.]), array([0., 0., 0., ..., 0., 0., 0.]), array([0., 0., 0., ..., 0., 0., 0.]), array([0., 0., 0., ..., 0., 0., 0.]), array([0., 0., 0., ..., 0., 0., 0.]), array([0., 0., 0., ..., 0., 0., 0.]), array([0., 0., 0., ..., 0., 0., 0.]), array([0., 0., 0., ..., 0., 0., 0.]), array([0., 0., 0., ..., 0., 0., 0.]), array([0., 0., 0., ..., 0., 0., 0.]), array([0., 0., 0., ..., 0., 0., 0.]), array([0., 0., 0., ..., 0., 0., 0.]), array([0., 0., 0., ..., 0., 0., 0.]), array([0., 0., 0., ..., 0., 0., 0.]), array([0., 0., 0., ..., 0., 0., 0.]), array([0., 0., 0., ..., 0., 0., 0.]), array([0., 0., 0., ..., 0., 0., 0.]), array([0., 0., 0., ..., 0., 0., 0.]), array([0., 0., 0., ..., 0., 0., 0.]), array([0., 0., 0., ..., 0., 0., 0.]), array([0., 0., 0., ..., 0., 0., 0.]), array([0., 0., 0., ..., 0., 0., 0.]), array([0., 0., 0., ..., 0., 0., 0.]), array([0., 0., 0., ..., 0., 0., 0.]), array([0., 0., 0., ..., 0., 0., 0.]), array([0., 0., 0., ..., 0., 0., 0.]), array([0., 0., 0., ..., 0., 0., 0.]), array([0., 0., 0., ..., 0., 0., 0.]), array([0., 0., 0., ..., 0., 0., 0.])]\n",
            "[16000, 16000, 16000, 16000, 16000, 16000, 16000, 16000, 16000, 16000, 16000, 16000, 16000, 16000, 16000, 16000, 16000, 16000, 16000, 16000, 16000, 16000, 16000, 16000, 16000, 16000, 16000, 16000, 16000, 16000, 16000, 16000, 16000, 16000, 16000, 16000, 16000, 16000, 16000, 16000, 16000, 16000, 16000, 16000, 16000, 16000, 16000, 16000, 16000, 16000, 16000, 16000, 16000, 16000, 16000, 16000, 16000, 16000, 16000, 16000, 16000, 16000, 16000, 16000, 16000, 16000, 16000, 16000, 16000, 16000, 16000, 16000, 16000, 16000, 16000, 16000, 16000, 16000, 16000, 16000, 16000, 16000, 16000, 16000, 16000, 16000, 16000]\n",
            "['pick up the bottom block which color is red', 'pick up the bottom red block', 'pick up the left red block', 'pick up the lower left red block', 'pick up the lower red block', 'pick up the red block at the bottom', 'pick up the right red block', 'pick up the rightmost block', 'pick up the lower blue block', 'pick up the rightmost block which color is red', 'pick up the rightmost red block', 'pick up the upper red block', 'pick up the upper right red block', 'pick up the block at the top', 'pick up the blue block at the top', 'pick up the top block', 'pick up the top block which color is blue', 'pick up the top blue block', 'pick up the upper block which color is blue', 'pick up the upper blue block', 'pick up the block among other blocks', 'pick up the block at the top', 'pick up the blue block at the top', 'pick up the top block', 'pick up the top block which color is blue', 'pick up the top blue block', 'pick up the upper block which color is blue', 'pick up the upper blue block', 'pick up the block on the lower right', 'pick up the bottom right block', 'pick up the lower right block', 'pick up the block among others', 'pick up the red block on the right', 'pick up the red block on the rightmost bottom', 'pick up the right block which color is red', 'pick up the right red block', 'pick up the rightmost block', 'pick up the rightmost block which color is red', 'pick up the rightmost red block', 'pick up the left block which color is red', 'pick up the left red block', 'pick up the leftmost block', 'pick up the block between other blocks', 'pick up the leftmost block which color is red', 'pick up the leftmost red block', 'pick up the red block on the left', 'pick up the block between others', 'pick up the blue block among other blocks', 'pick up the blue block among others', 'pick up the blue block between other blocks', 'pick up the blue block between others', 'pick up the lower blue block', 'pick up the block at the bottom', 'pick up the right block', 'pick up the right block which color is red', 'pick up the right red block', 'pick up the rightmost block', 'pick up the rightmost block which color is red', 'pick up the rightmost red block', 'pick up the left block which color is red', 'pick up the left red block', 'pick up the leftmost block', 'pick up the leftmost block which color is red', 'pick up the blue block at the bottom', 'pick up the leftmost red block', 'pick up the red block on the left', 'pick up the blue block at the top', 'pick up the top block which color is blue', 'pick up the top blue block', 'pick up the upper block which color is blue', 'pick up the upper blue block', 'pick up the upper middle block', 'pick up the bottom block', 'pick up the bottom block which color is blue', 'pick up the bottom blue block', 'pick up the lower block which color is blue', 'pick up the lower blue block', 'pick up the block on the right', 'pick up the red block on the right', 'pick up the block at the bottom', 'pick up the top block which color is yellow', 'pick up the top yellow block', 'pick up the upper block which color is yellow', 'pick up the upper yellow block', 'pick up the yellow block at the top', 'pick up the red block on the right', 'pick up the right block which color is red']\n"
          ],
          "name": "stdout"
        }
      ]
    },
    {
      "cell_type": "code",
      "metadata": {
        "id": "8U3HNoZUWjZ9"
      },
      "source": [
        ""
      ],
      "execution_count": null,
      "outputs": []
    }
  ]
}