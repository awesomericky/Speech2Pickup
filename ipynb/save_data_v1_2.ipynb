{
  "nbformat": 4,
  "nbformat_minor": 0,
  "metadata": {
    "colab": {
      "name": "save_data_v1_2.ipynb",
      "provenance": [],
      "collapsed_sections": []
    },
    "kernelspec": {
      "name": "python3",
      "display_name": "Python 3"
    }
  },
  "cells": [
    {
      "cell_type": "code",
      "metadata": {
        "colab": {
          "base_uri": "https://localhost:8080/"
        },
        "id": "u7_tmP3CrcVi",
        "outputId": "3a264590-b576-47d1-cbea-7911ff29193d"
      },
      "source": [
        "from google.colab import drive\n",
        "drive.mount('/content/drive')"
      ],
      "execution_count": 1,
      "outputs": [
        {
          "output_type": "stream",
          "text": [
            "Mounted at /content/drive\n"
          ],
          "name": "stdout"
        }
      ]
    },
    {
      "cell_type": "code",
      "metadata": {
        "colab": {
          "base_uri": "https://localhost:8080/"
        },
        "id": "9Q_uC265sMAb",
        "outputId": "9e47b2c7-eb65-4a5f-f2c1-aee3d3ffef28"
      },
      "source": [
        "% pip install librosa==0.8.0"
      ],
      "execution_count": 1,
      "outputs": [
        {
          "output_type": "stream",
          "text": [
            "Requirement already satisfied: librosa==0.8.0 in /usr/local/lib/python3.6/dist-packages (0.8.0)\n",
            "Requirement already satisfied: pooch>=1.0 in /usr/local/lib/python3.6/dist-packages (from librosa==0.8.0) (1.3.0)\n",
            "Requirement already satisfied: numba>=0.43.0 in /usr/local/lib/python3.6/dist-packages (from librosa==0.8.0) (0.48.0)\n",
            "Requirement already satisfied: soundfile>=0.9.0 in /usr/local/lib/python3.6/dist-packages (from librosa==0.8.0) (0.10.3.post1)\n",
            "Requirement already satisfied: scikit-learn!=0.19.0,>=0.14.0 in /usr/local/lib/python3.6/dist-packages (from librosa==0.8.0) (0.22.2.post1)\n",
            "Requirement already satisfied: decorator>=3.0.0 in /usr/local/lib/python3.6/dist-packages (from librosa==0.8.0) (4.4.2)\n",
            "Requirement already satisfied: scipy>=1.0.0 in /usr/local/lib/python3.6/dist-packages (from librosa==0.8.0) (1.4.1)\n",
            "Requirement already satisfied: resampy>=0.2.2 in /usr/local/lib/python3.6/dist-packages (from librosa==0.8.0) (0.2.2)\n",
            "Requirement already satisfied: joblib>=0.14 in /usr/local/lib/python3.6/dist-packages (from librosa==0.8.0) (0.17.0)\n",
            "Requirement already satisfied: audioread>=2.0.0 in /usr/local/lib/python3.6/dist-packages (from librosa==0.8.0) (2.1.9)\n",
            "Requirement already satisfied: numpy>=1.15.0 in /usr/local/lib/python3.6/dist-packages (from librosa==0.8.0) (1.18.5)\n",
            "Requirement already satisfied: appdirs in /usr/local/lib/python3.6/dist-packages (from pooch>=1.0->librosa==0.8.0) (1.4.4)\n",
            "Requirement already satisfied: packaging in /usr/local/lib/python3.6/dist-packages (from pooch>=1.0->librosa==0.8.0) (20.4)\n",
            "Requirement already satisfied: requests in /usr/local/lib/python3.6/dist-packages (from pooch>=1.0->librosa==0.8.0) (2.23.0)\n",
            "Requirement already satisfied: setuptools in /usr/local/lib/python3.6/dist-packages (from numba>=0.43.0->librosa==0.8.0) (50.3.2)\n",
            "Requirement already satisfied: llvmlite<0.32.0,>=0.31.0dev0 in /usr/local/lib/python3.6/dist-packages (from numba>=0.43.0->librosa==0.8.0) (0.31.0)\n",
            "Requirement already satisfied: cffi>=1.0 in /usr/local/lib/python3.6/dist-packages (from soundfile>=0.9.0->librosa==0.8.0) (1.14.3)\n",
            "Requirement already satisfied: six>=1.3 in /usr/local/lib/python3.6/dist-packages (from resampy>=0.2.2->librosa==0.8.0) (1.15.0)\n",
            "Requirement already satisfied: pyparsing>=2.0.2 in /usr/local/lib/python3.6/dist-packages (from packaging->pooch>=1.0->librosa==0.8.0) (2.4.7)\n",
            "Requirement already satisfied: idna<3,>=2.5 in /usr/local/lib/python3.6/dist-packages (from requests->pooch>=1.0->librosa==0.8.0) (2.10)\n",
            "Requirement already satisfied: urllib3!=1.25.0,!=1.25.1,<1.26,>=1.21.1 in /usr/local/lib/python3.6/dist-packages (from requests->pooch>=1.0->librosa==0.8.0) (1.24.3)\n",
            "Requirement already satisfied: chardet<4,>=3.0.2 in /usr/local/lib/python3.6/dist-packages (from requests->pooch>=1.0->librosa==0.8.0) (3.0.4)\n",
            "Requirement already satisfied: certifi>=2017.4.17 in /usr/local/lib/python3.6/dist-packages (from requests->pooch>=1.0->librosa==0.8.0) (2020.11.8)\n",
            "Requirement already satisfied: pycparser in /usr/local/lib/python3.6/dist-packages (from cffi>=1.0->soundfile>=0.9.0->librosa==0.8.0) (2.20)\n"
          ],
          "name": "stdout"
        }
      ]
    },
    {
      "cell_type": "code",
      "metadata": {
        "id": "yFL23x87qqeu"
      },
      "source": [
        "import numpy as np\n",
        "from os import listdir, remove, makedirs\n",
        "from os.path import isfile, join, isdir\n",
        "from scipy import misc as misc\n",
        "import matplotlib.pyplot as plt\n",
        "from scipy.stats import multivariate_normal as mulnorm\n",
        "import librosa\n",
        "import pickle\n",
        "import random"
      ],
      "execution_count": 1,
      "outputs": []
    },
    {
      "cell_type": "code",
      "metadata": {
        "id": "1beMjxZhqywB"
      },
      "source": [
        "\"\"\"\n",
        "processed_data_loader.py\n",
        "\"\"\"\n",
        "\n",
        "def load_single_data(relative_data_directory_path, file_name):\n",
        "    with open(join(relative_data_directory_path, file_name), 'rb') as f:\n",
        "        data = pickle.load(f)\n",
        "    return data"
      ],
      "execution_count": 4,
      "outputs": []
    },
    {
      "cell_type": "code",
      "metadata": {
        "id": "s1w2HIWIrCuA"
      },
      "source": [
        "\"\"\"\n",
        "process_data.py\n",
        "\"\"\"\n",
        "\n",
        "def return_mel_spec_single_channel(sampled_audio, sample_rate, n_fft, hop_length, win_length, n_mels, window='hann', log_scale=True):\n",
        "    audio_mel_spec = librosa.feature.melspectrogram(y=sampled_audio, sr=sample_rate, n_fft=n_fft, hop_length=hop_length, win_length=win_length, window=window, n_mels=n_mels)\n",
        "    if log_scale:\n",
        "        audio_mel_spec = librosa.power_to_db(audio_mel_spec)\n",
        "    return audio_mel_spec\n",
        "\n",
        "def return_mel_spec_three_channel(sampled_audio, sample_rate, n_fft, hop_length, win_length, n_mels, window='hann', log_scale=True):\n",
        "    audio_mel_spec = librosa.feature.melspectrogram(y=sampled_audio, sr=sample_rate, n_fft=n_fft, hop_length=hop_length, win_length=win_length, window=window, n_mels=n_mels)\n",
        "    if log_scale:\n",
        "        audio_mel_spec = librosa.power_to_db(audio_mel_spec)\n",
        "    mel_first_derivative = librosa.feature.delta(audio_mel_spec, width=5, axis=-1, mode='interp')\n",
        "    mel_second_derivative = librosa.feature.delta(mel_first_derivative, width=5, axis=-1, mode='interp')\n",
        "    audio_mel_feature = np.stack((audio_mel_spec, mel_first_derivative, mel_second_derivative), axis=-1)\n",
        "    return audio_mel_feature"
      ],
      "execution_count": 5,
      "outputs": []
    },
    {
      "cell_type": "code",
      "metadata": {
        "id": "oLZCk811qRTY"
      },
      "source": [
        "\"\"\"\n",
        "preprocess4HGN.py\n",
        "\"\"\"\n",
        "\n",
        "\n",
        "def preprocess_speech2pickup(relative_data_directory_path, relative_save_data_directory_path):\n",
        "    if not isdir(relative_save_data_directory_path):\n",
        "        makedirs(relative_save_data_directory_path)\n",
        "    \n",
        "    data_files = [f for f in listdir(relative_data_directory_path) if isfile(join(relative_data_directory_path, f))]\n",
        "    random.shuffle(data_files)\n",
        "\n",
        "    img_idx = []\n",
        "    seq_len = []\n",
        "    inputs = []\n",
        "    outputs = []\n",
        "    sentence = []\n",
        "    DATA_INDEX_IMG_IDXS = 0\n",
        "    DATA_INDEX_POSE_OUTPUTS = 1\n",
        "    DATA_INDEX_SENTENCE_LENS = 2\n",
        "    DATA_INDEX_SAMPLED_AUDIOS = 3\n",
        "    DATA_INDEX_SAMPLED_RATES = 4\n",
        "    DATA_INDEX_TEXT_COMMANDS = 5\n",
        "\n",
        "    # Set mel spectogram configuration\n",
        "    n_fft = 2048\n",
        "    hop_length = int(n_fft/8)\n",
        "    win_length = int(n_fft/2)\n",
        "    n_mels = 40\n",
        "    mel_feature_type = relative_save_data_directory_path.split('_')[-2]\n",
        "\n",
        "    for data_file in data_files:\n",
        "        print('Processing {} ..'.format(data_file))\n",
        "        data = load_single_data(relative_data_directory_path, data_file)\n",
        "\n",
        "        img_idx.extend(data[DATA_INDEX_IMG_IDXS])\n",
        "        seq_len.extend(data[DATA_INDEX_SENTENCE_LENS])\n",
        "        outputs.extend(data[DATA_INDEX_POSE_OUTPUTS])\n",
        "        sentence.extend(data[DATA_INDEX_TEXT_COMMANDS])\n",
        "\n",
        "        for i in range(len(data[DATA_INDEX_SAMPLED_RATES])):\n",
        "            if mel_feature_type == 'single':\n",
        "                mel_spec = return_mel_spec_single_channel(sampled_audio=data[DATA_INDEX_SAMPLED_AUDIOS][i], sample_rate=data[DATA_INDEX_SAMPLED_RATES][i], \\\n",
        "                                                            n_fft=n_fft, hop_length=hop_length, win_length=win_length, n_mels=n_mels)\n",
        "            elif mel_feature_type == 'three':\n",
        "                mel_spec = return_mel_spec_three_channel(sampled_audio=data[DATA_INDEX_SAMPLED_AUDIOS][i], sample_rate=data[DATA_INDEX_SAMPLED_RATES][i], \\\n",
        "                                                            n_fft=n_fft, hop_length=hop_length, win_length=win_length, n_mels=n_mels)\n",
        "            else:\n",
        "                raise ValueError('Unsupported mel feature type')\n",
        "            inputs.append(mel_spec)\n",
        "    \n",
        "    \"\"\"\n",
        "    # Generate heatmap (delete # to re-generate heatmaps)\n",
        "    prev_output = [0, 0]\n",
        "    for i in range(len(outputs)):\n",
        "        if prev_output[0] != outputs[i][0] or prev_output[1] != outputs[i][1]:\n",
        "            tmp_heatmap = np.zeros((250, 250))\n",
        "            tmp_output = outputs[i].astype(int)\n",
        "            print('generate heatmap at ({}, {})'.format(tmp_output[0], tmp_output[1]))\n",
        "\n",
        "            tmp_cov = [[500, 0], [0, 500]]\n",
        "            mvn = mulnorm([tmp_output[1], tmp_output[0]], tmp_cov)\n",
        "\n",
        "            for k in range(tmp_heatmap.shape[0]):\n",
        "                for kk in range(tmp_heatmap.shape[1]):\n",
        "                    tmp_heatmap[k, kk] = mvn.pdf([k, kk])\n",
        "\n",
        "            tmp_heatmap = tmp_heatmap / np.max(tmp_heatmap)\n",
        "            np.savez('./data/train_heatmap/{}_{}_{}.npz'.format(img_idx[i], tmp_output[0], tmp_output[1]), tmp_heatmap)\n",
        "\n",
        "        prev_output = outputs[i]\n",
        "    \"\"\"\n",
        "    \n",
        "    img_idx = np.asarray(img_idx)[:, np.newaxis]\n",
        "    seq_len = np.asarray(seq_len)[:, np.newaxis]\n",
        "    inputs = np.asarray(inputs)\n",
        "    outputs = np.asarray(outputs)\n",
        "    print('img_idx shape: {}'.format(np.shape(img_idx)))\n",
        "    print('seq_len shape: {}'.format(np.shape(seq_len)))\n",
        "    print('inputs shape: {}'.format(np.shape(inputs)))\n",
        "    print('outputs shape: {}'.format(np.shape(outputs)))\n",
        "    print('sentence shape: {}'.format(len(sentence)))\n",
        "\n",
        "    ### Save preprocessed data\n",
        "    file_name = 'preprocessed4HGN_speech2pickup.npz'\n",
        "    file_name = join(relative_save_data_directory_path, file_name)\n",
        "    np.savez(file_name, img_idx=img_idx, seq_len=seq_len, inputs=inputs, outputs=outputs, sentence=sentence)"
      ],
      "execution_count": 6,
      "outputs": []
    },
    {
      "cell_type": "code",
      "metadata": {
        "colab": {
          "base_uri": "https://localhost:8080/"
        },
        "id": "JFDwZeAKrZY6",
        "outputId": "290f5fd8-5e55-4ba0-f6ca-b7556383eea4"
      },
      "source": [
        "# Save data_v1.2\n",
        "\n",
        "relative_data_directory_path = '/content/drive/MyDrive/Speech2Pickup/data_v1.1'\n",
        "relative_save_data_directory_path = '/content/drive/MyDrive/Speech2Pickup/data_v1.2_single_channel'\n",
        "preprocess_speech2pickup(relative_data_directory_path=relative_data_directory_path, relative_save_data_directory_path=relative_save_data_directory_path)"
      ],
      "execution_count": 7,
      "outputs": [
        {
          "output_type": "stream",
          "text": [
            "Processing senEM_preprocessed_17.pkl ..\n",
            "Processing senEM_preprocessed_12.pkl ..\n",
            "Processing senEM_preprocessed_25.pkl ..\n",
            "Processing senEM_preprocessed_21.pkl ..\n",
            "Processing senEM_preprocessed_36.pkl ..\n",
            "Processing senEM_preprocessed_40.pkl ..\n",
            "Processing senEM_preprocessed_29.pkl ..\n",
            "Processing senEM_preprocessed_37.pkl ..\n",
            "Processing senEM_preprocessed_6.pkl ..\n",
            "Processing senEM_preprocessed_8.pkl ..\n",
            "Processing senEM_preprocessed_5.pkl ..\n",
            "Processing senEM_preprocessed_14.pkl ..\n",
            "Processing senEM_preprocessed_28.pkl ..\n",
            "Processing senEM_preprocessed_24.pkl ..\n",
            "Processing senEM_preprocessed_10.pkl ..\n",
            "Processing senEM_preprocessed_33.pkl ..\n",
            "Processing senEM_preprocessed_7.pkl ..\n",
            "Processing senEM_preprocessed_27.pkl ..\n",
            "Processing senEM_preprocessed_4.pkl ..\n",
            "Processing senEM_preprocessed_2.pkl ..\n",
            "Processing senEM_preprocessed_22.pkl ..\n",
            "Processing senEM_preprocessed_32.pkl ..\n",
            "Processing senEM_preprocessed_20.pkl ..\n",
            "Processing senEM_preprocessed_18.pkl ..\n",
            "Processing senEM_preprocessed_34.pkl ..\n",
            "Processing senEM_preprocessed_23.pkl ..\n",
            "Processing senEM_preprocessed_9.pkl ..\n",
            "Processing senEM_preprocessed_1.pkl ..\n",
            "Processing senEM_preprocessed_19.pkl ..\n",
            "Processing senEM_preprocessed_30.pkl ..\n",
            "Processing senEM_preprocessed_26.pkl ..\n",
            "Processing senEM_preprocessed_16.pkl ..\n",
            "Processing senEM_preprocessed_13.pkl ..\n",
            "Processing senEM_preprocessed_35.pkl ..\n",
            "Processing senEM_preprocessed_3.pkl ..\n",
            "Processing senEM_preprocessed_38.pkl ..\n",
            "Processing senEM_preprocessed_39.pkl ..\n",
            "Processing senEM_preprocessed_15.pkl ..\n",
            "Processing senEM_preprocessed_11.pkl ..\n",
            "Processing senEM_preprocessed_31.pkl ..\n",
            "img_idx shape: (40698, 1)\n",
            "seq_len shape: (40698, 1)\n",
            "inputs shape: (40698, 40, 303)\n",
            "outputs shape: (40698, 2)\n",
            "sentence shape: 40698\n"
          ],
          "name": "stdout"
        }
      ]
    },
    {
      "cell_type": "code",
      "metadata": {
        "colab": {
          "base_uri": "https://localhost:8080/"
        },
        "id": "ipbkOLHNtPsy",
        "outputId": "27bb133c-bfe2-4935-b0ae-6ee9238c030d"
      },
      "source": [
        "data = np.load('/content/drive/MyDrive/Speech2Pickup/data_v1.2_single_channel/preprocessed4HGN_speech2pickup.npz')\n",
        "print(np.max(data['img_idx']))\n",
        "print(data['seq_len'][0])\n",
        "print(data['inputs'][0])\n",
        "print(data['outputs'][0])\n",
        "print(data['sentence'][0])"
      ],
      "execution_count": 12,
      "outputs": [
        {
          "output_type": "stream",
          "text": [
            "477\n"
          ],
          "name": "stdout"
        }
      ]
    },
    {
      "cell_type": "code",
      "metadata": {
        "id": "OPj0cFMp3CG9"
      },
      "source": [
        ""
      ],
      "execution_count": null,
      "outputs": []
    }
  ]
}