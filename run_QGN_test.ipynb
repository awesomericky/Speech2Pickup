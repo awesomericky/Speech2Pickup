{
 "cells": [
  {
   "cell_type": "code",
   "execution_count": null,
   "metadata": {},
   "outputs": [],
   "source": [
    "import numpy as np\n",
    "import tensorflow as tf\n",
    "from utils import load_w2v, get_test_idx, load_test_img, load_test_script\n",
    "from os.path import isfile, join\n",
    "from skimage import io\n",
    "from skimage.transform import resize\n",
    "from vgg_with_rnn import fused_model, rnn_encoder\n",
    "import matplotlib.pyplot as plt\n"
   ]
  },
  {
   "cell_type": "code",
   "execution_count": null,
   "metadata": {
    "scrolled": true
   },
   "outputs": [],
   "source": [
    "w2v_path = './data/GoogleNews-vectors-negative300.bin'\n",
    "w2v_model = load_w2v(w2v_path)"
   ]
  },
  {
   "cell_type": "code",
   "execution_count": null,
   "metadata": {},
   "outputs": [],
   "source": [
    "npzfile = np.load('./data/preprocessed4QGN.npz')\n",
    "\n",
    "img_idx = npzfile['arr_0']\n",
    "question_embeds = npzfile['arr_2']\n",
    "reverse_label = npzfile['arr_6']\n",
    "\n",
    "print 'End loading MetaData'"
   ]
  },
  {
   "cell_type": "code",
   "execution_count": null,
   "metadata": {},
   "outputs": [],
   "source": [
    "num_data = img_idx.shape[0]\n",
    "dim_sentence = question_embeds.shape[1]\n",
    "max_step_sentence = question_embeds.shape[2]\n",
    "num_label = len(reverse_label)\n",
    "\n",
    "idx_test, idx_train = get_test_idx(img_idx, random_seed=1, divide_rate=20, num_data=num_data)"
   ]
  },
  {
   "cell_type": "code",
   "execution_count": null,
   "metadata": {},
   "outputs": [],
   "source": [
    "heatmap_resize = 64\n",
    "img_resize = 64\n",
    "\n",
    "curr_test_img_idx = 127\n",
    "img_path = './data/train_img'\n",
    "curr_test_img = io.imread('%s/%04d.jpg' %(img_path, curr_test_img_idx))\n",
    "curr_test_img = resize(curr_test_img, [img_resize, img_resize], preserve_range=True)\n",
    "curr_test_img = curr_test_img / 255.0\n",
    "\n",
    "plt.imshow(curr_test_img)\n",
    "\n",
    "test_question_path = './data/question_ambiguous'\n",
    "\n",
    "npzfile = np.load('%s/%04d.npz' %(test_question_path, curr_test_img_idx))\n",
    "curr_question = npzfile['arr_0']\n",
    "curr_question = curr_question.item()"
   ]
  },
  {
   "cell_type": "code",
   "execution_count": null,
   "metadata": {},
   "outputs": [],
   "source": [
    "curr_keys = curr_question.keys()\n",
    "print curr_keys"
   ]
  },
  {
   "cell_type": "code",
   "execution_count": null,
   "metadata": {},
   "outputs": [],
   "source": [
    "key_idx = 2\n",
    "\n",
    "print curr_keys[key_idx][0:-1]\n",
    "curr_esti = curr_question[curr_keys[key_idx]]['mean']\n",
    "curr_uncertainty = curr_question[curr_keys[key_idx]]['var']\n",
    "\n",
    "curr_esti = resize(curr_esti, [heatmap_resize, heatmap_resize], preserve_range=True)\n",
    "curr_uncertainty = resize(curr_uncertainty, [heatmap_resize, heatmap_resize], preserve_range=True)\n",
    "\n",
    "curr_combine_map = np.zeros((1, img_resize, img_resize, 4))\n",
    "curr_upperbound = curr_esti + 2 * np.sqrt(curr_uncertainty)\n",
    "curr_combine_map[0, :, :, 0:3] = curr_test_img\n",
    "curr_combine_map[0, :, :, 3] = curr_upperbound\n",
    "\n",
    "curr_embed_input, curr_seq_len = load_test_script(curr_keys[key_idx][0:-1], w2v_model, \n",
    "                                                  dim_sentence, max_step_sentence) "
   ]
  },
  {
   "cell_type": "code",
   "execution_count": null,
   "metadata": {},
   "outputs": [],
   "source": [
    "ph_combine = tf.placeholder(dtype=tf.float32, shape=[None, img_resize, img_resize, 4])\n",
    "ph_sen = tf.placeholder(dtype=tf.float32, shape=[None, dim_sentence, max_step_sentence])\n",
    "ph_sen_len = tf.placeholder(tf.int32, [None, 1])\n",
    "ph_answer_label = tf.placeholder(dtype=tf.float32, shape=[None, num_label])\n",
    "ph_keepprob = tf.placeholder(tf.float32)\n",
    "\n",
    "my_rnn_encoder = rnn_encoder(dim_rnn_cell = dim_rnn_cell,\n",
    "                             dim_sentence = dim_sentence,\n",
    "                             max_step_sentence = max_step_sentence)\n",
    "rnn_feature = my_rnn_encoder.encode(ph_sen, ph_sen_len)\n",
    "\n",
    "my_fused_model = fused_model()\n",
    "\n",
    "answer_logits = my_fused_model.vgg_with_rnn(rnn_feature = rnn_feature,\n",
    "                                           init_image = ph_combine,\n",
    "                                           keep_prob = ph_keepprob,\n",
    "                                           n_classes = num_label)"
   ]
  },
  {
   "cell_type": "code",
   "execution_count": null,
   "metadata": {},
   "outputs": [],
   "source": [
    "init = tf.global_variables_initializer()\n",
    "\n",
    "saver = tf.train.Saver(var_list=tf.trainable_variables())\n",
    "\n",
    "config = tf.ConfigProto()\n",
    "config.allow_soft_placement = True\n",
    "config.gpu_options.allow_growth = True\n",
    "\n",
    "restore_path = './QGN_model/model.ckpt-1500'\n",
    "\n",
    "print 'Now ready to start the session.'\n",
    "\n",
    "with tf.Session(config=config) as sess:\n",
    "    sess.run(init)\n",
    "    saver.restore(sess, restore_path)\n",
    "    \n",
    "    test_feed_dict={ph_combine: curr_combine_map, ph_sen: curr_embed_input,\n",
    "                    ph_sen_len: curr_seq_len, ph_keepprob: 1.0}\n",
    "    curr_answer = sess.run(tf.nn.softmax(answer_logits), feed_dict=test_feed_dict)\n"
   ]
  },
  {
   "cell_type": "code",
   "execution_count": null,
   "metadata": {},
   "outputs": [],
   "source": [
    "sorted_idx = np.argsort(-curr_answer)\n",
    "print curr_answer\n",
    "plt.figure(1)\n",
    "plt.imshow(curr_test_img)\n",
    "plt.suptitle(curr_keys[key_idx])\n",
    "\n",
    "plt.figure(2)\n",
    "plt.imshow(curr_esti)\n",
    "plt.figure(3)\n",
    "plt.imshow(curr_uncertainty)\n",
    "\n",
    "print reverse_label[sorted_idx]\n"
   ]
  }
 ],
 "metadata": {
  "kernelspec": {
   "display_name": "Python 2",
   "language": "python",
   "name": "python2"
  },
  "language_info": {
   "codemirror_mode": {
    "name": "ipython",
    "version": 2
   },
   "file_extension": ".py",
   "mimetype": "text/x-python",
   "name": "python",
   "nbconvert_exporter": "python",
   "pygments_lexer": "ipython2",
   "version": "2.7.12"
  },
  "varInspector": {
   "cols": {
    "lenName": 16,
    "lenType": 16,
    "lenVar": 40
   },
   "kernels_config": {
    "python": {
     "delete_cmd_postfix": "",
     "delete_cmd_prefix": "del ",
     "library": "var_list.py",
     "varRefreshCmd": "print(var_dic_list())"
    },
    "r": {
     "delete_cmd_postfix": ") ",
     "delete_cmd_prefix": "rm(",
     "library": "var_list.r",
     "varRefreshCmd": "cat(var_dic_list()) "
    }
   },
   "types_to_exclude": [
    "module",
    "function",
    "builtin_function_or_method",
    "instance",
    "_Feature"
   ],
   "window_display": false
  }
 },
 "nbformat": 4,
 "nbformat_minor": 2
}
